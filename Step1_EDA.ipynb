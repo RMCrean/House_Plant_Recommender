{
 "cells": [
  {
   "cell_type": "markdown",
   "metadata": {},
   "source": [
    "## House Plant Exploratory Data Analysis (EDA)\n",
    "\n",
    "This notebook will cover the initial exploratory data analysis (step 1) on the houseplant database generated. Following this, feature engineering (step 2) will be performed towards two goals:  \n",
    "- Perform dimensionality reduction (step 3) as a way to visualise similar plants (ultimate goal to make some 2D scatter like graphs doing this). \n",
    "- Build a content based recommender system with this dataset (Step 4).\n",
    "\n",
    "\n",
    "**Summary of This Notebook:**\n",
    "\n",
    "- Several columns such as \"Common_Names\", \"Family\" and \"Native_Range\" wont be used at all for Steps 3 or 4. \n",
    "- Those columns that I do want to use for either/both steps will need some modification (every column is str format right now). For example \"Zones\" can become a measure of cold-hardyness.  \n",
    "- I have 147 database items, so need to keep the number of features low, and ordinal encoding will be used in a lot of cases as thankfully it is reasonable to do in many cases (e.g. \"Sunlight\", \"Watering\", \"Maintenance\").\n",
    "- Some columns repeat the same information (for my purposes at least). For example I can use: \"Bloom_Times\" and therefore not need to use \"Flowers\" and \"Bloom_Description\" to build the binary feature of \"does it flower?\". A check for inconsistencies showed \"Bloom_Times\" to always be correct when there was an inconisitency with \"Bloom_Description\". \n",
    "- I will keep some columns that I don't plan to use in Step 3 or Step 4 such as \"Spreads\". This is because I would like to make an interactive graph where the user can choose the axis and heights and spreads would go well together I think. "
   ]
  },
  {
   "cell_type": "markdown",
   "metadata": {},
   "source": [
    "#### Setup"
   ]
  },
  {
   "cell_type": "code",
   "execution_count": 16,
   "metadata": {},
   "outputs": [],
   "source": [
    "import pandas as pd\n",
    "import sqlite3\n",
    "from plotly.subplots import make_subplots\n",
    "import plotly.express as px\n",
    "import plotly.graph_objects as go\n",
    "from scipy import stats\n",
    "\n",
    "DATABASE_LOC = r\"C:\\Users\\Rory Crean\\Dropbox (lkgroup)\\Backup_HardDrive\\Postdoc\\PyForFun\\House_Plant_Recommender\\Database\\house_plants.db\""
   ]
  },
  {
   "cell_type": "code",
   "execution_count": 17,
   "metadata": {},
   "outputs": [
    {
     "data": {
      "text/html": [
       "<div>\n",
       "<style scoped>\n",
       "    .dataframe tbody tr th:only-of-type {\n",
       "        vertical-align: middle;\n",
       "    }\n",
       "\n",
       "    .dataframe tbody tr th {\n",
       "        vertical-align: top;\n",
       "    }\n",
       "\n",
       "    .dataframe thead th {\n",
       "        text-align: right;\n",
       "    }\n",
       "</style>\n",
       "<table border=\"1\" class=\"dataframe\">\n",
       "  <thead>\n",
       "    <tr style=\"text-align: right;\">\n",
       "      <th></th>\n",
       "      <th>Plant_Name</th>\n",
       "      <th>Common_Names</th>\n",
       "      <th>Plant_Type</th>\n",
       "      <th>Family</th>\n",
       "      <th>Zones</th>\n",
       "      <th>Native_Range</th>\n",
       "      <th>Heights</th>\n",
       "      <th>Spreads</th>\n",
       "      <th>Bloom_Times</th>\n",
       "      <th>Bloom_Description</th>\n",
       "      <th>Sunlight</th>\n",
       "      <th>Watering</th>\n",
       "      <th>Maintenance</th>\n",
       "      <th>Flowers</th>\n",
       "      <th>Leafs</th>\n",
       "      <th>Fruits</th>\n",
       "    </tr>\n",
       "  </thead>\n",
       "  <tbody>\n",
       "    <tr>\n",
       "      <th>0</th>\n",
       "      <td>Aechmea</td>\n",
       "      <td>urn plant,silver vase plant</td>\n",
       "      <td>Epiphyte</td>\n",
       "      <td>Bromeliaceae</td>\n",
       "      <td>10 to 11</td>\n",
       "      <td>Brazil</td>\n",
       "      <td>1.00 to 3.00 feet</td>\n",
       "      <td>1.00 to 2.00 feet</td>\n",
       "      <td>Seasonal bloomer</td>\n",
       "      <td>Violet to red with pink bracts</td>\n",
       "      <td>Part shade</td>\n",
       "      <td>Medium</td>\n",
       "      <td>Medium</td>\n",
       "      <td>Showy</td>\n",
       "      <td>Evergreen</td>\n",
       "      <td>None</td>\n",
       "    </tr>\n",
       "    <tr>\n",
       "      <th>1</th>\n",
       "      <td>Ardisia crenata</td>\n",
       "      <td>hen's eyes,coralberry,spiceberry,scratchthroat...</td>\n",
       "      <td>Broadleaf evergreen</td>\n",
       "      <td>Primulaceae</td>\n",
       "      <td>8 to 10</td>\n",
       "      <td>Japan to Northern India</td>\n",
       "      <td>4.00 to 5.00 feet</td>\n",
       "      <td>4.00 to 5.00 feet</td>\n",
       "      <td>May to June</td>\n",
       "      <td>Pinkish-white</td>\n",
       "      <td>Part shade to full shade</td>\n",
       "      <td>Medium</td>\n",
       "      <td>Medium</td>\n",
       "      <td>Showy</td>\n",
       "      <td>Evergreen</td>\n",
       "      <td>Showy</td>\n",
       "    </tr>\n",
       "    <tr>\n",
       "      <th>2</th>\n",
       "      <td>Euphorbia milii</td>\n",
       "      <td>christplant,Christ plant,Christ thorn,crown of...</td>\n",
       "      <td>Broadleaf evergreen</td>\n",
       "      <td>Euphorbiaceae</td>\n",
       "      <td>9 to 11</td>\n",
       "      <td>Madagascar</td>\n",
       "      <td>3.00 to 6.00 feet</td>\n",
       "      <td>1.50 to 3.00 feet</td>\n",
       "      <td>Seasonal bloomer</td>\n",
       "      <td>Green subtended by red or yellow bracts</td>\n",
       "      <td>Full sun</td>\n",
       "      <td>Dry to medium</td>\n",
       "      <td>Medium</td>\n",
       "      <td>Showy</td>\n",
       "      <td>Evergreen</td>\n",
       "      <td>None</td>\n",
       "    </tr>\n",
       "    <tr>\n",
       "      <th>3</th>\n",
       "      <td>Ficus elastica</td>\n",
       "      <td>Indian rubberplant,India rubber plant,rubber p...</td>\n",
       "      <td>Broadleaf evergreen</td>\n",
       "      <td>Moraceae</td>\n",
       "      <td>10 to 12</td>\n",
       "      <td>Southeastern Asia</td>\n",
       "      <td>50.00 to 100.00 feet</td>\n",
       "      <td>50.00 to 100.00 feet</td>\n",
       "      <td>Rarely flowers indoors</td>\n",
       "      <td>None</td>\n",
       "      <td>Part shade</td>\n",
       "      <td>Medium</td>\n",
       "      <td>Low</td>\n",
       "      <td>Insignificant</td>\n",
       "      <td>Evergreen</td>\n",
       "      <td>None</td>\n",
       "    </tr>\n",
       "    <tr>\n",
       "      <th>4</th>\n",
       "      <td>Woodsia obtusa</td>\n",
       "      <td>blunt-lobed woodsia,common woodsia,large woodsia</td>\n",
       "      <td>Fern</td>\n",
       "      <td>Woodsiaceae</td>\n",
       "      <td>4 to 8</td>\n",
       "      <td>North America</td>\n",
       "      <td>1.00 to 1.50 feet</td>\n",
       "      <td>2.00 to 2.50 feet</td>\n",
       "      <td>Non-flowering</td>\n",
       "      <td>Non-flowering</td>\n",
       "      <td>Part shade to full shade</td>\n",
       "      <td>Medium</td>\n",
       "      <td>Medium</td>\n",
       "      <td>None</td>\n",
       "      <td>None</td>\n",
       "      <td>None</td>\n",
       "    </tr>\n",
       "  </tbody>\n",
       "</table>\n",
       "</div>"
      ],
      "text/plain": [
       "        Plant_Name                                       Common_Names  \\\n",
       "0          Aechmea                        urn plant,silver vase plant   \n",
       "1  Ardisia crenata  hen's eyes,coralberry,spiceberry,scratchthroat...   \n",
       "2  Euphorbia milii  christplant,Christ plant,Christ thorn,crown of...   \n",
       "3   Ficus elastica  Indian rubberplant,India rubber plant,rubber p...   \n",
       "4   Woodsia obtusa   blunt-lobed woodsia,common woodsia,large woodsia   \n",
       "\n",
       "            Plant_Type         Family     Zones             Native_Range  \\\n",
       "0             Epiphyte   Bromeliaceae  10 to 11                   Brazil   \n",
       "1  Broadleaf evergreen    Primulaceae   8 to 10  Japan to Northern India   \n",
       "2  Broadleaf evergreen  Euphorbiaceae   9 to 11               Madagascar   \n",
       "3  Broadleaf evergreen       Moraceae  10 to 12        Southeastern Asia   \n",
       "4                 Fern    Woodsiaceae    4 to 8            North America   \n",
       "\n",
       "                Heights               Spreads             Bloom_Times  \\\n",
       "0     1.00 to 3.00 feet     1.00 to 2.00 feet        Seasonal bloomer   \n",
       "1     4.00 to 5.00 feet     4.00 to 5.00 feet             May to June   \n",
       "2     3.00 to 6.00 feet     1.50 to 3.00 feet        Seasonal bloomer   \n",
       "3  50.00 to 100.00 feet  50.00 to 100.00 feet  Rarely flowers indoors   \n",
       "4     1.00 to 1.50 feet     2.00 to 2.50 feet           Non-flowering   \n",
       "\n",
       "                         Bloom_Description                  Sunlight  \\\n",
       "0           Violet to red with pink bracts                Part shade   \n",
       "1                            Pinkish-white  Part shade to full shade   \n",
       "2  Green subtended by red or yellow bracts                  Full sun   \n",
       "3                                     None                Part shade   \n",
       "4                            Non-flowering  Part shade to full shade   \n",
       "\n",
       "        Watering Maintenance        Flowers      Leafs Fruits  \n",
       "0         Medium      Medium          Showy  Evergreen   None  \n",
       "1         Medium      Medium          Showy  Evergreen  Showy  \n",
       "2  Dry to medium      Medium          Showy  Evergreen   None  \n",
       "3         Medium         Low  Insignificant  Evergreen   None  \n",
       "4         Medium      Medium           None       None   None  "
      ]
     },
     "execution_count": 17,
     "metadata": {},
     "output_type": "execute_result"
    }
   ],
   "source": [
    "conn = sqlite3.connect(DATABASE_LOC)\n",
    "c = conn.cursor()\n",
    "plant_df = pd.read_sql_query(\"SELECT * FROM plant_raw_data\", conn)\n",
    "c.close()\n",
    "plant_df.head()"
   ]
  },
  {
   "cell_type": "code",
   "execution_count": 18,
   "metadata": {},
   "outputs": [
    {
     "data": {
      "text/plain": [
       "147"
      ]
     },
     "execution_count": 18,
     "metadata": {},
     "output_type": "execute_result"
    }
   ],
   "source": [
    "len(plant_df)"
   ]
  },
  {
   "cell_type": "markdown",
   "metadata": {},
   "source": [
    "#### Part 1: Data exploration\n",
    "\n",
    "In the following section, each column will be analysed (sometimes in groups). A summary about the observations from the analysis will then be made at the end of each subsection, defining also how to use the analysed columns in the upcoming modelling. \n"
   ]
  },
  {
   "cell_type": "code",
   "execution_count": 19,
   "metadata": {},
   "outputs": [
    {
     "data": {
      "text/plain": [
       "Index(['Plant_Name', 'Common_Names', 'Plant_Type', 'Family', 'Zones',\n",
       "       'Native_Range', 'Heights', 'Spreads', 'Bloom_Times',\n",
       "       'Bloom_Description', 'Sunlight', 'Watering', 'Maintenance', 'Flowers',\n",
       "       'Leafs', 'Fruits'],\n",
       "      dtype='object')"
      ]
     },
     "execution_count": 19,
     "metadata": {},
     "output_type": "execute_result"
    }
   ],
   "source": [
    "plant_df.columns"
   ]
  },
  {
   "cell_type": "markdown",
   "metadata": {},
   "source": [
    "It is fair to say  the column \"Common_Names\" wont be useful as a feature and can be dropped straight away. All others have some potential"
   ]
  },
  {
   "cell_type": "code",
   "execution_count": 20,
   "metadata": {},
   "outputs": [],
   "source": [
    "plant_df = plant_df.drop([\"Common_Names\"], axis=1)"
   ]
  },
  {
   "cell_type": "code",
   "execution_count": 21,
   "metadata": {},
   "outputs": [
    {
     "data": {
      "text/html": [
       "<div>\n",
       "<style scoped>\n",
       "    .dataframe tbody tr th:only-of-type {\n",
       "        vertical-align: middle;\n",
       "    }\n",
       "\n",
       "    .dataframe tbody tr th {\n",
       "        vertical-align: top;\n",
       "    }\n",
       "\n",
       "    .dataframe thead th {\n",
       "        text-align: right;\n",
       "    }\n",
       "</style>\n",
       "<table border=\"1\" class=\"dataframe\">\n",
       "  <thead>\n",
       "    <tr style=\"text-align: right;\">\n",
       "      <th></th>\n",
       "      <th>Plant_Name</th>\n",
       "      <th>Plant_Type</th>\n",
       "      <th>Family</th>\n",
       "      <th>Zones</th>\n",
       "      <th>Native_Range</th>\n",
       "      <th>Heights</th>\n",
       "      <th>Spreads</th>\n",
       "      <th>Bloom_Times</th>\n",
       "      <th>Bloom_Description</th>\n",
       "      <th>Sunlight</th>\n",
       "      <th>Watering</th>\n",
       "      <th>Maintenance</th>\n",
       "      <th>Flowers</th>\n",
       "      <th>Leafs</th>\n",
       "      <th>Fruits</th>\n",
       "    </tr>\n",
       "  </thead>\n",
       "  <tbody>\n",
       "    <tr>\n",
       "      <th>0</th>\n",
       "      <td>Aechmea</td>\n",
       "      <td>Epiphyte</td>\n",
       "      <td>Bromeliaceae</td>\n",
       "      <td>10 to 11</td>\n",
       "      <td>Brazil</td>\n",
       "      <td>1.00 to 3.00 feet</td>\n",
       "      <td>1.00 to 2.00 feet</td>\n",
       "      <td>Seasonal bloomer</td>\n",
       "      <td>Violet to red with pink bracts</td>\n",
       "      <td>Part shade</td>\n",
       "      <td>Medium</td>\n",
       "      <td>Medium</td>\n",
       "      <td>Showy</td>\n",
       "      <td>Evergreen</td>\n",
       "      <td>None</td>\n",
       "    </tr>\n",
       "    <tr>\n",
       "      <th>1</th>\n",
       "      <td>Ardisia crenata</td>\n",
       "      <td>Broadleaf evergreen</td>\n",
       "      <td>Primulaceae</td>\n",
       "      <td>8 to 10</td>\n",
       "      <td>Japan to Northern India</td>\n",
       "      <td>4.00 to 5.00 feet</td>\n",
       "      <td>4.00 to 5.00 feet</td>\n",
       "      <td>May to June</td>\n",
       "      <td>Pinkish-white</td>\n",
       "      <td>Part shade to full shade</td>\n",
       "      <td>Medium</td>\n",
       "      <td>Medium</td>\n",
       "      <td>Showy</td>\n",
       "      <td>Evergreen</td>\n",
       "      <td>Showy</td>\n",
       "    </tr>\n",
       "    <tr>\n",
       "      <th>2</th>\n",
       "      <td>Euphorbia milii</td>\n",
       "      <td>Broadleaf evergreen</td>\n",
       "      <td>Euphorbiaceae</td>\n",
       "      <td>9 to 11</td>\n",
       "      <td>Madagascar</td>\n",
       "      <td>3.00 to 6.00 feet</td>\n",
       "      <td>1.50 to 3.00 feet</td>\n",
       "      <td>Seasonal bloomer</td>\n",
       "      <td>Green subtended by red or yellow bracts</td>\n",
       "      <td>Full sun</td>\n",
       "      <td>Dry to medium</td>\n",
       "      <td>Medium</td>\n",
       "      <td>Showy</td>\n",
       "      <td>Evergreen</td>\n",
       "      <td>None</td>\n",
       "    </tr>\n",
       "    <tr>\n",
       "      <th>3</th>\n",
       "      <td>Ficus elastica</td>\n",
       "      <td>Broadleaf evergreen</td>\n",
       "      <td>Moraceae</td>\n",
       "      <td>10 to 12</td>\n",
       "      <td>Southeastern Asia</td>\n",
       "      <td>50.00 to 100.00 feet</td>\n",
       "      <td>50.00 to 100.00 feet</td>\n",
       "      <td>Rarely flowers indoors</td>\n",
       "      <td>None</td>\n",
       "      <td>Part shade</td>\n",
       "      <td>Medium</td>\n",
       "      <td>Low</td>\n",
       "      <td>Insignificant</td>\n",
       "      <td>Evergreen</td>\n",
       "      <td>None</td>\n",
       "    </tr>\n",
       "    <tr>\n",
       "      <th>4</th>\n",
       "      <td>Woodsia obtusa</td>\n",
       "      <td>Fern</td>\n",
       "      <td>Woodsiaceae</td>\n",
       "      <td>4 to 8</td>\n",
       "      <td>North America</td>\n",
       "      <td>1.00 to 1.50 feet</td>\n",
       "      <td>2.00 to 2.50 feet</td>\n",
       "      <td>Non-flowering</td>\n",
       "      <td>Non-flowering</td>\n",
       "      <td>Part shade to full shade</td>\n",
       "      <td>Medium</td>\n",
       "      <td>Medium</td>\n",
       "      <td>None</td>\n",
       "      <td>None</td>\n",
       "      <td>None</td>\n",
       "    </tr>\n",
       "  </tbody>\n",
       "</table>\n",
       "</div>"
      ],
      "text/plain": [
       "        Plant_Name           Plant_Type         Family     Zones  \\\n",
       "0          Aechmea             Epiphyte   Bromeliaceae  10 to 11   \n",
       "1  Ardisia crenata  Broadleaf evergreen    Primulaceae   8 to 10   \n",
       "2  Euphorbia milii  Broadleaf evergreen  Euphorbiaceae   9 to 11   \n",
       "3   Ficus elastica  Broadleaf evergreen       Moraceae  10 to 12   \n",
       "4   Woodsia obtusa                 Fern    Woodsiaceae    4 to 8   \n",
       "\n",
       "              Native_Range               Heights               Spreads  \\\n",
       "0                   Brazil     1.00 to 3.00 feet     1.00 to 2.00 feet   \n",
       "1  Japan to Northern India     4.00 to 5.00 feet     4.00 to 5.00 feet   \n",
       "2               Madagascar     3.00 to 6.00 feet     1.50 to 3.00 feet   \n",
       "3        Southeastern Asia  50.00 to 100.00 feet  50.00 to 100.00 feet   \n",
       "4            North America     1.00 to 1.50 feet     2.00 to 2.50 feet   \n",
       "\n",
       "              Bloom_Times                        Bloom_Description  \\\n",
       "0        Seasonal bloomer           Violet to red with pink bracts   \n",
       "1             May to June                            Pinkish-white   \n",
       "2        Seasonal bloomer  Green subtended by red or yellow bracts   \n",
       "3  Rarely flowers indoors                                     None   \n",
       "4           Non-flowering                            Non-flowering   \n",
       "\n",
       "                   Sunlight       Watering Maintenance        Flowers  \\\n",
       "0                Part shade         Medium      Medium          Showy   \n",
       "1  Part shade to full shade         Medium      Medium          Showy   \n",
       "2                  Full sun  Dry to medium      Medium          Showy   \n",
       "3                Part shade         Medium         Low  Insignificant   \n",
       "4  Part shade to full shade         Medium      Medium           None   \n",
       "\n",
       "       Leafs Fruits  \n",
       "0  Evergreen   None  \n",
       "1  Evergreen  Showy  \n",
       "2  Evergreen   None  \n",
       "3  Evergreen   None  \n",
       "4       None   None  "
      ]
     },
     "execution_count": 21,
     "metadata": {},
     "output_type": "execute_result"
    }
   ],
   "source": [
    "plant_df.head()"
   ]
  },
  {
   "cell_type": "markdown",
   "metadata": {},
   "source": [
    "##### Part 1.1 - Columns: \"Plant_Type\" and \"Family\""
   ]
  },
  {
   "cell_type": "code",
   "execution_count": 22,
   "metadata": {},
   "outputs": [
    {
     "data": {
      "text/plain": [
       "Herbaceous perennial    49\n",
       "Broadleaf evergreen     33\n",
       "Bulb                    16\n",
       "Vine                    13\n",
       "Fern                    10\n",
       "Deciduous shrub          7\n",
       "Palm or Cycad            4\n",
       "Orchid                   4\n",
       "Epiphyte                 3\n",
       "Tree                     2\n",
       "Fruit                    2\n",
       "Needled evergreen        2\n",
       "Rush or Sedge            1\n",
       "Annual                   1\n",
       "Name: Plant_Type, dtype: int64"
      ]
     },
     "execution_count": 22,
     "metadata": {},
     "output_type": "execute_result"
    }
   ],
   "source": [
    "plant_df[\"Plant_Type\"].value_counts()"
   ]
  },
  {
   "cell_type": "markdown",
   "metadata": {},
   "source": [
    "Based on the above value_counts, For \"Plant_Type\", I can take those with a large number of observations and keep them. Those with few observations can be converted into a class names \"Other\". Would need one-hot encoding for this one. "
   ]
  },
  {
   "cell_type": "code",
   "execution_count": 23,
   "metadata": {},
   "outputs": [
    {
     "data": {
      "text/plain": [
       "Araceae             18\n",
       "Asparagaceae        14\n",
       "Moraceae             8\n",
       "Crassulaceae         6\n",
       "Araliaceae           6\n",
       "Euphorbiaceae        5\n",
       "Orchidaceae          4\n",
       "Piperaceae           4\n",
       "Apocynaceae          3\n",
       "Pteridaceae          3\n",
       "Begoniaceae          3\n",
       "Amaryllidaceae       3\n",
       "Rubiaceae            3\n",
       "Bromeliaceae         3\n",
       "Primulaceae          3\n",
       "Acanthaceae          3\n",
       "Commelinaceae        3\n",
       "Geraniaceae          3\n",
       "Aspleniaceae         3\n",
       "Arecaceae            3\n",
       "Solanaceae           2\n",
       "Vitaceae             2\n",
       "Rosaceae             2\n",
       "Asteraceae           2\n",
       "Polypodiaceae        2\n",
       "Marantaceae          2\n",
       "Sarraceniaceae       2\n",
       "Asphodelaceae        2\n",
       "Lythraceae           2\n",
       "Malvaceae            2\n",
       "Urticaceae           2\n",
       "Musaceae             1\n",
       "Gesneriaceae         1\n",
       "Iridaceae            1\n",
       "Saxifragaceae        1\n",
       "Woodsiaceae          1\n",
       "Bignoniaceae         1\n",
       "Ginkgoaceae          1\n",
       "Ranunculaceae        1\n",
       "Hydrangeaceae        1\n",
       "Liliaceae            1\n",
       "Juncaceae            1\n",
       "Lamiaceae            1\n",
       "Pinaceae             1\n",
       "Zingiberaceae        1\n",
       "Araucariaceae        1\n",
       "Cycadaceae           1\n",
       "Melastomataceae      1\n",
       "Balsaminaceae        1\n",
       "Basellaceae          1\n",
       "Nephrolepidaceae     1\n",
       "Cactaceae            1\n",
       "Theaceae             1\n",
       "Campanulaceae        1\n",
       "Strelitziaceae       1\n",
       "Name: Family, dtype: int64"
      ]
     },
     "execution_count": 23,
     "metadata": {},
     "output_type": "execute_result"
    }
   ],
   "source": [
    "plant_df[\"Family\"].value_counts()"
   ]
  },
  {
   "cell_type": "markdown",
   "metadata": {},
   "source": [
    "The column \"Family\" contains an even large number of types than \"Plant_Type\". If I decide to use this, I would need to group a large number of the types into a group named \"Other\". This maybe not be ideal given they are then treated as similar even if they are not...\n",
    "\n",
    "Also need to consider that the two columns maybe co-related, and I don't have that many samples to train with..."
   ]
  },
  {
   "cell_type": "code",
   "execution_count": 24,
   "metadata": {},
   "outputs": [
    {
     "data": {
      "text/plain": [
       "Plant_Type           Family      \n",
       "Annual               Asteraceae      1\n",
       "Broadleaf evergreen  Acanthaceae     1\n",
       "                     Apocynaceae     2\n",
       "                     Araliaceae      5\n",
       "                     Asparagaceae    6\n",
       "                                    ..\n",
       "Vine                 Araliaceae      1\n",
       "                     Asparagaceae    1\n",
       "                     Basellaceae     1\n",
       "                     Moraceae        1\n",
       "                     Vitaceae        2\n",
       "Length: 77, dtype: int64"
      ]
     },
     "execution_count": 24,
     "metadata": {},
     "output_type": "execute_result"
    }
   ],
   "source": [
    "plant_df[[\"Plant_Type\", \"Family\"]].value_counts(sort=False)"
   ]
  },
  {
   "cell_type": "markdown",
   "metadata": {},
   "source": [
    "looking at the above 2D value_counts results, we observe frequent \"Family\" categories present in several \"Plant_Type\" categories.\n",
    "E.g.: \"Araceae\" is observed in: \"Bulb\", \"Herbaceous perennial\", and \"Vine\". \n",
    "\n",
    "As \"Plant_Type\" is more intuiative, has less categories and is more indicative of how  the plant actually looks, if I take either of these columns forward, it will be \"Plant_Type\" I think. "
   ]
  },
  {
   "cell_type": "markdown",
   "metadata": {},
   "source": [
    "##### Part 1.2 - Columns: \"Zones\"\n",
    "Zones describes the [\"cold-hardyness\" of a plant](https://planthardiness.ars.usda.gov/). A lower zone value corresponds to a more cold hardy plant. So I will extract and analyse the lower bounds for each plant."
   ]
  },
  {
   "cell_type": "code",
   "execution_count": 25,
   "metadata": {},
   "outputs": [
    {
     "data": {
      "text/html": [
       "<div>\n",
       "<style scoped>\n",
       "    .dataframe tbody tr th:only-of-type {\n",
       "        vertical-align: middle;\n",
       "    }\n",
       "\n",
       "    .dataframe tbody tr th {\n",
       "        vertical-align: top;\n",
       "    }\n",
       "\n",
       "    .dataframe thead th {\n",
       "        text-align: right;\n",
       "    }\n",
       "</style>\n",
       "<table border=\"1\" class=\"dataframe\">\n",
       "  <thead>\n",
       "    <tr style=\"text-align: right;\">\n",
       "      <th></th>\n",
       "      <th>Plant_Name</th>\n",
       "      <th>Plant_Type</th>\n",
       "      <th>Family</th>\n",
       "      <th>Zones</th>\n",
       "      <th>Native_Range</th>\n",
       "      <th>Heights</th>\n",
       "      <th>Spreads</th>\n",
       "      <th>Bloom_Times</th>\n",
       "      <th>Bloom_Description</th>\n",
       "      <th>Sunlight</th>\n",
       "      <th>Watering</th>\n",
       "      <th>Maintenance</th>\n",
       "      <th>Flowers</th>\n",
       "      <th>Leafs</th>\n",
       "      <th>Fruits</th>\n",
       "    </tr>\n",
       "  </thead>\n",
       "  <tbody>\n",
       "    <tr>\n",
       "      <th>75</th>\n",
       "      <td>Basella alba</td>\n",
       "      <td>Vine</td>\n",
       "      <td>Basellaceae</td>\n",
       "      <td>None</td>\n",
       "      <td>Tropical Africa and tropical Asia</td>\n",
       "      <td>2.00 to 6.00 feet</td>\n",
       "      <td>2.00 to 3.00 feet</td>\n",
       "      <td>July to frost</td>\n",
       "      <td>Purple-white</td>\n",
       "      <td>Full sun</td>\n",
       "      <td>Medium</td>\n",
       "      <td>Medium</td>\n",
       "      <td>Showy</td>\n",
       "      <td>None</td>\n",
       "      <td>None</td>\n",
       "    </tr>\n",
       "  </tbody>\n",
       "</table>\n",
       "</div>"
      ],
      "text/plain": [
       "      Plant_Name Plant_Type       Family Zones  \\\n",
       "75  Basella alba       Vine  Basellaceae  None   \n",
       "\n",
       "                         Native_Range            Heights            Spreads  \\\n",
       "75  Tropical Africa and tropical Asia  2.00 to 6.00 feet  2.00 to 3.00 feet   \n",
       "\n",
       "      Bloom_Times Bloom_Description  Sunlight Watering Maintenance Flowers  \\\n",
       "75  July to frost      Purple-white  Full sun   Medium      Medium   Showy   \n",
       "\n",
       "   Leafs Fruits  \n",
       "75  None   None  "
      ]
     },
     "execution_count": 25,
     "metadata": {},
     "output_type": "execute_result"
    }
   ],
   "source": [
    "missing_index = plant_df[\"Zones\"].loc[lambda x: x==\"None\"].index\n",
    "plant_df.iloc[missing_index]"
   ]
  },
  {
   "cell_type": "code",
   "execution_count": 26,
   "metadata": {},
   "outputs": [],
   "source": [
    "min_zones = []\n",
    "for description in list(plant_df[\"Zones\"]):\n",
    "    if description != \"None\":\n",
    "        min_zone = float(description.split(\" \")[0])\n",
    "        min_zones.append(min_zone)"
   ]
  },
  {
   "cell_type": "code",
   "execution_count": 27,
   "metadata": {},
   "outputs": [
    {
     "data": {
      "image/svg+xml": "<svg class=\"main-svg\" xmlns=\"http://www.w3.org/2000/svg\" xmlns:xlink=\"http://www.w3.org/1999/xlink\" width=\"700\" height=\"500\" style=\"\" viewBox=\"0 0 700 500\"><rect x=\"0\" y=\"0\" width=\"700\" height=\"500\" style=\"fill: rgb(255, 255, 255); fill-opacity: 1;\"/><defs id=\"defs-b2dd20\"><g class=\"clips\"><clipPath id=\"clipb2dd20xyplot\" class=\"plotclip\"><rect width=\"540\" height=\"360\"/></clipPath><clipPath class=\"axesclip\" id=\"clipb2dd20x\"><rect x=\"80\" y=\"0\" width=\"540\" height=\"500\"/></clipPath><clipPath class=\"axesclip\" id=\"clipb2dd20y\"><rect x=\"0\" y=\"60\" width=\"700\" height=\"360\"/></clipPath><clipPath class=\"axesclip\" id=\"clipb2dd20xy\"><rect x=\"80\" y=\"60\" width=\"540\" height=\"360\"/></clipPath></g><g class=\"gradients\"/><g class=\"patterns\"/></defs><g class=\"bglayer\"><rect class=\"bg\" x=\"80\" y=\"60\" width=\"540\" height=\"360\" style=\"fill: rgb(229, 236, 246); fill-opacity: 1; stroke-width: 0;\"/></g><g class=\"layer-below\"><g class=\"imagelayer\"/><g class=\"shapelayer\"/></g><g class=\"cartesianlayer\"><g class=\"subplot xy\"><g class=\"layer-subplot\"><g class=\"shapelayer\"/><g class=\"imagelayer\"/></g><g class=\"gridlayer\"><g class=\"x\"/><g class=\"y\"><path class=\"ygrid crisp\" transform=\"translate(0,361.03)\" d=\"M80,0h540\" style=\"stroke: rgb(255, 255, 255); stroke-opacity: 1; stroke-width: 1px;\"/><path class=\"ygrid crisp\" transform=\"translate(0,302.07)\" d=\"M80,0h540\" style=\"stroke: rgb(255, 255, 255); stroke-opacity: 1; stroke-width: 1px;\"/><path class=\"ygrid crisp\" transform=\"translate(0,243.1)\" d=\"M80,0h540\" style=\"stroke: rgb(255, 255, 255); stroke-opacity: 1; stroke-width: 1px;\"/><path class=\"ygrid crisp\" transform=\"translate(0,184.14)\" d=\"M80,0h540\" style=\"stroke: rgb(255, 255, 255); stroke-opacity: 1; stroke-width: 1px;\"/><path class=\"ygrid crisp\" transform=\"translate(0,125.17)\" d=\"M80,0h540\" style=\"stroke: rgb(255, 255, 255); stroke-opacity: 1; stroke-width: 1px;\"/><path class=\"ygrid crisp\" transform=\"translate(0,66.21)\" d=\"M80,0h540\" style=\"stroke: rgb(255, 255, 255); stroke-opacity: 1; stroke-width: 1px;\"/></g></g><g class=\"zerolinelayer\"><path class=\"yzl zl crisp\" transform=\"translate(0,420)\" d=\"M80,0h540\" style=\"stroke: rgb(255, 255, 255); stroke-opacity: 1; stroke-width: 2px;\"/></g><path class=\"xlines-below\"/><path class=\"ylines-below\"/><g class=\"overlines-below\"/><g class=\"xaxislayer-below\"/><g class=\"yaxislayer-below\"/><g class=\"overaxes-below\"/><g class=\"plot\" transform=\"translate(80,60)\" clip-path=\"url(#clipb2dd20xyplot)\"><g class=\"barlayer mlayer\"><g class=\"trace bars\" shape-rendering=\"crispEdges\" style=\"opacity: 1;\"><g class=\"points\"><g class=\"point\"><path d=\"M0,360V342.31H49.09V360Z\" style=\"vector-effect: non-scaling-stroke; opacity: 1; stroke-width: 0px; fill: rgb(99, 110, 250); fill-opacity: 1;\"/></g><g class=\"point\"><path d=\"M49.09,360V336.41H98.18V360Z\" style=\"vector-effect: non-scaling-stroke; opacity: 1; stroke-width: 0px; fill: rgb(99, 110, 250); fill-opacity: 1;\"/></g><g class=\"point\"><path d=\"M98.18,360V306.93H147.27V360Z\" style=\"vector-effect: non-scaling-stroke; opacity: 1; stroke-width: 0px; fill: rgb(99, 110, 250); fill-opacity: 1;\"/></g><g class=\"point\"><path d=\"M147.27,360V342.31H196.36V360Z\" style=\"vector-effect: non-scaling-stroke; opacity: 1; stroke-width: 0px; fill: rgb(99, 110, 250); fill-opacity: 1;\"/></g><g class=\"point\"><path d=\"M196.36,360V324.62H245.45V360Z\" style=\"vector-effect: non-scaling-stroke; opacity: 1; stroke-width: 0px; fill: rgb(99, 110, 250); fill-opacity: 1;\"/></g><g class=\"point\"><path d=\"M245.45,360V354.1H294.55V360Z\" style=\"vector-effect: non-scaling-stroke; opacity: 1; stroke-width: 0px; fill: rgb(99, 110, 250); fill-opacity: 1;\"/></g><g class=\"point\"><path d=\"M294.55,360V289.24H343.64V360Z\" style=\"vector-effect: non-scaling-stroke; opacity: 1; stroke-width: 0px; fill: rgb(99, 110, 250); fill-opacity: 1;\"/></g><g class=\"point\"><path d=\"M343.64,360V206.69H392.73V360Z\" style=\"vector-effect: non-scaling-stroke; opacity: 1; stroke-width: 0px; fill: rgb(99, 110, 250); fill-opacity: 1;\"/></g><g class=\"point\"><path d=\"M392.73,360V18H441.82V360Z\" style=\"vector-effect: non-scaling-stroke; opacity: 1; stroke-width: 0px; fill: rgb(99, 110, 250); fill-opacity: 1;\"/></g><g class=\"point\"><path d=\"M441.82,360V224.38H490.91V360Z\" style=\"vector-effect: non-scaling-stroke; opacity: 1; stroke-width: 0px; fill: rgb(99, 110, 250); fill-opacity: 1;\"/></g><g class=\"point\"><path d=\"M490.91,360V354.1H540V360Z\" style=\"vector-effect: non-scaling-stroke; opacity: 1; stroke-width: 0px; fill: rgb(99, 110, 250); fill-opacity: 1;\"/></g></g></g></g></g><g class=\"overplot\"/><path class=\"xlines-above crisp\" d=\"M0,0\" style=\"fill: none;\"/><path class=\"ylines-above crisp\" d=\"M0,0\" style=\"fill: none;\"/><g class=\"overlines-above\"/><g class=\"xaxislayer-above\"><g class=\"xtick\"><text text-anchor=\"middle\" x=\"0\" y=\"433\" transform=\"translate(104.55,0)\" style=\"font-family: 'Open Sans', verdana, arial, sans-serif; font-size: 12px; fill: rgb(42, 63, 95); fill-opacity: 1; white-space: pre; opacity: 1;\">2</text></g><g class=\"xtick\"><text text-anchor=\"middle\" x=\"0\" y=\"433\" style=\"font-family: 'Open Sans', verdana, arial, sans-serif; font-size: 12px; fill: rgb(42, 63, 95); fill-opacity: 1; white-space: pre; opacity: 1;\" transform=\"translate(202.73000000000002,0)\">4</text></g><g class=\"xtick\"><text text-anchor=\"middle\" x=\"0\" y=\"433\" style=\"font-family: 'Open Sans', verdana, arial, sans-serif; font-size: 12px; fill: rgb(42, 63, 95); fill-opacity: 1; white-space: pre; opacity: 1;\" transform=\"translate(300.90999999999997,0)\">6</text></g><g class=\"xtick\"><text text-anchor=\"middle\" x=\"0\" y=\"433\" style=\"font-family: 'Open Sans', verdana, arial, sans-serif; font-size: 12px; fill: rgb(42, 63, 95); fill-opacity: 1; white-space: pre; opacity: 1;\" transform=\"translate(399.09,0)\">8</text></g><g class=\"xtick\"><text text-anchor=\"middle\" x=\"0\" y=\"433\" style=\"font-family: 'Open Sans', verdana, arial, sans-serif; font-size: 12px; fill: rgb(42, 63, 95); fill-opacity: 1; white-space: pre; opacity: 1;\" transform=\"translate(497.27,0)\">10</text></g><g class=\"xtick\"><text text-anchor=\"middle\" x=\"0\" y=\"433\" style=\"font-family: 'Open Sans', verdana, arial, sans-serif; font-size: 12px; fill: rgb(42, 63, 95); fill-opacity: 1; white-space: pre; opacity: 1;\" transform=\"translate(595.45,0)\">12</text></g></g><g class=\"yaxislayer-above\"><g class=\"ytick\"><text text-anchor=\"end\" x=\"79\" y=\"4.199999999999999\" transform=\"translate(0,420)\" style=\"font-family: 'Open Sans', verdana, arial, sans-serif; font-size: 12px; fill: rgb(42, 63, 95); fill-opacity: 1; white-space: pre; opacity: 1;\">0</text></g><g class=\"ytick\"><text text-anchor=\"end\" x=\"79\" y=\"4.199999999999999\" style=\"font-family: 'Open Sans', verdana, arial, sans-serif; font-size: 12px; fill: rgb(42, 63, 95); fill-opacity: 1; white-space: pre; opacity: 1;\" transform=\"translate(0,361.03)\">10</text></g><g class=\"ytick\"><text text-anchor=\"end\" x=\"79\" y=\"4.199999999999999\" style=\"font-family: 'Open Sans', verdana, arial, sans-serif; font-size: 12px; fill: rgb(42, 63, 95); fill-opacity: 1; white-space: pre; opacity: 1;\" transform=\"translate(0,302.07)\">20</text></g><g class=\"ytick\"><text text-anchor=\"end\" x=\"79\" y=\"4.199999999999999\" style=\"font-family: 'Open Sans', verdana, arial, sans-serif; font-size: 12px; fill: rgb(42, 63, 95); fill-opacity: 1; white-space: pre; opacity: 1;\" transform=\"translate(0,243.1)\">30</text></g><g class=\"ytick\"><text text-anchor=\"end\" x=\"79\" y=\"4.199999999999999\" style=\"font-family: 'Open Sans', verdana, arial, sans-serif; font-size: 12px; fill: rgb(42, 63, 95); fill-opacity: 1; white-space: pre; opacity: 1;\" transform=\"translate(0,184.14)\">40</text></g><g class=\"ytick\"><text text-anchor=\"end\" x=\"79\" y=\"4.199999999999999\" style=\"font-family: 'Open Sans', verdana, arial, sans-serif; font-size: 12px; fill: rgb(42, 63, 95); fill-opacity: 1; white-space: pre; opacity: 1;\" transform=\"translate(0,125.17)\">50</text></g><g class=\"ytick\"><text text-anchor=\"end\" x=\"79\" y=\"4.199999999999999\" style=\"font-family: 'Open Sans', verdana, arial, sans-serif; font-size: 12px; fill: rgb(42, 63, 95); fill-opacity: 1; white-space: pre; opacity: 1;\" transform=\"translate(0,66.21)\">60</text></g></g><g class=\"overaxes-above\"/></g></g><g class=\"polarlayer\"/><g class=\"ternarylayer\"/><g class=\"geolayer\"/><g class=\"funnelarealayer\"/><g class=\"pielayer\"/><g class=\"iciclelayer\"/><g class=\"treemaplayer\"/><g class=\"sunburstlayer\"/><g class=\"glimages\"/><defs id=\"topdefs-b2dd20\"><g class=\"clips\"/></defs><g class=\"layer-above\"><g class=\"imagelayer\"/><g class=\"shapelayer\"/></g><g class=\"infolayer\"><g class=\"g-gtitle\"/><g class=\"g-xtitle\"><text class=\"xtitle\" x=\"350\" y=\"460.8\" text-anchor=\"middle\" style=\"font-family: 'Open Sans', verdana, arial, sans-serif; font-size: 14px; fill: rgb(42, 63, 95); opacity: 1; font-weight: normal; white-space: pre;\">USDA Zone</text></g><g class=\"g-ytitle\"><text class=\"ytitle\" transform=\"rotate(-90,38.934375,240)\" x=\"38.934375\" y=\"240\" text-anchor=\"middle\" style=\"font-family: 'Open Sans', verdana, arial, sans-serif; font-size: 14px; fill: rgb(42, 63, 95); opacity: 1; font-weight: normal; white-space: pre;\">count</text></g></g></svg>"
     },
     "metadata": {},
     "output_type": "display_data"
    }
   ],
   "source": [
    "fig = px.histogram(x=min_zones, labels={\"x\": \"USDA Zone\"})\n",
    "fig.show(\"svg\")"
   ]
  },
  {
   "cell_type": "markdown",
   "metadata": {},
   "source": [
    "- First, the plant with missing data is the \"Basella alba\", from a quick google it is winter hardy till USDA zone 6, so can add that in.\n",
    "- Max \"cold hardyness\", i.e., minimum zone value can be used as a continous variable. I can also convert these values from zones to temperatures https://planthardiness.ars.usda.gov/\n",
    "- Need to consider that if these are house plants, cold hardyness may not be that important to consider. \n"
   ]
  },
  {
   "cell_type": "markdown",
   "metadata": {},
   "source": [
    "##### Part 1.3 - Columns: \"Native_Range\""
   ]
  },
  {
   "cell_type": "code",
   "execution_count": 28,
   "metadata": {},
   "outputs": [
    {
     "data": {
      "text/plain": [
       "None                                                26\n",
       "Brazil                                               6\n",
       "Madagascar                                           5\n",
       "Garden origin                                        3\n",
       "Mediterranean                                        3\n",
       "                                                    ..\n",
       "Southeast Asia, Polynesia, subtropical Australia     1\n",
       "Southern and eastern Asia                            1\n",
       "Tropical Africa and tropical Asia                    1\n",
       "Central and western Europe                           1\n",
       "China, Japan                                         1\n",
       "Name: Native_Range, Length: 91, dtype: int64"
      ]
     },
     "execution_count": 28,
     "metadata": {},
     "output_type": "execute_result"
    }
   ],
   "source": [
    "plant_df[\"Native_Range\"].value_counts()"
   ]
  },
  {
   "cell_type": "markdown",
   "metadata": {},
   "source": [
    "Sceptical of the usefulness of this. Would need to generalise the results here a lot and even then one country or part of a continent can have very different climates in different sections. Think the more direct information from columns like: \"Sunlight\", or \"Zones\" would be better suited. Also a lot of missing data. Very probably will not use this column as feature. "
   ]
  },
  {
   "cell_type": "markdown",
   "metadata": {},
   "source": [
    "##### Part 1.4 - Columns: \"Heights\" and \"Spreads\""
   ]
  },
  {
   "cell_type": "code",
   "execution_count": 29,
   "metadata": {},
   "outputs": [
    {
     "data": {
      "text/html": [
       "<div>\n",
       "<style scoped>\n",
       "    .dataframe tbody tr th:only-of-type {\n",
       "        vertical-align: middle;\n",
       "    }\n",
       "\n",
       "    .dataframe tbody tr th {\n",
       "        vertical-align: top;\n",
       "    }\n",
       "\n",
       "    .dataframe thead th {\n",
       "        text-align: right;\n",
       "    }\n",
       "</style>\n",
       "<table border=\"1\" class=\"dataframe\">\n",
       "  <thead>\n",
       "    <tr style=\"text-align: right;\">\n",
       "      <th></th>\n",
       "      <th>Plant_Name</th>\n",
       "      <th>Plant_Type</th>\n",
       "      <th>Family</th>\n",
       "      <th>Zones</th>\n",
       "      <th>Native_Range</th>\n",
       "      <th>Heights</th>\n",
       "      <th>Spreads</th>\n",
       "      <th>Bloom_Times</th>\n",
       "      <th>Bloom_Description</th>\n",
       "      <th>Sunlight</th>\n",
       "      <th>Watering</th>\n",
       "      <th>Maintenance</th>\n",
       "      <th>Flowers</th>\n",
       "      <th>Leafs</th>\n",
       "      <th>Fruits</th>\n",
       "    </tr>\n",
       "  </thead>\n",
       "  <tbody>\n",
       "  </tbody>\n",
       "</table>\n",
       "</div>"
      ],
      "text/plain": [
       "Empty DataFrame\n",
       "Columns: [Plant_Name, Plant_Type, Family, Zones, Native_Range, Heights, Spreads, Bloom_Times, Bloom_Description, Sunlight, Watering, Maintenance, Flowers, Leafs, Fruits]\n",
       "Index: []"
      ]
     },
     "metadata": {},
     "output_type": "display_data"
    }
   ],
   "source": [
    "missing_index = plant_df[\"Heights\"].loc[lambda x: x==\"None\"].index\n",
    "display(plant_df.iloc[missing_index])"
   ]
  },
  {
   "cell_type": "code",
   "execution_count": 30,
   "metadata": {},
   "outputs": [],
   "source": [
    "min_heights, max_heights = [], []\n",
    "avg_heights, height_ranges = [], []\n",
    "\n",
    "for description in list(plant_df[\"Heights\"]):\n",
    "    min_h = float(description.split(\" \")[0])\n",
    "    max_h = float(description.split(\" \")[2])\n",
    "\n",
    "    min_heights.append(min_h)\n",
    "    max_heights.append(max_h)\n",
    "    avg_heights.append( (min_h + max_h) /2)\n",
    "    height_ranges.append( max_h - min_h)"
   ]
  },
  {
   "cell_type": "code",
   "execution_count": 31,
   "metadata": {},
   "outputs": [
    {
     "data": {
      "application/vnd.plotly.v1+json": {
       "config": {
        "plotlyServerURL": "https://plotly.com"
       },
       "data": [
        {
         "name": "Min Height",
         "type": "histogram",
         "x": [
          1,
          4,
          3,
          50,
          1,
          3,
          1,
          0.5,
          1,
          1,
          1,
          0.5,
          2,
          10,
          20,
          0,
          3,
          6,
          0.5,
          100,
          0.5,
          6,
          3,
          1.5,
          6,
          3,
          3,
          1,
          12,
          1,
          1,
          5,
          3,
          0.5,
          7,
          30,
          0.5,
          0.5,
          1,
          2,
          3,
          6,
          3,
          0.25,
          0.25,
          1,
          3,
          40,
          40,
          3.5,
          25,
          2,
          12,
          60,
          5,
          6,
          20,
          5,
          1,
          1,
          3,
          1,
          2,
          0.5,
          2,
          0.5,
          0.25,
          0.5,
          60,
          0.5,
          1,
          2,
          0.75,
          0.5,
          2,
          2,
          0.5,
          4,
          6,
          1,
          1,
          20,
          8,
          0.25,
          0.75,
          0.25,
          3,
          1,
          6,
          10,
          0.5,
          0.25,
          0.25,
          0.75,
          1,
          3,
          1,
          12,
          50,
          2,
          60,
          2,
          0.25,
          2,
          5,
          9,
          10,
          3,
          6,
          4,
          1,
          0.75,
          3,
          2,
          0.5,
          0.5,
          8,
          0.5,
          25,
          1,
          0.5,
          1,
          40,
          10,
          12,
          6,
          1,
          1,
          0.5,
          1,
          6,
          12,
          1,
          5,
          15,
          15,
          0.25,
          1,
          1,
          1,
          1,
          1.5,
          0.75,
          1,
          10,
          10,
          60
         ],
         "xaxis": "x",
         "yaxis": "y"
        },
        {
         "name": "Max Height",
         "type": "histogram",
         "x": [
          3,
          5,
          6,
          100,
          1.5,
          5,
          2.5,
          1,
          4,
          1.5,
          2,
          10,
          3,
          20,
          80,
          0.25,
          5,
          15,
          1,
          200,
          3,
          10,
          9,
          2,
          15,
          6,
          10,
          1.5,
          18,
          1.5,
          1.5,
          6,
          12,
          0.75,
          12,
          70,
          0.75,
          1,
          1.5,
          4,
          6,
          15,
          10,
          0.5,
          0.5,
          2,
          10,
          60,
          50,
          4,
          50,
          6,
          30,
          100,
          6,
          8,
          30,
          10,
          2,
          2,
          6,
          2.5,
          3,
          0.75,
          3,
          1,
          0.5,
          1,
          100,
          0.75,
          2.5,
          4,
          1,
          0.75,
          4,
          6,
          1.5,
          10,
          20,
          2,
          1.5,
          30,
          10,
          0.5,
          1,
          1.5,
          8,
          2,
          16,
          25,
          0.75,
          0.5,
          0.5,
          4,
          2,
          4,
          3,
          15,
          80,
          3,
          100,
          3,
          0.5,
          4,
          15,
          15,
          20,
          6,
          8,
          6,
          2,
          1,
          6,
          3,
          0.75,
          1,
          10,
          4,
          30,
          2,
          1,
          2,
          50,
          20,
          20,
          8,
          1.5,
          2,
          1.5,
          1.5,
          10,
          20,
          1.5,
          10,
          50,
          20,
          0.5,
          3,
          2,
          3,
          1.5,
          3,
          1,
          1.5,
          20,
          15,
          100
         ],
         "xaxis": "x2",
         "yaxis": "y2"
        },
        {
         "name": "Avg. Height",
         "type": "histogram",
         "x": [
          2,
          4.5,
          4.5,
          75,
          1.25,
          4,
          1.75,
          0.75,
          2.5,
          1.25,
          1.5,
          5.25,
          2.5,
          15,
          50,
          0.125,
          4,
          10.5,
          0.75,
          150,
          1.75,
          8,
          6,
          1.75,
          10.5,
          4.5,
          6.5,
          1.25,
          15,
          1.25,
          1.25,
          5.5,
          7.5,
          0.625,
          9.5,
          50,
          0.625,
          0.75,
          1.25,
          3,
          4.5,
          10.5,
          6.5,
          0.375,
          0.375,
          1.5,
          6.5,
          50,
          45,
          3.75,
          37.5,
          4,
          21,
          80,
          5.5,
          7,
          25,
          7.5,
          1.5,
          1.5,
          4.5,
          1.75,
          2.5,
          0.625,
          2.5,
          0.75,
          0.375,
          0.75,
          80,
          0.625,
          1.75,
          3,
          0.875,
          0.625,
          3,
          4,
          1,
          7,
          13,
          1.5,
          1.25,
          25,
          9,
          0.375,
          0.875,
          0.875,
          5.5,
          1.5,
          11,
          17.5,
          0.625,
          0.375,
          0.375,
          2.375,
          1.5,
          3.5,
          2,
          13.5,
          65,
          2.5,
          80,
          2.5,
          0.375,
          3,
          10,
          12,
          15,
          4.5,
          7,
          5,
          1.5,
          0.875,
          4.5,
          2.5,
          0.625,
          0.75,
          9,
          2.25,
          27.5,
          1.5,
          0.75,
          1.5,
          45,
          15,
          16,
          7,
          1.25,
          1.5,
          1,
          1.25,
          8,
          16,
          1.25,
          7.5,
          32.5,
          17.5,
          0.375,
          2,
          1.5,
          2,
          1.25,
          2.25,
          0.875,
          1.25,
          15,
          12.5,
          80
         ],
         "xaxis": "x3",
         "yaxis": "y3"
        },
        {
         "name": "Height Range",
         "type": "histogram",
         "x": [
          2,
          1,
          3,
          50,
          0.5,
          2,
          1.5,
          0.5,
          3,
          0.5,
          1,
          9.5,
          1,
          10,
          60,
          0.25,
          2,
          9,
          0.5,
          100,
          2.5,
          4,
          6,
          0.5,
          9,
          3,
          7,
          0.5,
          6,
          0.5,
          0.5,
          1,
          9,
          0.25,
          5,
          40,
          0.25,
          0.5,
          0.5,
          2,
          3,
          9,
          7,
          0.25,
          0.25,
          1,
          7,
          20,
          10,
          0.5,
          25,
          4,
          18,
          40,
          1,
          2,
          10,
          5,
          1,
          1,
          3,
          1.5,
          1,
          0.25,
          1,
          0.5,
          0.25,
          0.5,
          40,
          0.25,
          1.5,
          2,
          0.25,
          0.25,
          2,
          4,
          1,
          6,
          14,
          1,
          0.5,
          10,
          2,
          0.25,
          0.25,
          1.25,
          5,
          1,
          10,
          15,
          0.25,
          0.25,
          0.25,
          3.25,
          1,
          1,
          2,
          3,
          30,
          1,
          40,
          1,
          0.25,
          2,
          10,
          6,
          10,
          3,
          2,
          2,
          1,
          0.25,
          3,
          1,
          0.25,
          0.5,
          2,
          3.5,
          5,
          1,
          0.5,
          1,
          10,
          10,
          8,
          2,
          0.5,
          1,
          1,
          0.5,
          4,
          8,
          0.5,
          5,
          35,
          5,
          0.25,
          2,
          1,
          2,
          0.5,
          1.5,
          0.25,
          0.5,
          10,
          5,
          40
         ],
         "xaxis": "x4",
         "yaxis": "y4"
        }
       ],
       "layout": {
        "template": {
         "data": {
          "bar": [
           {
            "error_x": {
             "color": "#2a3f5f"
            },
            "error_y": {
             "color": "#2a3f5f"
            },
            "marker": {
             "line": {
              "color": "#E5ECF6",
              "width": 0.5
             },
             "pattern": {
              "fillmode": "overlay",
              "size": 10,
              "solidity": 0.2
             }
            },
            "type": "bar"
           }
          ],
          "barpolar": [
           {
            "marker": {
             "line": {
              "color": "#E5ECF6",
              "width": 0.5
             },
             "pattern": {
              "fillmode": "overlay",
              "size": 10,
              "solidity": 0.2
             }
            },
            "type": "barpolar"
           }
          ],
          "carpet": [
           {
            "aaxis": {
             "endlinecolor": "#2a3f5f",
             "gridcolor": "white",
             "linecolor": "white",
             "minorgridcolor": "white",
             "startlinecolor": "#2a3f5f"
            },
            "baxis": {
             "endlinecolor": "#2a3f5f",
             "gridcolor": "white",
             "linecolor": "white",
             "minorgridcolor": "white",
             "startlinecolor": "#2a3f5f"
            },
            "type": "carpet"
           }
          ],
          "choropleth": [
           {
            "colorbar": {
             "outlinewidth": 0,
             "ticks": ""
            },
            "type": "choropleth"
           }
          ],
          "contour": [
           {
            "colorbar": {
             "outlinewidth": 0,
             "ticks": ""
            },
            "colorscale": [
             [
              0,
              "#0d0887"
             ],
             [
              0.1111111111111111,
              "#46039f"
             ],
             [
              0.2222222222222222,
              "#7201a8"
             ],
             [
              0.3333333333333333,
              "#9c179e"
             ],
             [
              0.4444444444444444,
              "#bd3786"
             ],
             [
              0.5555555555555556,
              "#d8576b"
             ],
             [
              0.6666666666666666,
              "#ed7953"
             ],
             [
              0.7777777777777778,
              "#fb9f3a"
             ],
             [
              0.8888888888888888,
              "#fdca26"
             ],
             [
              1,
              "#f0f921"
             ]
            ],
            "type": "contour"
           }
          ],
          "contourcarpet": [
           {
            "colorbar": {
             "outlinewidth": 0,
             "ticks": ""
            },
            "type": "contourcarpet"
           }
          ],
          "heatmap": [
           {
            "colorbar": {
             "outlinewidth": 0,
             "ticks": ""
            },
            "colorscale": [
             [
              0,
              "#0d0887"
             ],
             [
              0.1111111111111111,
              "#46039f"
             ],
             [
              0.2222222222222222,
              "#7201a8"
             ],
             [
              0.3333333333333333,
              "#9c179e"
             ],
             [
              0.4444444444444444,
              "#bd3786"
             ],
             [
              0.5555555555555556,
              "#d8576b"
             ],
             [
              0.6666666666666666,
              "#ed7953"
             ],
             [
              0.7777777777777778,
              "#fb9f3a"
             ],
             [
              0.8888888888888888,
              "#fdca26"
             ],
             [
              1,
              "#f0f921"
             ]
            ],
            "type": "heatmap"
           }
          ],
          "heatmapgl": [
           {
            "colorbar": {
             "outlinewidth": 0,
             "ticks": ""
            },
            "colorscale": [
             [
              0,
              "#0d0887"
             ],
             [
              0.1111111111111111,
              "#46039f"
             ],
             [
              0.2222222222222222,
              "#7201a8"
             ],
             [
              0.3333333333333333,
              "#9c179e"
             ],
             [
              0.4444444444444444,
              "#bd3786"
             ],
             [
              0.5555555555555556,
              "#d8576b"
             ],
             [
              0.6666666666666666,
              "#ed7953"
             ],
             [
              0.7777777777777778,
              "#fb9f3a"
             ],
             [
              0.8888888888888888,
              "#fdca26"
             ],
             [
              1,
              "#f0f921"
             ]
            ],
            "type": "heatmapgl"
           }
          ],
          "histogram": [
           {
            "marker": {
             "pattern": {
              "fillmode": "overlay",
              "size": 10,
              "solidity": 0.2
             }
            },
            "type": "histogram"
           }
          ],
          "histogram2d": [
           {
            "colorbar": {
             "outlinewidth": 0,
             "ticks": ""
            },
            "colorscale": [
             [
              0,
              "#0d0887"
             ],
             [
              0.1111111111111111,
              "#46039f"
             ],
             [
              0.2222222222222222,
              "#7201a8"
             ],
             [
              0.3333333333333333,
              "#9c179e"
             ],
             [
              0.4444444444444444,
              "#bd3786"
             ],
             [
              0.5555555555555556,
              "#d8576b"
             ],
             [
              0.6666666666666666,
              "#ed7953"
             ],
             [
              0.7777777777777778,
              "#fb9f3a"
             ],
             [
              0.8888888888888888,
              "#fdca26"
             ],
             [
              1,
              "#f0f921"
             ]
            ],
            "type": "histogram2d"
           }
          ],
          "histogram2dcontour": [
           {
            "colorbar": {
             "outlinewidth": 0,
             "ticks": ""
            },
            "colorscale": [
             [
              0,
              "#0d0887"
             ],
             [
              0.1111111111111111,
              "#46039f"
             ],
             [
              0.2222222222222222,
              "#7201a8"
             ],
             [
              0.3333333333333333,
              "#9c179e"
             ],
             [
              0.4444444444444444,
              "#bd3786"
             ],
             [
              0.5555555555555556,
              "#d8576b"
             ],
             [
              0.6666666666666666,
              "#ed7953"
             ],
             [
              0.7777777777777778,
              "#fb9f3a"
             ],
             [
              0.8888888888888888,
              "#fdca26"
             ],
             [
              1,
              "#f0f921"
             ]
            ],
            "type": "histogram2dcontour"
           }
          ],
          "mesh3d": [
           {
            "colorbar": {
             "outlinewidth": 0,
             "ticks": ""
            },
            "type": "mesh3d"
           }
          ],
          "parcoords": [
           {
            "line": {
             "colorbar": {
              "outlinewidth": 0,
              "ticks": ""
             }
            },
            "type": "parcoords"
           }
          ],
          "pie": [
           {
            "automargin": true,
            "type": "pie"
           }
          ],
          "scatter": [
           {
            "marker": {
             "colorbar": {
              "outlinewidth": 0,
              "ticks": ""
             }
            },
            "type": "scatter"
           }
          ],
          "scatter3d": [
           {
            "line": {
             "colorbar": {
              "outlinewidth": 0,
              "ticks": ""
             }
            },
            "marker": {
             "colorbar": {
              "outlinewidth": 0,
              "ticks": ""
             }
            },
            "type": "scatter3d"
           }
          ],
          "scattercarpet": [
           {
            "marker": {
             "colorbar": {
              "outlinewidth": 0,
              "ticks": ""
             }
            },
            "type": "scattercarpet"
           }
          ],
          "scattergeo": [
           {
            "marker": {
             "colorbar": {
              "outlinewidth": 0,
              "ticks": ""
             }
            },
            "type": "scattergeo"
           }
          ],
          "scattergl": [
           {
            "marker": {
             "colorbar": {
              "outlinewidth": 0,
              "ticks": ""
             }
            },
            "type": "scattergl"
           }
          ],
          "scattermapbox": [
           {
            "marker": {
             "colorbar": {
              "outlinewidth": 0,
              "ticks": ""
             }
            },
            "type": "scattermapbox"
           }
          ],
          "scatterpolar": [
           {
            "marker": {
             "colorbar": {
              "outlinewidth": 0,
              "ticks": ""
             }
            },
            "type": "scatterpolar"
           }
          ],
          "scatterpolargl": [
           {
            "marker": {
             "colorbar": {
              "outlinewidth": 0,
              "ticks": ""
             }
            },
            "type": "scatterpolargl"
           }
          ],
          "scatterternary": [
           {
            "marker": {
             "colorbar": {
              "outlinewidth": 0,
              "ticks": ""
             }
            },
            "type": "scatterternary"
           }
          ],
          "surface": [
           {
            "colorbar": {
             "outlinewidth": 0,
             "ticks": ""
            },
            "colorscale": [
             [
              0,
              "#0d0887"
             ],
             [
              0.1111111111111111,
              "#46039f"
             ],
             [
              0.2222222222222222,
              "#7201a8"
             ],
             [
              0.3333333333333333,
              "#9c179e"
             ],
             [
              0.4444444444444444,
              "#bd3786"
             ],
             [
              0.5555555555555556,
              "#d8576b"
             ],
             [
              0.6666666666666666,
              "#ed7953"
             ],
             [
              0.7777777777777778,
              "#fb9f3a"
             ],
             [
              0.8888888888888888,
              "#fdca26"
             ],
             [
              1,
              "#f0f921"
             ]
            ],
            "type": "surface"
           }
          ],
          "table": [
           {
            "cells": {
             "fill": {
              "color": "#EBF0F8"
             },
             "line": {
              "color": "white"
             }
            },
            "header": {
             "fill": {
              "color": "#C8D4E3"
             },
             "line": {
              "color": "white"
             }
            },
            "type": "table"
           }
          ]
         },
         "layout": {
          "annotationdefaults": {
           "arrowcolor": "#2a3f5f",
           "arrowhead": 0,
           "arrowwidth": 1
          },
          "autotypenumbers": "strict",
          "coloraxis": {
           "colorbar": {
            "outlinewidth": 0,
            "ticks": ""
           }
          },
          "colorscale": {
           "diverging": [
            [
             0,
             "#8e0152"
            ],
            [
             0.1,
             "#c51b7d"
            ],
            [
             0.2,
             "#de77ae"
            ],
            [
             0.3,
             "#f1b6da"
            ],
            [
             0.4,
             "#fde0ef"
            ],
            [
             0.5,
             "#f7f7f7"
            ],
            [
             0.6,
             "#e6f5d0"
            ],
            [
             0.7,
             "#b8e186"
            ],
            [
             0.8,
             "#7fbc41"
            ],
            [
             0.9,
             "#4d9221"
            ],
            [
             1,
             "#276419"
            ]
           ],
           "sequential": [
            [
             0,
             "#0d0887"
            ],
            [
             0.1111111111111111,
             "#46039f"
            ],
            [
             0.2222222222222222,
             "#7201a8"
            ],
            [
             0.3333333333333333,
             "#9c179e"
            ],
            [
             0.4444444444444444,
             "#bd3786"
            ],
            [
             0.5555555555555556,
             "#d8576b"
            ],
            [
             0.6666666666666666,
             "#ed7953"
            ],
            [
             0.7777777777777778,
             "#fb9f3a"
            ],
            [
             0.8888888888888888,
             "#fdca26"
            ],
            [
             1,
             "#f0f921"
            ]
           ],
           "sequentialminus": [
            [
             0,
             "#0d0887"
            ],
            [
             0.1111111111111111,
             "#46039f"
            ],
            [
             0.2222222222222222,
             "#7201a8"
            ],
            [
             0.3333333333333333,
             "#9c179e"
            ],
            [
             0.4444444444444444,
             "#bd3786"
            ],
            [
             0.5555555555555556,
             "#d8576b"
            ],
            [
             0.6666666666666666,
             "#ed7953"
            ],
            [
             0.7777777777777778,
             "#fb9f3a"
            ],
            [
             0.8888888888888888,
             "#fdca26"
            ],
            [
             1,
             "#f0f921"
            ]
           ]
          },
          "colorway": [
           "#636efa",
           "#EF553B",
           "#00cc96",
           "#ab63fa",
           "#FFA15A",
           "#19d3f3",
           "#FF6692",
           "#B6E880",
           "#FF97FF",
           "#FECB52"
          ],
          "font": {
           "color": "#2a3f5f"
          },
          "geo": {
           "bgcolor": "white",
           "lakecolor": "white",
           "landcolor": "#E5ECF6",
           "showlakes": true,
           "showland": true,
           "subunitcolor": "white"
          },
          "hoverlabel": {
           "align": "left"
          },
          "hovermode": "closest",
          "mapbox": {
           "style": "light"
          },
          "paper_bgcolor": "white",
          "plot_bgcolor": "#E5ECF6",
          "polar": {
           "angularaxis": {
            "gridcolor": "white",
            "linecolor": "white",
            "ticks": ""
           },
           "bgcolor": "#E5ECF6",
           "radialaxis": {
            "gridcolor": "white",
            "linecolor": "white",
            "ticks": ""
           }
          },
          "scene": {
           "xaxis": {
            "backgroundcolor": "#E5ECF6",
            "gridcolor": "white",
            "gridwidth": 2,
            "linecolor": "white",
            "showbackground": true,
            "ticks": "",
            "zerolinecolor": "white"
           },
           "yaxis": {
            "backgroundcolor": "#E5ECF6",
            "gridcolor": "white",
            "gridwidth": 2,
            "linecolor": "white",
            "showbackground": true,
            "ticks": "",
            "zerolinecolor": "white"
           },
           "zaxis": {
            "backgroundcolor": "#E5ECF6",
            "gridcolor": "white",
            "gridwidth": 2,
            "linecolor": "white",
            "showbackground": true,
            "ticks": "",
            "zerolinecolor": "white"
           }
          },
          "shapedefaults": {
           "line": {
            "color": "#2a3f5f"
           }
          },
          "ternary": {
           "aaxis": {
            "gridcolor": "white",
            "linecolor": "white",
            "ticks": ""
           },
           "baxis": {
            "gridcolor": "white",
            "linecolor": "white",
            "ticks": ""
           },
           "bgcolor": "#E5ECF6",
           "caxis": {
            "gridcolor": "white",
            "linecolor": "white",
            "ticks": ""
           }
          },
          "title": {
           "x": 0.05
          },
          "xaxis": {
           "automargin": true,
           "gridcolor": "white",
           "linecolor": "white",
           "ticks": "",
           "title": {
            "standoff": 15
           },
           "zerolinecolor": "white",
           "zerolinewidth": 2
          },
          "yaxis": {
           "automargin": true,
           "gridcolor": "white",
           "linecolor": "white",
           "ticks": "",
           "title": {
            "standoff": 15
           },
           "zerolinecolor": "white",
           "zerolinewidth": 2
          }
         }
        },
        "title": {
         "text": "Heights Column"
        },
        "xaxis": {
         "anchor": "y",
         "domain": [
          0,
          0.45
         ]
        },
        "xaxis2": {
         "anchor": "y2",
         "domain": [
          0.55,
          1
         ]
        },
        "xaxis3": {
         "anchor": "y3",
         "domain": [
          0,
          0.45
         ]
        },
        "xaxis4": {
         "anchor": "y4",
         "domain": [
          0.55,
          1
         ]
        },
        "yaxis": {
         "anchor": "x",
         "domain": [
          0.575,
          1
         ]
        },
        "yaxis2": {
         "anchor": "x2",
         "domain": [
          0.575,
          1
         ]
        },
        "yaxis3": {
         "anchor": "x3",
         "domain": [
          0,
          0.425
         ]
        },
        "yaxis4": {
         "anchor": "x4",
         "domain": [
          0,
          0.425
         ]
        }
       }
      }
     },
     "metadata": {},
     "output_type": "display_data"
    }
   ],
   "source": [
    "fig = make_subplots(rows=2, cols=2)\n",
    "\n",
    "fig.add_trace(go.Histogram(x=min_heights, name=\"Min Height\"),row=1, col=1)\n",
    "fig.add_trace(go.Histogram(x=max_heights, name=\"Max Height\"),row=1, col=2)\n",
    "fig.add_trace(go.Histogram(x=avg_heights, name=\"Avg. Height\"),row=2, col=1)\n",
    "fig.add_trace(go.Histogram(x=height_ranges, name=\"Height Range\"),row=2, col=2)\n",
    "\n",
    "fig.update_layout(title_text=\"Heights Column\") \n",
    "fig.show(\"svg\")"
   ]
  },
  {
   "cell_type": "code",
   "execution_count": 32,
   "metadata": {},
   "outputs": [
    {
     "data": {
      "text/html": [
       "<div>\n",
       "<style scoped>\n",
       "    .dataframe tbody tr th:only-of-type {\n",
       "        vertical-align: middle;\n",
       "    }\n",
       "\n",
       "    .dataframe tbody tr th {\n",
       "        vertical-align: top;\n",
       "    }\n",
       "\n",
       "    .dataframe thead th {\n",
       "        text-align: right;\n",
       "    }\n",
       "</style>\n",
       "<table border=\"1\" class=\"dataframe\">\n",
       "  <thead>\n",
       "    <tr style=\"text-align: right;\">\n",
       "      <th></th>\n",
       "      <th>Plant_Name</th>\n",
       "      <th>Plant_Type</th>\n",
       "      <th>Family</th>\n",
       "      <th>Zones</th>\n",
       "      <th>Native_Range</th>\n",
       "      <th>Heights</th>\n",
       "      <th>Spreads</th>\n",
       "      <th>Bloom_Times</th>\n",
       "      <th>Bloom_Description</th>\n",
       "      <th>Sunlight</th>\n",
       "      <th>Watering</th>\n",
       "      <th>Maintenance</th>\n",
       "      <th>Flowers</th>\n",
       "      <th>Leafs</th>\n",
       "      <th>Fruits</th>\n",
       "    </tr>\n",
       "  </thead>\n",
       "  <tbody>\n",
       "    <tr>\n",
       "      <th>3</th>\n",
       "      <td>Ficus elastica</td>\n",
       "      <td>Broadleaf evergreen</td>\n",
       "      <td>Moraceae</td>\n",
       "      <td>10 to 12</td>\n",
       "      <td>Southeastern Asia</td>\n",
       "      <td>50.00 to 100.00 feet</td>\n",
       "      <td>50.00 to 100.00 feet</td>\n",
       "      <td>Rarely flowers indoors</td>\n",
       "      <td>None</td>\n",
       "      <td>Part shade</td>\n",
       "      <td>Medium</td>\n",
       "      <td>Low</td>\n",
       "      <td>Insignificant</td>\n",
       "      <td>Evergreen</td>\n",
       "      <td>None</td>\n",
       "    </tr>\n",
       "  </tbody>\n",
       "</table>\n",
       "</div>"
      ],
      "text/plain": [
       "       Plant_Name           Plant_Type    Family     Zones       Native_Range  \\\n",
       "3  Ficus elastica  Broadleaf evergreen  Moraceae  10 to 12  Southeastern Asia   \n",
       "\n",
       "                Heights               Spreads             Bloom_Times  \\\n",
       "3  50.00 to 100.00 feet  50.00 to 100.00 feet  Rarely flowers indoors   \n",
       "\n",
       "  Bloom_Description    Sunlight Watering Maintenance        Flowers  \\\n",
       "3              None  Part shade   Medium         Low  Insignificant   \n",
       "\n",
       "       Leafs Fruits  \n",
       "3  Evergreen   None  "
      ]
     },
     "metadata": {},
     "output_type": "display_data"
    },
    {
     "data": {
      "text/html": [
       "<div>\n",
       "<style scoped>\n",
       "    .dataframe tbody tr th:only-of-type {\n",
       "        vertical-align: middle;\n",
       "    }\n",
       "\n",
       "    .dataframe tbody tr th {\n",
       "        vertical-align: top;\n",
       "    }\n",
       "\n",
       "    .dataframe thead th {\n",
       "        text-align: right;\n",
       "    }\n",
       "</style>\n",
       "<table border=\"1\" class=\"dataframe\">\n",
       "  <thead>\n",
       "    <tr style=\"text-align: right;\">\n",
       "      <th></th>\n",
       "      <th>Plant_Name</th>\n",
       "      <th>Plant_Type</th>\n",
       "      <th>Family</th>\n",
       "      <th>Zones</th>\n",
       "      <th>Native_Range</th>\n",
       "      <th>Heights</th>\n",
       "      <th>Spreads</th>\n",
       "      <th>Bloom_Times</th>\n",
       "      <th>Bloom_Description</th>\n",
       "      <th>Sunlight</th>\n",
       "      <th>Watering</th>\n",
       "      <th>Maintenance</th>\n",
       "      <th>Flowers</th>\n",
       "      <th>Leafs</th>\n",
       "      <th>Fruits</th>\n",
       "    </tr>\n",
       "  </thead>\n",
       "  <tbody>\n",
       "    <tr>\n",
       "      <th>19</th>\n",
       "      <td>Araucaria heterophylla</td>\n",
       "      <td>Needled evergreen</td>\n",
       "      <td>Araucariaceae</td>\n",
       "      <td>9 to 10</td>\n",
       "      <td>Norfolk Island</td>\n",
       "      <td>100.00 to 200.00 feet</td>\n",
       "      <td>20.00 to 25.00 feet</td>\n",
       "      <td>Non-flowering</td>\n",
       "      <td>None</td>\n",
       "      <td>Part shade</td>\n",
       "      <td>Medium</td>\n",
       "      <td>Low</td>\n",
       "      <td>None</td>\n",
       "      <td>Evergreen</td>\n",
       "      <td>None</td>\n",
       "    </tr>\n",
       "  </tbody>\n",
       "</table>\n",
       "</div>"
      ],
      "text/plain": [
       "                Plant_Name         Plant_Type         Family    Zones  \\\n",
       "19  Araucaria heterophylla  Needled evergreen  Araucariaceae  9 to 10   \n",
       "\n",
       "      Native_Range                Heights              Spreads    Bloom_Times  \\\n",
       "19  Norfolk Island  100.00 to 200.00 feet  20.00 to 25.00 feet  Non-flowering   \n",
       "\n",
       "   Bloom_Description    Sunlight Watering Maintenance Flowers      Leafs  \\\n",
       "19              None  Part shade   Medium         Low    None  Evergreen   \n",
       "\n",
       "   Fruits  \n",
       "19   None  "
      ]
     },
     "metadata": {},
     "output_type": "display_data"
    }
   ],
   "source": [
    "# identify the most extreme outliers in the heights data... \n",
    "missing_index = plant_df[\"Heights\"].loc[lambda x: x==\"50.00 to 100.00 feet\"].index\n",
    "display(plant_df.iloc[missing_index])\n",
    "\n",
    "missing_index = plant_df[\"Heights\"].loc[lambda x: x==\"100.00 to 200.00 feet\"].index\n",
    "display(plant_df.iloc[missing_index])"
   ]
  },
  {
   "cell_type": "code",
   "execution_count": 33,
   "metadata": {},
   "outputs": [],
   "source": [
    "# Now onto spreads\n",
    "min_spreads, max_spreads = [], []\n",
    "avg_spreads, spread_ranges = [], []\n",
    "\n",
    "for description in list(plant_df[\"Spreads\"]):\n",
    "    min_s = float(description.split(\" \")[0])\n",
    "    max_s = float(description.split(\" \")[2])\n",
    "\n",
    "    min_spreads.append(min_s)\n",
    "    max_spreads.append(max_s)\n",
    "    avg_spreads.append( (min_s + max_s) /2)\n",
    "    spread_ranges.append( max_s - min_s)"
   ]
  },
  {
   "cell_type": "code",
   "execution_count": 34,
   "metadata": {},
   "outputs": [
    {
     "data": {
      "application/vnd.plotly.v1+json": {
       "config": {
        "plotlyServerURL": "https://plotly.com"
       },
       "data": [
        {
         "name": "Min Spread",
         "type": "histogram",
         "x": [
          1,
          4,
          1.5,
          50,
          2,
          3,
          0.75,
          1,
          1,
          1,
          0.5,
          0.25,
          1.5,
          1,
          3,
          0.25,
          2,
          4,
          0.5,
          20,
          0.5,
          3,
          3,
          3,
          6,
          1,
          1.5,
          1,
          3,
          0.75,
          1,
          4,
          3,
          1,
          5,
          6,
          0.5,
          0.5,
          1,
          1,
          1,
          6,
          2,
          0.5,
          0.25,
          0.5,
          3,
          20,
          25,
          3,
          10,
          2,
          8,
          60,
          5,
          3,
          6,
          2,
          1,
          1,
          2,
          1,
          1,
          0.25,
          3,
          0.25,
          3,
          1,
          30,
          0.5,
          1,
          1,
          1,
          0.5,
          1,
          2,
          1,
          5,
          4,
          1,
          0.75,
          20,
          4,
          1,
          1,
          0.25,
          2,
          1,
          6,
          4,
          0.75,
          0.5,
          0.25,
          1.5,
          1,
          3,
          1,
          6,
          30,
          2,
          30,
          1.5,
          0.25,
          2,
          5,
          3,
          3,
          2,
          5,
          4,
          0.75,
          0.5,
          3,
          2,
          0.5,
          0.5,
          0.75,
          0.5,
          15,
          1,
          0.5,
          1,
          15,
          2,
          3,
          2,
          0.75,
          1,
          0.5,
          0.5,
          6,
          6,
          1,
          3,
          3,
          3,
          0.5,
          1,
          0.75,
          1,
          1,
          1.5,
          0.75,
          1,
          10,
          3,
          60
         ],
         "xaxis": "x",
         "yaxis": "y"
        },
        {
         "name": "Max Spread",
         "type": "histogram",
         "x": [
          2,
          5,
          3,
          100,
          2.5,
          5,
          1.5,
          2,
          2,
          1.5,
          1,
          4,
          2,
          2,
          50,
          1,
          3,
          10,
          1,
          25,
          3,
          6,
          5,
          4,
          15,
          2,
          3,
          1.5,
          8,
          1,
          1.5,
          6,
          8,
          2,
          10,
          10,
          0.75,
          1,
          1.5,
          3,
          2,
          15,
          4,
          1,
          0.5,
          1,
          10,
          40,
          30,
          4,
          15,
          3,
          15,
          100,
          6,
          5,
          10,
          6,
          2,
          2,
          5,
          2.5,
          2,
          0.5,
          4,
          0.5,
          6,
          3,
          60,
          0.75,
          2.5,
          2,
          2,
          0.75,
          2,
          3,
          2,
          8,
          15,
          2,
          1,
          30,
          6,
          2,
          1.5,
          2,
          4,
          2,
          16,
          8,
          2,
          0.75,
          0.5,
          3,
          2,
          4,
          2,
          8,
          40,
          3,
          60,
          2,
          0.5,
          4,
          10,
          8,
          6,
          3,
          7,
          5,
          2.5,
          0.75,
          6,
          3,
          0.75,
          1,
          1,
          4,
          25,
          2,
          1,
          2,
          20,
          3,
          6,
          3,
          1,
          3,
          1.5,
          1,
          10,
          10,
          1.5,
          5,
          10,
          10,
          1,
          3,
          1,
          2,
          1.5,
          3,
          1,
          1.5,
          20,
          6,
          100
         ],
         "xaxis": "x2",
         "yaxis": "y2"
        },
        {
         "name": "Avg. Spread",
         "type": "histogram",
         "x": [
          1.5,
          4.5,
          2.25,
          75,
          2.25,
          4,
          1.125,
          1.5,
          1.5,
          1.25,
          0.75,
          2.125,
          1.75,
          1.5,
          26.5,
          0.625,
          2.5,
          7,
          0.75,
          22.5,
          1.75,
          4.5,
          4,
          3.5,
          10.5,
          1.5,
          2.25,
          1.25,
          5.5,
          0.875,
          1.25,
          5,
          5.5,
          1.5,
          7.5,
          8,
          0.625,
          0.75,
          1.25,
          2,
          1.5,
          10.5,
          3,
          0.75,
          0.375,
          0.75,
          6.5,
          30,
          27.5,
          3.5,
          12.5,
          2.5,
          11.5,
          80,
          5.5,
          4,
          8,
          4,
          1.5,
          1.5,
          3.5,
          1.75,
          1.5,
          0.375,
          3.5,
          0.375,
          4.5,
          2,
          45,
          0.625,
          1.75,
          1.5,
          1.5,
          0.625,
          1.5,
          2.5,
          1.5,
          6.5,
          9.5,
          1.5,
          0.875,
          25,
          5,
          1.5,
          1.25,
          1.125,
          3,
          1.5,
          11,
          6,
          1.375,
          0.625,
          0.375,
          2.25,
          1.5,
          3.5,
          1.5,
          7,
          35,
          2.5,
          45,
          1.75,
          0.375,
          3,
          7.5,
          5.5,
          4.5,
          2.5,
          6,
          4.5,
          1.625,
          0.625,
          4.5,
          2.5,
          0.625,
          0.75,
          0.875,
          2.25,
          20,
          1.5,
          0.75,
          1.5,
          17.5,
          2.5,
          4.5,
          2.5,
          0.875,
          2,
          1,
          0.75,
          8,
          8,
          1.25,
          4,
          6.5,
          6.5,
          0.75,
          2,
          0.875,
          1.5,
          1.25,
          2.25,
          0.875,
          1.25,
          15,
          4.5,
          80
         ],
         "xaxis": "x3",
         "yaxis": "y3"
        },
        {
         "name": "Spread Range",
         "type": "histogram",
         "x": [
          1,
          1,
          1.5,
          50,
          0.5,
          2,
          0.75,
          1,
          1,
          0.5,
          0.5,
          3.75,
          0.5,
          1,
          47,
          0.75,
          1,
          6,
          0.5,
          5,
          2.5,
          3,
          2,
          1,
          9,
          1,
          1.5,
          0.5,
          5,
          0.25,
          0.5,
          2,
          5,
          1,
          5,
          4,
          0.25,
          0.5,
          0.5,
          2,
          1,
          9,
          2,
          0.5,
          0.25,
          0.5,
          7,
          20,
          5,
          1,
          5,
          1,
          7,
          40,
          1,
          2,
          4,
          4,
          1,
          1,
          3,
          1.5,
          1,
          0.25,
          1,
          0.25,
          3,
          2,
          30,
          0.25,
          1.5,
          1,
          1,
          0.25,
          1,
          1,
          1,
          3,
          11,
          1,
          0.25,
          10,
          2,
          1,
          0.5,
          1.75,
          2,
          1,
          10,
          4,
          1.25,
          0.25,
          0.25,
          1.5,
          1,
          1,
          1,
          2,
          10,
          1,
          30,
          0.5,
          0.25,
          2,
          5,
          5,
          3,
          1,
          2,
          1,
          1.75,
          0.25,
          3,
          1,
          0.25,
          0.5,
          0.25,
          3.5,
          10,
          1,
          0.5,
          1,
          5,
          1,
          3,
          1,
          0.25,
          2,
          1,
          0.5,
          4,
          4,
          0.5,
          2,
          7,
          7,
          0.5,
          2,
          0.25,
          1,
          0.5,
          1.5,
          0.25,
          0.5,
          10,
          3,
          40
         ],
         "xaxis": "x4",
         "yaxis": "y4"
        }
       ],
       "layout": {
        "template": {
         "data": {
          "bar": [
           {
            "error_x": {
             "color": "#2a3f5f"
            },
            "error_y": {
             "color": "#2a3f5f"
            },
            "marker": {
             "line": {
              "color": "#E5ECF6",
              "width": 0.5
             },
             "pattern": {
              "fillmode": "overlay",
              "size": 10,
              "solidity": 0.2
             }
            },
            "type": "bar"
           }
          ],
          "barpolar": [
           {
            "marker": {
             "line": {
              "color": "#E5ECF6",
              "width": 0.5
             },
             "pattern": {
              "fillmode": "overlay",
              "size": 10,
              "solidity": 0.2
             }
            },
            "type": "barpolar"
           }
          ],
          "carpet": [
           {
            "aaxis": {
             "endlinecolor": "#2a3f5f",
             "gridcolor": "white",
             "linecolor": "white",
             "minorgridcolor": "white",
             "startlinecolor": "#2a3f5f"
            },
            "baxis": {
             "endlinecolor": "#2a3f5f",
             "gridcolor": "white",
             "linecolor": "white",
             "minorgridcolor": "white",
             "startlinecolor": "#2a3f5f"
            },
            "type": "carpet"
           }
          ],
          "choropleth": [
           {
            "colorbar": {
             "outlinewidth": 0,
             "ticks": ""
            },
            "type": "choropleth"
           }
          ],
          "contour": [
           {
            "colorbar": {
             "outlinewidth": 0,
             "ticks": ""
            },
            "colorscale": [
             [
              0,
              "#0d0887"
             ],
             [
              0.1111111111111111,
              "#46039f"
             ],
             [
              0.2222222222222222,
              "#7201a8"
             ],
             [
              0.3333333333333333,
              "#9c179e"
             ],
             [
              0.4444444444444444,
              "#bd3786"
             ],
             [
              0.5555555555555556,
              "#d8576b"
             ],
             [
              0.6666666666666666,
              "#ed7953"
             ],
             [
              0.7777777777777778,
              "#fb9f3a"
             ],
             [
              0.8888888888888888,
              "#fdca26"
             ],
             [
              1,
              "#f0f921"
             ]
            ],
            "type": "contour"
           }
          ],
          "contourcarpet": [
           {
            "colorbar": {
             "outlinewidth": 0,
             "ticks": ""
            },
            "type": "contourcarpet"
           }
          ],
          "heatmap": [
           {
            "colorbar": {
             "outlinewidth": 0,
             "ticks": ""
            },
            "colorscale": [
             [
              0,
              "#0d0887"
             ],
             [
              0.1111111111111111,
              "#46039f"
             ],
             [
              0.2222222222222222,
              "#7201a8"
             ],
             [
              0.3333333333333333,
              "#9c179e"
             ],
             [
              0.4444444444444444,
              "#bd3786"
             ],
             [
              0.5555555555555556,
              "#d8576b"
             ],
             [
              0.6666666666666666,
              "#ed7953"
             ],
             [
              0.7777777777777778,
              "#fb9f3a"
             ],
             [
              0.8888888888888888,
              "#fdca26"
             ],
             [
              1,
              "#f0f921"
             ]
            ],
            "type": "heatmap"
           }
          ],
          "heatmapgl": [
           {
            "colorbar": {
             "outlinewidth": 0,
             "ticks": ""
            },
            "colorscale": [
             [
              0,
              "#0d0887"
             ],
             [
              0.1111111111111111,
              "#46039f"
             ],
             [
              0.2222222222222222,
              "#7201a8"
             ],
             [
              0.3333333333333333,
              "#9c179e"
             ],
             [
              0.4444444444444444,
              "#bd3786"
             ],
             [
              0.5555555555555556,
              "#d8576b"
             ],
             [
              0.6666666666666666,
              "#ed7953"
             ],
             [
              0.7777777777777778,
              "#fb9f3a"
             ],
             [
              0.8888888888888888,
              "#fdca26"
             ],
             [
              1,
              "#f0f921"
             ]
            ],
            "type": "heatmapgl"
           }
          ],
          "histogram": [
           {
            "marker": {
             "pattern": {
              "fillmode": "overlay",
              "size": 10,
              "solidity": 0.2
             }
            },
            "type": "histogram"
           }
          ],
          "histogram2d": [
           {
            "colorbar": {
             "outlinewidth": 0,
             "ticks": ""
            },
            "colorscale": [
             [
              0,
              "#0d0887"
             ],
             [
              0.1111111111111111,
              "#46039f"
             ],
             [
              0.2222222222222222,
              "#7201a8"
             ],
             [
              0.3333333333333333,
              "#9c179e"
             ],
             [
              0.4444444444444444,
              "#bd3786"
             ],
             [
              0.5555555555555556,
              "#d8576b"
             ],
             [
              0.6666666666666666,
              "#ed7953"
             ],
             [
              0.7777777777777778,
              "#fb9f3a"
             ],
             [
              0.8888888888888888,
              "#fdca26"
             ],
             [
              1,
              "#f0f921"
             ]
            ],
            "type": "histogram2d"
           }
          ],
          "histogram2dcontour": [
           {
            "colorbar": {
             "outlinewidth": 0,
             "ticks": ""
            },
            "colorscale": [
             [
              0,
              "#0d0887"
             ],
             [
              0.1111111111111111,
              "#46039f"
             ],
             [
              0.2222222222222222,
              "#7201a8"
             ],
             [
              0.3333333333333333,
              "#9c179e"
             ],
             [
              0.4444444444444444,
              "#bd3786"
             ],
             [
              0.5555555555555556,
              "#d8576b"
             ],
             [
              0.6666666666666666,
              "#ed7953"
             ],
             [
              0.7777777777777778,
              "#fb9f3a"
             ],
             [
              0.8888888888888888,
              "#fdca26"
             ],
             [
              1,
              "#f0f921"
             ]
            ],
            "type": "histogram2dcontour"
           }
          ],
          "mesh3d": [
           {
            "colorbar": {
             "outlinewidth": 0,
             "ticks": ""
            },
            "type": "mesh3d"
           }
          ],
          "parcoords": [
           {
            "line": {
             "colorbar": {
              "outlinewidth": 0,
              "ticks": ""
             }
            },
            "type": "parcoords"
           }
          ],
          "pie": [
           {
            "automargin": true,
            "type": "pie"
           }
          ],
          "scatter": [
           {
            "marker": {
             "colorbar": {
              "outlinewidth": 0,
              "ticks": ""
             }
            },
            "type": "scatter"
           }
          ],
          "scatter3d": [
           {
            "line": {
             "colorbar": {
              "outlinewidth": 0,
              "ticks": ""
             }
            },
            "marker": {
             "colorbar": {
              "outlinewidth": 0,
              "ticks": ""
             }
            },
            "type": "scatter3d"
           }
          ],
          "scattercarpet": [
           {
            "marker": {
             "colorbar": {
              "outlinewidth": 0,
              "ticks": ""
             }
            },
            "type": "scattercarpet"
           }
          ],
          "scattergeo": [
           {
            "marker": {
             "colorbar": {
              "outlinewidth": 0,
              "ticks": ""
             }
            },
            "type": "scattergeo"
           }
          ],
          "scattergl": [
           {
            "marker": {
             "colorbar": {
              "outlinewidth": 0,
              "ticks": ""
             }
            },
            "type": "scattergl"
           }
          ],
          "scattermapbox": [
           {
            "marker": {
             "colorbar": {
              "outlinewidth": 0,
              "ticks": ""
             }
            },
            "type": "scattermapbox"
           }
          ],
          "scatterpolar": [
           {
            "marker": {
             "colorbar": {
              "outlinewidth": 0,
              "ticks": ""
             }
            },
            "type": "scatterpolar"
           }
          ],
          "scatterpolargl": [
           {
            "marker": {
             "colorbar": {
              "outlinewidth": 0,
              "ticks": ""
             }
            },
            "type": "scatterpolargl"
           }
          ],
          "scatterternary": [
           {
            "marker": {
             "colorbar": {
              "outlinewidth": 0,
              "ticks": ""
             }
            },
            "type": "scatterternary"
           }
          ],
          "surface": [
           {
            "colorbar": {
             "outlinewidth": 0,
             "ticks": ""
            },
            "colorscale": [
             [
              0,
              "#0d0887"
             ],
             [
              0.1111111111111111,
              "#46039f"
             ],
             [
              0.2222222222222222,
              "#7201a8"
             ],
             [
              0.3333333333333333,
              "#9c179e"
             ],
             [
              0.4444444444444444,
              "#bd3786"
             ],
             [
              0.5555555555555556,
              "#d8576b"
             ],
             [
              0.6666666666666666,
              "#ed7953"
             ],
             [
              0.7777777777777778,
              "#fb9f3a"
             ],
             [
              0.8888888888888888,
              "#fdca26"
             ],
             [
              1,
              "#f0f921"
             ]
            ],
            "type": "surface"
           }
          ],
          "table": [
           {
            "cells": {
             "fill": {
              "color": "#EBF0F8"
             },
             "line": {
              "color": "white"
             }
            },
            "header": {
             "fill": {
              "color": "#C8D4E3"
             },
             "line": {
              "color": "white"
             }
            },
            "type": "table"
           }
          ]
         },
         "layout": {
          "annotationdefaults": {
           "arrowcolor": "#2a3f5f",
           "arrowhead": 0,
           "arrowwidth": 1
          },
          "autotypenumbers": "strict",
          "coloraxis": {
           "colorbar": {
            "outlinewidth": 0,
            "ticks": ""
           }
          },
          "colorscale": {
           "diverging": [
            [
             0,
             "#8e0152"
            ],
            [
             0.1,
             "#c51b7d"
            ],
            [
             0.2,
             "#de77ae"
            ],
            [
             0.3,
             "#f1b6da"
            ],
            [
             0.4,
             "#fde0ef"
            ],
            [
             0.5,
             "#f7f7f7"
            ],
            [
             0.6,
             "#e6f5d0"
            ],
            [
             0.7,
             "#b8e186"
            ],
            [
             0.8,
             "#7fbc41"
            ],
            [
             0.9,
             "#4d9221"
            ],
            [
             1,
             "#276419"
            ]
           ],
           "sequential": [
            [
             0,
             "#0d0887"
            ],
            [
             0.1111111111111111,
             "#46039f"
            ],
            [
             0.2222222222222222,
             "#7201a8"
            ],
            [
             0.3333333333333333,
             "#9c179e"
            ],
            [
             0.4444444444444444,
             "#bd3786"
            ],
            [
             0.5555555555555556,
             "#d8576b"
            ],
            [
             0.6666666666666666,
             "#ed7953"
            ],
            [
             0.7777777777777778,
             "#fb9f3a"
            ],
            [
             0.8888888888888888,
             "#fdca26"
            ],
            [
             1,
             "#f0f921"
            ]
           ],
           "sequentialminus": [
            [
             0,
             "#0d0887"
            ],
            [
             0.1111111111111111,
             "#46039f"
            ],
            [
             0.2222222222222222,
             "#7201a8"
            ],
            [
             0.3333333333333333,
             "#9c179e"
            ],
            [
             0.4444444444444444,
             "#bd3786"
            ],
            [
             0.5555555555555556,
             "#d8576b"
            ],
            [
             0.6666666666666666,
             "#ed7953"
            ],
            [
             0.7777777777777778,
             "#fb9f3a"
            ],
            [
             0.8888888888888888,
             "#fdca26"
            ],
            [
             1,
             "#f0f921"
            ]
           ]
          },
          "colorway": [
           "#636efa",
           "#EF553B",
           "#00cc96",
           "#ab63fa",
           "#FFA15A",
           "#19d3f3",
           "#FF6692",
           "#B6E880",
           "#FF97FF",
           "#FECB52"
          ],
          "font": {
           "color": "#2a3f5f"
          },
          "geo": {
           "bgcolor": "white",
           "lakecolor": "white",
           "landcolor": "#E5ECF6",
           "showlakes": true,
           "showland": true,
           "subunitcolor": "white"
          },
          "hoverlabel": {
           "align": "left"
          },
          "hovermode": "closest",
          "mapbox": {
           "style": "light"
          },
          "paper_bgcolor": "white",
          "plot_bgcolor": "#E5ECF6",
          "polar": {
           "angularaxis": {
            "gridcolor": "white",
            "linecolor": "white",
            "ticks": ""
           },
           "bgcolor": "#E5ECF6",
           "radialaxis": {
            "gridcolor": "white",
            "linecolor": "white",
            "ticks": ""
           }
          },
          "scene": {
           "xaxis": {
            "backgroundcolor": "#E5ECF6",
            "gridcolor": "white",
            "gridwidth": 2,
            "linecolor": "white",
            "showbackground": true,
            "ticks": "",
            "zerolinecolor": "white"
           },
           "yaxis": {
            "backgroundcolor": "#E5ECF6",
            "gridcolor": "white",
            "gridwidth": 2,
            "linecolor": "white",
            "showbackground": true,
            "ticks": "",
            "zerolinecolor": "white"
           },
           "zaxis": {
            "backgroundcolor": "#E5ECF6",
            "gridcolor": "white",
            "gridwidth": 2,
            "linecolor": "white",
            "showbackground": true,
            "ticks": "",
            "zerolinecolor": "white"
           }
          },
          "shapedefaults": {
           "line": {
            "color": "#2a3f5f"
           }
          },
          "ternary": {
           "aaxis": {
            "gridcolor": "white",
            "linecolor": "white",
            "ticks": ""
           },
           "baxis": {
            "gridcolor": "white",
            "linecolor": "white",
            "ticks": ""
           },
           "bgcolor": "#E5ECF6",
           "caxis": {
            "gridcolor": "white",
            "linecolor": "white",
            "ticks": ""
           }
          },
          "title": {
           "x": 0.05
          },
          "xaxis": {
           "automargin": true,
           "gridcolor": "white",
           "linecolor": "white",
           "ticks": "",
           "title": {
            "standoff": 15
           },
           "zerolinecolor": "white",
           "zerolinewidth": 2
          },
          "yaxis": {
           "automargin": true,
           "gridcolor": "white",
           "linecolor": "white",
           "ticks": "",
           "title": {
            "standoff": 15
           },
           "zerolinecolor": "white",
           "zerolinewidth": 2
          }
         }
        },
        "title": {
         "text": "Spreads Column"
        },
        "xaxis": {
         "anchor": "y",
         "domain": [
          0,
          0.45
         ]
        },
        "xaxis2": {
         "anchor": "y2",
         "domain": [
          0.55,
          1
         ]
        },
        "xaxis3": {
         "anchor": "y3",
         "domain": [
          0,
          0.45
         ]
        },
        "xaxis4": {
         "anchor": "y4",
         "domain": [
          0.55,
          1
         ]
        },
        "yaxis": {
         "anchor": "x",
         "domain": [
          0.575,
          1
         ]
        },
        "yaxis2": {
         "anchor": "x2",
         "domain": [
          0.575,
          1
         ]
        },
        "yaxis3": {
         "anchor": "x3",
         "domain": [
          0,
          0.425
         ]
        },
        "yaxis4": {
         "anchor": "x4",
         "domain": [
          0,
          0.425
         ]
        }
       }
      }
     },
     "metadata": {},
     "output_type": "display_data"
    }
   ],
   "source": [
    "fig = make_subplots(rows=2, cols=2)\n",
    "\n",
    "fig.add_trace(go.Histogram(x=min_spreads, name=\"Min Spread\"),row=1, col=1)\n",
    "fig.add_trace(go.Histogram(x=max_spreads, name=\"Max Spread\"),row=1, col=2)\n",
    "fig.add_trace(go.Histogram(x=avg_spreads, name=\"Avg. Spread\"),row=2, col=1)\n",
    "fig.add_trace(go.Histogram(x=spread_ranges, name=\"Spread Range\"),row=2, col=2)\n",
    "\n",
    "fig.update_layout(title_text=\"Spreads Column\") \n",
    "fig.show(\"svg\")"
   ]
  },
  {
   "cell_type": "code",
   "execution_count": 35,
   "metadata": {},
   "outputs": [
    {
     "data": {
      "application/vnd.plotly.v1+json": {
       "config": {
        "plotlyServerURL": "https://plotly.com"
       },
       "data": [
        {
         "mode": "markers",
         "name": "Mins",
         "type": "scatter",
         "x": [
          1,
          4,
          3,
          50,
          1,
          3,
          1,
          0.5,
          1,
          1,
          1,
          0.5,
          2,
          10,
          20,
          0,
          3,
          6,
          0.5,
          100,
          0.5,
          6,
          3,
          1.5,
          6,
          3,
          3,
          1,
          12,
          1,
          1,
          5,
          3,
          0.5,
          7,
          30,
          0.5,
          0.5,
          1,
          2,
          3,
          6,
          3,
          0.25,
          0.25,
          1,
          3,
          40,
          40,
          3.5,
          25,
          2,
          12,
          60,
          5,
          6,
          20,
          5,
          1,
          1,
          3,
          1,
          2,
          0.5,
          2,
          0.5,
          0.25,
          0.5,
          60,
          0.5,
          1,
          2,
          0.75,
          0.5,
          2,
          2,
          0.5,
          4,
          6,
          1,
          1,
          20,
          8,
          0.25,
          0.75,
          0.25,
          3,
          1,
          6,
          10,
          0.5,
          0.25,
          0.25,
          0.75,
          1,
          3,
          1,
          12,
          50,
          2,
          60,
          2,
          0.25,
          2,
          5,
          9,
          10,
          3,
          6,
          4,
          1,
          0.75,
          3,
          2,
          0.5,
          0.5,
          8,
          0.5,
          25,
          1,
          0.5,
          1,
          40,
          10,
          12,
          6,
          1,
          1,
          0.5,
          1,
          6,
          12,
          1,
          5,
          15,
          15,
          0.25,
          1,
          1,
          1,
          1,
          1.5,
          0.75,
          1,
          10,
          10,
          60
         ],
         "xaxis": "x",
         "y": [
          1,
          4,
          1.5,
          50,
          2,
          3,
          0.75,
          1,
          1,
          1,
          0.5,
          0.25,
          1.5,
          1,
          3,
          0.25,
          2,
          4,
          0.5,
          20,
          0.5,
          3,
          3,
          3,
          6,
          1,
          1.5,
          1,
          3,
          0.75,
          1,
          4,
          3,
          1,
          5,
          6,
          0.5,
          0.5,
          1,
          1,
          1,
          6,
          2,
          0.5,
          0.25,
          0.5,
          3,
          20,
          25,
          3,
          10,
          2,
          8,
          60,
          5,
          3,
          6,
          2,
          1,
          1,
          2,
          1,
          1,
          0.25,
          3,
          0.25,
          3,
          1,
          30,
          0.5,
          1,
          1,
          1,
          0.5,
          1,
          2,
          1,
          5,
          4,
          1,
          0.75,
          20,
          4,
          1,
          1,
          0.25,
          2,
          1,
          6,
          4,
          0.75,
          0.5,
          0.25,
          1.5,
          1,
          3,
          1,
          6,
          30,
          2,
          30,
          1.5,
          0.25,
          2,
          5,
          3,
          3,
          2,
          5,
          4,
          0.75,
          0.5,
          3,
          2,
          0.5,
          0.5,
          0.75,
          0.5,
          15,
          1,
          0.5,
          1,
          15,
          2,
          3,
          2,
          0.75,
          1,
          0.5,
          0.5,
          6,
          6,
          1,
          3,
          3,
          3,
          0.5,
          1,
          0.75,
          1,
          1,
          1.5,
          0.75,
          1,
          10,
          3,
          60
         ],
         "yaxis": "y"
        },
        {
         "mode": "markers",
         "name": "Maxs",
         "type": "scatter",
         "x": [
          3,
          5,
          6,
          100,
          1.5,
          5,
          2.5,
          1,
          4,
          1.5,
          2,
          10,
          3,
          20,
          80,
          0.25,
          5,
          15,
          1,
          200,
          3,
          10,
          9,
          2,
          15,
          6,
          10,
          1.5,
          18,
          1.5,
          1.5,
          6,
          12,
          0.75,
          12,
          70,
          0.75,
          1,
          1.5,
          4,
          6,
          15,
          10,
          0.5,
          0.5,
          2,
          10,
          60,
          50,
          4,
          50,
          6,
          30,
          100,
          6,
          8,
          30,
          10,
          2,
          2,
          6,
          2.5,
          3,
          0.75,
          3,
          1,
          0.5,
          1,
          100,
          0.75,
          2.5,
          4,
          1,
          0.75,
          4,
          6,
          1.5,
          10,
          20,
          2,
          1.5,
          30,
          10,
          0.5,
          1,
          1.5,
          8,
          2,
          16,
          25,
          0.75,
          0.5,
          0.5,
          4,
          2,
          4,
          3,
          15,
          80,
          3,
          100,
          3,
          0.5,
          4,
          15,
          15,
          20,
          6,
          8,
          6,
          2,
          1,
          6,
          3,
          0.75,
          1,
          10,
          4,
          30,
          2,
          1,
          2,
          50,
          20,
          20,
          8,
          1.5,
          2,
          1.5,
          1.5,
          10,
          20,
          1.5,
          10,
          50,
          20,
          0.5,
          3,
          2,
          3,
          1.5,
          3,
          1,
          1.5,
          20,
          15,
          100
         ],
         "xaxis": "x2",
         "y": [
          2,
          5,
          3,
          100,
          2.5,
          5,
          1.5,
          2,
          2,
          1.5,
          1,
          4,
          2,
          2,
          50,
          1,
          3,
          10,
          1,
          25,
          3,
          6,
          5,
          4,
          15,
          2,
          3,
          1.5,
          8,
          1,
          1.5,
          6,
          8,
          2,
          10,
          10,
          0.75,
          1,
          1.5,
          3,
          2,
          15,
          4,
          1,
          0.5,
          1,
          10,
          40,
          30,
          4,
          15,
          3,
          15,
          100,
          6,
          5,
          10,
          6,
          2,
          2,
          5,
          2.5,
          2,
          0.5,
          4,
          0.5,
          6,
          3,
          60,
          0.75,
          2.5,
          2,
          2,
          0.75,
          2,
          3,
          2,
          8,
          15,
          2,
          1,
          30,
          6,
          2,
          1.5,
          2,
          4,
          2,
          16,
          8,
          2,
          0.75,
          0.5,
          3,
          2,
          4,
          2,
          8,
          40,
          3,
          60,
          2,
          0.5,
          4,
          10,
          8,
          6,
          3,
          7,
          5,
          2.5,
          0.75,
          6,
          3,
          0.75,
          1,
          1,
          4,
          25,
          2,
          1,
          2,
          20,
          3,
          6,
          3,
          1,
          3,
          1.5,
          1,
          10,
          10,
          1.5,
          5,
          10,
          10,
          1,
          3,
          1,
          2,
          1.5,
          3,
          1,
          1.5,
          20,
          6,
          100
         ],
         "yaxis": "y2"
        }
       ],
       "layout": {
        "annotations": [
         {
          "font": {
           "size": 16
          },
          "showarrow": false,
          "text": "rsquared: 0.62. Spearman's Rank: 0.89",
          "x": 0.225,
          "xanchor": "center",
          "xref": "paper",
          "y": 1,
          "yanchor": "bottom",
          "yref": "paper"
         },
         {
          "font": {
           "size": 16
          },
          "showarrow": false,
          "text": "rsquared: 0.62. Spearman's Rank: 0.89",
          "x": 0.775,
          "xanchor": "center",
          "xref": "paper",
          "y": 1,
          "yanchor": "bottom",
          "yref": "paper"
         }
        ],
        "template": {
         "data": {
          "bar": [
           {
            "error_x": {
             "color": "#2a3f5f"
            },
            "error_y": {
             "color": "#2a3f5f"
            },
            "marker": {
             "line": {
              "color": "#E5ECF6",
              "width": 0.5
             },
             "pattern": {
              "fillmode": "overlay",
              "size": 10,
              "solidity": 0.2
             }
            },
            "type": "bar"
           }
          ],
          "barpolar": [
           {
            "marker": {
             "line": {
              "color": "#E5ECF6",
              "width": 0.5
             },
             "pattern": {
              "fillmode": "overlay",
              "size": 10,
              "solidity": 0.2
             }
            },
            "type": "barpolar"
           }
          ],
          "carpet": [
           {
            "aaxis": {
             "endlinecolor": "#2a3f5f",
             "gridcolor": "white",
             "linecolor": "white",
             "minorgridcolor": "white",
             "startlinecolor": "#2a3f5f"
            },
            "baxis": {
             "endlinecolor": "#2a3f5f",
             "gridcolor": "white",
             "linecolor": "white",
             "minorgridcolor": "white",
             "startlinecolor": "#2a3f5f"
            },
            "type": "carpet"
           }
          ],
          "choropleth": [
           {
            "colorbar": {
             "outlinewidth": 0,
             "ticks": ""
            },
            "type": "choropleth"
           }
          ],
          "contour": [
           {
            "colorbar": {
             "outlinewidth": 0,
             "ticks": ""
            },
            "colorscale": [
             [
              0,
              "#0d0887"
             ],
             [
              0.1111111111111111,
              "#46039f"
             ],
             [
              0.2222222222222222,
              "#7201a8"
             ],
             [
              0.3333333333333333,
              "#9c179e"
             ],
             [
              0.4444444444444444,
              "#bd3786"
             ],
             [
              0.5555555555555556,
              "#d8576b"
             ],
             [
              0.6666666666666666,
              "#ed7953"
             ],
             [
              0.7777777777777778,
              "#fb9f3a"
             ],
             [
              0.8888888888888888,
              "#fdca26"
             ],
             [
              1,
              "#f0f921"
             ]
            ],
            "type": "contour"
           }
          ],
          "contourcarpet": [
           {
            "colorbar": {
             "outlinewidth": 0,
             "ticks": ""
            },
            "type": "contourcarpet"
           }
          ],
          "heatmap": [
           {
            "colorbar": {
             "outlinewidth": 0,
             "ticks": ""
            },
            "colorscale": [
             [
              0,
              "#0d0887"
             ],
             [
              0.1111111111111111,
              "#46039f"
             ],
             [
              0.2222222222222222,
              "#7201a8"
             ],
             [
              0.3333333333333333,
              "#9c179e"
             ],
             [
              0.4444444444444444,
              "#bd3786"
             ],
             [
              0.5555555555555556,
              "#d8576b"
             ],
             [
              0.6666666666666666,
              "#ed7953"
             ],
             [
              0.7777777777777778,
              "#fb9f3a"
             ],
             [
              0.8888888888888888,
              "#fdca26"
             ],
             [
              1,
              "#f0f921"
             ]
            ],
            "type": "heatmap"
           }
          ],
          "heatmapgl": [
           {
            "colorbar": {
             "outlinewidth": 0,
             "ticks": ""
            },
            "colorscale": [
             [
              0,
              "#0d0887"
             ],
             [
              0.1111111111111111,
              "#46039f"
             ],
             [
              0.2222222222222222,
              "#7201a8"
             ],
             [
              0.3333333333333333,
              "#9c179e"
             ],
             [
              0.4444444444444444,
              "#bd3786"
             ],
             [
              0.5555555555555556,
              "#d8576b"
             ],
             [
              0.6666666666666666,
              "#ed7953"
             ],
             [
              0.7777777777777778,
              "#fb9f3a"
             ],
             [
              0.8888888888888888,
              "#fdca26"
             ],
             [
              1,
              "#f0f921"
             ]
            ],
            "type": "heatmapgl"
           }
          ],
          "histogram": [
           {
            "marker": {
             "pattern": {
              "fillmode": "overlay",
              "size": 10,
              "solidity": 0.2
             }
            },
            "type": "histogram"
           }
          ],
          "histogram2d": [
           {
            "colorbar": {
             "outlinewidth": 0,
             "ticks": ""
            },
            "colorscale": [
             [
              0,
              "#0d0887"
             ],
             [
              0.1111111111111111,
              "#46039f"
             ],
             [
              0.2222222222222222,
              "#7201a8"
             ],
             [
              0.3333333333333333,
              "#9c179e"
             ],
             [
              0.4444444444444444,
              "#bd3786"
             ],
             [
              0.5555555555555556,
              "#d8576b"
             ],
             [
              0.6666666666666666,
              "#ed7953"
             ],
             [
              0.7777777777777778,
              "#fb9f3a"
             ],
             [
              0.8888888888888888,
              "#fdca26"
             ],
             [
              1,
              "#f0f921"
             ]
            ],
            "type": "histogram2d"
           }
          ],
          "histogram2dcontour": [
           {
            "colorbar": {
             "outlinewidth": 0,
             "ticks": ""
            },
            "colorscale": [
             [
              0,
              "#0d0887"
             ],
             [
              0.1111111111111111,
              "#46039f"
             ],
             [
              0.2222222222222222,
              "#7201a8"
             ],
             [
              0.3333333333333333,
              "#9c179e"
             ],
             [
              0.4444444444444444,
              "#bd3786"
             ],
             [
              0.5555555555555556,
              "#d8576b"
             ],
             [
              0.6666666666666666,
              "#ed7953"
             ],
             [
              0.7777777777777778,
              "#fb9f3a"
             ],
             [
              0.8888888888888888,
              "#fdca26"
             ],
             [
              1,
              "#f0f921"
             ]
            ],
            "type": "histogram2dcontour"
           }
          ],
          "mesh3d": [
           {
            "colorbar": {
             "outlinewidth": 0,
             "ticks": ""
            },
            "type": "mesh3d"
           }
          ],
          "parcoords": [
           {
            "line": {
             "colorbar": {
              "outlinewidth": 0,
              "ticks": ""
             }
            },
            "type": "parcoords"
           }
          ],
          "pie": [
           {
            "automargin": true,
            "type": "pie"
           }
          ],
          "scatter": [
           {
            "marker": {
             "colorbar": {
              "outlinewidth": 0,
              "ticks": ""
             }
            },
            "type": "scatter"
           }
          ],
          "scatter3d": [
           {
            "line": {
             "colorbar": {
              "outlinewidth": 0,
              "ticks": ""
             }
            },
            "marker": {
             "colorbar": {
              "outlinewidth": 0,
              "ticks": ""
             }
            },
            "type": "scatter3d"
           }
          ],
          "scattercarpet": [
           {
            "marker": {
             "colorbar": {
              "outlinewidth": 0,
              "ticks": ""
             }
            },
            "type": "scattercarpet"
           }
          ],
          "scattergeo": [
           {
            "marker": {
             "colorbar": {
              "outlinewidth": 0,
              "ticks": ""
             }
            },
            "type": "scattergeo"
           }
          ],
          "scattergl": [
           {
            "marker": {
             "colorbar": {
              "outlinewidth": 0,
              "ticks": ""
             }
            },
            "type": "scattergl"
           }
          ],
          "scattermapbox": [
           {
            "marker": {
             "colorbar": {
              "outlinewidth": 0,
              "ticks": ""
             }
            },
            "type": "scattermapbox"
           }
          ],
          "scatterpolar": [
           {
            "marker": {
             "colorbar": {
              "outlinewidth": 0,
              "ticks": ""
             }
            },
            "type": "scatterpolar"
           }
          ],
          "scatterpolargl": [
           {
            "marker": {
             "colorbar": {
              "outlinewidth": 0,
              "ticks": ""
             }
            },
            "type": "scatterpolargl"
           }
          ],
          "scatterternary": [
           {
            "marker": {
             "colorbar": {
              "outlinewidth": 0,
              "ticks": ""
             }
            },
            "type": "scatterternary"
           }
          ],
          "surface": [
           {
            "colorbar": {
             "outlinewidth": 0,
             "ticks": ""
            },
            "colorscale": [
             [
              0,
              "#0d0887"
             ],
             [
              0.1111111111111111,
              "#46039f"
             ],
             [
              0.2222222222222222,
              "#7201a8"
             ],
             [
              0.3333333333333333,
              "#9c179e"
             ],
             [
              0.4444444444444444,
              "#bd3786"
             ],
             [
              0.5555555555555556,
              "#d8576b"
             ],
             [
              0.6666666666666666,
              "#ed7953"
             ],
             [
              0.7777777777777778,
              "#fb9f3a"
             ],
             [
              0.8888888888888888,
              "#fdca26"
             ],
             [
              1,
              "#f0f921"
             ]
            ],
            "type": "surface"
           }
          ],
          "table": [
           {
            "cells": {
             "fill": {
              "color": "#EBF0F8"
             },
             "line": {
              "color": "white"
             }
            },
            "header": {
             "fill": {
              "color": "#C8D4E3"
             },
             "line": {
              "color": "white"
             }
            },
            "type": "table"
           }
          ]
         },
         "layout": {
          "annotationdefaults": {
           "arrowcolor": "#2a3f5f",
           "arrowhead": 0,
           "arrowwidth": 1
          },
          "autotypenumbers": "strict",
          "coloraxis": {
           "colorbar": {
            "outlinewidth": 0,
            "ticks": ""
           }
          },
          "colorscale": {
           "diverging": [
            [
             0,
             "#8e0152"
            ],
            [
             0.1,
             "#c51b7d"
            ],
            [
             0.2,
             "#de77ae"
            ],
            [
             0.3,
             "#f1b6da"
            ],
            [
             0.4,
             "#fde0ef"
            ],
            [
             0.5,
             "#f7f7f7"
            ],
            [
             0.6,
             "#e6f5d0"
            ],
            [
             0.7,
             "#b8e186"
            ],
            [
             0.8,
             "#7fbc41"
            ],
            [
             0.9,
             "#4d9221"
            ],
            [
             1,
             "#276419"
            ]
           ],
           "sequential": [
            [
             0,
             "#0d0887"
            ],
            [
             0.1111111111111111,
             "#46039f"
            ],
            [
             0.2222222222222222,
             "#7201a8"
            ],
            [
             0.3333333333333333,
             "#9c179e"
            ],
            [
             0.4444444444444444,
             "#bd3786"
            ],
            [
             0.5555555555555556,
             "#d8576b"
            ],
            [
             0.6666666666666666,
             "#ed7953"
            ],
            [
             0.7777777777777778,
             "#fb9f3a"
            ],
            [
             0.8888888888888888,
             "#fdca26"
            ],
            [
             1,
             "#f0f921"
            ]
           ],
           "sequentialminus": [
            [
             0,
             "#0d0887"
            ],
            [
             0.1111111111111111,
             "#46039f"
            ],
            [
             0.2222222222222222,
             "#7201a8"
            ],
            [
             0.3333333333333333,
             "#9c179e"
            ],
            [
             0.4444444444444444,
             "#bd3786"
            ],
            [
             0.5555555555555556,
             "#d8576b"
            ],
            [
             0.6666666666666666,
             "#ed7953"
            ],
            [
             0.7777777777777778,
             "#fb9f3a"
            ],
            [
             0.8888888888888888,
             "#fdca26"
            ],
            [
             1,
             "#f0f921"
            ]
           ]
          },
          "colorway": [
           "#636efa",
           "#EF553B",
           "#00cc96",
           "#ab63fa",
           "#FFA15A",
           "#19d3f3",
           "#FF6692",
           "#B6E880",
           "#FF97FF",
           "#FECB52"
          ],
          "font": {
           "color": "#2a3f5f"
          },
          "geo": {
           "bgcolor": "white",
           "lakecolor": "white",
           "landcolor": "#E5ECF6",
           "showlakes": true,
           "showland": true,
           "subunitcolor": "white"
          },
          "hoverlabel": {
           "align": "left"
          },
          "hovermode": "closest",
          "mapbox": {
           "style": "light"
          },
          "paper_bgcolor": "white",
          "plot_bgcolor": "#E5ECF6",
          "polar": {
           "angularaxis": {
            "gridcolor": "white",
            "linecolor": "white",
            "ticks": ""
           },
           "bgcolor": "#E5ECF6",
           "radialaxis": {
            "gridcolor": "white",
            "linecolor": "white",
            "ticks": ""
           }
          },
          "scene": {
           "xaxis": {
            "backgroundcolor": "#E5ECF6",
            "gridcolor": "white",
            "gridwidth": 2,
            "linecolor": "white",
            "showbackground": true,
            "ticks": "",
            "zerolinecolor": "white"
           },
           "yaxis": {
            "backgroundcolor": "#E5ECF6",
            "gridcolor": "white",
            "gridwidth": 2,
            "linecolor": "white",
            "showbackground": true,
            "ticks": "",
            "zerolinecolor": "white"
           },
           "zaxis": {
            "backgroundcolor": "#E5ECF6",
            "gridcolor": "white",
            "gridwidth": 2,
            "linecolor": "white",
            "showbackground": true,
            "ticks": "",
            "zerolinecolor": "white"
           }
          },
          "shapedefaults": {
           "line": {
            "color": "#2a3f5f"
           }
          },
          "ternary": {
           "aaxis": {
            "gridcolor": "white",
            "linecolor": "white",
            "ticks": ""
           },
           "baxis": {
            "gridcolor": "white",
            "linecolor": "white",
            "ticks": ""
           },
           "bgcolor": "#E5ECF6",
           "caxis": {
            "gridcolor": "white",
            "linecolor": "white",
            "ticks": ""
           }
          },
          "title": {
           "x": 0.05
          },
          "xaxis": {
           "automargin": true,
           "gridcolor": "white",
           "linecolor": "white",
           "ticks": "",
           "title": {
            "standoff": 15
           },
           "zerolinecolor": "white",
           "zerolinewidth": 2
          },
          "yaxis": {
           "automargin": true,
           "gridcolor": "white",
           "linecolor": "white",
           "ticks": "",
           "title": {
            "standoff": 15
           },
           "zerolinecolor": "white",
           "zerolinewidth": 2
          }
         }
        },
        "title": {
         "text": "Heigths vs Spreads, All Data"
        },
        "xaxis": {
         "anchor": "y",
         "domain": [
          0,
          0.45
         ]
        },
        "xaxis2": {
         "anchor": "y2",
         "domain": [
          0.55,
          1
         ]
        },
        "yaxis": {
         "anchor": "x",
         "domain": [
          0,
          1
         ]
        },
        "yaxis2": {
         "anchor": "x2",
         "domain": [
          0,
          1
         ]
        }
       }
      }
     },
     "metadata": {},
     "output_type": "display_data"
    }
   ],
   "source": [
    "# relationship between height and spread.\n",
    "min_spearman =  round(stats.spearmanr(min_heights, min_spreads).correlation, 2)\n",
    "min_rsquared = round(stats.linregress(max_heights, max_spreads).rvalue**2, 2)\n",
    "\n",
    "max_spearman =  round(stats.spearmanr(max_heights, max_spreads).correlation, 2)\n",
    "max_rsquared = round(stats.linregress(max_heights, max_spreads).rvalue**2, 2)\n",
    "\n",
    "min_title = f\"rsquared: {min_rsquared}. Spearman's Rank: {min_spearman}\"\n",
    "max_title = f\"rsquared: {max_rsquared}. Spearman's Rank: {max_spearman}\"\n",
    "\n",
    "fig = make_subplots(rows=1, cols=2,\n",
    "    subplot_titles=(min_title, max_title)\n",
    ")\n",
    "\n",
    "fig.add_trace(go.Scatter(x=min_heights, y=min_spreads, name=\"Mins\", mode='markers'),row=1, col=1)\n",
    "fig.add_trace(go.Scatter(x=max_heights, y=max_spreads, name=\"Maxs\", mode='markers'),row=1, col=2)\n",
    "\n",
    "fig.update_layout(title_text=\"Heigths vs Spreads, All Data\") \n",
    "fig.show(\"svg\")"
   ]
  },
  {
   "cell_type": "code",
   "execution_count": 36,
   "metadata": {},
   "outputs": [
    {
     "data": {
      "application/vnd.plotly.v1+json": {
       "config": {
        "plotlyServerURL": "https://plotly.com"
       },
       "data": [
        {
         "mode": "markers",
         "type": "scatter",
         "x": [
          3,
          5,
          6,
          20,
          1.5,
          5,
          2.5,
          1,
          4,
          1.5,
          2,
          10,
          3,
          20,
          20,
          0.25,
          5,
          15,
          1,
          20,
          3,
          10,
          9,
          2,
          15,
          6,
          10,
          1.5,
          18,
          1.5,
          1.5,
          6,
          12,
          0.75,
          12,
          20,
          0.75,
          1,
          1.5,
          4,
          6,
          15,
          10,
          0.5,
          0.5,
          2,
          10,
          20,
          20,
          4,
          20,
          6,
          20,
          20,
          6,
          8,
          20,
          10,
          2,
          2,
          6,
          2.5,
          3,
          0.75,
          3,
          1,
          0.5,
          1,
          20,
          0.75,
          2.5,
          4,
          1,
          0.75,
          4,
          6,
          1.5,
          10,
          20,
          2,
          1.5,
          20,
          10,
          0.5,
          1,
          1.5,
          8,
          2,
          16,
          20,
          0.75,
          0.5,
          0.5,
          4,
          2,
          4,
          3,
          15,
          20,
          3,
          20,
          3,
          0.5,
          4,
          15,
          15,
          20,
          6,
          8,
          6,
          2,
          1,
          6,
          3,
          0.75,
          1,
          10,
          4,
          20,
          2,
          1,
          2,
          20,
          20,
          20,
          8,
          1.5,
          2,
          1.5,
          1.5,
          10,
          20,
          1.5,
          10,
          20,
          20,
          0.5,
          3,
          2,
          3,
          1.5,
          3,
          1,
          1.5,
          20,
          15,
          20
         ],
         "y": [
          2,
          5,
          3,
          20,
          2.5,
          5,
          1.5,
          2,
          2,
          1.5,
          1,
          4,
          2,
          2,
          20,
          1,
          3,
          10,
          1,
          20,
          3,
          6,
          5,
          4,
          15,
          2,
          3,
          1.5,
          8,
          1,
          1.5,
          6,
          8,
          2,
          10,
          10,
          0.75,
          1,
          1.5,
          3,
          2,
          15,
          4,
          1,
          0.5,
          1,
          10,
          20,
          20,
          4,
          15,
          3,
          15,
          20,
          6,
          5,
          10,
          6,
          2,
          2,
          5,
          2.5,
          2,
          0.5,
          4,
          0.5,
          6,
          3,
          20,
          0.75,
          2.5,
          2,
          2,
          0.75,
          2,
          3,
          2,
          8,
          15,
          2,
          1,
          20,
          6,
          2,
          1.5,
          2,
          4,
          2,
          16,
          8,
          2,
          0.75,
          0.5,
          3,
          2,
          4,
          2,
          8,
          20,
          3,
          20,
          2,
          0.5,
          4,
          10,
          8,
          6,
          3,
          7,
          5,
          2.5,
          0.75,
          6,
          3,
          0.75,
          1,
          1,
          4,
          20,
          2,
          1,
          2,
          20,
          3,
          6,
          3,
          1,
          3,
          1.5,
          1,
          10,
          10,
          1.5,
          5,
          10,
          10,
          1,
          3,
          1,
          2,
          1.5,
          3,
          1,
          1.5,
          20,
          6,
          20
         ]
        }
       ],
       "layout": {
        "template": {
         "data": {
          "bar": [
           {
            "error_x": {
             "color": "#2a3f5f"
            },
            "error_y": {
             "color": "#2a3f5f"
            },
            "marker": {
             "line": {
              "color": "#E5ECF6",
              "width": 0.5
             },
             "pattern": {
              "fillmode": "overlay",
              "size": 10,
              "solidity": 0.2
             }
            },
            "type": "bar"
           }
          ],
          "barpolar": [
           {
            "marker": {
             "line": {
              "color": "#E5ECF6",
              "width": 0.5
             },
             "pattern": {
              "fillmode": "overlay",
              "size": 10,
              "solidity": 0.2
             }
            },
            "type": "barpolar"
           }
          ],
          "carpet": [
           {
            "aaxis": {
             "endlinecolor": "#2a3f5f",
             "gridcolor": "white",
             "linecolor": "white",
             "minorgridcolor": "white",
             "startlinecolor": "#2a3f5f"
            },
            "baxis": {
             "endlinecolor": "#2a3f5f",
             "gridcolor": "white",
             "linecolor": "white",
             "minorgridcolor": "white",
             "startlinecolor": "#2a3f5f"
            },
            "type": "carpet"
           }
          ],
          "choropleth": [
           {
            "colorbar": {
             "outlinewidth": 0,
             "ticks": ""
            },
            "type": "choropleth"
           }
          ],
          "contour": [
           {
            "colorbar": {
             "outlinewidth": 0,
             "ticks": ""
            },
            "colorscale": [
             [
              0,
              "#0d0887"
             ],
             [
              0.1111111111111111,
              "#46039f"
             ],
             [
              0.2222222222222222,
              "#7201a8"
             ],
             [
              0.3333333333333333,
              "#9c179e"
             ],
             [
              0.4444444444444444,
              "#bd3786"
             ],
             [
              0.5555555555555556,
              "#d8576b"
             ],
             [
              0.6666666666666666,
              "#ed7953"
             ],
             [
              0.7777777777777778,
              "#fb9f3a"
             ],
             [
              0.8888888888888888,
              "#fdca26"
             ],
             [
              1,
              "#f0f921"
             ]
            ],
            "type": "contour"
           }
          ],
          "contourcarpet": [
           {
            "colorbar": {
             "outlinewidth": 0,
             "ticks": ""
            },
            "type": "contourcarpet"
           }
          ],
          "heatmap": [
           {
            "colorbar": {
             "outlinewidth": 0,
             "ticks": ""
            },
            "colorscale": [
             [
              0,
              "#0d0887"
             ],
             [
              0.1111111111111111,
              "#46039f"
             ],
             [
              0.2222222222222222,
              "#7201a8"
             ],
             [
              0.3333333333333333,
              "#9c179e"
             ],
             [
              0.4444444444444444,
              "#bd3786"
             ],
             [
              0.5555555555555556,
              "#d8576b"
             ],
             [
              0.6666666666666666,
              "#ed7953"
             ],
             [
              0.7777777777777778,
              "#fb9f3a"
             ],
             [
              0.8888888888888888,
              "#fdca26"
             ],
             [
              1,
              "#f0f921"
             ]
            ],
            "type": "heatmap"
           }
          ],
          "heatmapgl": [
           {
            "colorbar": {
             "outlinewidth": 0,
             "ticks": ""
            },
            "colorscale": [
             [
              0,
              "#0d0887"
             ],
             [
              0.1111111111111111,
              "#46039f"
             ],
             [
              0.2222222222222222,
              "#7201a8"
             ],
             [
              0.3333333333333333,
              "#9c179e"
             ],
             [
              0.4444444444444444,
              "#bd3786"
             ],
             [
              0.5555555555555556,
              "#d8576b"
             ],
             [
              0.6666666666666666,
              "#ed7953"
             ],
             [
              0.7777777777777778,
              "#fb9f3a"
             ],
             [
              0.8888888888888888,
              "#fdca26"
             ],
             [
              1,
              "#f0f921"
             ]
            ],
            "type": "heatmapgl"
           }
          ],
          "histogram": [
           {
            "marker": {
             "pattern": {
              "fillmode": "overlay",
              "size": 10,
              "solidity": 0.2
             }
            },
            "type": "histogram"
           }
          ],
          "histogram2d": [
           {
            "colorbar": {
             "outlinewidth": 0,
             "ticks": ""
            },
            "colorscale": [
             [
              0,
              "#0d0887"
             ],
             [
              0.1111111111111111,
              "#46039f"
             ],
             [
              0.2222222222222222,
              "#7201a8"
             ],
             [
              0.3333333333333333,
              "#9c179e"
             ],
             [
              0.4444444444444444,
              "#bd3786"
             ],
             [
              0.5555555555555556,
              "#d8576b"
             ],
             [
              0.6666666666666666,
              "#ed7953"
             ],
             [
              0.7777777777777778,
              "#fb9f3a"
             ],
             [
              0.8888888888888888,
              "#fdca26"
             ],
             [
              1,
              "#f0f921"
             ]
            ],
            "type": "histogram2d"
           }
          ],
          "histogram2dcontour": [
           {
            "colorbar": {
             "outlinewidth": 0,
             "ticks": ""
            },
            "colorscale": [
             [
              0,
              "#0d0887"
             ],
             [
              0.1111111111111111,
              "#46039f"
             ],
             [
              0.2222222222222222,
              "#7201a8"
             ],
             [
              0.3333333333333333,
              "#9c179e"
             ],
             [
              0.4444444444444444,
              "#bd3786"
             ],
             [
              0.5555555555555556,
              "#d8576b"
             ],
             [
              0.6666666666666666,
              "#ed7953"
             ],
             [
              0.7777777777777778,
              "#fb9f3a"
             ],
             [
              0.8888888888888888,
              "#fdca26"
             ],
             [
              1,
              "#f0f921"
             ]
            ],
            "type": "histogram2dcontour"
           }
          ],
          "mesh3d": [
           {
            "colorbar": {
             "outlinewidth": 0,
             "ticks": ""
            },
            "type": "mesh3d"
           }
          ],
          "parcoords": [
           {
            "line": {
             "colorbar": {
              "outlinewidth": 0,
              "ticks": ""
             }
            },
            "type": "parcoords"
           }
          ],
          "pie": [
           {
            "automargin": true,
            "type": "pie"
           }
          ],
          "scatter": [
           {
            "marker": {
             "colorbar": {
              "outlinewidth": 0,
              "ticks": ""
             }
            },
            "type": "scatter"
           }
          ],
          "scatter3d": [
           {
            "line": {
             "colorbar": {
              "outlinewidth": 0,
              "ticks": ""
             }
            },
            "marker": {
             "colorbar": {
              "outlinewidth": 0,
              "ticks": ""
             }
            },
            "type": "scatter3d"
           }
          ],
          "scattercarpet": [
           {
            "marker": {
             "colorbar": {
              "outlinewidth": 0,
              "ticks": ""
             }
            },
            "type": "scattercarpet"
           }
          ],
          "scattergeo": [
           {
            "marker": {
             "colorbar": {
              "outlinewidth": 0,
              "ticks": ""
             }
            },
            "type": "scattergeo"
           }
          ],
          "scattergl": [
           {
            "marker": {
             "colorbar": {
              "outlinewidth": 0,
              "ticks": ""
             }
            },
            "type": "scattergl"
           }
          ],
          "scattermapbox": [
           {
            "marker": {
             "colorbar": {
              "outlinewidth": 0,
              "ticks": ""
             }
            },
            "type": "scattermapbox"
           }
          ],
          "scatterpolar": [
           {
            "marker": {
             "colorbar": {
              "outlinewidth": 0,
              "ticks": ""
             }
            },
            "type": "scatterpolar"
           }
          ],
          "scatterpolargl": [
           {
            "marker": {
             "colorbar": {
              "outlinewidth": 0,
              "ticks": ""
             }
            },
            "type": "scatterpolargl"
           }
          ],
          "scatterternary": [
           {
            "marker": {
             "colorbar": {
              "outlinewidth": 0,
              "ticks": ""
             }
            },
            "type": "scatterternary"
           }
          ],
          "surface": [
           {
            "colorbar": {
             "outlinewidth": 0,
             "ticks": ""
            },
            "colorscale": [
             [
              0,
              "#0d0887"
             ],
             [
              0.1111111111111111,
              "#46039f"
             ],
             [
              0.2222222222222222,
              "#7201a8"
             ],
             [
              0.3333333333333333,
              "#9c179e"
             ],
             [
              0.4444444444444444,
              "#bd3786"
             ],
             [
              0.5555555555555556,
              "#d8576b"
             ],
             [
              0.6666666666666666,
              "#ed7953"
             ],
             [
              0.7777777777777778,
              "#fb9f3a"
             ],
             [
              0.8888888888888888,
              "#fdca26"
             ],
             [
              1,
              "#f0f921"
             ]
            ],
            "type": "surface"
           }
          ],
          "table": [
           {
            "cells": {
             "fill": {
              "color": "#EBF0F8"
             },
             "line": {
              "color": "white"
             }
            },
            "header": {
             "fill": {
              "color": "#C8D4E3"
             },
             "line": {
              "color": "white"
             }
            },
            "type": "table"
           }
          ]
         },
         "layout": {
          "annotationdefaults": {
           "arrowcolor": "#2a3f5f",
           "arrowhead": 0,
           "arrowwidth": 1
          },
          "autotypenumbers": "strict",
          "coloraxis": {
           "colorbar": {
            "outlinewidth": 0,
            "ticks": ""
           }
          },
          "colorscale": {
           "diverging": [
            [
             0,
             "#8e0152"
            ],
            [
             0.1,
             "#c51b7d"
            ],
            [
             0.2,
             "#de77ae"
            ],
            [
             0.3,
             "#f1b6da"
            ],
            [
             0.4,
             "#fde0ef"
            ],
            [
             0.5,
             "#f7f7f7"
            ],
            [
             0.6,
             "#e6f5d0"
            ],
            [
             0.7,
             "#b8e186"
            ],
            [
             0.8,
             "#7fbc41"
            ],
            [
             0.9,
             "#4d9221"
            ],
            [
             1,
             "#276419"
            ]
           ],
           "sequential": [
            [
             0,
             "#0d0887"
            ],
            [
             0.1111111111111111,
             "#46039f"
            ],
            [
             0.2222222222222222,
             "#7201a8"
            ],
            [
             0.3333333333333333,
             "#9c179e"
            ],
            [
             0.4444444444444444,
             "#bd3786"
            ],
            [
             0.5555555555555556,
             "#d8576b"
            ],
            [
             0.6666666666666666,
             "#ed7953"
            ],
            [
             0.7777777777777778,
             "#fb9f3a"
            ],
            [
             0.8888888888888888,
             "#fdca26"
            ],
            [
             1,
             "#f0f921"
            ]
           ],
           "sequentialminus": [
            [
             0,
             "#0d0887"
            ],
            [
             0.1111111111111111,
             "#46039f"
            ],
            [
             0.2222222222222222,
             "#7201a8"
            ],
            [
             0.3333333333333333,
             "#9c179e"
            ],
            [
             0.4444444444444444,
             "#bd3786"
            ],
            [
             0.5555555555555556,
             "#d8576b"
            ],
            [
             0.6666666666666666,
             "#ed7953"
            ],
            [
             0.7777777777777778,
             "#fb9f3a"
            ],
            [
             0.8888888888888888,
             "#fdca26"
            ],
            [
             1,
             "#f0f921"
            ]
           ]
          },
          "colorway": [
           "#636efa",
           "#EF553B",
           "#00cc96",
           "#ab63fa",
           "#FFA15A",
           "#19d3f3",
           "#FF6692",
           "#B6E880",
           "#FF97FF",
           "#FECB52"
          ],
          "font": {
           "color": "#2a3f5f"
          },
          "geo": {
           "bgcolor": "white",
           "lakecolor": "white",
           "landcolor": "#E5ECF6",
           "showlakes": true,
           "showland": true,
           "subunitcolor": "white"
          },
          "hoverlabel": {
           "align": "left"
          },
          "hovermode": "closest",
          "mapbox": {
           "style": "light"
          },
          "paper_bgcolor": "white",
          "plot_bgcolor": "#E5ECF6",
          "polar": {
           "angularaxis": {
            "gridcolor": "white",
            "linecolor": "white",
            "ticks": ""
           },
           "bgcolor": "#E5ECF6",
           "radialaxis": {
            "gridcolor": "white",
            "linecolor": "white",
            "ticks": ""
           }
          },
          "scene": {
           "xaxis": {
            "backgroundcolor": "#E5ECF6",
            "gridcolor": "white",
            "gridwidth": 2,
            "linecolor": "white",
            "showbackground": true,
            "ticks": "",
            "zerolinecolor": "white"
           },
           "yaxis": {
            "backgroundcolor": "#E5ECF6",
            "gridcolor": "white",
            "gridwidth": 2,
            "linecolor": "white",
            "showbackground": true,
            "ticks": "",
            "zerolinecolor": "white"
           },
           "zaxis": {
            "backgroundcolor": "#E5ECF6",
            "gridcolor": "white",
            "gridwidth": 2,
            "linecolor": "white",
            "showbackground": true,
            "ticks": "",
            "zerolinecolor": "white"
           }
          },
          "shapedefaults": {
           "line": {
            "color": "#2a3f5f"
           }
          },
          "ternary": {
           "aaxis": {
            "gridcolor": "white",
            "linecolor": "white",
            "ticks": ""
           },
           "baxis": {
            "gridcolor": "white",
            "linecolor": "white",
            "ticks": ""
           },
           "bgcolor": "#E5ECF6",
           "caxis": {
            "gridcolor": "white",
            "linecolor": "white",
            "ticks": ""
           }
          },
          "title": {
           "x": 0.05
          },
          "xaxis": {
           "automargin": true,
           "gridcolor": "white",
           "linecolor": "white",
           "ticks": "",
           "title": {
            "standoff": 15
           },
           "zerolinecolor": "white",
           "zerolinewidth": 2
          },
          "yaxis": {
           "automargin": true,
           "gridcolor": "white",
           "linecolor": "white",
           "ticks": "",
           "title": {
            "standoff": 15
           },
           "zerolinecolor": "white",
           "zerolinewidth": 2
          }
         }
        },
        "title": {
         "text": "rsquared: 0.73. Spearman's Rank: 0.88"
        }
       }
      }
     },
     "metadata": {},
     "output_type": "display_data"
    }
   ],
   "source": [
    "def clean_heights_spreads(list_values:list) -> list:\n",
    "    \"\"\"\n",
    "    Quick helper function to set max possible height or spread value to 20 feet (approx 6 meters).\n",
    "    \"\"\"\n",
    "    cleaned_values = []\n",
    "    for value in list_values:\n",
    "        if value > 20:\n",
    "            value = 20\n",
    "        cleaned_values.append(value)\n",
    "    return cleaned_values\n",
    "\n",
    "clean_max_heights = clean_heights_spreads(max_heights)\n",
    "clean_max_spreads = clean_heights_spreads(max_spreads)\n",
    "\n",
    "# relationship between height and spread.\n",
    "max_spearman =  round(stats.spearmanr(clean_max_heights, clean_max_spreads).correlation, 2)\n",
    "max_rsquared = round(stats.linregress(clean_max_heights, clean_max_spreads).rvalue**2, 2)\n",
    "\n",
    "max_title = f\"rsquared: {max_rsquared}. Spearman's Rank: {max_spearman}\"\n",
    "\n",
    "fig = go.Figure(data=go.Scatter(x=clean_max_heights, y=clean_max_spreads, mode=\"markers\"))\n",
    "fig.update_layout(title_text=max_title) \n",
    "fig.show(\"svg\")"
   ]
  },
  {
   "cell_type": "code",
   "execution_count": 37,
   "metadata": {},
   "outputs": [
    {
     "data": {
      "text/html": [
       "<div>\n",
       "<style scoped>\n",
       "    .dataframe tbody tr th:only-of-type {\n",
       "        vertical-align: middle;\n",
       "    }\n",
       "\n",
       "    .dataframe tbody tr th {\n",
       "        vertical-align: top;\n",
       "    }\n",
       "\n",
       "    .dataframe thead th {\n",
       "        text-align: right;\n",
       "    }\n",
       "</style>\n",
       "<table border=\"1\" class=\"dataframe\">\n",
       "  <thead>\n",
       "    <tr style=\"text-align: right;\">\n",
       "      <th></th>\n",
       "      <th>Plant_Name</th>\n",
       "      <th>Plant_Type</th>\n",
       "      <th>Family</th>\n",
       "      <th>Zones</th>\n",
       "      <th>Native_Range</th>\n",
       "      <th>Heights</th>\n",
       "      <th>Spreads</th>\n",
       "      <th>Bloom_Times</th>\n",
       "      <th>Bloom_Description</th>\n",
       "      <th>Sunlight</th>\n",
       "      <th>Watering</th>\n",
       "      <th>Maintenance</th>\n",
       "      <th>Flowers</th>\n",
       "      <th>Leafs</th>\n",
       "      <th>Fruits</th>\n",
       "    </tr>\n",
       "  </thead>\n",
       "  <tbody>\n",
       "    <tr>\n",
       "      <th>13</th>\n",
       "      <td>Epipremnum aureum</td>\n",
       "      <td>Vine</td>\n",
       "      <td>Araceae</td>\n",
       "      <td>10 to 12</td>\n",
       "      <td>None</td>\n",
       "      <td>10.00 to 20.00 feet</td>\n",
       "      <td>1.00 to 2.00 feet</td>\n",
       "      <td>Rarely flowers</td>\n",
       "      <td>Flowers rarely produced</td>\n",
       "      <td>Part shade</td>\n",
       "      <td>Medium</td>\n",
       "      <td>Low</td>\n",
       "      <td>None</td>\n",
       "      <td>Colorful, Evergreen</td>\n",
       "      <td>None</td>\n",
       "    </tr>\n",
       "    <tr>\n",
       "      <th>14</th>\n",
       "      <td>Hedera helix</td>\n",
       "      <td>Vine</td>\n",
       "      <td>Araliaceae</td>\n",
       "      <td>4 to 9</td>\n",
       "      <td>Europe, Scandinavia, Russia</td>\n",
       "      <td>20.00 to 80.00 feet</td>\n",
       "      <td>3.00 to 50.00 feet</td>\n",
       "      <td>September to October</td>\n",
       "      <td>Greenish white</td>\n",
       "      <td>Part shade to full shade</td>\n",
       "      <td>Medium</td>\n",
       "      <td>Low</td>\n",
       "      <td>Insignificant</td>\n",
       "      <td>Evergreen</td>\n",
       "      <td>None</td>\n",
       "    </tr>\n",
       "    <tr>\n",
       "      <th>56</th>\n",
       "      <td>Euphorbia tirucalli</td>\n",
       "      <td>Tree</td>\n",
       "      <td>Euphorbiaceae</td>\n",
       "      <td>11 to 12</td>\n",
       "      <td>Tropical and southern Africa east to Indonesia</td>\n",
       "      <td>20.00 to 30.00 feet</td>\n",
       "      <td>6.00 to 10.00 feet</td>\n",
       "      <td>May to July</td>\n",
       "      <td>Yellow</td>\n",
       "      <td>Full sun</td>\n",
       "      <td>Dry to medium</td>\n",
       "      <td>Low</td>\n",
       "      <td>Insignificant</td>\n",
       "      <td>None</td>\n",
       "      <td>None</td>\n",
       "    </tr>\n",
       "    <tr>\n",
       "      <th>78</th>\n",
       "      <td>Punica granatum</td>\n",
       "      <td>Deciduous shrub</td>\n",
       "      <td>Lythraceae</td>\n",
       "      <td>8 to 11</td>\n",
       "      <td>Middle and western Asia</td>\n",
       "      <td>6.00 to 20.00 feet</td>\n",
       "      <td>4.00 to 15.00 feet</td>\n",
       "      <td>July to August</td>\n",
       "      <td>Orange-red</td>\n",
       "      <td>Full sun</td>\n",
       "      <td>Dry to medium</td>\n",
       "      <td>Medium</td>\n",
       "      <td>Showy</td>\n",
       "      <td>None</td>\n",
       "      <td>Showy, Edible</td>\n",
       "    </tr>\n",
       "    <tr>\n",
       "      <th>81</th>\n",
       "      <td>Pachira aquatica</td>\n",
       "      <td>Broadleaf evergreen</td>\n",
       "      <td>Malvaceae</td>\n",
       "      <td>10 to 12</td>\n",
       "      <td>Mexico, northern South America</td>\n",
       "      <td>20.00 to 30.00 feet</td>\n",
       "      <td>20.00 to 30.00 feet</td>\n",
       "      <td>Seasonal bloomer</td>\n",
       "      <td>Yellowish-white with red-tipped stamens</td>\n",
       "      <td>Full sun to part shade</td>\n",
       "      <td>Medium to wet</td>\n",
       "      <td>Medium</td>\n",
       "      <td>Showy, Fragrant</td>\n",
       "      <td>Evergreen</td>\n",
       "      <td>Showy, Edible</td>\n",
       "    </tr>\n",
       "    <tr>\n",
       "      <th>106</th>\n",
       "      <td>Philodendron hederaceum</td>\n",
       "      <td>Vine</td>\n",
       "      <td>Araceae</td>\n",
       "      <td>11 to 12</td>\n",
       "      <td>Mexico, Caribbean, Central and South America</td>\n",
       "      <td>10.00 to 20.00 feet</td>\n",
       "      <td>3.00 to 6.00 feet</td>\n",
       "      <td>Rarely flowers indoors</td>\n",
       "      <td>Greenish-white</td>\n",
       "      <td>Part shade</td>\n",
       "      <td>Medium</td>\n",
       "      <td>Low</td>\n",
       "      <td>None</td>\n",
       "      <td>Evergreen</td>\n",
       "      <td>None</td>\n",
       "    </tr>\n",
       "    <tr>\n",
       "      <th>123</th>\n",
       "      <td>Asparagus plumosus</td>\n",
       "      <td>Vine</td>\n",
       "      <td>Asparagaceae</td>\n",
       "      <td>9 to 12</td>\n",
       "      <td>Southern and eastern Africa</td>\n",
       "      <td>10.00 to 20.00 feet</td>\n",
       "      <td>2.00 to 3.00 feet</td>\n",
       "      <td>Seasonal bloomer</td>\n",
       "      <td>White</td>\n",
       "      <td>Part shade</td>\n",
       "      <td>Medium</td>\n",
       "      <td>Low</td>\n",
       "      <td>None</td>\n",
       "      <td>Evergreen</td>\n",
       "      <td>None</td>\n",
       "    </tr>\n",
       "    <tr>\n",
       "      <th>124</th>\n",
       "      <td>Stephanotis floribunda</td>\n",
       "      <td>Broadleaf evergreen</td>\n",
       "      <td>Apocynaceae</td>\n",
       "      <td>12 to 12</td>\n",
       "      <td>Madagascar</td>\n",
       "      <td>12.00 to 20.00 feet</td>\n",
       "      <td>3.00 to 6.00 feet</td>\n",
       "      <td>Seasonal bloomer</td>\n",
       "      <td>White</td>\n",
       "      <td>Full sun to part shade</td>\n",
       "      <td>Medium</td>\n",
       "      <td>Medium</td>\n",
       "      <td>Showy, Fragrant, Good Cut</td>\n",
       "      <td>Evergreen</td>\n",
       "      <td>None</td>\n",
       "    </tr>\n",
       "    <tr>\n",
       "      <th>131</th>\n",
       "      <td>Musa acuminata</td>\n",
       "      <td>Herbaceous perennial</td>\n",
       "      <td>Musaceae</td>\n",
       "      <td>10 to 11</td>\n",
       "      <td>Southeast Asia, Australia, eastern Africa</td>\n",
       "      <td>12.00 to 20.00 feet</td>\n",
       "      <td>6.00 to 10.00 feet</td>\n",
       "      <td>Seasonal bloomer</td>\n",
       "      <td>Cream to yellow</td>\n",
       "      <td>Full sun</td>\n",
       "      <td>Medium</td>\n",
       "      <td>Medium</td>\n",
       "      <td>Showy</td>\n",
       "      <td>Evergreen</td>\n",
       "      <td>Showy, Edible</td>\n",
       "    </tr>\n",
       "    <tr>\n",
       "      <th>135</th>\n",
       "      <td>Dracaena marginata</td>\n",
       "      <td>Broadleaf evergreen</td>\n",
       "      <td>Asparagaceae</td>\n",
       "      <td>10 to 12</td>\n",
       "      <td>Madagascar, Mauritius</td>\n",
       "      <td>15.00 to 20.00 feet</td>\n",
       "      <td>3.00 to 10.00 feet</td>\n",
       "      <td>Seasonal bloomer</td>\n",
       "      <td>White</td>\n",
       "      <td>Part shade</td>\n",
       "      <td>Medium</td>\n",
       "      <td>Low</td>\n",
       "      <td>Showy, Fragrant</td>\n",
       "      <td>Colorful, Evergreen</td>\n",
       "      <td>Showy</td>\n",
       "    </tr>\n",
       "    <tr>\n",
       "      <th>144</th>\n",
       "      <td>Ficus carica</td>\n",
       "      <td>Fruit</td>\n",
       "      <td>Moraceae</td>\n",
       "      <td>6 to 9</td>\n",
       "      <td>Western Asia, southeastern Europe</td>\n",
       "      <td>10.00 to 20.00 feet</td>\n",
       "      <td>10.00 to 20.00 feet</td>\n",
       "      <td>Seasonal bloomer</td>\n",
       "      <td>Green</td>\n",
       "      <td>Full sun to part shade</td>\n",
       "      <td>Medium</td>\n",
       "      <td>Medium</td>\n",
       "      <td>Insignificant</td>\n",
       "      <td>None</td>\n",
       "      <td>Showy, Edible</td>\n",
       "    </tr>\n",
       "  </tbody>\n",
       "</table>\n",
       "</div>"
      ],
      "text/plain": [
       "                  Plant_Name            Plant_Type         Family     Zones  \\\n",
       "13         Epipremnum aureum                  Vine        Araceae  10 to 12   \n",
       "14              Hedera helix                  Vine     Araliaceae    4 to 9   \n",
       "56       Euphorbia tirucalli                  Tree  Euphorbiaceae  11 to 12   \n",
       "78           Punica granatum       Deciduous shrub     Lythraceae   8 to 11   \n",
       "81          Pachira aquatica   Broadleaf evergreen      Malvaceae  10 to 12   \n",
       "106  Philodendron hederaceum                  Vine        Araceae  11 to 12   \n",
       "123       Asparagus plumosus                  Vine   Asparagaceae   9 to 12   \n",
       "124   Stephanotis floribunda   Broadleaf evergreen    Apocynaceae  12 to 12   \n",
       "131           Musa acuminata  Herbaceous perennial       Musaceae  10 to 11   \n",
       "135       Dracaena marginata   Broadleaf evergreen   Asparagaceae  10 to 12   \n",
       "144             Ficus carica                 Fruit       Moraceae    6 to 9   \n",
       "\n",
       "                                       Native_Range              Heights  \\\n",
       "13                                             None  10.00 to 20.00 feet   \n",
       "14                      Europe, Scandinavia, Russia  20.00 to 80.00 feet   \n",
       "56   Tropical and southern Africa east to Indonesia  20.00 to 30.00 feet   \n",
       "78                          Middle and western Asia   6.00 to 20.00 feet   \n",
       "81                   Mexico, northern South America  20.00 to 30.00 feet   \n",
       "106    Mexico, Caribbean, Central and South America  10.00 to 20.00 feet   \n",
       "123                     Southern and eastern Africa  10.00 to 20.00 feet   \n",
       "124                                      Madagascar  12.00 to 20.00 feet   \n",
       "131       Southeast Asia, Australia, eastern Africa  12.00 to 20.00 feet   \n",
       "135                           Madagascar, Mauritius  15.00 to 20.00 feet   \n",
       "144               Western Asia, southeastern Europe  10.00 to 20.00 feet   \n",
       "\n",
       "                 Spreads             Bloom_Times  \\\n",
       "13     1.00 to 2.00 feet          Rarely flowers   \n",
       "14    3.00 to 50.00 feet    September to October   \n",
       "56    6.00 to 10.00 feet             May to July   \n",
       "78    4.00 to 15.00 feet          July to August   \n",
       "81   20.00 to 30.00 feet        Seasonal bloomer   \n",
       "106    3.00 to 6.00 feet  Rarely flowers indoors   \n",
       "123    2.00 to 3.00 feet        Seasonal bloomer   \n",
       "124    3.00 to 6.00 feet        Seasonal bloomer   \n",
       "131   6.00 to 10.00 feet        Seasonal bloomer   \n",
       "135   3.00 to 10.00 feet        Seasonal bloomer   \n",
       "144  10.00 to 20.00 feet        Seasonal bloomer   \n",
       "\n",
       "                           Bloom_Description                  Sunlight  \\\n",
       "13                   Flowers rarely produced                Part shade   \n",
       "14                            Greenish white  Part shade to full shade   \n",
       "56                                    Yellow                  Full sun   \n",
       "78                                Orange-red                  Full sun   \n",
       "81   Yellowish-white with red-tipped stamens    Full sun to part shade   \n",
       "106                           Greenish-white                Part shade   \n",
       "123                                    White                Part shade   \n",
       "124                                    White    Full sun to part shade   \n",
       "131                          Cream to yellow                  Full sun   \n",
       "135                                    White                Part shade   \n",
       "144                                    Green    Full sun to part shade   \n",
       "\n",
       "          Watering Maintenance                    Flowers  \\\n",
       "13          Medium         Low                       None   \n",
       "14          Medium         Low              Insignificant   \n",
       "56   Dry to medium         Low              Insignificant   \n",
       "78   Dry to medium      Medium                      Showy   \n",
       "81   Medium to wet      Medium            Showy, Fragrant   \n",
       "106         Medium         Low                       None   \n",
       "123         Medium         Low                       None   \n",
       "124         Medium      Medium  Showy, Fragrant, Good Cut   \n",
       "131         Medium      Medium                      Showy   \n",
       "135         Medium         Low            Showy, Fragrant   \n",
       "144         Medium      Medium              Insignificant   \n",
       "\n",
       "                   Leafs         Fruits  \n",
       "13   Colorful, Evergreen           None  \n",
       "14             Evergreen           None  \n",
       "56                  None           None  \n",
       "78                  None  Showy, Edible  \n",
       "81             Evergreen  Showy, Edible  \n",
       "106            Evergreen           None  \n",
       "123            Evergreen           None  \n",
       "124            Evergreen           None  \n",
       "131            Evergreen  Showy, Edible  \n",
       "135  Colorful, Evergreen          Showy  \n",
       "144                 None  Showy, Edible  "
      ]
     },
     "execution_count": 37,
     "metadata": {},
     "output_type": "execute_result"
    }
   ],
   "source": [
    "# Identify the plants in the above plot with large heights relative to spreads.\n",
    "match_me = list(filter(lambda x: \"20.00\" in x, plant_df[\"Heights\"]))\n",
    "plant_df.loc[plant_df[\"Heights\"].isin(match_me)]"
   ]
  },
  {
   "cell_type": "markdown",
   "metadata": {},
   "source": [
    "**Heights Column:**\n",
    "\n",
    "- Could turn this into a single column with max height or perhaps average height or perhaps height range.\n",
    "Same thought process for spreads. Certainly could make 1 or more columns of continous data with this.\n",
    "- Challenge here is there are some very large outliers, which could mess up the dimensionality reduction. Just because it can be this large does not mean it will be in someones home either... \n",
    "- For example, if you google image search the largest plant \"Araucaria heterophylla\" with the term \"houseplant\", you get plently of reasonably sized houseplant pics, so this is rather misleading under the context we are interested in. \n",
    "- Could set a max value around 10-20 feet and just have this represent those that can grow as big as you will let them. \n",
    "- Will also need to convert from feet to meters later.\n",
    "\n",
    "**Spreads Column:**\n",
    "- TODO\n",
    "\n",
    "\n",
    "**Combined Considerations:**\n",
    "- Clearly strongly correlated (as evidenced by the Spearman's rank value), with the rsquared value weakended due to some outliers at the extremes. \n",
    "- If I did as suggested above (set a max value), then the correlation between the two variables is further improved. So should really only need to use one of them. \n",
    "- The two major outliers (see dataframe above, \"Epipremnum aureum\" and \"Hedera helix\") are vine plants, which explains a much greater height to spread ratio (wrap around trees and climb up them etc..)\n",
    "- In this case, it seems to me that max height would be more relevant, so I will calculate features for both heights and spreads, but only use heights in any model building steps (can use spreads for visualisation perhaps so doesn't hurt to process them now)."
   ]
  },
  {
   "cell_type": "markdown",
   "metadata": {},
   "source": [
    "##### Part 1.5 - Columns: \"Bloom_Times\", \"Bloom_Description\" and \"Flowers\""
   ]
  },
  {
   "cell_type": "code",
   "execution_count": 38,
   "metadata": {},
   "outputs": [
    {
     "data": {
      "text/plain": [
       "Seasonal bloomer          62\n",
       "Rarely flowers indoors    14\n",
       "Non-flowering             13\n",
       "Flowers freely             9\n",
       "Flowers not showy          7\n",
       "April                      7\n",
       "May to June                7\n",
       "Rarely flowers             6\n",
       "April to May               5\n",
       "July to August             4\n",
       "June to July               2\n",
       "February to March          2\n",
       "June to August             2\n",
       "July to frost              1\n",
       "August                     1\n",
       "July to September          1\n",
       "September to October       1\n",
       "May to July                1\n",
       "November to March          1\n",
       "April to August            1\n",
       "Name: Bloom_Times, dtype: int64"
      ]
     },
     "execution_count": 38,
     "metadata": {},
     "output_type": "execute_result"
    }
   ],
   "source": [
    "plant_df[\"Bloom_Times\"].value_counts()"
   ]
  },
  {
   "cell_type": "code",
   "execution_count": 39,
   "metadata": {},
   "outputs": [
    {
     "data": {
      "text/plain": [
       "None                              17\n",
       "White                             14\n",
       "Yellow                             9\n",
       "Greenish-white                     8\n",
       "Green                              6\n",
       "                                  ..\n",
       "Maroon-dark red                    1\n",
       "Soft pink                          1\n",
       "rarely flowers indoors             1\n",
       "Pink, red, lilac, white            1\n",
       "White spadix with green spathe     1\n",
       "Name: Bloom_Description, Length: 85, dtype: int64"
      ]
     },
     "execution_count": 39,
     "metadata": {},
     "output_type": "execute_result"
    }
   ],
   "source": [
    "plant_df[\"Bloom_Description\"].value_counts()"
   ]
  },
  {
   "cell_type": "code",
   "execution_count": 40,
   "metadata": {},
   "outputs": [
    {
     "data": {
      "text/plain": [
       "Showy                          66\n",
       "Insignificant                  32\n",
       "None                           22\n",
       "Showy, Fragrant                16\n",
       "Showy, Good Cut                 5\n",
       "Showy, Fragrant, Good Cut       4\n",
       "Fragrant, Insignificant         1\n",
       "Showy, Good Cut, Good Dried     1\n",
       "Name: Flowers, dtype: int64"
      ]
     },
     "execution_count": 40,
     "metadata": {},
     "output_type": "execute_result"
    }
   ],
   "source": [
    "plant_df[\"Flowers\"].value_counts()"
   ]
  },
  {
   "cell_type": "code",
   "execution_count": 41,
   "metadata": {},
   "outputs": [],
   "source": [
    "bloom_times = list(plant_df[\"Bloom_Times\"])\n",
    "\n",
    "non_flowering_terms = [\"Non-flowering\"]\n",
    "rarely_flowering_terms = [\"Rarely flowers indoors\", \"Rarely flowers\"]\n",
    "\n",
    "flower_or_not = []\n",
    "for descript in bloom_times:\n",
    "    if descript in non_flowering_terms:\n",
    "        flower_or_not.append(\"No\")\n",
    "    elif descript in rarely_flowering_terms:\n",
    "        flower_or_not.append(\"Rarely\")\n",
    "    else:\n",
    "        flower_or_not.append(\"Yes\")"
   ]
  },
  {
   "cell_type": "code",
   "execution_count": 48,
   "metadata": {},
   "outputs": [
    {
     "data": {
      "text/plain": [
       "Flower_Or_Not  Bloom_Description                                                   \n",
       "No             Non-flowering                                                           3\n",
       "               None                                                                    9\n",
       "               non-flowering                                                           1\n",
       "Rarely         Flowers rarely produced                                                 1\n",
       "               Greenish white                                                          2\n",
       "                                                                                      ..\n",
       "Yes            Yellow, red, mahogany, bicolor rays with brown to purple center disk    1\n",
       "               Yellow-green                                                            2\n",
       "               Yellowish-green                                                         1\n",
       "               Yellowish-white with red-tipped stamens                                 1\n",
       "               white, pink, red, yellow, and lavender                                  1\n",
       "Length: 91, dtype: int64"
      ]
     },
     "execution_count": 48,
     "metadata": {},
     "output_type": "execute_result"
    }
   ],
   "source": [
    "# Compare if the two columns agree with one another or not. \n",
    "plant_df[\"Flower_Or_Not\"] = flower_or_not\n",
    "plant_df[[\"Flower_Or_Not\", \"Bloom_Description\"]].value_counts(sort=False)"
   ]
  },
  {
   "cell_type": "code",
   "execution_count": 49,
   "metadata": {},
   "outputs": [
    {
     "data": {
      "text/plain": [
       "Yes       114\n",
       "Rarely     20\n",
       "No         13\n",
       "Name: Flower_Or_Not, dtype: int64"
      ]
     },
     "execution_count": 49,
     "metadata": {},
     "output_type": "execute_result"
    }
   ],
   "source": [
    "plant_df[\"Flower_Or_Not\"].value_counts()"
   ]
  },
  {
   "cell_type": "code",
   "execution_count": 50,
   "metadata": {},
   "outputs": [
    {
     "data": {
      "text/plain": [
       "Flower_Or_Not  Flowers                    \n",
       "No             None                           13\n",
       "Rarely         Insignificant                   8\n",
       "               None                            6\n",
       "               Showy                           6\n",
       "Yes            Fragrant, Insignificant         1\n",
       "               Insignificant                  24\n",
       "               None                            3\n",
       "               Showy                          60\n",
       "               Showy, Fragrant                16\n",
       "               Showy, Fragrant, Good Cut       4\n",
       "               Showy, Good Cut                 5\n",
       "               Showy, Good Cut, Good Dried     1\n",
       "dtype: int64"
      ]
     },
     "execution_count": 50,
     "metadata": {},
     "output_type": "execute_result"
    }
   ],
   "source": [
    "plant_df[[\"Flower_Or_Not\", \"Flowers\"]].value_counts(sort=False)"
   ]
  },
  {
   "cell_type": "code",
   "execution_count": 51,
   "metadata": {},
   "outputs": [
    {
     "data": {
      "text/html": [
       "<div>\n",
       "<style scoped>\n",
       "    .dataframe tbody tr th:only-of-type {\n",
       "        vertical-align: middle;\n",
       "    }\n",
       "\n",
       "    .dataframe tbody tr th {\n",
       "        vertical-align: top;\n",
       "    }\n",
       "\n",
       "    .dataframe thead th {\n",
       "        text-align: right;\n",
       "    }\n",
       "</style>\n",
       "<table border=\"1\" class=\"dataframe\">\n",
       "  <thead>\n",
       "    <tr style=\"text-align: right;\">\n",
       "      <th></th>\n",
       "      <th>Plant_Name</th>\n",
       "      <th>Plant_Type</th>\n",
       "      <th>Family</th>\n",
       "      <th>Zones</th>\n",
       "      <th>Native_Range</th>\n",
       "      <th>Heights</th>\n",
       "      <th>Spreads</th>\n",
       "      <th>Bloom_Times</th>\n",
       "      <th>Bloom_Description</th>\n",
       "      <th>Sunlight</th>\n",
       "      <th>Watering</th>\n",
       "      <th>Maintenance</th>\n",
       "      <th>Flowers</th>\n",
       "      <th>Leafs</th>\n",
       "      <th>Fruits</th>\n",
       "      <th>Flower_Or_Not</th>\n",
       "    </tr>\n",
       "  </thead>\n",
       "  <tbody>\n",
       "    <tr>\n",
       "      <th>31</th>\n",
       "      <td>Anthurium crassinervium</td>\n",
       "      <td>Herbaceous perennial</td>\n",
       "      <td>Araceae</td>\n",
       "      <td>10 to 12</td>\n",
       "      <td>Caribbean, northern South America</td>\n",
       "      <td>5.00 to 6.00 feet</td>\n",
       "      <td>4.00 to 6.00 feet</td>\n",
       "      <td>Flowers freely</td>\n",
       "      <td>Red, Green to purple spathe and purple spadix</td>\n",
       "      <td>Full sun to part shade</td>\n",
       "      <td>Medium</td>\n",
       "      <td>Medium</td>\n",
       "      <td>None</td>\n",
       "      <td>None</td>\n",
       "      <td>Showy</td>\n",
       "      <td>Yes</td>\n",
       "    </tr>\n",
       "    <tr>\n",
       "      <th>85</th>\n",
       "      <td>Ludisia discolor</td>\n",
       "      <td>Orchid</td>\n",
       "      <td>Orchidaceae</td>\n",
       "      <td>11 to 12</td>\n",
       "      <td>None</td>\n",
       "      <td>0.25 to 1.50 feet</td>\n",
       "      <td>0.25 to 2.00 feet</td>\n",
       "      <td>Seasonal bloomer</td>\n",
       "      <td>White</td>\n",
       "      <td>Part shade</td>\n",
       "      <td>Medium</td>\n",
       "      <td>Medium</td>\n",
       "      <td>None</td>\n",
       "      <td>Colorful</td>\n",
       "      <td>None</td>\n",
       "      <td>Yes</td>\n",
       "    </tr>\n",
       "    <tr>\n",
       "      <th>123</th>\n",
       "      <td>Asparagus plumosus</td>\n",
       "      <td>Vine</td>\n",
       "      <td>Asparagaceae</td>\n",
       "      <td>9 to 12</td>\n",
       "      <td>Southern and eastern Africa</td>\n",
       "      <td>10.00 to 20.00 feet</td>\n",
       "      <td>2.00 to 3.00 feet</td>\n",
       "      <td>Seasonal bloomer</td>\n",
       "      <td>White</td>\n",
       "      <td>Part shade</td>\n",
       "      <td>Medium</td>\n",
       "      <td>Low</td>\n",
       "      <td>None</td>\n",
       "      <td>Evergreen</td>\n",
       "      <td>None</td>\n",
       "      <td>Yes</td>\n",
       "    </tr>\n",
       "  </tbody>\n",
       "</table>\n",
       "</div>"
      ],
      "text/plain": [
       "                  Plant_Name            Plant_Type        Family     Zones  \\\n",
       "31   Anthurium crassinervium  Herbaceous perennial       Araceae  10 to 12   \n",
       "85          Ludisia discolor                Orchid   Orchidaceae  11 to 12   \n",
       "123       Asparagus plumosus                  Vine  Asparagaceae   9 to 12   \n",
       "\n",
       "                          Native_Range              Heights  \\\n",
       "31   Caribbean, northern South America    5.00 to 6.00 feet   \n",
       "85                                None    0.25 to 1.50 feet   \n",
       "123        Southern and eastern Africa  10.00 to 20.00 feet   \n",
       "\n",
       "               Spreads       Bloom_Times  \\\n",
       "31   4.00 to 6.00 feet    Flowers freely   \n",
       "85   0.25 to 2.00 feet  Seasonal bloomer   \n",
       "123  2.00 to 3.00 feet  Seasonal bloomer   \n",
       "\n",
       "                                 Bloom_Description                Sunlight  \\\n",
       "31   Red, Green to purple spathe and purple spadix  Full sun to part shade   \n",
       "85                                           White              Part shade   \n",
       "123                                          White              Part shade   \n",
       "\n",
       "    Watering Maintenance Flowers      Leafs Fruits Flower_Or_Not  \n",
       "31    Medium      Medium    None       None  Showy           Yes  \n",
       "85    Medium      Medium    None   Colorful   None           Yes  \n",
       "123   Medium         Low    None  Evergreen   None           Yes  "
      ]
     },
     "execution_count": 51,
     "metadata": {},
     "output_type": "execute_result"
    }
   ],
   "source": [
    "# Stated as flowering but\"None\" in the column \"Flowers\"\n",
    "yes_plant_df = plant_df.iloc[ (plant_df[\"Flower_Or_Not\"].loc[lambda x: x==\"Yes\"].index)]\n",
    "yes_plant_df.loc[ (yes_plant_df[\"Flowers\"].loc[lambda x: x==\"None\"].index )]"
   ]
  },
  {
   "cell_type": "markdown",
   "metadata": {},
   "source": [
    "- The \"Bloom_Times\" column can be used to generate a new column with 3 labels (\"No\", \"Rarely\" \"Yes\"). For modelling can be: (0, 1, 2). \n",
    "- Comparing the \"Bloom_Times\" and \"Bloom_Description\" columns above shows the descriptions largely are consistent with one another. \n",
    "- Comparison of the \"Flowers\" column with the newly created \"Flower_Or_Not\" has three cases of \"None\" in the cell block above. Manual investigation (quick google image search) shows these to be flowering, so I can use my newly created \"Flower_Or_Not\" column wirth confidence. "
   ]
  },
  {
   "cell_type": "markdown",
   "metadata": {},
   "source": [
    "##### Part 1.6 - Columns: \"Sunlight\", \"Watering\", and \"Maintenance\""
   ]
  },
  {
   "cell_type": "code",
   "execution_count": 52,
   "metadata": {},
   "outputs": [
    {
     "data": {
      "text/plain": [
       "Part shade                  55\n",
       "Full sun to part shade      36\n",
       "Part shade to full shade    28\n",
       "Full sun                    27\n",
       "None                         1\n",
       "Name: Sunlight, dtype: int64"
      ]
     },
     "execution_count": 52,
     "metadata": {},
     "output_type": "execute_result"
    }
   ],
   "source": [
    "plant_df[\"Sunlight\"].value_counts()"
   ]
  },
  {
   "cell_type": "code",
   "execution_count": 53,
   "metadata": {},
   "outputs": [
    {
     "data": {
      "text/plain": [
       "Medium           122\n",
       "Dry to medium     14\n",
       "Medium to wet      5\n",
       "Wet                3\n",
       "Dry                2\n",
       "None               1\n",
       "Name: Watering, dtype: int64"
      ]
     },
     "execution_count": 53,
     "metadata": {},
     "output_type": "execute_result"
    }
   ],
   "source": [
    "plant_df[\"Watering\"].value_counts()"
   ]
  },
  {
   "cell_type": "code",
   "execution_count": 54,
   "metadata": {},
   "outputs": [
    {
     "data": {
      "text/plain": [
       "Low       79\n",
       "Medium    55\n",
       "High      12\n",
       "None       1\n",
       "Name: Maintenance, dtype: int64"
      ]
     },
     "execution_count": 54,
     "metadata": {},
     "output_type": "execute_result"
    }
   ],
   "source": [
    "plant_df[\"Maintenance\"].value_counts()"
   ]
  },
  {
   "cell_type": "code",
   "execution_count": 55,
   "metadata": {},
   "outputs": [
    {
     "data": {
      "text/html": [
       "<div>\n",
       "<style scoped>\n",
       "    .dataframe tbody tr th:only-of-type {\n",
       "        vertical-align: middle;\n",
       "    }\n",
       "\n",
       "    .dataframe tbody tr th {\n",
       "        vertical-align: top;\n",
       "    }\n",
       "\n",
       "    .dataframe thead th {\n",
       "        text-align: right;\n",
       "    }\n",
       "</style>\n",
       "<table border=\"1\" class=\"dataframe\">\n",
       "  <thead>\n",
       "    <tr style=\"text-align: right;\">\n",
       "      <th></th>\n",
       "      <th>Plant_Name</th>\n",
       "      <th>Plant_Type</th>\n",
       "      <th>Family</th>\n",
       "      <th>Zones</th>\n",
       "      <th>Native_Range</th>\n",
       "      <th>Heights</th>\n",
       "      <th>Spreads</th>\n",
       "      <th>Bloom_Times</th>\n",
       "      <th>Bloom_Description</th>\n",
       "      <th>Sunlight</th>\n",
       "      <th>Watering</th>\n",
       "      <th>Maintenance</th>\n",
       "      <th>Flowers</th>\n",
       "      <th>Leafs</th>\n",
       "      <th>Fruits</th>\n",
       "      <th>Flower_Or_Not</th>\n",
       "    </tr>\n",
       "  </thead>\n",
       "  <tbody>\n",
       "    <tr>\n",
       "      <th>23</th>\n",
       "      <td>Asplenium antiquum</td>\n",
       "      <td>Fern</td>\n",
       "      <td>Aspleniaceae</td>\n",
       "      <td>10 to 11</td>\n",
       "      <td>None</td>\n",
       "      <td>1.50 to 2.00 feet</td>\n",
       "      <td>3.00 to 4.00 feet</td>\n",
       "      <td>Non-flowering</td>\n",
       "      <td>None</td>\n",
       "      <td>None</td>\n",
       "      <td>None</td>\n",
       "      <td>None</td>\n",
       "      <td>None</td>\n",
       "      <td>None</td>\n",
       "      <td>None</td>\n",
       "      <td>No</td>\n",
       "    </tr>\n",
       "  </tbody>\n",
       "</table>\n",
       "</div>"
      ],
      "text/plain": [
       "            Plant_Name Plant_Type        Family     Zones Native_Range  \\\n",
       "23  Asplenium antiquum       Fern  Aspleniaceae  10 to 11         None   \n",
       "\n",
       "              Heights            Spreads    Bloom_Times Bloom_Description  \\\n",
       "23  1.50 to 2.00 feet  3.00 to 4.00 feet  Non-flowering              None   \n",
       "\n",
       "   Sunlight Watering Maintenance Flowers Leafs Fruits Flower_Or_Not  \n",
       "23     None     None        None    None  None   None            No  "
      ]
     },
     "execution_count": 55,
     "metadata": {},
     "output_type": "execute_result"
    }
   ],
   "source": [
    "# identify the plant with missing data\n",
    "missing_index = plant_df[\"Maintenance\"].loc[lambda x: x==\"None\"].index\n",
    "plant_df.iloc[missing_index]"
   ]
  },
  {
   "cell_type": "markdown",
   "metadata": {},
   "source": [
    "I want all three of these features and all three are very easy to do ordinal encoding with so no issues with many columns (unlike with one-hot encoding...)\n",
    "\n",
    "One plant  with missing data (see cell block above). [From checking the plant database though](https://www.missouribotanicalgarden.org/PlantFinder/PlantFinderDetails.aspx?taxonid=241952), the info is available (just in paragraph form), so I can manually add this info into this column "
   ]
  },
  {
   "cell_type": "markdown",
   "metadata": {},
   "source": [
    "##### Part 1.7 - Columns: \"Leafs\", and \"Fruits\""
   ]
  },
  {
   "cell_type": "code",
   "execution_count": 56,
   "metadata": {},
   "outputs": [
    {
     "data": {
      "text/plain": [
       "Evergreen              75\n",
       "None                   31\n",
       "Colorful, Evergreen    21\n",
       "Colorful               16\n",
       "Fragrant, Evergreen     2\n",
       "Good Fall               1\n",
       "Fragrant                1\n",
       "Name: Leafs, dtype: int64"
      ]
     },
     "execution_count": 56,
     "metadata": {},
     "output_type": "execute_result"
    }
   ],
   "source": [
    "plant_df[\"Leafs\"].value_counts() "
   ]
  },
  {
   "cell_type": "code",
   "execution_count": 57,
   "metadata": {},
   "outputs": [
    {
     "data": {
      "text/html": [
       "<div>\n",
       "<style scoped>\n",
       "    .dataframe tbody tr th:only-of-type {\n",
       "        vertical-align: middle;\n",
       "    }\n",
       "\n",
       "    .dataframe tbody tr th {\n",
       "        vertical-align: top;\n",
       "    }\n",
       "\n",
       "    .dataframe thead th {\n",
       "        text-align: right;\n",
       "    }\n",
       "</style>\n",
       "<table border=\"1\" class=\"dataframe\">\n",
       "  <thead>\n",
       "    <tr style=\"text-align: right;\">\n",
       "      <th></th>\n",
       "      <th>Plant_Name</th>\n",
       "      <th>Plant_Type</th>\n",
       "      <th>Family</th>\n",
       "      <th>Zones</th>\n",
       "      <th>Native_Range</th>\n",
       "      <th>Heights</th>\n",
       "      <th>Spreads</th>\n",
       "      <th>Bloom_Times</th>\n",
       "      <th>Bloom_Description</th>\n",
       "      <th>Sunlight</th>\n",
       "      <th>Watering</th>\n",
       "      <th>Maintenance</th>\n",
       "      <th>Flowers</th>\n",
       "      <th>Leafs</th>\n",
       "      <th>Fruits</th>\n",
       "      <th>Flower_Or_Not</th>\n",
       "    </tr>\n",
       "  </thead>\n",
       "  <tbody>\n",
       "    <tr>\n",
       "      <th>4</th>\n",
       "      <td>Woodsia obtusa</td>\n",
       "      <td>Fern</td>\n",
       "      <td>Woodsiaceae</td>\n",
       "      <td>4 to 8</td>\n",
       "      <td>North America</td>\n",
       "      <td>1.00 to 1.50 feet</td>\n",
       "      <td>2.00 to 2.50 feet</td>\n",
       "      <td>Non-flowering</td>\n",
       "      <td>Non-flowering</td>\n",
       "      <td>Part shade to full shade</td>\n",
       "      <td>Medium</td>\n",
       "      <td>Medium</td>\n",
       "      <td>None</td>\n",
       "      <td>None</td>\n",
       "      <td>None</td>\n",
       "      <td>No</td>\n",
       "    </tr>\n",
       "    <tr>\n",
       "      <th>8</th>\n",
       "      <td>Capsicum annuum</td>\n",
       "      <td>Herbaceous perennial</td>\n",
       "      <td>Solanaceae</td>\n",
       "      <td>9 to 11</td>\n",
       "      <td>Guatemala, Mexico</td>\n",
       "      <td>1.00 to 4.00 feet</td>\n",
       "      <td>1.00 to 2.00 feet</td>\n",
       "      <td>Flowers not showy</td>\n",
       "      <td>White, yellow</td>\n",
       "      <td>Full sun</td>\n",
       "      <td>Medium</td>\n",
       "      <td>Low</td>\n",
       "      <td>Insignificant</td>\n",
       "      <td>None</td>\n",
       "      <td>Showy, Edible</td>\n",
       "      <td>Yes</td>\n",
       "    </tr>\n",
       "    <tr>\n",
       "      <th>12</th>\n",
       "      <td>Zantedeschia</td>\n",
       "      <td>Herbaceous perennial</td>\n",
       "      <td>Araceae</td>\n",
       "      <td>8 to 10</td>\n",
       "      <td>Southern Africa</td>\n",
       "      <td>2.00 to 3.00 feet</td>\n",
       "      <td>1.50 to 2.00 feet</td>\n",
       "      <td>June to July</td>\n",
       "      <td>White spathe with yellow spadix</td>\n",
       "      <td>Full sun to part shade</td>\n",
       "      <td>Medium to wet</td>\n",
       "      <td>Medium</td>\n",
       "      <td>Showy, Good Cut</td>\n",
       "      <td>None</td>\n",
       "      <td>None</td>\n",
       "      <td>Yes</td>\n",
       "    </tr>\n",
       "    <tr>\n",
       "      <th>23</th>\n",
       "      <td>Asplenium antiquum</td>\n",
       "      <td>Fern</td>\n",
       "      <td>Aspleniaceae</td>\n",
       "      <td>10 to 11</td>\n",
       "      <td>None</td>\n",
       "      <td>1.50 to 2.00 feet</td>\n",
       "      <td>3.00 to 4.00 feet</td>\n",
       "      <td>Non-flowering</td>\n",
       "      <td>None</td>\n",
       "      <td>None</td>\n",
       "      <td>None</td>\n",
       "      <td>None</td>\n",
       "      <td>None</td>\n",
       "      <td>None</td>\n",
       "      <td>None</td>\n",
       "      <td>No</td>\n",
       "    </tr>\n",
       "    <tr>\n",
       "      <th>26</th>\n",
       "      <td>Helianthus annuus</td>\n",
       "      <td>Annual</td>\n",
       "      <td>Asteraceae</td>\n",
       "      <td>2 to 11</td>\n",
       "      <td>United States and Central America</td>\n",
       "      <td>3.00 to 10.00 feet</td>\n",
       "      <td>1.50 to 3.00 feet</td>\n",
       "      <td>July to August</td>\n",
       "      <td>Yellow, red, mahogany, bicolor rays with brown...</td>\n",
       "      <td>Full sun</td>\n",
       "      <td>Dry to medium</td>\n",
       "      <td>Low</td>\n",
       "      <td>Showy</td>\n",
       "      <td>None</td>\n",
       "      <td>None</td>\n",
       "      <td>Yes</td>\n",
       "    </tr>\n",
       "  </tbody>\n",
       "</table>\n",
       "</div>"
      ],
      "text/plain": [
       "            Plant_Name            Plant_Type        Family     Zones  \\\n",
       "4       Woodsia obtusa                  Fern   Woodsiaceae    4 to 8   \n",
       "8      Capsicum annuum  Herbaceous perennial    Solanaceae   9 to 11   \n",
       "12        Zantedeschia  Herbaceous perennial       Araceae   8 to 10   \n",
       "23  Asplenium antiquum                  Fern  Aspleniaceae  10 to 11   \n",
       "26   Helianthus annuus                Annual    Asteraceae   2 to 11   \n",
       "\n",
       "                         Native_Range             Heights            Spreads  \\\n",
       "4                       North America   1.00 to 1.50 feet  2.00 to 2.50 feet   \n",
       "8                   Guatemala, Mexico   1.00 to 4.00 feet  1.00 to 2.00 feet   \n",
       "12                    Southern Africa   2.00 to 3.00 feet  1.50 to 2.00 feet   \n",
       "23                               None   1.50 to 2.00 feet  3.00 to 4.00 feet   \n",
       "26  United States and Central America  3.00 to 10.00 feet  1.50 to 3.00 feet   \n",
       "\n",
       "          Bloom_Times                                  Bloom_Description  \\\n",
       "4       Non-flowering                                      Non-flowering   \n",
       "8   Flowers not showy                                      White, yellow   \n",
       "12       June to July                    White spathe with yellow spadix   \n",
       "23      Non-flowering                                               None   \n",
       "26     July to August  Yellow, red, mahogany, bicolor rays with brown...   \n",
       "\n",
       "                    Sunlight       Watering Maintenance          Flowers  \\\n",
       "4   Part shade to full shade         Medium      Medium             None   \n",
       "8                   Full sun         Medium         Low    Insignificant   \n",
       "12    Full sun to part shade  Medium to wet      Medium  Showy, Good Cut   \n",
       "23                      None           None        None             None   \n",
       "26                  Full sun  Dry to medium         Low            Showy   \n",
       "\n",
       "   Leafs         Fruits Flower_Or_Not  \n",
       "4   None           None            No  \n",
       "8   None  Showy, Edible           Yes  \n",
       "12  None           None           Yes  \n",
       "23  None           None            No  \n",
       "26  None           None           Yes  "
      ]
     },
     "execution_count": 57,
     "metadata": {},
     "output_type": "execute_result"
    }
   ],
   "source": [
    "missing_index = plant_df[\"Leafs\"].loc[lambda x: x==\"None\"].index\n",
    "plant_df.iloc[missing_index].head(5)"
   ]
  },
  {
   "cell_type": "code",
   "execution_count": 58,
   "metadata": {},
   "outputs": [
    {
     "data": {
      "text/plain": [
       "None             113\n",
       "Showy             24\n",
       "Showy, Edible     10\n",
       "Name: Fruits, dtype: int64"
      ]
     },
     "execution_count": 58,
     "metadata": {},
     "output_type": "execute_result"
    }
   ],
   "source": [
    "plant_df[\"Fruits\"].value_counts() "
   ]
  },
  {
   "cell_type": "markdown",
   "metadata": {},
   "source": [
    "- For \"Leaves\" - Could be binary: \"colorful\" or \"not_colorful\". I inspected the first 5 with \"None\" in google images. All had green leaves so happy to default them to \"not_colorful\". \n",
    "- For \"Fruits\" - Same as above, binary fruits or not."
   ]
  }
 ],
 "metadata": {
  "kernelspec": {
   "display_name": "Python 3.8.8 ('Py_Fun_Py3_8')",
   "language": "python",
   "name": "python3"
  },
  "language_info": {
   "codemirror_mode": {
    "name": "ipython",
    "version": 3
   },
   "file_extension": ".py",
   "mimetype": "text/x-python",
   "name": "python",
   "nbconvert_exporter": "python",
   "pygments_lexer": "ipython3",
   "version": "3.8.8"
  },
  "orig_nbformat": 4,
  "vscode": {
   "interpreter": {
    "hash": "2ced150f8a2667dee2cfae26b4d2611f5ad28f0d3e6e2dea4c3c48326462f442"
   }
  }
 },
 "nbformat": 4,
 "nbformat_minor": 2
}
