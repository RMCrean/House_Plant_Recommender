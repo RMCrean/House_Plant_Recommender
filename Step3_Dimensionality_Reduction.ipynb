{
 "cells": [
  {
   "cell_type": "markdown",
   "metadata": {},
   "source": [
    "## House Plant Dimensionality Reduction\n",
    "\n",
    "This notebook will cover the dimensionality reduction performed on the houseplant database (step 3).  \n",
    "\n",
    "The objective here is to be able to visualise the plants with 2D scatter plots. \n",
    "\n",
    "**Summary:**\n",
    "\n",
    "- Generated 4 coordinates sets to visualise how each plant compares. \n",
    "- Stored these coordinate sets I want to use to SQL, so no need to install sklearn/scipy on python anywhere.\n",
    "- Made some versions of the figures and played around with styling. Will do the final touches in the app itself. "
   ]
  },
  {
   "cell_type": "markdown",
   "metadata": {},
   "source": [
    "#### Setup"
   ]
  },
  {
   "cell_type": "code",
   "execution_count": 1,
   "metadata": {},
   "outputs": [],
   "source": [
    "import pandas as pd\n",
    "import numpy as np\n",
    "import sqlite3\n",
    "from plotly.subplots import make_subplots\n",
    "import plotly.express as px\n",
    "import plotly.graph_objects as go\n",
    "from scipy import stats\n",
    "\n",
    "from sklearn.preprocessing import MinMaxScaler\n",
    "from sklearn.manifold import TSNE\n",
    "\n",
    "DATABASE_LOC = r\"C:\\Users\\Rory Crean\\Dropbox (lkgroup)\\Backup_HardDrive\\Postdoc\\PyForFun\\House_Plant_Recommender\\Database\\house_plants.db\""
   ]
  },
  {
   "cell_type": "code",
   "execution_count": 2,
   "metadata": {},
   "outputs": [
    {
     "data": {
      "text/html": [
       "<div>\n",
       "<style scoped>\n",
       "    .dataframe tbody tr th:only-of-type {\n",
       "        vertical-align: middle;\n",
       "    }\n",
       "\n",
       "    .dataframe tbody tr th {\n",
       "        vertical-align: top;\n",
       "    }\n",
       "\n",
       "    .dataframe thead th {\n",
       "        text-align: right;\n",
       "    }\n",
       "</style>\n",
       "<table border=\"1\" class=\"dataframe\">\n",
       "  <thead>\n",
       "    <tr style=\"text-align: right;\">\n",
       "      <th></th>\n",
       "      <th>Plant_Name</th>\n",
       "      <th>Min_Temp_Degrees_C</th>\n",
       "      <th>Min_Height</th>\n",
       "      <th>Max_Height_Capped</th>\n",
       "      <th>Min_Spread</th>\n",
       "      <th>Max_Spread_Capped</th>\n",
       "      <th>Sunlight_Ordinal</th>\n",
       "      <th>Watering_Ordinal</th>\n",
       "      <th>Maintenance_Ordinal</th>\n",
       "      <th>Flowers_Ordinal</th>\n",
       "      <th>Type_Bulb</th>\n",
       "      <th>Type_Fern</th>\n",
       "      <th>Type_Herbaceous_perennial</th>\n",
       "      <th>Type_Other</th>\n",
       "      <th>Type_Vine</th>\n",
       "      <th>Color_Not_Colorful</th>\n",
       "      <th>Fruit_Yes</th>\n",
       "    </tr>\n",
       "  </thead>\n",
       "  <tbody>\n",
       "    <tr>\n",
       "      <th>0</th>\n",
       "      <td>Aechmea</td>\n",
       "      <td>-1.1</td>\n",
       "      <td>1.0</td>\n",
       "      <td>3.0</td>\n",
       "      <td>1.0</td>\n",
       "      <td>2.0</td>\n",
       "      <td>1</td>\n",
       "      <td>3</td>\n",
       "      <td>2</td>\n",
       "      <td>3</td>\n",
       "      <td>0</td>\n",
       "      <td>0</td>\n",
       "      <td>0</td>\n",
       "      <td>1</td>\n",
       "      <td>0</td>\n",
       "      <td>1</td>\n",
       "      <td>0</td>\n",
       "    </tr>\n",
       "    <tr>\n",
       "      <th>1</th>\n",
       "      <td>Ardisia crenata</td>\n",
       "      <td>-12.2</td>\n",
       "      <td>4.0</td>\n",
       "      <td>5.0</td>\n",
       "      <td>4.0</td>\n",
       "      <td>5.0</td>\n",
       "      <td>2</td>\n",
       "      <td>3</td>\n",
       "      <td>2</td>\n",
       "      <td>3</td>\n",
       "      <td>0</td>\n",
       "      <td>0</td>\n",
       "      <td>0</td>\n",
       "      <td>0</td>\n",
       "      <td>0</td>\n",
       "      <td>1</td>\n",
       "      <td>1</td>\n",
       "    </tr>\n",
       "    <tr>\n",
       "      <th>2</th>\n",
       "      <td>Euphorbia milii</td>\n",
       "      <td>-6.7</td>\n",
       "      <td>3.0</td>\n",
       "      <td>6.0</td>\n",
       "      <td>1.5</td>\n",
       "      <td>3.0</td>\n",
       "      <td>4</td>\n",
       "      <td>2</td>\n",
       "      <td>2</td>\n",
       "      <td>3</td>\n",
       "      <td>0</td>\n",
       "      <td>0</td>\n",
       "      <td>0</td>\n",
       "      <td>0</td>\n",
       "      <td>0</td>\n",
       "      <td>1</td>\n",
       "      <td>0</td>\n",
       "    </tr>\n",
       "    <tr>\n",
       "      <th>3</th>\n",
       "      <td>Ficus elastica</td>\n",
       "      <td>-1.1</td>\n",
       "      <td>50.0</td>\n",
       "      <td>20.0</td>\n",
       "      <td>50.0</td>\n",
       "      <td>20.0</td>\n",
       "      <td>1</td>\n",
       "      <td>3</td>\n",
       "      <td>1</td>\n",
       "      <td>2</td>\n",
       "      <td>0</td>\n",
       "      <td>0</td>\n",
       "      <td>0</td>\n",
       "      <td>0</td>\n",
       "      <td>0</td>\n",
       "      <td>1</td>\n",
       "      <td>0</td>\n",
       "    </tr>\n",
       "    <tr>\n",
       "      <th>4</th>\n",
       "      <td>Woodsia obtusa</td>\n",
       "      <td>-34.4</td>\n",
       "      <td>1.0</td>\n",
       "      <td>1.5</td>\n",
       "      <td>2.0</td>\n",
       "      <td>2.5</td>\n",
       "      <td>2</td>\n",
       "      <td>3</td>\n",
       "      <td>2</td>\n",
       "      <td>1</td>\n",
       "      <td>0</td>\n",
       "      <td>1</td>\n",
       "      <td>0</td>\n",
       "      <td>0</td>\n",
       "      <td>0</td>\n",
       "      <td>1</td>\n",
       "      <td>0</td>\n",
       "    </tr>\n",
       "  </tbody>\n",
       "</table>\n",
       "</div>"
      ],
      "text/plain": [
       "        Plant_Name  Min_Temp_Degrees_C  Min_Height  Max_Height_Capped  \\\n",
       "0          Aechmea                -1.1         1.0                3.0   \n",
       "1  Ardisia crenata               -12.2         4.0                5.0   \n",
       "2  Euphorbia milii                -6.7         3.0                6.0   \n",
       "3   Ficus elastica                -1.1        50.0               20.0   \n",
       "4   Woodsia obtusa               -34.4         1.0                1.5   \n",
       "\n",
       "   Min_Spread  Max_Spread_Capped  Sunlight_Ordinal  Watering_Ordinal  \\\n",
       "0         1.0                2.0                 1                 3   \n",
       "1         4.0                5.0                 2                 3   \n",
       "2         1.5                3.0                 4                 2   \n",
       "3        50.0               20.0                 1                 3   \n",
       "4         2.0                2.5                 2                 3   \n",
       "\n",
       "   Maintenance_Ordinal  Flowers_Ordinal  Type_Bulb  Type_Fern  \\\n",
       "0                    2                3          0          0   \n",
       "1                    2                3          0          0   \n",
       "2                    2                3          0          0   \n",
       "3                    1                2          0          0   \n",
       "4                    2                1          0          1   \n",
       "\n",
       "   Type_Herbaceous_perennial  Type_Other  Type_Vine  Color_Not_Colorful  \\\n",
       "0                          0           1          0                   1   \n",
       "1                          0           0          0                   1   \n",
       "2                          0           0          0                   1   \n",
       "3                          0           0          0                   1   \n",
       "4                          0           0          0                   1   \n",
       "\n",
       "   Fruit_Yes  \n",
       "0          0  \n",
       "1          1  \n",
       "2          0  \n",
       "3          0  \n",
       "4          0  "
      ]
     },
     "execution_count": 2,
     "metadata": {},
     "output_type": "execute_result"
    }
   ],
   "source": [
    "conn = sqlite3.connect(DATABASE_LOC)\n",
    "c = conn.cursor()\n",
    "df_features = pd.read_sql_query(\"SELECT * FROM plant_features\", conn)\n",
    "c.close()\n",
    "df_features.head()"
   ]
  },
  {
   "cell_type": "markdown",
   "metadata": {},
   "source": [
    "#### Dimensionality reduction and Scatter plot desgins\n",
    "\n",
    "Define several ways to plot a plant scatter graph. Save to sql and use in dash app. \n",
    "\n",
    "**Perform tsne as follows:**\n",
    "- On everything \n",
    "- On maintenace related features. \n",
    "\n",
    "**Then produce scatter plots on:**\n",
    "- Sunlight and watering needs. (maybe add some jitter). \n",
    "- Height and spread. \n",
    "\n",
    "In the app I could add some filters like does it flower? Does it give fruit? etc..."
   ]
  },
  {
   "cell_type": "code",
   "execution_count": 3,
   "metadata": {},
   "outputs": [],
   "source": [
    "def run_tsne(df: pd.DataFrame, columns_desired: list) -> np.ndarray:\n",
    "    \"\"\"\n",
    "    Run a tsne calculation with a set of selected columns from a df.\n",
    "    Scaling of features included. \n",
    "\n",
    "    Parameters\n",
    "    ----------\n",
    "    df : pd.DataFrame\n",
    "        dataframe with all features needed. \n",
    "\n",
    "    columns_desired: list\n",
    "        Column names from the df to include in the tsne calc\n",
    "\n",
    "    Returns\n",
    "    ----------\n",
    "    np.ndarray\n",
    "        2D array of the tsne components (1 and 2), ready to plot as is\n",
    "    \"\"\"\n",
    "    df_inputs = df[columns_desired] \n",
    "    feature_array = df_inputs.values\n",
    "\n",
    "    # scale features. \n",
    "    scaler = MinMaxScaler()\n",
    "    features_scaled = scaler.fit_transform(feature_array)\n",
    "\n",
    "    # run tsne calc. \n",
    "    n_components = 2\n",
    "    tsne = TSNE(n_components)\n",
    "\n",
    "    return tsne.fit_transform(features_scaled)"
   ]
  },
  {
   "cell_type": "code",
   "execution_count": 4,
   "metadata": {},
   "outputs": [],
   "source": [
    "all_tsne = run_tsne(\n",
    "    df=df_features, \n",
    "    columns_desired=list(df_features.columns[1:])\n",
    ")\n",
    "\n",
    "maintenance_tsne = run_tsne(\n",
    "    df=df_features, \n",
    "    columns_desired=[\"Sunlight_Ordinal\", \"Watering_Ordinal\", \"Maintenance_Ordinal\", \"Min_Temp_Degrees_C\"]\n",
    ")\n"
   ]
  },
  {
   "cell_type": "code",
   "execution_count": 5,
   "metadata": {},
   "outputs": [
    {
     "data": {
      "text/html": [
       "<div>\n",
       "<style scoped>\n",
       "    .dataframe tbody tr th:only-of-type {\n",
       "        vertical-align: middle;\n",
       "    }\n",
       "\n",
       "    .dataframe tbody tr th {\n",
       "        vertical-align: top;\n",
       "    }\n",
       "\n",
       "    .dataframe thead th {\n",
       "        text-align: right;\n",
       "    }\n",
       "</style>\n",
       "<table border=\"1\" class=\"dataframe\">\n",
       "  <thead>\n",
       "    <tr style=\"text-align: right;\">\n",
       "      <th></th>\n",
       "      <th>Plant_Name</th>\n",
       "      <th>Maintenance_Ordinal</th>\n",
       "      <th>all_tsne_1</th>\n",
       "      <th>all_tsne_2</th>\n",
       "      <th>maintenance_tsne_1</th>\n",
       "      <th>maintenance_tsne_2</th>\n",
       "    </tr>\n",
       "  </thead>\n",
       "  <tbody>\n",
       "    <tr>\n",
       "      <th>0</th>\n",
       "      <td>Aechmea</td>\n",
       "      <td>2</td>\n",
       "      <td>3.676506</td>\n",
       "      <td>-5.347026</td>\n",
       "      <td>0.228922</td>\n",
       "      <td>10.650458</td>\n",
       "    </tr>\n",
       "    <tr>\n",
       "      <th>1</th>\n",
       "      <td>Ardisia crenata</td>\n",
       "      <td>2</td>\n",
       "      <td>5.589860</td>\n",
       "      <td>0.040607</td>\n",
       "      <td>-0.922788</td>\n",
       "      <td>8.158509</td>\n",
       "    </tr>\n",
       "    <tr>\n",
       "      <th>2</th>\n",
       "      <td>Euphorbia milii</td>\n",
       "      <td>2</td>\n",
       "      <td>0.813031</td>\n",
       "      <td>-1.883444</td>\n",
       "      <td>-1.365518</td>\n",
       "      <td>3.271952</td>\n",
       "    </tr>\n",
       "    <tr>\n",
       "      <th>3</th>\n",
       "      <td>Ficus elastica</td>\n",
       "      <td>1</td>\n",
       "      <td>8.767926</td>\n",
       "      <td>1.594857</td>\n",
       "      <td>-10.999371</td>\n",
       "      <td>-6.625526</td>\n",
       "    </tr>\n",
       "    <tr>\n",
       "      <th>4</th>\n",
       "      <td>Woodsia obtusa</td>\n",
       "      <td>2</td>\n",
       "      <td>3.515776</td>\n",
       "      <td>9.785760</td>\n",
       "      <td>-2.290439</td>\n",
       "      <td>8.805119</td>\n",
       "    </tr>\n",
       "    <tr>\n",
       "      <th>...</th>\n",
       "      <td>...</td>\n",
       "      <td>...</td>\n",
       "      <td>...</td>\n",
       "      <td>...</td>\n",
       "      <td>...</td>\n",
       "      <td>...</td>\n",
       "    </tr>\n",
       "    <tr>\n",
       "      <th>142</th>\n",
       "      <td>Pericallis × hybrida</td>\n",
       "      <td>3</td>\n",
       "      <td>-4.613483</td>\n",
       "      <td>1.424733</td>\n",
       "      <td>3.277331</td>\n",
       "      <td>10.665582</td>\n",
       "    </tr>\n",
       "    <tr>\n",
       "      <th>143</th>\n",
       "      <td>Begonia</td>\n",
       "      <td>3</td>\n",
       "      <td>-3.003872</td>\n",
       "      <td>-3.206166</td>\n",
       "      <td>3.276917</td>\n",
       "      <td>10.665334</td>\n",
       "    </tr>\n",
       "    <tr>\n",
       "      <th>144</th>\n",
       "      <td>Ficus carica</td>\n",
       "      <td>2</td>\n",
       "      <td>8.509892</td>\n",
       "      <td>-4.235227</td>\n",
       "      <td>-2.194554</td>\n",
       "      <td>4.732724</td>\n",
       "    </tr>\n",
       "    <tr>\n",
       "      <th>145</th>\n",
       "      <td>Ficus pumila</td>\n",
       "      <td>1</td>\n",
       "      <td>5.741993</td>\n",
       "      <td>3.207085</td>\n",
       "      <td>-9.763505</td>\n",
       "      <td>-7.031698</td>\n",
       "    </tr>\n",
       "    <tr>\n",
       "      <th>146</th>\n",
       "      <td>Ficus religiosa</td>\n",
       "      <td>1</td>\n",
       "      <td>9.588517</td>\n",
       "      <td>-0.518303</td>\n",
       "      <td>-2.420077</td>\n",
       "      <td>-2.242793</td>\n",
       "    </tr>\n",
       "  </tbody>\n",
       "</table>\n",
       "<p>147 rows × 6 columns</p>\n",
       "</div>"
      ],
      "text/plain": [
       "               Plant_Name  Maintenance_Ordinal  all_tsne_1  all_tsne_2  \\\n",
       "0                 Aechmea                    2    3.676506   -5.347026   \n",
       "1         Ardisia crenata                    2    5.589860    0.040607   \n",
       "2         Euphorbia milii                    2    0.813031   -1.883444   \n",
       "3          Ficus elastica                    1    8.767926    1.594857   \n",
       "4          Woodsia obtusa                    2    3.515776    9.785760   \n",
       "..                    ...                  ...         ...         ...   \n",
       "142  Pericallis × hybrida                    3   -4.613483    1.424733   \n",
       "143               Begonia                    3   -3.003872   -3.206166   \n",
       "144          Ficus carica                    2    8.509892   -4.235227   \n",
       "145          Ficus pumila                    1    5.741993    3.207085   \n",
       "146       Ficus religiosa                    1    9.588517   -0.518303   \n",
       "\n",
       "     maintenance_tsne_1  maintenance_tsne_2  \n",
       "0              0.228922           10.650458  \n",
       "1             -0.922788            8.158509  \n",
       "2             -1.365518            3.271952  \n",
       "3            -10.999371           -6.625526  \n",
       "4             -2.290439            8.805119  \n",
       "..                  ...                 ...  \n",
       "142            3.277331           10.665582  \n",
       "143            3.276917           10.665334  \n",
       "144           -2.194554            4.732724  \n",
       "145           -9.763505           -7.031698  \n",
       "146           -2.420077           -2.242793  \n",
       "\n",
       "[147 rows x 6 columns]"
      ]
     },
     "execution_count": 5,
     "metadata": {},
     "output_type": "execute_result"
    }
   ],
   "source": [
    "plotting_df = pd.DataFrame(\n",
    "    {\"Plant_Name\": df_features[\"Plant_Name\"], \n",
    "    \"Maintenance_Ordinal\": df_features[\"Maintenance_Ordinal\"],\n",
    "    \"all_tsne_1\": all_tsne[:,0], \n",
    "    \"all_tsne_2\": all_tsne[:,1],\n",
    "    \"maintenance_tsne_1\": maintenance_tsne[:,0], \n",
    "    \"maintenance_tsne_2\": maintenance_tsne[:,1],\n",
    "    }) \n",
    "plotting_df"
   ]
  },
  {
   "cell_type": "code",
   "execution_count": 6,
   "metadata": {},
   "outputs": [
    {
     "data": {
      "application/vnd.plotly.v1+json": {
       "config": {
        "plotlyServerURL": "https://plotly.com"
       },
       "data": [
        {
         "marker": {
          "color": [
           2,
           2,
           2,
           1,
           2,
           2,
           2,
           1,
           1,
           2,
           1,
           2,
           2,
           1,
           1,
           1,
           2,
           3,
           1,
           1,
           1,
           1,
           1,
           1,
           2,
           1,
           1,
           1,
           1,
           1,
           1,
           2,
           3,
           1,
           2,
           2,
           2,
           1,
           1,
           2,
           1,
           1,
           2,
           1,
           1,
           1,
           1,
           1,
           1,
           2,
           1,
           1,
           1,
           1,
           3,
           1,
           1,
           2,
           2,
           2,
           2,
           2,
           1,
           1,
           1,
           1,
           2,
           2,
           1,
           1,
           2,
           1,
           1,
           2,
           1,
           2,
           2,
           2,
           2,
           1,
           2,
           2,
           3,
           1,
           1,
           2,
           2,
           1,
           1,
           1,
           1,
           2,
           1,
           2,
           3,
           3,
           2,
           2,
           1,
           1,
           1,
           2,
           1,
           1,
           2,
           2,
           1,
           1,
           2,
           2,
           1,
           1,
           2,
           1,
           2,
           1,
           2,
           3,
           1,
           2,
           1,
           1,
           1,
           1,
           2,
           1,
           2,
           2,
           1,
           1,
           2,
           2,
           3,
           1,
           1,
           1,
           1,
           1,
           2,
           1,
           3,
           3,
           3,
           3,
           2,
           1,
           1
          ],
          "colorscale": [
           [
            0,
            "#440154"
           ],
           [
            0.1111111111111111,
            "#482878"
           ],
           [
            0.2222222222222222,
            "#3e4989"
           ],
           [
            0.3333333333333333,
            "#31688e"
           ],
           [
            0.4444444444444444,
            "#26828e"
           ],
           [
            0.5555555555555556,
            "#1f9e89"
           ],
           [
            0.6666666666666666,
            "#35b779"
           ],
           [
            0.7777777777777778,
            "#6ece58"
           ],
           [
            0.8888888888888888,
            "#b5de2b"
           ],
           [
            1,
            "#fde725"
           ]
          ],
          "showscale": true,
          "size": 10
         },
         "mode": "markers",
         "text": [
          "Aechmea",
          "Ardisia crenata",
          "Euphorbia milii",
          "Ficus elastica",
          "Woodsia obtusa",
          "Kalanchoe",
          "Kalanchoe thyrsiflora",
          "Tradescantia spathacea",
          "Capsicum annuum",
          "Begonia masoniana",
          "Aloe",
          "Oncidium",
          "Zantedeschia",
          "Epipremnum aureum",
          "Hedera helix",
          "Sedum makinoi",
          "Asplenium nidus",
          "Elettaria cardamomum",
          "Peperomia obtusifolia",
          "Araucaria heterophylla",
          "Plectranthus scutellarioides",
          "Cissus alata",
          "Adenium obesum",
          "Asplenium antiquum",
          "Coffea arabica",
          "Syngonium",
          "Helianthus annuus",
          "Asplenium",
          "Dracaena reflexa",
          "Leucojum aestivum",
          "Aglaonema commutatum",
          "Anthurium crassinervium",
          "Euphorbia pulcherrima",
          "Tradescantia zebrina",
          "Camellia japonica",
          "Monstera deliciosa",
          "Hypoestes phyllostachya",
          "Peperomia",
          "Adiantum hispidulum",
          "Medinilla magnifica",
          "Syngonium podophyllum",
          "Rhapis excelsa",
          "Scindapsus pictus",
          "Campanula portenschlagiana",
          "Crocus vernus",
          "Aloe vera",
          "Cycas revoluta",
          "Pinus pinea",
          "Ficus benjamina",
          "Strelitzia reginae",
          "Plerandra elegantissima",
          "Chamaedorea elegans",
          "Dypsis lutescens",
          "Ficus benghalensis",
          "Gardenia jasminoides",
          "Beaucarnea recurvata",
          "Euphorbia tirucalli",
          "Alocasia zebrina",
          "Alocasia",
          "Guzmania",
          "Codiaeum variegatum",
          "Caladium bicolor",
          "Aspidistra elatior",
          "Peperomia argyreia",
          "Asparagus densiflorus",
          "Hyacinthus orientalis",
          "Soleirolia soleirolii",
          "Microsorum pustulatum",
          "Ficus",
          "Peperomia caperata",
          "Caladium",
          "Sansevieria trifasciata",
          "Schlumbergera truncata",
          "Cyclamen persicum",
          "Hoya carnosa",
          "Basella alba",
          "Saxifraga stolonifera",
          "Hibiscus rosa-sinensis",
          "Punica granatum",
          "Chlorophytum comosum",
          "Goeppertia roseopicta",
          "Pachira aquatica",
          "Vanilla planifolia",
          "Sedum",
          "Helleborus niger",
          "Ludisia discolor",
          "Brugmansia",
          "Pentas lanceolata",
          "Fatsia japonica",
          "Schefflera arboricola",
          "Tradescantia fluminensis",
          "Primula vulgaris",
          "Scilla mischtschenkoana",
          "Impatiens hawkeri",
          "Adiantum raddianum",
          "Ananas comosus",
          "Calathea zebrina",
          "Alocasia macrorrhizos",
          "Ginkgo biloba",
          "Nephrolepis exaltata",
          "Ficus lyrata",
          "Zantedeschia aethiopica",
          "Scilla siberica",
          "Juncus",
          "Euphorbia lactea",
          "Cordyline fruticosa",
          "Philodendron hederaceum",
          "Crassula ovata",
          "Rosa",
          "Aphelandra squarrosa",
          "Cuphea hyssopifolia",
          "Fritillaria meleagris",
          "Hydrangea macrophylla",
          "Platycerium bifurcatum",
          "Saintpaulia ionantha",
          "Pilea involucrata",
          "Cissus discolor",
          "Dendrobium",
          "Radermachera sinica",
          "Alocasia x amazonica",
          "Pellaea rotundifolia",
          "Aglaonema",
          "Schefflera actinophylla",
          "Asparagus plumosus",
          "Stephanotis floribunda",
          "Polyscias",
          "Anthurium andraeanum",
          "Pelargonium peltatum",
          "Kalanchoe blossfeldiana",
          "Narcissus 'Golden Dawn'",
          "Rosa rubiginosa",
          "Musa acuminata",
          "Begonia rex-cultorum",
          "Dracaena fragrans 'Lemon Lime'",
          "Dracaena fragrans",
          "Dracaena marginata",
          "Fittonia albivenis",
          "Pelargonium × hortorum",
          "Hippeastrum",
          "Pelargonium scented-leaves",
          "Sarracenia rubra",
          "Sarracenia flava",
          "Pericallis × hybrida",
          "Begonia",
          "Ficus carica",
          "Ficus pumila",
          "Ficus religiosa"
         ],
         "type": "scatter",
         "x": [
          0.22892224788665771,
          -0.9227883219718933,
          -1.3655179738998413,
          -10.999370574951172,
          -2.2904393672943115,
          0.0981362983584404,
          -0.04888984560966492,
          -4.415970802307129,
          -2.6524159908294678,
          0.7520834803581238,
          -1.398543119430542,
          -0.4359269142150879,
          -1.9394490718841553,
          -10.982288360595703,
          -7.015495300292969,
          -5.343376159667969,
          0.5003075003623962,
          3.200730562210083,
          -10.714154243469238,
          -9.767426490783691,
          -7.089094161987305,
          -10.214033126831055,
          -1.7220582962036133,
          -11.262676239013672,
          0.11363078653812408,
          -10.580641746520996,
          -4.893600940704346,
          -7.072467803955078,
          -11.829322814941406,
          -5.9956769943237305,
          -7.0890936851501465,
          -0.7362198233604431,
          3.2773306369781494,
          -4.664669513702393,
          -1.3975048065185547,
          0.2289152592420578,
          0.1136360839009285,
          -10.215354919433594,
          -7.201668739318848,
          0.11350643634796143,
          -10.579347610473633,
          -7.138517379760742,
          0.8361683487892151,
          -5.9960761070251465,
          -6.089001178741455,
          -1.4030561447143555,
          -4.415970325469971,
          -2.346559762954712,
          -3.912257432937622,
          -0.735724925994873,
          -3.9034371376037598,
          -7.089094161987305,
          -4.203637599945068,
          -2.4200289249420166,
          3.3300278186798096,
          -1.9122254848480225,
          -1.7200214862823486,
          -1.1115506887435913,
          0.11350098997354507,
          0.43605393171310425,
          0.8361912965774536,
          -0.44860607385635376,
          -7.196850776672363,
          -11.242950439453125,
          -9.854482650756836,
          -5.132291793823242,
          -0.4486061632633209,
          0.03003183752298355,
          -10.682633399963379,
          -11.827917098999023,
          -0.4486062824726105,
          -10.682644844055176,
          -10.42765998840332,
          -0.4359239935874939,
          -2.4200785160064697,
          -2.5387697219848633,
          -1.9150714874267578,
          -1.111594796180725,
          -1.5541881322860718,
          -7.138528347015381,
          0.5003233551979065,
          -1.4937396049499512,
          3.3198013305664062,
          -4.593331336975098,
          -6.991283416748047,
          0.7520825862884521,
          -1.8020257949829102,
          -2.4200785160064697,
          -7.201669216156006,
          -3.903437376022339,
          -4.415970325469971,
          -2.094595432281494,
          -5.996075630187988,
          0.22894704341888428,
          3.2326443195343018,
          -0.37503787875175476,
          0.5003067851066589,
          -0.6655672788619995,
          -5.203919410705566,
          -10.208756446838379,
          -10.681124687194824,
          -1.939432144165039,
          -6.157118320465088,
          -5.568649768829346,
          -0.7362566590309143,
          0.03003191575407982,
          -11.573776245117188,
          -11.44502067565918,
          -3.5797834396362305,
          0.5002954006195068,
          -2.6528866291046143,
          -6.090074062347412,
          -1.750478744506836,
          -10.068482398986816,
          0.5003232955932617,
          -11.46324348449707,
          0.7521162629127502,
          3.2773311138153076,
          -4.204926013946533,
          0.2289215624332428,
          -10.228657722473145,
          -7.0890936851501465,
          -4.204930782318115,
          -10.2293062210083,
          -0.14786852896213531,
          -3.6856744289398193,
          0.8361907601356506,
          -0.7378252148628235,
          -3.7078261375427246,
          -5.867004871368408,
          -3.2131729125976562,
          -1.2343790531158447,
          3.3324034214019775,
          -10.983246803283691,
          -11.001049041748047,
          -11.272647857666016,
          -11.747007369995117,
          -3.9034385681152344,
          -1.4873125553131104,
          -3.9034383296966553,
          -3.451673984527588,
          -3.451428174972534,
          3.2773311138153076,
          3.27691650390625,
          -2.194554328918457,
          -9.763504981994629,
          -2.420077323913574
         ],
         "y": [
          10.650458335876465,
          8.158509254455566,
          3.2719523906707764,
          -6.625526428222656,
          8.805118560791016,
          4.969919204711914,
          4.866171360015869,
          -2.543034553527832,
          -1.8786542415618896,
          11.28577709197998,
          -1.135215401649475,
          10.781241416931152,
          5.49639368057251,
          -7.392588138580322,
          0.005779249593615532,
          -0.24327898025512695,
          8.122696876525879,
          11.011853218078613,
          -7.021701335906982,
          -7.023459434509277,
          -4.466701507568359,
          -7.712831974029541,
          -1.6971726417541504,
          -6.80623722076416,
          11.18830394744873,
          -7.21897554397583,
          1.1307533979415894,
          -0.22332598268985748,
          -7.44704008102417,
          0.5580741763114929,
          -4.466701507568359,
          5.271328926086426,
          10.665580749511719,
          -2.1555912494659424,
          10.384864807128906,
          10.650609970092773,
          11.188279151916504,
          -7.715822219848633,
          -3.6662001609802246,
          11.18780517578125,
          -7.224734306335449,
          -4.076228618621826,
          10.822383880615234,
          0.5580868124961853,
          0.7837011218070984,
          -1.1348655223846436,
          -2.543034076690674,
          -1.0910552740097046,
          -2.917879581451416,
          5.2718610763549805,
          -2.981182813644409,
          -4.466701507568359,
          -3.1424970626831055,
          -2.2428009510040283,
          10.759981155395508,
          -1.5212022066116333,
          -1.6924855709075928,
          5.102586269378662,
          11.187779426574707,
          7.352985858917236,
          10.822566032409668,
          8.056610107421875,
          -3.666471481323242,
          -6.987803936004639,
          -6.837838172912598,
          1.1989325284957886,
          8.056609153747559,
          8.04930591583252,
          -7.888566493988037,
          -7.450807094573975,
          8.056610107421875,
          -7.888598442077637,
          -8.907282829284668,
          10.781220436096191,
          -2.2427926063537598,
          3.3952410221099854,
          8.587442398071289,
          5.102625846862793,
          3.2324020862579346,
          -4.07623815536499,
          8.1227445602417,
          5.750125885009766,
          9.737046241760254,
          0.7016708254814148,
          0.15376019477844238,
          11.285778045654297,
          3.599275827407837,
          -2.2427926063537598,
          -3.6661999225616455,
          -2.9811527729034424,
          -2.543034315109253,
          9.859886169433594,
          0.5580869913101196,
          10.65029239654541,
          10.587766647338867,
          3.7498104572296143,
          8.122703552246094,
          11.558772087097168,
          1.283082127571106,
          -7.702008247375488,
          -7.884714126586914,
          5.496435165405273,
          0.9663323760032654,
          1.9367554187774658,
          5.271316051483154,
          8.04930591583252,
          -7.982652187347412,
          -8.104684829711914,
          2.850843906402588,
          8.122678756713867,
          -1.8790303468704224,
          0.7836472392082214,
          10.152447700500488,
          -6.546028137207031,
          8.1227388381958,
          -8.094941139221191,
          11.285686492919922,
          10.665581703186035,
          -3.144404411315918,
          10.650459289550781,
          -6.414132595062256,
          -4.466701984405518,
          -3.1445822715759277,
          -6.415824890136719,
          5.552690029144287,
          -3.4191884994506836,
          10.822566032409668,
          5.269568920135498,
          -2.17403244972229,
          0.27915942668914795,
          3.0791327953338623,
          3.7257325649261475,
          9.793092727661133,
          -7.393092155456543,
          -6.62612771987915,
          -6.83432674407959,
          -7.667428016662598,
          -2.9811131954193115,
          4.976487159729004,
          -2.9810991287231445,
          5.094302654266357,
          5.094203948974609,
          10.665581703186035,
          10.66533374786377,
          4.732724189758301,
          -7.031698226928711,
          -2.242793321609497
         ]
        }
       ],
       "layout": {
        "template": {
         "data": {
          "bar": [
           {
            "error_x": {
             "color": "#2a3f5f"
            },
            "error_y": {
             "color": "#2a3f5f"
            },
            "marker": {
             "line": {
              "color": "#E5ECF6",
              "width": 0.5
             },
             "pattern": {
              "fillmode": "overlay",
              "size": 10,
              "solidity": 0.2
             }
            },
            "type": "bar"
           }
          ],
          "barpolar": [
           {
            "marker": {
             "line": {
              "color": "#E5ECF6",
              "width": 0.5
             },
             "pattern": {
              "fillmode": "overlay",
              "size": 10,
              "solidity": 0.2
             }
            },
            "type": "barpolar"
           }
          ],
          "carpet": [
           {
            "aaxis": {
             "endlinecolor": "#2a3f5f",
             "gridcolor": "white",
             "linecolor": "white",
             "minorgridcolor": "white",
             "startlinecolor": "#2a3f5f"
            },
            "baxis": {
             "endlinecolor": "#2a3f5f",
             "gridcolor": "white",
             "linecolor": "white",
             "minorgridcolor": "white",
             "startlinecolor": "#2a3f5f"
            },
            "type": "carpet"
           }
          ],
          "choropleth": [
           {
            "colorbar": {
             "outlinewidth": 0,
             "ticks": ""
            },
            "type": "choropleth"
           }
          ],
          "contour": [
           {
            "colorbar": {
             "outlinewidth": 0,
             "ticks": ""
            },
            "colorscale": [
             [
              0,
              "#0d0887"
             ],
             [
              0.1111111111111111,
              "#46039f"
             ],
             [
              0.2222222222222222,
              "#7201a8"
             ],
             [
              0.3333333333333333,
              "#9c179e"
             ],
             [
              0.4444444444444444,
              "#bd3786"
             ],
             [
              0.5555555555555556,
              "#d8576b"
             ],
             [
              0.6666666666666666,
              "#ed7953"
             ],
             [
              0.7777777777777778,
              "#fb9f3a"
             ],
             [
              0.8888888888888888,
              "#fdca26"
             ],
             [
              1,
              "#f0f921"
             ]
            ],
            "type": "contour"
           }
          ],
          "contourcarpet": [
           {
            "colorbar": {
             "outlinewidth": 0,
             "ticks": ""
            },
            "type": "contourcarpet"
           }
          ],
          "heatmap": [
           {
            "colorbar": {
             "outlinewidth": 0,
             "ticks": ""
            },
            "colorscale": [
             [
              0,
              "#0d0887"
             ],
             [
              0.1111111111111111,
              "#46039f"
             ],
             [
              0.2222222222222222,
              "#7201a8"
             ],
             [
              0.3333333333333333,
              "#9c179e"
             ],
             [
              0.4444444444444444,
              "#bd3786"
             ],
             [
              0.5555555555555556,
              "#d8576b"
             ],
             [
              0.6666666666666666,
              "#ed7953"
             ],
             [
              0.7777777777777778,
              "#fb9f3a"
             ],
             [
              0.8888888888888888,
              "#fdca26"
             ],
             [
              1,
              "#f0f921"
             ]
            ],
            "type": "heatmap"
           }
          ],
          "heatmapgl": [
           {
            "colorbar": {
             "outlinewidth": 0,
             "ticks": ""
            },
            "colorscale": [
             [
              0,
              "#0d0887"
             ],
             [
              0.1111111111111111,
              "#46039f"
             ],
             [
              0.2222222222222222,
              "#7201a8"
             ],
             [
              0.3333333333333333,
              "#9c179e"
             ],
             [
              0.4444444444444444,
              "#bd3786"
             ],
             [
              0.5555555555555556,
              "#d8576b"
             ],
             [
              0.6666666666666666,
              "#ed7953"
             ],
             [
              0.7777777777777778,
              "#fb9f3a"
             ],
             [
              0.8888888888888888,
              "#fdca26"
             ],
             [
              1,
              "#f0f921"
             ]
            ],
            "type": "heatmapgl"
           }
          ],
          "histogram": [
           {
            "marker": {
             "pattern": {
              "fillmode": "overlay",
              "size": 10,
              "solidity": 0.2
             }
            },
            "type": "histogram"
           }
          ],
          "histogram2d": [
           {
            "colorbar": {
             "outlinewidth": 0,
             "ticks": ""
            },
            "colorscale": [
             [
              0,
              "#0d0887"
             ],
             [
              0.1111111111111111,
              "#46039f"
             ],
             [
              0.2222222222222222,
              "#7201a8"
             ],
             [
              0.3333333333333333,
              "#9c179e"
             ],
             [
              0.4444444444444444,
              "#bd3786"
             ],
             [
              0.5555555555555556,
              "#d8576b"
             ],
             [
              0.6666666666666666,
              "#ed7953"
             ],
             [
              0.7777777777777778,
              "#fb9f3a"
             ],
             [
              0.8888888888888888,
              "#fdca26"
             ],
             [
              1,
              "#f0f921"
             ]
            ],
            "type": "histogram2d"
           }
          ],
          "histogram2dcontour": [
           {
            "colorbar": {
             "outlinewidth": 0,
             "ticks": ""
            },
            "colorscale": [
             [
              0,
              "#0d0887"
             ],
             [
              0.1111111111111111,
              "#46039f"
             ],
             [
              0.2222222222222222,
              "#7201a8"
             ],
             [
              0.3333333333333333,
              "#9c179e"
             ],
             [
              0.4444444444444444,
              "#bd3786"
             ],
             [
              0.5555555555555556,
              "#d8576b"
             ],
             [
              0.6666666666666666,
              "#ed7953"
             ],
             [
              0.7777777777777778,
              "#fb9f3a"
             ],
             [
              0.8888888888888888,
              "#fdca26"
             ],
             [
              1,
              "#f0f921"
             ]
            ],
            "type": "histogram2dcontour"
           }
          ],
          "mesh3d": [
           {
            "colorbar": {
             "outlinewidth": 0,
             "ticks": ""
            },
            "type": "mesh3d"
           }
          ],
          "parcoords": [
           {
            "line": {
             "colorbar": {
              "outlinewidth": 0,
              "ticks": ""
             }
            },
            "type": "parcoords"
           }
          ],
          "pie": [
           {
            "automargin": true,
            "type": "pie"
           }
          ],
          "scatter": [
           {
            "fillpattern": {
             "fillmode": "overlay",
             "size": 10,
             "solidity": 0.2
            },
            "type": "scatter"
           }
          ],
          "scatter3d": [
           {
            "line": {
             "colorbar": {
              "outlinewidth": 0,
              "ticks": ""
             }
            },
            "marker": {
             "colorbar": {
              "outlinewidth": 0,
              "ticks": ""
             }
            },
            "type": "scatter3d"
           }
          ],
          "scattercarpet": [
           {
            "marker": {
             "colorbar": {
              "outlinewidth": 0,
              "ticks": ""
             }
            },
            "type": "scattercarpet"
           }
          ],
          "scattergeo": [
           {
            "marker": {
             "colorbar": {
              "outlinewidth": 0,
              "ticks": ""
             }
            },
            "type": "scattergeo"
           }
          ],
          "scattergl": [
           {
            "marker": {
             "colorbar": {
              "outlinewidth": 0,
              "ticks": ""
             }
            },
            "type": "scattergl"
           }
          ],
          "scattermapbox": [
           {
            "marker": {
             "colorbar": {
              "outlinewidth": 0,
              "ticks": ""
             }
            },
            "type": "scattermapbox"
           }
          ],
          "scatterpolar": [
           {
            "marker": {
             "colorbar": {
              "outlinewidth": 0,
              "ticks": ""
             }
            },
            "type": "scatterpolar"
           }
          ],
          "scatterpolargl": [
           {
            "marker": {
             "colorbar": {
              "outlinewidth": 0,
              "ticks": ""
             }
            },
            "type": "scatterpolargl"
           }
          ],
          "scatterternary": [
           {
            "marker": {
             "colorbar": {
              "outlinewidth": 0,
              "ticks": ""
             }
            },
            "type": "scatterternary"
           }
          ],
          "surface": [
           {
            "colorbar": {
             "outlinewidth": 0,
             "ticks": ""
            },
            "colorscale": [
             [
              0,
              "#0d0887"
             ],
             [
              0.1111111111111111,
              "#46039f"
             ],
             [
              0.2222222222222222,
              "#7201a8"
             ],
             [
              0.3333333333333333,
              "#9c179e"
             ],
             [
              0.4444444444444444,
              "#bd3786"
             ],
             [
              0.5555555555555556,
              "#d8576b"
             ],
             [
              0.6666666666666666,
              "#ed7953"
             ],
             [
              0.7777777777777778,
              "#fb9f3a"
             ],
             [
              0.8888888888888888,
              "#fdca26"
             ],
             [
              1,
              "#f0f921"
             ]
            ],
            "type": "surface"
           }
          ],
          "table": [
           {
            "cells": {
             "fill": {
              "color": "#EBF0F8"
             },
             "line": {
              "color": "white"
             }
            },
            "header": {
             "fill": {
              "color": "#C8D4E3"
             },
             "line": {
              "color": "white"
             }
            },
            "type": "table"
           }
          ]
         },
         "layout": {
          "annotationdefaults": {
           "arrowcolor": "#2a3f5f",
           "arrowhead": 0,
           "arrowwidth": 1
          },
          "autotypenumbers": "strict",
          "coloraxis": {
           "colorbar": {
            "outlinewidth": 0,
            "ticks": ""
           }
          },
          "colorscale": {
           "diverging": [
            [
             0,
             "#8e0152"
            ],
            [
             0.1,
             "#c51b7d"
            ],
            [
             0.2,
             "#de77ae"
            ],
            [
             0.3,
             "#f1b6da"
            ],
            [
             0.4,
             "#fde0ef"
            ],
            [
             0.5,
             "#f7f7f7"
            ],
            [
             0.6,
             "#e6f5d0"
            ],
            [
             0.7,
             "#b8e186"
            ],
            [
             0.8,
             "#7fbc41"
            ],
            [
             0.9,
             "#4d9221"
            ],
            [
             1,
             "#276419"
            ]
           ],
           "sequential": [
            [
             0,
             "#0d0887"
            ],
            [
             0.1111111111111111,
             "#46039f"
            ],
            [
             0.2222222222222222,
             "#7201a8"
            ],
            [
             0.3333333333333333,
             "#9c179e"
            ],
            [
             0.4444444444444444,
             "#bd3786"
            ],
            [
             0.5555555555555556,
             "#d8576b"
            ],
            [
             0.6666666666666666,
             "#ed7953"
            ],
            [
             0.7777777777777778,
             "#fb9f3a"
            ],
            [
             0.8888888888888888,
             "#fdca26"
            ],
            [
             1,
             "#f0f921"
            ]
           ],
           "sequentialminus": [
            [
             0,
             "#0d0887"
            ],
            [
             0.1111111111111111,
             "#46039f"
            ],
            [
             0.2222222222222222,
             "#7201a8"
            ],
            [
             0.3333333333333333,
             "#9c179e"
            ],
            [
             0.4444444444444444,
             "#bd3786"
            ],
            [
             0.5555555555555556,
             "#d8576b"
            ],
            [
             0.6666666666666666,
             "#ed7953"
            ],
            [
             0.7777777777777778,
             "#fb9f3a"
            ],
            [
             0.8888888888888888,
             "#fdca26"
            ],
            [
             1,
             "#f0f921"
            ]
           ]
          },
          "colorway": [
           "#636efa",
           "#EF553B",
           "#00cc96",
           "#ab63fa",
           "#FFA15A",
           "#19d3f3",
           "#FF6692",
           "#B6E880",
           "#FF97FF",
           "#FECB52"
          ],
          "font": {
           "color": "#2a3f5f"
          },
          "geo": {
           "bgcolor": "white",
           "lakecolor": "white",
           "landcolor": "#E5ECF6",
           "showlakes": true,
           "showland": true,
           "subunitcolor": "white"
          },
          "hoverlabel": {
           "align": "left"
          },
          "hovermode": "closest",
          "mapbox": {
           "style": "light"
          },
          "paper_bgcolor": "white",
          "plot_bgcolor": "#E5ECF6",
          "polar": {
           "angularaxis": {
            "gridcolor": "white",
            "linecolor": "white",
            "ticks": ""
           },
           "bgcolor": "#E5ECF6",
           "radialaxis": {
            "gridcolor": "white",
            "linecolor": "white",
            "ticks": ""
           }
          },
          "scene": {
           "xaxis": {
            "backgroundcolor": "#E5ECF6",
            "gridcolor": "white",
            "gridwidth": 2,
            "linecolor": "white",
            "showbackground": true,
            "ticks": "",
            "zerolinecolor": "white"
           },
           "yaxis": {
            "backgroundcolor": "#E5ECF6",
            "gridcolor": "white",
            "gridwidth": 2,
            "linecolor": "white",
            "showbackground": true,
            "ticks": "",
            "zerolinecolor": "white"
           },
           "zaxis": {
            "backgroundcolor": "#E5ECF6",
            "gridcolor": "white",
            "gridwidth": 2,
            "linecolor": "white",
            "showbackground": true,
            "ticks": "",
            "zerolinecolor": "white"
           }
          },
          "shapedefaults": {
           "line": {
            "color": "#2a3f5f"
           }
          },
          "ternary": {
           "aaxis": {
            "gridcolor": "white",
            "linecolor": "white",
            "ticks": ""
           },
           "baxis": {
            "gridcolor": "white",
            "linecolor": "white",
            "ticks": ""
           },
           "bgcolor": "#E5ECF6",
           "caxis": {
            "gridcolor": "white",
            "linecolor": "white",
            "ticks": ""
           }
          },
          "title": {
           "x": 0.05
          },
          "xaxis": {
           "automargin": true,
           "gridcolor": "white",
           "linecolor": "white",
           "ticks": "",
           "title": {
            "standoff": 15
           },
           "zerolinecolor": "white",
           "zerolinewidth": 2
          },
          "yaxis": {
           "automargin": true,
           "gridcolor": "white",
           "linecolor": "white",
           "ticks": "",
           "title": {
            "standoff": 15
           },
           "zerolinecolor": "white",
           "zerolinewidth": 2
          }
         }
        }
       }
      }
     },
     "metadata": {},
     "output_type": "display_data"
    }
   ],
   "source": [
    "fig = go.Figure(data=go.Scatter(\n",
    "    x=plotting_df[\"maintenance_tsne_1\"], y=plotting_df[\"maintenance_tsne_2\"], mode=\"markers\",\n",
    "    text=plotting_df[\"Plant_Name\"],\n",
    "    marker=dict(\n",
    "        size=10,\n",
    "        color=plotting_df[\"Maintenance_Ordinal\"],\n",
    "        colorscale='Viridis', \n",
    "        showscale=True,\n",
    "    )\n",
    "))\n",
    "\n",
    "fig.show()"
   ]
  },
  {
   "cell_type": "markdown",
   "metadata": {},
   "source": [
    "## Now time to work on the sunlight vs watering scatter plot"
   ]
  },
  {
   "cell_type": "code",
   "execution_count": 7,
   "metadata": {},
   "outputs": [
    {
     "data": {
      "text/html": [
       "<div>\n",
       "<style scoped>\n",
       "    .dataframe tbody tr th:only-of-type {\n",
       "        vertical-align: middle;\n",
       "    }\n",
       "\n",
       "    .dataframe tbody tr th {\n",
       "        vertical-align: top;\n",
       "    }\n",
       "\n",
       "    .dataframe thead th {\n",
       "        text-align: right;\n",
       "    }\n",
       "</style>\n",
       "<table border=\"1\" class=\"dataframe\">\n",
       "  <thead>\n",
       "    <tr style=\"text-align: right;\">\n",
       "      <th></th>\n",
       "      <th>Plant_Name</th>\n",
       "      <th>Sunlight_Ordinal</th>\n",
       "      <th>Watering_Ordinal</th>\n",
       "    </tr>\n",
       "  </thead>\n",
       "  <tbody>\n",
       "    <tr>\n",
       "      <th>0</th>\n",
       "      <td>Aechmea</td>\n",
       "      <td>1</td>\n",
       "      <td>3</td>\n",
       "    </tr>\n",
       "    <tr>\n",
       "      <th>1</th>\n",
       "      <td>Ardisia crenata</td>\n",
       "      <td>2</td>\n",
       "      <td>3</td>\n",
       "    </tr>\n",
       "    <tr>\n",
       "      <th>2</th>\n",
       "      <td>Euphorbia milii</td>\n",
       "      <td>4</td>\n",
       "      <td>2</td>\n",
       "    </tr>\n",
       "  </tbody>\n",
       "</table>\n",
       "</div>"
      ],
      "text/plain": [
       "        Plant_Name  Sunlight_Ordinal  Watering_Ordinal\n",
       "0          Aechmea                 1                 3\n",
       "1  Ardisia crenata                 2                 3\n",
       "2  Euphorbia milii                 4                 2"
      ]
     },
     "execution_count": 7,
     "metadata": {},
     "output_type": "execute_result"
    }
   ],
   "source": [
    "# Great sunlight = more sunlight, greater water = more water. \n",
    "df_features[[\"Plant_Name\", \"Sunlight_Ordinal\", \"Watering_Ordinal\"]].head(3)"
   ]
  },
  {
   "cell_type": "code",
   "execution_count": 8,
   "metadata": {},
   "outputs": [],
   "source": [
    "plotting_df[\"Sunlight_jittered\"] = df_features[\"Sunlight_Ordinal\"] + np.random.uniform(-0.35,0.35,147)\n",
    "plotting_df[\"Watering_jittered\"] = df_features[\"Watering_Ordinal\"] + np.random.uniform(-0.35,0.35,147)"
   ]
  },
  {
   "cell_type": "code",
   "execution_count": 9,
   "metadata": {},
   "outputs": [
    {
     "data": {
      "application/vnd.plotly.v1+json": {
       "config": {
        "plotlyServerURL": "https://plotly.com"
       },
       "data": [
        {
         "marker": {
          "color": [
           2,
           2,
           2,
           1,
           2,
           2,
           2,
           1,
           1,
           2,
           1,
           2,
           2,
           1,
           1,
           1,
           2,
           3,
           1,
           1,
           1,
           1,
           1,
           1,
           2,
           1,
           1,
           1,
           1,
           1,
           1,
           2,
           3,
           1,
           2,
           2,
           2,
           1,
           1,
           2,
           1,
           1,
           2,
           1,
           1,
           1,
           1,
           1,
           1,
           2,
           1,
           1,
           1,
           1,
           3,
           1,
           1,
           2,
           2,
           2,
           2,
           2,
           1,
           1,
           1,
           1,
           2,
           2,
           1,
           1,
           2,
           1,
           1,
           2,
           1,
           2,
           2,
           2,
           2,
           1,
           2,
           2,
           3,
           1,
           1,
           2,
           2,
           1,
           1,
           1,
           1,
           2,
           1,
           2,
           3,
           3,
           2,
           2,
           1,
           1,
           1,
           2,
           1,
           1,
           2,
           2,
           1,
           1,
           2,
           2,
           1,
           1,
           2,
           1,
           2,
           1,
           2,
           3,
           1,
           2,
           1,
           1,
           1,
           1,
           2,
           1,
           2,
           2,
           1,
           1,
           2,
           2,
           3,
           1,
           1,
           1,
           1,
           1,
           2,
           1,
           3,
           3,
           3,
           3,
           2,
           1,
           1
          ],
          "colorscale": [
           [
            0,
            "blue"
           ],
           [
            0.5,
            "green"
           ],
           [
            1,
            "red"
           ]
          ],
          "showscale": true,
          "size": 10
         },
         "mode": "markers",
         "text": [
          "Aechmea",
          "Ardisia crenata",
          "Euphorbia milii",
          "Ficus elastica",
          "Woodsia obtusa",
          "Kalanchoe",
          "Kalanchoe thyrsiflora",
          "Tradescantia spathacea",
          "Capsicum annuum",
          "Begonia masoniana",
          "Aloe",
          "Oncidium",
          "Zantedeschia",
          "Epipremnum aureum",
          "Hedera helix",
          "Sedum makinoi",
          "Asplenium nidus",
          "Elettaria cardamomum",
          "Peperomia obtusifolia",
          "Araucaria heterophylla",
          "Plectranthus scutellarioides",
          "Cissus alata",
          "Adenium obesum",
          "Asplenium antiquum",
          "Coffea arabica",
          "Syngonium",
          "Helianthus annuus",
          "Asplenium",
          "Dracaena reflexa",
          "Leucojum aestivum",
          "Aglaonema commutatum",
          "Anthurium crassinervium",
          "Euphorbia pulcherrima",
          "Tradescantia zebrina",
          "Camellia japonica",
          "Monstera deliciosa",
          "Hypoestes phyllostachya",
          "Peperomia",
          "Adiantum hispidulum",
          "Medinilla magnifica",
          "Syngonium podophyllum",
          "Rhapis excelsa",
          "Scindapsus pictus",
          "Campanula portenschlagiana",
          "Crocus vernus",
          "Aloe vera",
          "Cycas revoluta",
          "Pinus pinea",
          "Ficus benjamina",
          "Strelitzia reginae",
          "Plerandra elegantissima",
          "Chamaedorea elegans",
          "Dypsis lutescens",
          "Ficus benghalensis",
          "Gardenia jasminoides",
          "Beaucarnea recurvata",
          "Euphorbia tirucalli",
          "Alocasia zebrina",
          "Alocasia",
          "Guzmania",
          "Codiaeum variegatum",
          "Caladium bicolor",
          "Aspidistra elatior",
          "Peperomia argyreia",
          "Asparagus densiflorus",
          "Hyacinthus orientalis",
          "Soleirolia soleirolii",
          "Microsorum pustulatum",
          "Ficus",
          "Peperomia caperata",
          "Caladium",
          "Sansevieria trifasciata",
          "Schlumbergera truncata",
          "Cyclamen persicum",
          "Hoya carnosa",
          "Basella alba",
          "Saxifraga stolonifera",
          "Hibiscus rosa-sinensis",
          "Punica granatum",
          "Chlorophytum comosum",
          "Goeppertia roseopicta",
          "Pachira aquatica",
          "Vanilla planifolia",
          "Sedum",
          "Helleborus niger",
          "Ludisia discolor",
          "Brugmansia",
          "Pentas lanceolata",
          "Fatsia japonica",
          "Schefflera arboricola",
          "Tradescantia fluminensis",
          "Primula vulgaris",
          "Scilla mischtschenkoana",
          "Impatiens hawkeri",
          "Adiantum raddianum",
          "Ananas comosus",
          "Calathea zebrina",
          "Alocasia macrorrhizos",
          "Ginkgo biloba",
          "Nephrolepis exaltata",
          "Ficus lyrata",
          "Zantedeschia aethiopica",
          "Scilla siberica",
          "Juncus",
          "Euphorbia lactea",
          "Cordyline fruticosa",
          "Philodendron hederaceum",
          "Crassula ovata",
          "Rosa",
          "Aphelandra squarrosa",
          "Cuphea hyssopifolia",
          "Fritillaria meleagris",
          "Hydrangea macrophylla",
          "Platycerium bifurcatum",
          "Saintpaulia ionantha",
          "Pilea involucrata",
          "Cissus discolor",
          "Dendrobium",
          "Radermachera sinica",
          "Alocasia x amazonica",
          "Pellaea rotundifolia",
          "Aglaonema",
          "Schefflera actinophylla",
          "Asparagus plumosus",
          "Stephanotis floribunda",
          "Polyscias",
          "Anthurium andraeanum",
          "Pelargonium peltatum",
          "Kalanchoe blossfeldiana",
          "Narcissus 'Golden Dawn'",
          "Rosa rubiginosa",
          "Musa acuminata",
          "Begonia rex-cultorum",
          "Dracaena fragrans 'Lemon Lime'",
          "Dracaena fragrans",
          "Dracaena marginata",
          "Fittonia albivenis",
          "Pelargonium × hortorum",
          "Hippeastrum",
          "Pelargonium scented-leaves",
          "Sarracenia rubra",
          "Sarracenia flava",
          "Pericallis × hybrida",
          "Begonia",
          "Ficus carica",
          "Ficus pumila",
          "Ficus religiosa"
         ],
         "type": "scatter",
         "x": [
          0.9053276412300729,
          1.7180830774865221,
          3.710534335828119,
          1.3435391256976237,
          2.068910316516794,
          2.890477804921564,
          2.866145478549698,
          3.2224007975531497,
          4.197310108202916,
          0.7832742928194677,
          3.8987029133503746,
          1.3288547969617373,
          3.0559843339638704,
          1.0397270884568337,
          1.967597717507644,
          2.728179016879264,
          2.349879824121847,
          1.287442991446835,
          0.836281269147099,
          1.339756294265897,
          1.9420609255028205,
          0.8498425986931201,
          3.7932346624962316,
          0.8892331522267071,
          1.0257179249106871,
          0.7390704836092065,
          3.908116725290595,
          2.0647333657285363,
          1.2987712348246871,
          3.00331798655771,
          2.1437007313868284,
          2.6841096708236285,
          0.9632889704408115,
          2.9465859061738833,
          1.1992452470204285,
          1.1215003904196206,
          1.0224521380947453,
          0.9979194121606112,
          2.277797524358094,
          0.9227867214529728,
          0.8311767107458821,
          2.3225526953502307,
          1.0753924522203826,
          2.713141972417558,
          2.9360650823298986,
          4.232270892772282,
          2.674154801469294,
          4.304611159581555,
          2.977951032801938,
          2.78041292180088,
          2.6566409742846577,
          1.7785947162974907,
          2.9377957590974453,
          4.299081723314795,
          0.8519550917725575,
          3.8011251495285685,
          3.7164322612198757,
          2.8711793716516376,
          0.7197297977229177,
          1.9466866292725336,
          0.9005624265655447,
          2.180366002313369,
          2.210511145697359,
          0.9800763892323702,
          0.7191106636264051,
          3.9007618162346187,
          1.8372757700088693,
          1.945318904297309,
          0.88155101444301,
          1.007096040516544,
          1.724726697795811,
          1.0300633897217855,
          1.321636283960842,
          0.6709200164646755,
          3.750364573003508,
          3.732194644894594,
          2.2779984948470533,
          3.25437537524025,
          3.875049205071221,
          2.269356694502619,
          2.1286438450112195,
          2.6948190095837607,
          1.8037848932299152,
          4.326165956266756,
          1.9464165929842785,
          0.857178943016516,
          3.6628159959435798,
          3.9623162682592357,
          1.8997548840414178,
          2.6910016385973723,
          3.2899648932398375,
          0.8700431763465538,
          2.7125106150995704,
          1.2733565220076741,
          1.2195345251780223,
          4.255833513781571,
          2.031796653334686,
          1.068663637287386,
          3.6643175877600016,
          0.7597344016302636,
          1.3247870727665818,
          3.0277121093034265,
          2.7568097935789506,
          4.1713241475058815,
          3.1315417584084893,
          2.2527206788336005,
          0.9244370715739979,
          0.6771304606503845,
          3.7430697217653073,
          2.060806641088407,
          3.7002005713463197,
          3.3028547564650363,
          0.724094899434148,
          0.9997119232711641,
          1.7596084040917754,
          0.6677720636013106,
          0.7444195535235947,
          0.9791022338954629,
          3.1187682879531033,
          1.2582674578449127,
          1.0867147485836808,
          1.8882219455559908,
          2.7544535768714042,
          0.9590561855973893,
          2.7764188337519573,
          2.758108470855124,
          0.9469708114270448,
          2.8305664126361347,
          3.1204181945733636,
          2.9191350141561427,
          3.6615798706101623,
          4.137299276032708,
          1.8949865720179673,
          0.7253037909685071,
          0.9052308877282723,
          1.139095176422956,
          1.0948596904787424,
          2.711438354032199,
          2.8656364066270874,
          2.840879916925422,
          3.822673810063383,
          3.8660941778631543,
          1.3193415770783736,
          0.9654288298663776,
          3.1126948857184678,
          0.7037825221022282,
          3.7973927221249046
         ],
         "y": [
          3.1297230982997886,
          3.10164404286083,
          1.9059999082245072,
          2.815783415864444,
          2.8251628884667808,
          2.052095413726558,
          1.7812847846660813,
          2.861363650013603,
          3.166265925310988,
          2.750017036556893,
          0.8251602871732744,
          3.0440506249768298,
          3.9883449322897047,
          3.132910773999942,
          2.689837660123574,
          2.306015777259676,
          3.038575191160298,
          3.7238624743712694,
          2.6913824124884673,
          2.870002158987004,
          2.9187496566708635,
          2.6779416657478685,
          2.3305118856626867,
          2.6809242501488644,
          2.770095439741222,
          3.1516540193516516,
          2.3301060129733626,
          2.819141555519254,
          2.7633027106957653,
          2.666644892358258,
          3.197567578557643,
          3.2066733840090733,
          3.0373116641073947,
          2.8965640058552085,
          2.702898116429038,
          3.2675254296357497,
          2.652512197836521,
          2.7189574182768013,
          2.7931634871503097,
          2.9173674495333417,
          2.7750164723404356,
          2.8690998501148917,
          3.2609357899991753,
          3.04315010228223,
          2.7974798525006146,
          0.694791335075992,
          3.0351054418748347,
          1.8578551296618766,
          3.146781679283445,
          3.158195215408808,
          2.981569896810228,
          3.186634661907194,
          2.791741681185074,
          2.9361113867405444,
          3.165908300697992,
          2.302842259755919,
          2.295211465903778,
          2.8497269226531023,
          3.1043178172480044,
          1.6560893148437494,
          3.093410547944981,
          2.7643517192612297,
          2.8324202859668857,
          3.0606292818450425,
          2.968455379332609,
          2.6667899143933282,
          3.0600506068629874,
          2.9673248928091507,
          2.937061322134126,
          3.1466670122281686,
          3.1960919504185776,
          2.915349151793481,
          2.226019298745918,
          3.3198810827564103,
          2.9493176053131767,
          2.769614696992219,
          3.016878739206098,
          2.854806059001545,
          2.243728639834223,
          3.25274850478182,
          3.1300215914661087,
          4.293003108330017,
          2.95566991858109,
          2.089250899739577,
          2.692067781484978,
          2.843540814381857,
          3.3031227856745833,
          2.7259574417370716,
          2.6600395378639146,
          2.855350022285143,
          2.939484033129168,
          2.922120319404683,
          2.8619576461250693,
          3.2235831093613996,
          3.1213702337971565,
          2.8159561117813174,
          3.158847077979502,
          4.106324532061018,
          2.942513704670985,
          3.244985631630564,
          2.8681395718627405,
          3.6643831986229434,
          2.7740028053131263,
          4.927942651908641,
          2.7399235438236453,
          2.7209791662303453,
          2.8707814842532886,
          3.136192244096585,
          3.095638598605247,
          3.063254785003571,
          3.080016401182867,
          2.9394663372766607,
          3.2578567997360612,
          2.8265633558176644,
          3.1577581256801897,
          3.065119398060341,
          2.781700234825574,
          2.7115267178230678,
          2.9030057099367044,
          2.8760506644050574,
          2.6511081595186883,
          2.7539655404833465,
          3.22431658304768,
          3.0854023647515816,
          3.2566627101899437,
          3.116105295634516,
          3.040446479199069,
          3.1489748382160894,
          1.8958683340980143,
          3.185503620644039,
          2.956152524189022,
          2.840277595263677,
          3.1977331501809587,
          2.7473539215226515,
          2.6789335517944557,
          2.6584003589729632,
          3.331002431463253,
          2.7416181614631108,
          3.248075448280594,
          3.1468820545998706,
          5.1543487222441575,
          4.9979707750213045,
          3.327549052734343,
          2.9876057331736994,
          2.746323241476212,
          3.154114984412147,
          3.2901430730872945
         ]
        }
       ],
       "layout": {
        "annotations": [
         {
          "align": "center",
          "ax": 2.5,
          "axref": "x",
          "ay": -0.2,
          "showarrow": false,
          "text": "Requires More Sunlight",
          "x": 2.5,
          "xref": "x",
          "y": -0.2,
          "yref": "paper"
         },
         {
          "arrowcolor": "#645754",
          "arrowhead": 2,
          "arrowsize": 1,
          "arrowwidth": 3,
          "ax": 0.6,
          "axref": "x",
          "ay": -0.1,
          "showarrow": true,
          "x": 4.4,
          "xref": "x",
          "y": -0.1,
          "yref": "paper"
         },
         {
          "align": "center",
          "ax": -0.05,
          "axref": "x",
          "ay": 2.5,
          "ayref": "y",
          "showarrow": false,
          "text": "Requires More Watering",
          "textangle": -90,
          "x": -0.05,
          "xref": "paper",
          "y": 2.5,
          "yref": "y"
         },
         {
          "arrowcolor": "#645754",
          "arrowhead": 2,
          "arrowsize": 1,
          "arrowwidth": 3,
          "ax": -0.02,
          "ay": 0,
          "ayref": "y",
          "showarrow": true,
          "x": -0.02,
          "xref": "paper",
          "y": 4.8,
          "yref": "y"
         }
        ],
        "showlegend": false,
        "template": {
         "data": {
          "bar": [
           {
            "error_x": {
             "color": "#2a3f5f"
            },
            "error_y": {
             "color": "#2a3f5f"
            },
            "marker": {
             "line": {
              "color": "#E5ECF6",
              "width": 0.5
             },
             "pattern": {
              "fillmode": "overlay",
              "size": 10,
              "solidity": 0.2
             }
            },
            "type": "bar"
           }
          ],
          "barpolar": [
           {
            "marker": {
             "line": {
              "color": "#E5ECF6",
              "width": 0.5
             },
             "pattern": {
              "fillmode": "overlay",
              "size": 10,
              "solidity": 0.2
             }
            },
            "type": "barpolar"
           }
          ],
          "carpet": [
           {
            "aaxis": {
             "endlinecolor": "#2a3f5f",
             "gridcolor": "white",
             "linecolor": "white",
             "minorgridcolor": "white",
             "startlinecolor": "#2a3f5f"
            },
            "baxis": {
             "endlinecolor": "#2a3f5f",
             "gridcolor": "white",
             "linecolor": "white",
             "minorgridcolor": "white",
             "startlinecolor": "#2a3f5f"
            },
            "type": "carpet"
           }
          ],
          "choropleth": [
           {
            "colorbar": {
             "outlinewidth": 0,
             "ticks": ""
            },
            "type": "choropleth"
           }
          ],
          "contour": [
           {
            "colorbar": {
             "outlinewidth": 0,
             "ticks": ""
            },
            "colorscale": [
             [
              0,
              "#0d0887"
             ],
             [
              0.1111111111111111,
              "#46039f"
             ],
             [
              0.2222222222222222,
              "#7201a8"
             ],
             [
              0.3333333333333333,
              "#9c179e"
             ],
             [
              0.4444444444444444,
              "#bd3786"
             ],
             [
              0.5555555555555556,
              "#d8576b"
             ],
             [
              0.6666666666666666,
              "#ed7953"
             ],
             [
              0.7777777777777778,
              "#fb9f3a"
             ],
             [
              0.8888888888888888,
              "#fdca26"
             ],
             [
              1,
              "#f0f921"
             ]
            ],
            "type": "contour"
           }
          ],
          "contourcarpet": [
           {
            "colorbar": {
             "outlinewidth": 0,
             "ticks": ""
            },
            "type": "contourcarpet"
           }
          ],
          "heatmap": [
           {
            "colorbar": {
             "outlinewidth": 0,
             "ticks": ""
            },
            "colorscale": [
             [
              0,
              "#0d0887"
             ],
             [
              0.1111111111111111,
              "#46039f"
             ],
             [
              0.2222222222222222,
              "#7201a8"
             ],
             [
              0.3333333333333333,
              "#9c179e"
             ],
             [
              0.4444444444444444,
              "#bd3786"
             ],
             [
              0.5555555555555556,
              "#d8576b"
             ],
             [
              0.6666666666666666,
              "#ed7953"
             ],
             [
              0.7777777777777778,
              "#fb9f3a"
             ],
             [
              0.8888888888888888,
              "#fdca26"
             ],
             [
              1,
              "#f0f921"
             ]
            ],
            "type": "heatmap"
           }
          ],
          "heatmapgl": [
           {
            "colorbar": {
             "outlinewidth": 0,
             "ticks": ""
            },
            "colorscale": [
             [
              0,
              "#0d0887"
             ],
             [
              0.1111111111111111,
              "#46039f"
             ],
             [
              0.2222222222222222,
              "#7201a8"
             ],
             [
              0.3333333333333333,
              "#9c179e"
             ],
             [
              0.4444444444444444,
              "#bd3786"
             ],
             [
              0.5555555555555556,
              "#d8576b"
             ],
             [
              0.6666666666666666,
              "#ed7953"
             ],
             [
              0.7777777777777778,
              "#fb9f3a"
             ],
             [
              0.8888888888888888,
              "#fdca26"
             ],
             [
              1,
              "#f0f921"
             ]
            ],
            "type": "heatmapgl"
           }
          ],
          "histogram": [
           {
            "marker": {
             "pattern": {
              "fillmode": "overlay",
              "size": 10,
              "solidity": 0.2
             }
            },
            "type": "histogram"
           }
          ],
          "histogram2d": [
           {
            "colorbar": {
             "outlinewidth": 0,
             "ticks": ""
            },
            "colorscale": [
             [
              0,
              "#0d0887"
             ],
             [
              0.1111111111111111,
              "#46039f"
             ],
             [
              0.2222222222222222,
              "#7201a8"
             ],
             [
              0.3333333333333333,
              "#9c179e"
             ],
             [
              0.4444444444444444,
              "#bd3786"
             ],
             [
              0.5555555555555556,
              "#d8576b"
             ],
             [
              0.6666666666666666,
              "#ed7953"
             ],
             [
              0.7777777777777778,
              "#fb9f3a"
             ],
             [
              0.8888888888888888,
              "#fdca26"
             ],
             [
              1,
              "#f0f921"
             ]
            ],
            "type": "histogram2d"
           }
          ],
          "histogram2dcontour": [
           {
            "colorbar": {
             "outlinewidth": 0,
             "ticks": ""
            },
            "colorscale": [
             [
              0,
              "#0d0887"
             ],
             [
              0.1111111111111111,
              "#46039f"
             ],
             [
              0.2222222222222222,
              "#7201a8"
             ],
             [
              0.3333333333333333,
              "#9c179e"
             ],
             [
              0.4444444444444444,
              "#bd3786"
             ],
             [
              0.5555555555555556,
              "#d8576b"
             ],
             [
              0.6666666666666666,
              "#ed7953"
             ],
             [
              0.7777777777777778,
              "#fb9f3a"
             ],
             [
              0.8888888888888888,
              "#fdca26"
             ],
             [
              1,
              "#f0f921"
             ]
            ],
            "type": "histogram2dcontour"
           }
          ],
          "mesh3d": [
           {
            "colorbar": {
             "outlinewidth": 0,
             "ticks": ""
            },
            "type": "mesh3d"
           }
          ],
          "parcoords": [
           {
            "line": {
             "colorbar": {
              "outlinewidth": 0,
              "ticks": ""
             }
            },
            "type": "parcoords"
           }
          ],
          "pie": [
           {
            "automargin": true,
            "type": "pie"
           }
          ],
          "scatter": [
           {
            "fillpattern": {
             "fillmode": "overlay",
             "size": 10,
             "solidity": 0.2
            },
            "type": "scatter"
           }
          ],
          "scatter3d": [
           {
            "line": {
             "colorbar": {
              "outlinewidth": 0,
              "ticks": ""
             }
            },
            "marker": {
             "colorbar": {
              "outlinewidth": 0,
              "ticks": ""
             }
            },
            "type": "scatter3d"
           }
          ],
          "scattercarpet": [
           {
            "marker": {
             "colorbar": {
              "outlinewidth": 0,
              "ticks": ""
             }
            },
            "type": "scattercarpet"
           }
          ],
          "scattergeo": [
           {
            "marker": {
             "colorbar": {
              "outlinewidth": 0,
              "ticks": ""
             }
            },
            "type": "scattergeo"
           }
          ],
          "scattergl": [
           {
            "marker": {
             "colorbar": {
              "outlinewidth": 0,
              "ticks": ""
             }
            },
            "type": "scattergl"
           }
          ],
          "scattermapbox": [
           {
            "marker": {
             "colorbar": {
              "outlinewidth": 0,
              "ticks": ""
             }
            },
            "type": "scattermapbox"
           }
          ],
          "scatterpolar": [
           {
            "marker": {
             "colorbar": {
              "outlinewidth": 0,
              "ticks": ""
             }
            },
            "type": "scatterpolar"
           }
          ],
          "scatterpolargl": [
           {
            "marker": {
             "colorbar": {
              "outlinewidth": 0,
              "ticks": ""
             }
            },
            "type": "scatterpolargl"
           }
          ],
          "scatterternary": [
           {
            "marker": {
             "colorbar": {
              "outlinewidth": 0,
              "ticks": ""
             }
            },
            "type": "scatterternary"
           }
          ],
          "surface": [
           {
            "colorbar": {
             "outlinewidth": 0,
             "ticks": ""
            },
            "colorscale": [
             [
              0,
              "#0d0887"
             ],
             [
              0.1111111111111111,
              "#46039f"
             ],
             [
              0.2222222222222222,
              "#7201a8"
             ],
             [
              0.3333333333333333,
              "#9c179e"
             ],
             [
              0.4444444444444444,
              "#bd3786"
             ],
             [
              0.5555555555555556,
              "#d8576b"
             ],
             [
              0.6666666666666666,
              "#ed7953"
             ],
             [
              0.7777777777777778,
              "#fb9f3a"
             ],
             [
              0.8888888888888888,
              "#fdca26"
             ],
             [
              1,
              "#f0f921"
             ]
            ],
            "type": "surface"
           }
          ],
          "table": [
           {
            "cells": {
             "fill": {
              "color": "#EBF0F8"
             },
             "line": {
              "color": "white"
             }
            },
            "header": {
             "fill": {
              "color": "#C8D4E3"
             },
             "line": {
              "color": "white"
             }
            },
            "type": "table"
           }
          ]
         },
         "layout": {
          "annotationdefaults": {
           "arrowcolor": "#2a3f5f",
           "arrowhead": 0,
           "arrowwidth": 1
          },
          "autotypenumbers": "strict",
          "coloraxis": {
           "colorbar": {
            "outlinewidth": 0,
            "ticks": ""
           }
          },
          "colorscale": {
           "diverging": [
            [
             0,
             "#8e0152"
            ],
            [
             0.1,
             "#c51b7d"
            ],
            [
             0.2,
             "#de77ae"
            ],
            [
             0.3,
             "#f1b6da"
            ],
            [
             0.4,
             "#fde0ef"
            ],
            [
             0.5,
             "#f7f7f7"
            ],
            [
             0.6,
             "#e6f5d0"
            ],
            [
             0.7,
             "#b8e186"
            ],
            [
             0.8,
             "#7fbc41"
            ],
            [
             0.9,
             "#4d9221"
            ],
            [
             1,
             "#276419"
            ]
           ],
           "sequential": [
            [
             0,
             "#0d0887"
            ],
            [
             0.1111111111111111,
             "#46039f"
            ],
            [
             0.2222222222222222,
             "#7201a8"
            ],
            [
             0.3333333333333333,
             "#9c179e"
            ],
            [
             0.4444444444444444,
             "#bd3786"
            ],
            [
             0.5555555555555556,
             "#d8576b"
            ],
            [
             0.6666666666666666,
             "#ed7953"
            ],
            [
             0.7777777777777778,
             "#fb9f3a"
            ],
            [
             0.8888888888888888,
             "#fdca26"
            ],
            [
             1,
             "#f0f921"
            ]
           ],
           "sequentialminus": [
            [
             0,
             "#0d0887"
            ],
            [
             0.1111111111111111,
             "#46039f"
            ],
            [
             0.2222222222222222,
             "#7201a8"
            ],
            [
             0.3333333333333333,
             "#9c179e"
            ],
            [
             0.4444444444444444,
             "#bd3786"
            ],
            [
             0.5555555555555556,
             "#d8576b"
            ],
            [
             0.6666666666666666,
             "#ed7953"
            ],
            [
             0.7777777777777778,
             "#fb9f3a"
            ],
            [
             0.8888888888888888,
             "#fdca26"
            ],
            [
             1,
             "#f0f921"
            ]
           ]
          },
          "colorway": [
           "#636efa",
           "#EF553B",
           "#00cc96",
           "#ab63fa",
           "#FFA15A",
           "#19d3f3",
           "#FF6692",
           "#B6E880",
           "#FF97FF",
           "#FECB52"
          ],
          "font": {
           "color": "#2a3f5f"
          },
          "geo": {
           "bgcolor": "white",
           "lakecolor": "white",
           "landcolor": "#E5ECF6",
           "showlakes": true,
           "showland": true,
           "subunitcolor": "white"
          },
          "hoverlabel": {
           "align": "left"
          },
          "hovermode": "closest",
          "mapbox": {
           "style": "light"
          },
          "paper_bgcolor": "white",
          "plot_bgcolor": "#E5ECF6",
          "polar": {
           "angularaxis": {
            "gridcolor": "white",
            "linecolor": "white",
            "ticks": ""
           },
           "bgcolor": "#E5ECF6",
           "radialaxis": {
            "gridcolor": "white",
            "linecolor": "white",
            "ticks": ""
           }
          },
          "scene": {
           "xaxis": {
            "backgroundcolor": "#E5ECF6",
            "gridcolor": "white",
            "gridwidth": 2,
            "linecolor": "white",
            "showbackground": true,
            "ticks": "",
            "zerolinecolor": "white"
           },
           "yaxis": {
            "backgroundcolor": "#E5ECF6",
            "gridcolor": "white",
            "gridwidth": 2,
            "linecolor": "white",
            "showbackground": true,
            "ticks": "",
            "zerolinecolor": "white"
           },
           "zaxis": {
            "backgroundcolor": "#E5ECF6",
            "gridcolor": "white",
            "gridwidth": 2,
            "linecolor": "white",
            "showbackground": true,
            "ticks": "",
            "zerolinecolor": "white"
           }
          },
          "shapedefaults": {
           "line": {
            "color": "#2a3f5f"
           }
          },
          "ternary": {
           "aaxis": {
            "gridcolor": "white",
            "linecolor": "white",
            "ticks": ""
           },
           "baxis": {
            "gridcolor": "white",
            "linecolor": "white",
            "ticks": ""
           },
           "bgcolor": "#E5ECF6",
           "caxis": {
            "gridcolor": "white",
            "linecolor": "white",
            "ticks": ""
           }
          },
          "title": {
           "x": 0.05
          },
          "xaxis": {
           "automargin": true,
           "gridcolor": "white",
           "linecolor": "white",
           "ticks": "",
           "title": {
            "standoff": 15
           },
           "zerolinecolor": "white",
           "zerolinewidth": 2
          },
          "yaxis": {
           "automargin": true,
           "gridcolor": "white",
           "linecolor": "white",
           "ticks": "",
           "title": {
            "standoff": 15
           },
           "zerolinecolor": "white",
           "zerolinewidth": 2
          }
         }
        },
        "xaxis": {
         "range": [
          0.5,
          4.5
         ]
        },
        "yaxis": {
         "range": [
          0.1,
          5.5
         ]
        }
       }
      }
     },
     "metadata": {},
     "output_type": "display_data"
    }
   ],
   "source": [
    "marker_details = dict(\n",
    "    size=10,\n",
    "    colorscale=[\"blue\", \"green\", \"red\"], #'Viridis', \n",
    "    showscale=True,\n",
    ")\n",
    "\n",
    "\n",
    "# Will want to hide scales for this one... \n",
    "data=go.Scatter(\n",
    "    x=plotting_df[\"Sunlight_jittered\"], y=plotting_df[\"Watering_jittered\"], mode=\"markers\",\n",
    "    text=plotting_df[\"Plant_Name\"], marker_color=plotting_df[\"Maintenance_Ordinal\"],\n",
    "    marker=marker_details\n",
    ") \n",
    "\n",
    "xstart = 0.8\n",
    "xmin = 2\n",
    "padding = 0.2\n",
    "ypos = -0.8\n",
    "\n",
    "layout = go.Layout(\n",
    "    xaxis=dict(range=[0.5, 4.5]),\n",
    "    yaxis=dict(range=[0.1, 5.5]),\n",
    "    showlegend=False,\n",
    "    annotations=[\n",
    "        dict(\n",
    "            text=\"Requires More Sunlight\", align=\"center\",\n",
    "            ax=2.5, x=2.5, xref=\"x\", axref=\"x\",\n",
    "            ay=-0.2, y=-0.2, yref=\"paper\", \n",
    "            showarrow=False,\n",
    "        ),\n",
    "        dict(\n",
    "            ax=0.6, x=4.4, xref=\"x\", axref=\"x\",\n",
    "            ay=-0.1, y=-0.1, yref=\"paper\", \n",
    "            showarrow=True, arrowhead=2, arrowsize=1, arrowwidth=3,\n",
    "            arrowcolor=\"#645754\",\n",
    "        ),\n",
    "        dict(\n",
    "            text=\"Requires More Watering\", align=\"center\", textangle=-90,\n",
    "            ax=-0.05, x=-0.05, xref=\"paper\", axref=\"x\",\n",
    "            ay=2.5, y=2.5, yref=\"y\", ayref=\"y\",\n",
    "            showarrow=False\n",
    "        ),\n",
    "        dict(\n",
    "            ax=-0.02, x=-0.02, xref=\"paper\", \n",
    "            ay=0, y=4.8, yref=\"y\", ayref=\"y\",\n",
    "            showarrow=True, arrowhead=2, arrowsize=1, arrowwidth=3,\n",
    "            arrowcolor=\"#645754\",\n",
    "        ),\n",
    "\n",
    "    ])\n",
    "\n",
    "fig = go.Figure(data=data, layout=layout)\n",
    "fig.show()\n"
   ]
  },
  {
   "cell_type": "markdown",
   "metadata": {},
   "source": [
    "## Final Graph: Height vs Spreads"
   ]
  },
  {
   "cell_type": "code",
   "execution_count": 10,
   "metadata": {},
   "outputs": [],
   "source": [
    "plotting_df[\"Max_Spread_Capped_jittered\"] = df_features[\"Max_Spread_Capped\"] + np.random.uniform(-0.5,0.5,147)\n",
    "plotting_df[\"Max_Height_Capped_jittered\"] = df_features[\"Max_Height_Capped\"] + np.random.uniform(-0.5,0.5,147)"
   ]
  },
  {
   "cell_type": "code",
   "execution_count": 11,
   "metadata": {},
   "outputs": [
    {
     "data": {
      "application/vnd.plotly.v1+json": {
       "config": {
        "plotlyServerURL": "https://plotly.com"
       },
       "data": [
        {
         "marker": {
          "color": [
           2,
           2,
           2,
           1,
           2,
           2,
           2,
           1,
           1,
           2,
           1,
           2,
           2,
           1,
           1,
           1,
           2,
           3,
           1,
           1,
           1,
           1,
           1,
           1,
           2,
           1,
           1,
           1,
           1,
           1,
           1,
           2,
           3,
           1,
           2,
           2,
           2,
           1,
           1,
           2,
           1,
           1,
           2,
           1,
           1,
           1,
           1,
           1,
           1,
           2,
           1,
           1,
           1,
           1,
           3,
           1,
           1,
           2,
           2,
           2,
           2,
           2,
           1,
           1,
           1,
           1,
           2,
           2,
           1,
           1,
           2,
           1,
           1,
           2,
           1,
           2,
           2,
           2,
           2,
           1,
           2,
           2,
           3,
           1,
           1,
           2,
           2,
           1,
           1,
           1,
           1,
           2,
           1,
           2,
           3,
           3,
           2,
           2,
           1,
           1,
           1,
           2,
           1,
           1,
           2,
           2,
           1,
           1,
           2,
           2,
           1,
           1,
           2,
           1,
           2,
           1,
           2,
           3,
           1,
           2,
           1,
           1,
           1,
           1,
           2,
           1,
           2,
           2,
           1,
           1,
           2,
           2,
           3,
           1,
           1,
           1,
           1,
           1,
           2,
           1,
           3,
           3,
           3,
           3,
           2,
           1,
           1
          ],
          "colorbar": {
           "dtick": 1,
           "tickmode": "array",
           "ticks": "outside",
           "ticktext": [
            "Low",
            "Moderate",
            "High"
           ],
           "tickvals": [
            1,
            2,
            3
           ],
           "title": {
            "text": "Maintenance Level"
           }
          },
          "colorscale": [
           [
            0,
            "#440154"
           ],
           [
            0.1111111111111111,
            "#482878"
           ],
           [
            0.2222222222222222,
            "#3e4989"
           ],
           [
            0.3333333333333333,
            "#31688e"
           ],
           [
            0.4444444444444444,
            "#26828e"
           ],
           [
            0.5555555555555556,
            "#1f9e89"
           ],
           [
            0.6666666666666666,
            "#35b779"
           ],
           [
            0.7777777777777778,
            "#6ece58"
           ],
           [
            0.8888888888888888,
            "#b5de2b"
           ],
           [
            1,
            "#fde725"
           ]
          ],
          "showscale": true,
          "size": 10
         },
         "mode": "markers",
         "text": [
          "Aechmea",
          "Ardisia crenata",
          "Euphorbia milii",
          "Ficus elastica",
          "Woodsia obtusa",
          "Kalanchoe",
          "Kalanchoe thyrsiflora",
          "Tradescantia spathacea",
          "Capsicum annuum",
          "Begonia masoniana",
          "Aloe",
          "Oncidium",
          "Zantedeschia",
          "Epipremnum aureum",
          "Hedera helix",
          "Sedum makinoi",
          "Asplenium nidus",
          "Elettaria cardamomum",
          "Peperomia obtusifolia",
          "Araucaria heterophylla",
          "Plectranthus scutellarioides",
          "Cissus alata",
          "Adenium obesum",
          "Asplenium antiquum",
          "Coffea arabica",
          "Syngonium",
          "Helianthus annuus",
          "Asplenium",
          "Dracaena reflexa",
          "Leucojum aestivum",
          "Aglaonema commutatum",
          "Anthurium crassinervium",
          "Euphorbia pulcherrima",
          "Tradescantia zebrina",
          "Camellia japonica",
          "Monstera deliciosa",
          "Hypoestes phyllostachya",
          "Peperomia",
          "Adiantum hispidulum",
          "Medinilla magnifica",
          "Syngonium podophyllum",
          "Rhapis excelsa",
          "Scindapsus pictus",
          "Campanula portenschlagiana",
          "Crocus vernus",
          "Aloe vera",
          "Cycas revoluta",
          "Pinus pinea",
          "Ficus benjamina",
          "Strelitzia reginae",
          "Plerandra elegantissima",
          "Chamaedorea elegans",
          "Dypsis lutescens",
          "Ficus benghalensis",
          "Gardenia jasminoides",
          "Beaucarnea recurvata",
          "Euphorbia tirucalli",
          "Alocasia zebrina",
          "Alocasia",
          "Guzmania",
          "Codiaeum variegatum",
          "Caladium bicolor",
          "Aspidistra elatior",
          "Peperomia argyreia",
          "Asparagus densiflorus",
          "Hyacinthus orientalis",
          "Soleirolia soleirolii",
          "Microsorum pustulatum",
          "Ficus",
          "Peperomia caperata",
          "Caladium",
          "Sansevieria trifasciata",
          "Schlumbergera truncata",
          "Cyclamen persicum",
          "Hoya carnosa",
          "Basella alba",
          "Saxifraga stolonifera",
          "Hibiscus rosa-sinensis",
          "Punica granatum",
          "Chlorophytum comosum",
          "Goeppertia roseopicta",
          "Pachira aquatica",
          "Vanilla planifolia",
          "Sedum",
          "Helleborus niger",
          "Ludisia discolor",
          "Brugmansia",
          "Pentas lanceolata",
          "Fatsia japonica",
          "Schefflera arboricola",
          "Tradescantia fluminensis",
          "Primula vulgaris",
          "Scilla mischtschenkoana",
          "Impatiens hawkeri",
          "Adiantum raddianum",
          "Ananas comosus",
          "Calathea zebrina",
          "Alocasia macrorrhizos",
          "Ginkgo biloba",
          "Nephrolepis exaltata",
          "Ficus lyrata",
          "Zantedeschia aethiopica",
          "Scilla siberica",
          "Juncus",
          "Euphorbia lactea",
          "Cordyline fruticosa",
          "Philodendron hederaceum",
          "Crassula ovata",
          "Rosa",
          "Aphelandra squarrosa",
          "Cuphea hyssopifolia",
          "Fritillaria meleagris",
          "Hydrangea macrophylla",
          "Platycerium bifurcatum",
          "Saintpaulia ionantha",
          "Pilea involucrata",
          "Cissus discolor",
          "Dendrobium",
          "Radermachera sinica",
          "Alocasia x amazonica",
          "Pellaea rotundifolia",
          "Aglaonema",
          "Schefflera actinophylla",
          "Asparagus plumosus",
          "Stephanotis floribunda",
          "Polyscias",
          "Anthurium andraeanum",
          "Pelargonium peltatum",
          "Kalanchoe blossfeldiana",
          "Narcissus 'Golden Dawn'",
          "Rosa rubiginosa",
          "Musa acuminata",
          "Begonia rex-cultorum",
          "Dracaena fragrans 'Lemon Lime'",
          "Dracaena fragrans",
          "Dracaena marginata",
          "Fittonia albivenis",
          "Pelargonium × hortorum",
          "Hippeastrum",
          "Pelargonium scented-leaves",
          "Sarracenia rubra",
          "Sarracenia flava",
          "Pericallis × hybrida",
          "Begonia",
          "Ficus carica",
          "Ficus pumila",
          "Ficus religiosa"
         ],
         "type": "scatter",
         "x": [
          1.8992014931344177,
          4.995888118271756,
          2.716396402696198,
          19.898449867754973,
          2.128981270577673,
          5.372077620759833,
          1.9595905437424181,
          2.343784373035951,
          2.4458840943632225,
          1.8259975384811162,
          0.6381182586204026,
          3.868856687055004,
          1.8971614071658975,
          1.526326093966782,
          20.400602503788626,
          0.8956131375644261,
          2.7037900812996734,
          9.682283548351567,
          1.3085533035647599,
          20.202313144105684,
          2.8212153673216895,
          6.260290922839876,
          5.2983503371549325,
          3.900162089135451,
          14.71508335886738,
          1.8944925819982465,
          2.523308527510602,
          1.9309620294488994,
          7.751629245475684,
          1.0233893340376645,
          1.9149426723773868,
          6.28928831949666,
          8.250694256888057,
          2.3247894898897097,
          10.004499598001823,
          9.578645052989652,
          0.8133517527873733,
          1.3588785516307493,
          1.678229178045747,
          3.3749317851250877,
          1.7684553657375914,
          14.836391395299781,
          4.249845394054709,
          1.0804814525772537,
          0.8046555025823711,
          1.3544903690192198,
          10.10879494688867,
          19.652316787470976,
          20.079559318680833,
          3.9016513095010135,
          15.087633551623936,
          3.1957906542580723,
          15.302762142362434,
          19.91672716116254,
          5.591681154252257,
          4.708603607444038,
          10.473269072326836,
          6.032752992107066,
          1.777401758909883,
          2.2319603100433305,
          5.491345566812619,
          2.499617026386402,
          2.162328682224114,
          0.3074706739441272,
          4.461763304775497,
          0.10288621270265519,
          6.1174796001288545,
          3.2207518189090782,
          20.2444509963342,
          0.7016638087717475,
          2.6851882499473536,
          1.7212392783072132,
          1.8465647872847033,
          0.7925097109254127,
          1.5491023492325942,
          3.2967312778573987,
          2.2562493555362018,
          7.8899198187070025,
          15.393124867972697,
          1.6004844317777913,
          1.28373676867953,
          19.609649964614327,
          5.6457912472510445,
          2.278334864888424,
          1.6321004881369048,
          1.5102314449194716,
          3.8271846327416665,
          1.784983097745513,
          15.98741413666225,
          8.108434220749391,
          2.237345188478888,
          0.9850349621186595,
          0.962681365044039,
          2.5787388778836613,
          1.721101957632011,
          4.387589563457707,
          2.0726187914839747,
          7.738049403041191,
          19.501544038066406,
          2.6031660722736856,
          19.52857337519742,
          2.2618035663304665,
          0.8611294966076027,
          3.5665527174748144,
          9.837881112930358,
          7.500605471537477,
          5.708476317703488,
          2.6765997676815254,
          7.225840668664252,
          5.21560261561172,
          2.4304551693608802,
          1.1469524060369953,
          5.9372651550495705,
          3.453336058339772,
          0.6647525813744513,
          1.0102163739697434,
          0.9859756848108449,
          4.070653322065688,
          19.902144463298747,
          2.234295210707292,
          0.6011787079271043,
          1.823887293199283,
          19.97279951884402,
          3.301609201177335,
          5.797140518412216,
          2.7218515964280914,
          0.9162969863899982,
          3.1021267823995964,
          1.2067029988580251,
          1.071166898968318,
          9.658396099085463,
          9.587642774328119,
          1.4124308292708525,
          5.349181378427594,
          10.20369550065238,
          9.601692731679949,
          0.9379162455845009,
          3.4412931658104493,
          1.085756932733546,
          2.4305587312053936,
          1.2646430821107169,
          3.4728375450323763,
          1.3965151692428985,
          1.699150204709217,
          19.6474279732366,
          6.364240064999228,
          19.7586327970341
         ],
         "y": [
          2.966152975862527,
          4.693882569399348,
          6.3127658171579775,
          19.751378400319123,
          1.7700601339361106,
          5.272848246382462,
          2.5387065572873246,
          1.465900969877433,
          3.9860168600615773,
          1.6881353489977728,
          2.39193338352537,
          9.595983769917687,
          2.8293365993936,
          19.532983544361166,
          19.982228450198125,
          0.6189253284339368,
          5.175886160677533,
          15.487007109421173,
          1.0280911298434914,
          19.814175409197578,
          2.7014814683574557,
          10.22873081070366,
          8.753611296476418,
          2.4180937600044388,
          14.633875503996531,
          6.25026012036035,
          9.571559587628803,
          1.9535679712071108,
          18.027421662380647,
          1.172729434030841,
          1.3248638813676585,
          5.560093682218957,
          11.996559249107536,
          0.8682356392033675,
          11.937687774835862,
          19.938569756207325,
          1.022731754815663,
          0.9801096562138554,
          1.2164424004380745,
          4.2123253048480525,
          5.990028596374121,
          15.48171389345065,
          9.927808298708573,
          0.8566417679881865,
          0.6946944332851905,
          2.0537678562168553,
          10.29242255999916,
          19.822054061029473,
          20.25353929374896,
          3.6856910176360915,
          19.931515976554312,
          6.380096487621566,
          20.178872717632043,
          19.53099027122484,
          5.971943109531871,
          7.652305674513945,
          20.014303155898496,
          9.553744102951867,
          2.179195818049441,
          2.366796322994909,
          6.4246008772563545,
          2.846203456429858,
          2.62239168902151,
          0.7451607458604543,
          2.711277712693259,
          1.208111170572392,
          0.5269350205876288,
          1.1812365442965822,
          20.401102105492186,
          0.6067183535763542,
          2.1197090411213653,
          4.361363408877196,
          0.6540421551086244,
          0.5414997351940856,
          4.094566157301707,
          5.845098014198061,
          1.3362090152618111,
          10.438866455815617,
          20.033591927436177,
          1.9877877413986191,
          1.0851134553917001,
          20.10384128788164,
          10.261477313847768,
          0.3732005258905371,
          0.6177121105768213,
          1.3145218478566747,
          7.991137923293204,
          1.8265407831919866,
          16.480353901723927,
          19.85542464318972,
          0.9364900549401145,
          0.08961387659206532,
          0.6379425673820498,
          3.953474731119438,
          1.5028535890756174,
          4.316098118623519,
          3.0572548765799024,
          14.802487759603338,
          20.0691523411206,
          3.453826005248319,
          20.145324231268393,
          3.209800634709252,
          0.32481906455873344,
          3.7996165291055544,
          14.706632841630897,
          14.818683485170823,
          20.256012078808546,
          5.518326093008883,
          7.67631232046341,
          6.140252497537192,
          2.231463125573379,
          0.5202277966390864,
          5.845893504432344,
          2.7790413010860213,
          1.1529175260426152,
          0.5832632278301597,
          10.019126201981383,
          3.8947183000040013,
          19.599043245805017,
          1.7206328331973477,
          0.8239885429912277,
          1.7879512896954322,
          20.238520223427336,
          20.26022083832219,
          19.554456714401656,
          8.13230232535467,
          1.431036896652047,
          1.718694768381378,
          1.623253227900776,
          1.7354782934581823,
          10.087046455643513,
          20.38970925811076,
          1.926632071301031,
          10.394897222379237,
          19.95279307459892,
          19.911576483732624,
          0.46315998295506167,
          2.8331660703616035,
          1.6082514768671596,
          2.895124844887757,
          1.4199394186824712,
          3.0819317409025686,
          0.9616029763125065,
          1.0812849749729518,
          19.803806664369187,
          15.165345801231217,
          19.64545692502151
         ]
        }
       ],
       "layout": {
        "template": {
         "data": {
          "bar": [
           {
            "error_x": {
             "color": "#2a3f5f"
            },
            "error_y": {
             "color": "#2a3f5f"
            },
            "marker": {
             "line": {
              "color": "#E5ECF6",
              "width": 0.5
             },
             "pattern": {
              "fillmode": "overlay",
              "size": 10,
              "solidity": 0.2
             }
            },
            "type": "bar"
           }
          ],
          "barpolar": [
           {
            "marker": {
             "line": {
              "color": "#E5ECF6",
              "width": 0.5
             },
             "pattern": {
              "fillmode": "overlay",
              "size": 10,
              "solidity": 0.2
             }
            },
            "type": "barpolar"
           }
          ],
          "carpet": [
           {
            "aaxis": {
             "endlinecolor": "#2a3f5f",
             "gridcolor": "white",
             "linecolor": "white",
             "minorgridcolor": "white",
             "startlinecolor": "#2a3f5f"
            },
            "baxis": {
             "endlinecolor": "#2a3f5f",
             "gridcolor": "white",
             "linecolor": "white",
             "minorgridcolor": "white",
             "startlinecolor": "#2a3f5f"
            },
            "type": "carpet"
           }
          ],
          "choropleth": [
           {
            "colorbar": {
             "outlinewidth": 0,
             "ticks": ""
            },
            "type": "choropleth"
           }
          ],
          "contour": [
           {
            "colorbar": {
             "outlinewidth": 0,
             "ticks": ""
            },
            "colorscale": [
             [
              0,
              "#0d0887"
             ],
             [
              0.1111111111111111,
              "#46039f"
             ],
             [
              0.2222222222222222,
              "#7201a8"
             ],
             [
              0.3333333333333333,
              "#9c179e"
             ],
             [
              0.4444444444444444,
              "#bd3786"
             ],
             [
              0.5555555555555556,
              "#d8576b"
             ],
             [
              0.6666666666666666,
              "#ed7953"
             ],
             [
              0.7777777777777778,
              "#fb9f3a"
             ],
             [
              0.8888888888888888,
              "#fdca26"
             ],
             [
              1,
              "#f0f921"
             ]
            ],
            "type": "contour"
           }
          ],
          "contourcarpet": [
           {
            "colorbar": {
             "outlinewidth": 0,
             "ticks": ""
            },
            "type": "contourcarpet"
           }
          ],
          "heatmap": [
           {
            "colorbar": {
             "outlinewidth": 0,
             "ticks": ""
            },
            "colorscale": [
             [
              0,
              "#0d0887"
             ],
             [
              0.1111111111111111,
              "#46039f"
             ],
             [
              0.2222222222222222,
              "#7201a8"
             ],
             [
              0.3333333333333333,
              "#9c179e"
             ],
             [
              0.4444444444444444,
              "#bd3786"
             ],
             [
              0.5555555555555556,
              "#d8576b"
             ],
             [
              0.6666666666666666,
              "#ed7953"
             ],
             [
              0.7777777777777778,
              "#fb9f3a"
             ],
             [
              0.8888888888888888,
              "#fdca26"
             ],
             [
              1,
              "#f0f921"
             ]
            ],
            "type": "heatmap"
           }
          ],
          "heatmapgl": [
           {
            "colorbar": {
             "outlinewidth": 0,
             "ticks": ""
            },
            "colorscale": [
             [
              0,
              "#0d0887"
             ],
             [
              0.1111111111111111,
              "#46039f"
             ],
             [
              0.2222222222222222,
              "#7201a8"
             ],
             [
              0.3333333333333333,
              "#9c179e"
             ],
             [
              0.4444444444444444,
              "#bd3786"
             ],
             [
              0.5555555555555556,
              "#d8576b"
             ],
             [
              0.6666666666666666,
              "#ed7953"
             ],
             [
              0.7777777777777778,
              "#fb9f3a"
             ],
             [
              0.8888888888888888,
              "#fdca26"
             ],
             [
              1,
              "#f0f921"
             ]
            ],
            "type": "heatmapgl"
           }
          ],
          "histogram": [
           {
            "marker": {
             "pattern": {
              "fillmode": "overlay",
              "size": 10,
              "solidity": 0.2
             }
            },
            "type": "histogram"
           }
          ],
          "histogram2d": [
           {
            "colorbar": {
             "outlinewidth": 0,
             "ticks": ""
            },
            "colorscale": [
             [
              0,
              "#0d0887"
             ],
             [
              0.1111111111111111,
              "#46039f"
             ],
             [
              0.2222222222222222,
              "#7201a8"
             ],
             [
              0.3333333333333333,
              "#9c179e"
             ],
             [
              0.4444444444444444,
              "#bd3786"
             ],
             [
              0.5555555555555556,
              "#d8576b"
             ],
             [
              0.6666666666666666,
              "#ed7953"
             ],
             [
              0.7777777777777778,
              "#fb9f3a"
             ],
             [
              0.8888888888888888,
              "#fdca26"
             ],
             [
              1,
              "#f0f921"
             ]
            ],
            "type": "histogram2d"
           }
          ],
          "histogram2dcontour": [
           {
            "colorbar": {
             "outlinewidth": 0,
             "ticks": ""
            },
            "colorscale": [
             [
              0,
              "#0d0887"
             ],
             [
              0.1111111111111111,
              "#46039f"
             ],
             [
              0.2222222222222222,
              "#7201a8"
             ],
             [
              0.3333333333333333,
              "#9c179e"
             ],
             [
              0.4444444444444444,
              "#bd3786"
             ],
             [
              0.5555555555555556,
              "#d8576b"
             ],
             [
              0.6666666666666666,
              "#ed7953"
             ],
             [
              0.7777777777777778,
              "#fb9f3a"
             ],
             [
              0.8888888888888888,
              "#fdca26"
             ],
             [
              1,
              "#f0f921"
             ]
            ],
            "type": "histogram2dcontour"
           }
          ],
          "mesh3d": [
           {
            "colorbar": {
             "outlinewidth": 0,
             "ticks": ""
            },
            "type": "mesh3d"
           }
          ],
          "parcoords": [
           {
            "line": {
             "colorbar": {
              "outlinewidth": 0,
              "ticks": ""
             }
            },
            "type": "parcoords"
           }
          ],
          "pie": [
           {
            "automargin": true,
            "type": "pie"
           }
          ],
          "scatter": [
           {
            "fillpattern": {
             "fillmode": "overlay",
             "size": 10,
             "solidity": 0.2
            },
            "type": "scatter"
           }
          ],
          "scatter3d": [
           {
            "line": {
             "colorbar": {
              "outlinewidth": 0,
              "ticks": ""
             }
            },
            "marker": {
             "colorbar": {
              "outlinewidth": 0,
              "ticks": ""
             }
            },
            "type": "scatter3d"
           }
          ],
          "scattercarpet": [
           {
            "marker": {
             "colorbar": {
              "outlinewidth": 0,
              "ticks": ""
             }
            },
            "type": "scattercarpet"
           }
          ],
          "scattergeo": [
           {
            "marker": {
             "colorbar": {
              "outlinewidth": 0,
              "ticks": ""
             }
            },
            "type": "scattergeo"
           }
          ],
          "scattergl": [
           {
            "marker": {
             "colorbar": {
              "outlinewidth": 0,
              "ticks": ""
             }
            },
            "type": "scattergl"
           }
          ],
          "scattermapbox": [
           {
            "marker": {
             "colorbar": {
              "outlinewidth": 0,
              "ticks": ""
             }
            },
            "type": "scattermapbox"
           }
          ],
          "scatterpolar": [
           {
            "marker": {
             "colorbar": {
              "outlinewidth": 0,
              "ticks": ""
             }
            },
            "type": "scatterpolar"
           }
          ],
          "scatterpolargl": [
           {
            "marker": {
             "colorbar": {
              "outlinewidth": 0,
              "ticks": ""
             }
            },
            "type": "scatterpolargl"
           }
          ],
          "scatterternary": [
           {
            "marker": {
             "colorbar": {
              "outlinewidth": 0,
              "ticks": ""
             }
            },
            "type": "scatterternary"
           }
          ],
          "surface": [
           {
            "colorbar": {
             "outlinewidth": 0,
             "ticks": ""
            },
            "colorscale": [
             [
              0,
              "#0d0887"
             ],
             [
              0.1111111111111111,
              "#46039f"
             ],
             [
              0.2222222222222222,
              "#7201a8"
             ],
             [
              0.3333333333333333,
              "#9c179e"
             ],
             [
              0.4444444444444444,
              "#bd3786"
             ],
             [
              0.5555555555555556,
              "#d8576b"
             ],
             [
              0.6666666666666666,
              "#ed7953"
             ],
             [
              0.7777777777777778,
              "#fb9f3a"
             ],
             [
              0.8888888888888888,
              "#fdca26"
             ],
             [
              1,
              "#f0f921"
             ]
            ],
            "type": "surface"
           }
          ],
          "table": [
           {
            "cells": {
             "fill": {
              "color": "#EBF0F8"
             },
             "line": {
              "color": "white"
             }
            },
            "header": {
             "fill": {
              "color": "#C8D4E3"
             },
             "line": {
              "color": "white"
             }
            },
            "type": "table"
           }
          ]
         },
         "layout": {
          "annotationdefaults": {
           "arrowcolor": "#2a3f5f",
           "arrowhead": 0,
           "arrowwidth": 1
          },
          "autotypenumbers": "strict",
          "coloraxis": {
           "colorbar": {
            "outlinewidth": 0,
            "ticks": ""
           }
          },
          "colorscale": {
           "diverging": [
            [
             0,
             "#8e0152"
            ],
            [
             0.1,
             "#c51b7d"
            ],
            [
             0.2,
             "#de77ae"
            ],
            [
             0.3,
             "#f1b6da"
            ],
            [
             0.4,
             "#fde0ef"
            ],
            [
             0.5,
             "#f7f7f7"
            ],
            [
             0.6,
             "#e6f5d0"
            ],
            [
             0.7,
             "#b8e186"
            ],
            [
             0.8,
             "#7fbc41"
            ],
            [
             0.9,
             "#4d9221"
            ],
            [
             1,
             "#276419"
            ]
           ],
           "sequential": [
            [
             0,
             "#0d0887"
            ],
            [
             0.1111111111111111,
             "#46039f"
            ],
            [
             0.2222222222222222,
             "#7201a8"
            ],
            [
             0.3333333333333333,
             "#9c179e"
            ],
            [
             0.4444444444444444,
             "#bd3786"
            ],
            [
             0.5555555555555556,
             "#d8576b"
            ],
            [
             0.6666666666666666,
             "#ed7953"
            ],
            [
             0.7777777777777778,
             "#fb9f3a"
            ],
            [
             0.8888888888888888,
             "#fdca26"
            ],
            [
             1,
             "#f0f921"
            ]
           ],
           "sequentialminus": [
            [
             0,
             "#0d0887"
            ],
            [
             0.1111111111111111,
             "#46039f"
            ],
            [
             0.2222222222222222,
             "#7201a8"
            ],
            [
             0.3333333333333333,
             "#9c179e"
            ],
            [
             0.4444444444444444,
             "#bd3786"
            ],
            [
             0.5555555555555556,
             "#d8576b"
            ],
            [
             0.6666666666666666,
             "#ed7953"
            ],
            [
             0.7777777777777778,
             "#fb9f3a"
            ],
            [
             0.8888888888888888,
             "#fdca26"
            ],
            [
             1,
             "#f0f921"
            ]
           ]
          },
          "colorway": [
           "#636efa",
           "#EF553B",
           "#00cc96",
           "#ab63fa",
           "#FFA15A",
           "#19d3f3",
           "#FF6692",
           "#B6E880",
           "#FF97FF",
           "#FECB52"
          ],
          "font": {
           "color": "#2a3f5f"
          },
          "geo": {
           "bgcolor": "white",
           "lakecolor": "white",
           "landcolor": "#E5ECF6",
           "showlakes": true,
           "showland": true,
           "subunitcolor": "white"
          },
          "hoverlabel": {
           "align": "left"
          },
          "hovermode": "closest",
          "mapbox": {
           "style": "light"
          },
          "paper_bgcolor": "white",
          "plot_bgcolor": "#E5ECF6",
          "polar": {
           "angularaxis": {
            "gridcolor": "white",
            "linecolor": "white",
            "ticks": ""
           },
           "bgcolor": "#E5ECF6",
           "radialaxis": {
            "gridcolor": "white",
            "linecolor": "white",
            "ticks": ""
           }
          },
          "scene": {
           "xaxis": {
            "backgroundcolor": "#E5ECF6",
            "gridcolor": "white",
            "gridwidth": 2,
            "linecolor": "white",
            "showbackground": true,
            "ticks": "",
            "zerolinecolor": "white"
           },
           "yaxis": {
            "backgroundcolor": "#E5ECF6",
            "gridcolor": "white",
            "gridwidth": 2,
            "linecolor": "white",
            "showbackground": true,
            "ticks": "",
            "zerolinecolor": "white"
           },
           "zaxis": {
            "backgroundcolor": "#E5ECF6",
            "gridcolor": "white",
            "gridwidth": 2,
            "linecolor": "white",
            "showbackground": true,
            "ticks": "",
            "zerolinecolor": "white"
           }
          },
          "shapedefaults": {
           "line": {
            "color": "#2a3f5f"
           }
          },
          "ternary": {
           "aaxis": {
            "gridcolor": "white",
            "linecolor": "white",
            "ticks": ""
           },
           "baxis": {
            "gridcolor": "white",
            "linecolor": "white",
            "ticks": ""
           },
           "bgcolor": "#E5ECF6",
           "caxis": {
            "gridcolor": "white",
            "linecolor": "white",
            "ticks": ""
           }
          },
          "title": {
           "x": 0.05
          },
          "xaxis": {
           "automargin": true,
           "gridcolor": "white",
           "linecolor": "white",
           "ticks": "",
           "title": {
            "standoff": 15
           },
           "zerolinecolor": "white",
           "zerolinewidth": 2
          },
          "yaxis": {
           "automargin": true,
           "gridcolor": "white",
           "linecolor": "white",
           "ticks": "",
           "title": {
            "standoff": 15
           },
           "zerolinecolor": "white",
           "zerolinewidth": 2
          }
         }
        }
       }
      }
     },
     "metadata": {},
     "output_type": "display_data"
    }
   ],
   "source": [
    "fig = go.Figure(data=go.Scatter(\n",
    "    x=plotting_df[\"Max_Spread_Capped_jittered\"], y=plotting_df[\"Max_Height_Capped_jittered\"], mode=\"markers\",\n",
    "    text=plotting_df[\"Plant_Name\"],\n",
    "    marker=dict(\n",
    "        size=10,\n",
    "        color=plotting_df[\"Maintenance_Ordinal\"],\n",
    "        colorscale='Viridis', \n",
    "        showscale=True,\n",
    "    colorbar=dict(title=\"Maintenance Level\", ticks=\"outside\", tickmode=\"array\", tickvals=[1, 2, 3], dtick=1, ticktext=[\"Low\", \"Moderate\", \"High\"])\n",
    "        \n",
    "    )\n",
    "))\n",
    "\n",
    "\n",
    "fig.show()"
   ]
  },
  {
   "cell_type": "markdown",
   "metadata": {},
   "source": [
    "### Now save the df to sql database"
   ]
  },
  {
   "cell_type": "code",
   "execution_count": 12,
   "metadata": {},
   "outputs": [],
   "source": [
    "conn = sqlite3.connect(DATABASE_LOC)\n",
    "c = conn.cursor()\n",
    "c.execute(\"\"\"DROP TABLE IF EXISTS plotting\"\"\")\n",
    "\n",
    "plotting_df.to_sql(\"plotting\", con=conn, if_exists=\"append\", index=False)\n",
    "test_saved_df = pd.read_sql_query(\"SELECT * FROM plotting\", conn)\n",
    "\n",
    "\n",
    "c.close()"
   ]
  },
  {
   "cell_type": "code",
   "execution_count": 13,
   "metadata": {},
   "outputs": [
    {
     "data": {
      "text/html": [
       "<div>\n",
       "<style scoped>\n",
       "    .dataframe tbody tr th:only-of-type {\n",
       "        vertical-align: middle;\n",
       "    }\n",
       "\n",
       "    .dataframe tbody tr th {\n",
       "        vertical-align: top;\n",
       "    }\n",
       "\n",
       "    .dataframe thead th {\n",
       "        text-align: right;\n",
       "    }\n",
       "</style>\n",
       "<table border=\"1\" class=\"dataframe\">\n",
       "  <thead>\n",
       "    <tr style=\"text-align: right;\">\n",
       "      <th></th>\n",
       "      <th>Plant_Name</th>\n",
       "      <th>Maintenance_Ordinal</th>\n",
       "      <th>all_tsne_1</th>\n",
       "      <th>all_tsne_2</th>\n",
       "      <th>maintenance_tsne_1</th>\n",
       "      <th>maintenance_tsne_2</th>\n",
       "      <th>Sunlight_jittered</th>\n",
       "      <th>Watering_jittered</th>\n",
       "      <th>Max_Spread_Capped_jittered</th>\n",
       "      <th>Max_Height_Capped_jittered</th>\n",
       "    </tr>\n",
       "  </thead>\n",
       "  <tbody>\n",
       "    <tr>\n",
       "      <th>0</th>\n",
       "      <td>Aechmea</td>\n",
       "      <td>2</td>\n",
       "      <td>3.676506</td>\n",
       "      <td>-5.347026</td>\n",
       "      <td>0.228922</td>\n",
       "      <td>10.650458</td>\n",
       "      <td>0.905328</td>\n",
       "      <td>3.129723</td>\n",
       "      <td>1.899201</td>\n",
       "      <td>2.966153</td>\n",
       "    </tr>\n",
       "    <tr>\n",
       "      <th>1</th>\n",
       "      <td>Ardisia crenata</td>\n",
       "      <td>2</td>\n",
       "      <td>5.589860</td>\n",
       "      <td>0.040607</td>\n",
       "      <td>-0.922788</td>\n",
       "      <td>8.158509</td>\n",
       "      <td>1.718083</td>\n",
       "      <td>3.101644</td>\n",
       "      <td>4.995888</td>\n",
       "      <td>4.693883</td>\n",
       "    </tr>\n",
       "    <tr>\n",
       "      <th>2</th>\n",
       "      <td>Euphorbia milii</td>\n",
       "      <td>2</td>\n",
       "      <td>0.813031</td>\n",
       "      <td>-1.883444</td>\n",
       "      <td>-1.365518</td>\n",
       "      <td>3.271952</td>\n",
       "      <td>3.710534</td>\n",
       "      <td>1.906000</td>\n",
       "      <td>2.716396</td>\n",
       "      <td>6.312766</td>\n",
       "    </tr>\n",
       "    <tr>\n",
       "      <th>3</th>\n",
       "      <td>Ficus elastica</td>\n",
       "      <td>1</td>\n",
       "      <td>8.767926</td>\n",
       "      <td>1.594857</td>\n",
       "      <td>-10.999371</td>\n",
       "      <td>-6.625526</td>\n",
       "      <td>1.343539</td>\n",
       "      <td>2.815783</td>\n",
       "      <td>19.898450</td>\n",
       "      <td>19.751378</td>\n",
       "    </tr>\n",
       "    <tr>\n",
       "      <th>4</th>\n",
       "      <td>Woodsia obtusa</td>\n",
       "      <td>2</td>\n",
       "      <td>3.515776</td>\n",
       "      <td>9.785760</td>\n",
       "      <td>-2.290439</td>\n",
       "      <td>8.805119</td>\n",
       "      <td>2.068910</td>\n",
       "      <td>2.825163</td>\n",
       "      <td>2.128981</td>\n",
       "      <td>1.770060</td>\n",
       "    </tr>\n",
       "    <tr>\n",
       "      <th>...</th>\n",
       "      <td>...</td>\n",
       "      <td>...</td>\n",
       "      <td>...</td>\n",
       "      <td>...</td>\n",
       "      <td>...</td>\n",
       "      <td>...</td>\n",
       "      <td>...</td>\n",
       "      <td>...</td>\n",
       "      <td>...</td>\n",
       "      <td>...</td>\n",
       "    </tr>\n",
       "    <tr>\n",
       "      <th>142</th>\n",
       "      <td>Pericallis × hybrida</td>\n",
       "      <td>3</td>\n",
       "      <td>-4.613483</td>\n",
       "      <td>1.424733</td>\n",
       "      <td>3.277331</td>\n",
       "      <td>10.665582</td>\n",
       "      <td>1.319342</td>\n",
       "      <td>3.327549</td>\n",
       "      <td>1.396515</td>\n",
       "      <td>0.961603</td>\n",
       "    </tr>\n",
       "    <tr>\n",
       "      <th>143</th>\n",
       "      <td>Begonia</td>\n",
       "      <td>3</td>\n",
       "      <td>-3.003872</td>\n",
       "      <td>-3.206166</td>\n",
       "      <td>3.276917</td>\n",
       "      <td>10.665334</td>\n",
       "      <td>0.965429</td>\n",
       "      <td>2.987606</td>\n",
       "      <td>1.699150</td>\n",
       "      <td>1.081285</td>\n",
       "    </tr>\n",
       "    <tr>\n",
       "      <th>144</th>\n",
       "      <td>Ficus carica</td>\n",
       "      <td>2</td>\n",
       "      <td>8.509892</td>\n",
       "      <td>-4.235227</td>\n",
       "      <td>-2.194554</td>\n",
       "      <td>4.732724</td>\n",
       "      <td>3.112695</td>\n",
       "      <td>2.746323</td>\n",
       "      <td>19.647428</td>\n",
       "      <td>19.803807</td>\n",
       "    </tr>\n",
       "    <tr>\n",
       "      <th>145</th>\n",
       "      <td>Ficus pumila</td>\n",
       "      <td>1</td>\n",
       "      <td>5.741993</td>\n",
       "      <td>3.207085</td>\n",
       "      <td>-9.763505</td>\n",
       "      <td>-7.031698</td>\n",
       "      <td>0.703783</td>\n",
       "      <td>3.154115</td>\n",
       "      <td>6.364240</td>\n",
       "      <td>15.165346</td>\n",
       "    </tr>\n",
       "    <tr>\n",
       "      <th>146</th>\n",
       "      <td>Ficus religiosa</td>\n",
       "      <td>1</td>\n",
       "      <td>9.588517</td>\n",
       "      <td>-0.518303</td>\n",
       "      <td>-2.420077</td>\n",
       "      <td>-2.242793</td>\n",
       "      <td>3.797393</td>\n",
       "      <td>3.290143</td>\n",
       "      <td>19.758633</td>\n",
       "      <td>19.645457</td>\n",
       "    </tr>\n",
       "  </tbody>\n",
       "</table>\n",
       "<p>147 rows × 10 columns</p>\n",
       "</div>"
      ],
      "text/plain": [
       "               Plant_Name  Maintenance_Ordinal  all_tsne_1  all_tsne_2  \\\n",
       "0                 Aechmea                    2    3.676506   -5.347026   \n",
       "1         Ardisia crenata                    2    5.589860    0.040607   \n",
       "2         Euphorbia milii                    2    0.813031   -1.883444   \n",
       "3          Ficus elastica                    1    8.767926    1.594857   \n",
       "4          Woodsia obtusa                    2    3.515776    9.785760   \n",
       "..                    ...                  ...         ...         ...   \n",
       "142  Pericallis × hybrida                    3   -4.613483    1.424733   \n",
       "143               Begonia                    3   -3.003872   -3.206166   \n",
       "144          Ficus carica                    2    8.509892   -4.235227   \n",
       "145          Ficus pumila                    1    5.741993    3.207085   \n",
       "146       Ficus religiosa                    1    9.588517   -0.518303   \n",
       "\n",
       "     maintenance_tsne_1  maintenance_tsne_2  Sunlight_jittered  \\\n",
       "0              0.228922           10.650458           0.905328   \n",
       "1             -0.922788            8.158509           1.718083   \n",
       "2             -1.365518            3.271952           3.710534   \n",
       "3            -10.999371           -6.625526           1.343539   \n",
       "4             -2.290439            8.805119           2.068910   \n",
       "..                  ...                 ...                ...   \n",
       "142            3.277331           10.665582           1.319342   \n",
       "143            3.276917           10.665334           0.965429   \n",
       "144           -2.194554            4.732724           3.112695   \n",
       "145           -9.763505           -7.031698           0.703783   \n",
       "146           -2.420077           -2.242793           3.797393   \n",
       "\n",
       "     Watering_jittered  Max_Spread_Capped_jittered  Max_Height_Capped_jittered  \n",
       "0             3.129723                    1.899201                    2.966153  \n",
       "1             3.101644                    4.995888                    4.693883  \n",
       "2             1.906000                    2.716396                    6.312766  \n",
       "3             2.815783                   19.898450                   19.751378  \n",
       "4             2.825163                    2.128981                    1.770060  \n",
       "..                 ...                         ...                         ...  \n",
       "142           3.327549                    1.396515                    0.961603  \n",
       "143           2.987606                    1.699150                    1.081285  \n",
       "144           2.746323                   19.647428                   19.803807  \n",
       "145           3.154115                    6.364240                   15.165346  \n",
       "146           3.290143                   19.758633                   19.645457  \n",
       "\n",
       "[147 rows x 10 columns]"
      ]
     },
     "execution_count": 13,
     "metadata": {},
     "output_type": "execute_result"
    }
   ],
   "source": [
    "test_saved_df "
   ]
  },
  {
   "cell_type": "code",
   "execution_count": null,
   "metadata": {},
   "outputs": [],
   "source": []
  }
 ],
 "metadata": {
  "kernelspec": {
   "display_name": "Python 3.8.8 ('Py_Fun_Py3_8')",
   "language": "python",
   "name": "python3"
  },
  "language_info": {
   "codemirror_mode": {
    "name": "ipython",
    "version": 3
   },
   "file_extension": ".py",
   "mimetype": "text/x-python",
   "name": "python",
   "nbconvert_exporter": "python",
   "pygments_lexer": "ipython3",
   "version": "3.8.8"
  },
  "orig_nbformat": 4,
  "vscode": {
   "interpreter": {
    "hash": "2ced150f8a2667dee2cfae26b4d2611f5ad28f0d3e6e2dea4c3c48326462f442"
   }
  }
 },
 "nbformat": 4,
 "nbformat_minor": 2
}
