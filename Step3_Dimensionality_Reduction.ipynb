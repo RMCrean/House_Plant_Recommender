{
 "cells": [
  {
   "cell_type": "markdown",
   "metadata": {},
   "source": [
    "## House Plant Dimensionality Reduction\n",
    "\n",
    "This notebook will cover the dimensionality reduction performed on the houseplant database (step 3).  \n",
    "\n",
    "The objective here is to be able to visualise similar plants (e.g. with 2D scatter plots etc...). \n",
    "\n",
    "\n",
    "\n",
    "**PLAN**:\n",
    "Make a dataframe storing all the coordinate sets I would need to plot the scatter plot.\n",
    "\n",
    "This will enable me not need to install sklearn/scipy on python anywhere and just cycle through prepeared datasets. \n"
   ]
  },
  {
   "cell_type": "markdown",
   "metadata": {},
   "source": [
    "#### Setup"
   ]
  },
  {
   "cell_type": "code",
   "execution_count": 23,
   "metadata": {},
   "outputs": [],
   "source": [
    "import pandas as pd\n",
    "import numpy as np\n",
    "import sqlite3\n",
    "from plotly.subplots import make_subplots\n",
    "import plotly.express as px\n",
    "import plotly.graph_objects as go\n",
    "from scipy import stats\n",
    "\n",
    "from sklearn.preprocessing import MinMaxScaler\n",
    "from sklearn.manifold import TSNE\n",
    "\n",
    "DATABASE_LOC = r\"C:\\Users\\Rory Crean\\Dropbox (lkgroup)\\Backup_HardDrive\\Postdoc\\PyForFun\\House_Plant_Recommender\\Database\\house_plants.db\""
   ]
  },
  {
   "cell_type": "code",
   "execution_count": 24,
   "metadata": {},
   "outputs": [
    {
     "data": {
      "text/html": [
       "<div>\n",
       "<style scoped>\n",
       "    .dataframe tbody tr th:only-of-type {\n",
       "        vertical-align: middle;\n",
       "    }\n",
       "\n",
       "    .dataframe tbody tr th {\n",
       "        vertical-align: top;\n",
       "    }\n",
       "\n",
       "    .dataframe thead th {\n",
       "        text-align: right;\n",
       "    }\n",
       "</style>\n",
       "<table border=\"1\" class=\"dataframe\">\n",
       "  <thead>\n",
       "    <tr style=\"text-align: right;\">\n",
       "      <th></th>\n",
       "      <th>Plant_Name</th>\n",
       "      <th>Min_Temp_Degrees_C</th>\n",
       "      <th>Min_Height</th>\n",
       "      <th>Max_Height</th>\n",
       "      <th>Min_Spread</th>\n",
       "      <th>Max_Spread</th>\n",
       "      <th>Max_Height_Capped</th>\n",
       "      <th>Max_Spread_Capped</th>\n",
       "      <th>Sunlight_Ordinal</th>\n",
       "      <th>Watering_Ordinal</th>\n",
       "      <th>Maintenance_Ordinal</th>\n",
       "      <th>Flowers_Ordinal</th>\n",
       "      <th>Type_Bulb</th>\n",
       "      <th>Type_Fern</th>\n",
       "      <th>Type_Herbaceous_perennial</th>\n",
       "      <th>Type_Other</th>\n",
       "      <th>Type_Vine</th>\n",
       "      <th>Color_Not_Colorful</th>\n",
       "      <th>Fruit_Yes</th>\n",
       "    </tr>\n",
       "  </thead>\n",
       "  <tbody>\n",
       "    <tr>\n",
       "      <th>0</th>\n",
       "      <td>Aechmea</td>\n",
       "      <td>-1.1</td>\n",
       "      <td>1.0</td>\n",
       "      <td>3.0</td>\n",
       "      <td>1.0</td>\n",
       "      <td>2.0</td>\n",
       "      <td>3.0</td>\n",
       "      <td>2.0</td>\n",
       "      <td>1</td>\n",
       "      <td>3</td>\n",
       "      <td>2</td>\n",
       "      <td>3</td>\n",
       "      <td>0</td>\n",
       "      <td>0</td>\n",
       "      <td>0</td>\n",
       "      <td>1</td>\n",
       "      <td>0</td>\n",
       "      <td>1</td>\n",
       "      <td>0</td>\n",
       "    </tr>\n",
       "    <tr>\n",
       "      <th>1</th>\n",
       "      <td>Ardisia crenata</td>\n",
       "      <td>-12.2</td>\n",
       "      <td>4.0</td>\n",
       "      <td>5.0</td>\n",
       "      <td>4.0</td>\n",
       "      <td>5.0</td>\n",
       "      <td>5.0</td>\n",
       "      <td>5.0</td>\n",
       "      <td>2</td>\n",
       "      <td>3</td>\n",
       "      <td>2</td>\n",
       "      <td>3</td>\n",
       "      <td>0</td>\n",
       "      <td>0</td>\n",
       "      <td>0</td>\n",
       "      <td>0</td>\n",
       "      <td>0</td>\n",
       "      <td>1</td>\n",
       "      <td>1</td>\n",
       "    </tr>\n",
       "    <tr>\n",
       "      <th>2</th>\n",
       "      <td>Euphorbia milii</td>\n",
       "      <td>-6.7</td>\n",
       "      <td>3.0</td>\n",
       "      <td>6.0</td>\n",
       "      <td>1.5</td>\n",
       "      <td>3.0</td>\n",
       "      <td>6.0</td>\n",
       "      <td>3.0</td>\n",
       "      <td>4</td>\n",
       "      <td>2</td>\n",
       "      <td>2</td>\n",
       "      <td>3</td>\n",
       "      <td>0</td>\n",
       "      <td>0</td>\n",
       "      <td>0</td>\n",
       "      <td>0</td>\n",
       "      <td>0</td>\n",
       "      <td>1</td>\n",
       "      <td>0</td>\n",
       "    </tr>\n",
       "    <tr>\n",
       "      <th>3</th>\n",
       "      <td>Ficus elastica</td>\n",
       "      <td>-1.1</td>\n",
       "      <td>50.0</td>\n",
       "      <td>100.0</td>\n",
       "      <td>50.0</td>\n",
       "      <td>100.0</td>\n",
       "      <td>20.0</td>\n",
       "      <td>20.0</td>\n",
       "      <td>1</td>\n",
       "      <td>3</td>\n",
       "      <td>1</td>\n",
       "      <td>2</td>\n",
       "      <td>0</td>\n",
       "      <td>0</td>\n",
       "      <td>0</td>\n",
       "      <td>0</td>\n",
       "      <td>0</td>\n",
       "      <td>1</td>\n",
       "      <td>0</td>\n",
       "    </tr>\n",
       "    <tr>\n",
       "      <th>4</th>\n",
       "      <td>Woodsia obtusa</td>\n",
       "      <td>-34.4</td>\n",
       "      <td>1.0</td>\n",
       "      <td>1.5</td>\n",
       "      <td>2.0</td>\n",
       "      <td>2.5</td>\n",
       "      <td>1.5</td>\n",
       "      <td>2.5</td>\n",
       "      <td>2</td>\n",
       "      <td>3</td>\n",
       "      <td>2</td>\n",
       "      <td>1</td>\n",
       "      <td>0</td>\n",
       "      <td>1</td>\n",
       "      <td>0</td>\n",
       "      <td>0</td>\n",
       "      <td>0</td>\n",
       "      <td>1</td>\n",
       "      <td>0</td>\n",
       "    </tr>\n",
       "  </tbody>\n",
       "</table>\n",
       "</div>"
      ],
      "text/plain": [
       "        Plant_Name  Min_Temp_Degrees_C  Min_Height  Max_Height  Min_Spread  \\\n",
       "0          Aechmea                -1.1         1.0         3.0         1.0   \n",
       "1  Ardisia crenata               -12.2         4.0         5.0         4.0   \n",
       "2  Euphorbia milii                -6.7         3.0         6.0         1.5   \n",
       "3   Ficus elastica                -1.1        50.0       100.0        50.0   \n",
       "4   Woodsia obtusa               -34.4         1.0         1.5         2.0   \n",
       "\n",
       "   Max_Spread  Max_Height_Capped  Max_Spread_Capped  Sunlight_Ordinal  \\\n",
       "0         2.0                3.0                2.0                 1   \n",
       "1         5.0                5.0                5.0                 2   \n",
       "2         3.0                6.0                3.0                 4   \n",
       "3       100.0               20.0               20.0                 1   \n",
       "4         2.5                1.5                2.5                 2   \n",
       "\n",
       "   Watering_Ordinal  Maintenance_Ordinal  Flowers_Ordinal  Type_Bulb  \\\n",
       "0                 3                    2                3          0   \n",
       "1                 3                    2                3          0   \n",
       "2                 2                    2                3          0   \n",
       "3                 3                    1                2          0   \n",
       "4                 3                    2                1          0   \n",
       "\n",
       "   Type_Fern  Type_Herbaceous_perennial  Type_Other  Type_Vine  \\\n",
       "0          0                          0           1          0   \n",
       "1          0                          0           0          0   \n",
       "2          0                          0           0          0   \n",
       "3          0                          0           0          0   \n",
       "4          1                          0           0          0   \n",
       "\n",
       "   Color_Not_Colorful  Fruit_Yes  \n",
       "0                   1          0  \n",
       "1                   1          1  \n",
       "2                   1          0  \n",
       "3                   1          0  \n",
       "4                   1          0  "
      ]
     },
     "execution_count": 24,
     "metadata": {},
     "output_type": "execute_result"
    }
   ],
   "source": [
    "conn = sqlite3.connect(DATABASE_LOC)\n",
    "c = conn.cursor()\n",
    "df_features = pd.read_sql_query(\"SELECT * FROM plant_features\", conn)\n",
    "c.close()\n",
    "df_features.head()"
   ]
  },
  {
   "cell_type": "markdown",
   "metadata": {},
   "source": [
    "#### Dimensionality reduction and Scatter plot desgins\n",
    "\n",
    "Define several ways to plot a plant scatter graph. Save to sql and use in dash app. \n",
    "\n",
    "**Perform tsne as follows:**\n",
    "- On everything \n",
    "- On maintenace features. \n",
    "\n",
    "**Then produce scatter plots on:**\n",
    "- Sunlight and watering needs. (maybe add some jitter). \n",
    "- Height and spread. \n",
    "\n",
    "\n",
    "\n",
    "In the app I can add some filters like does it flower? Does it give fruit? etc...\n"
   ]
  },
  {
   "cell_type": "code",
   "execution_count": 25,
   "metadata": {},
   "outputs": [],
   "source": [
    "def run_tsne(df: pd.DataFrame, columns_desired: list) -> np.ndarray:\n",
    "    \"\"\"\n",
    "    Run a tsne calculation with a set of selected columns from a df.\n",
    "    Scaling of features included. \n",
    "\n",
    "    Parameters\n",
    "    ----------\n",
    "    df : pd.DataFrame\n",
    "        dataframe with all features needed. \n",
    "\n",
    "    columns_desired: list\n",
    "        Column names from the df to include in the tsne calc\n",
    "\n",
    "    Returns\n",
    "    ----------\n",
    "    np.ndarray\n",
    "        2D array of the tsne components (1 and 2), ready to plot as is\n",
    "    \"\"\"\n",
    "    df_inputs = df[columns_desired] \n",
    "    feature_array = df_inputs.values\n",
    "\n",
    "    # scale features. \n",
    "    scaler = MinMaxScaler()\n",
    "    features_scaled = scaler.fit_transform(feature_array)\n",
    "\n",
    "    # run tsne calc. \n",
    "    n_components = 2\n",
    "    tsne = TSNE(n_components)\n",
    "\n",
    "    return tsne.fit_transform(features_scaled)"
   ]
  },
  {
   "cell_type": "code",
   "execution_count": 26,
   "metadata": {},
   "outputs": [],
   "source": [
    "all_tsne = run_tsne(\n",
    "    df=df_features, \n",
    "    columns_desired=list(df_features.columns[1:])\n",
    ")\n",
    "\n",
    "maintenance_tsne = run_tsne(\n",
    "    df=df_features, \n",
    "    columns_desired=[\"Sunlight_Ordinal\", \"Watering_Ordinal\", \"Maintenance_Ordinal\", \"Min_Temp_Degrees_C\"]\n",
    ")\n"
   ]
  },
  {
   "cell_type": "code",
   "execution_count": 33,
   "metadata": {},
   "outputs": [
    {
     "data": {
      "text/html": [
       "<div>\n",
       "<style scoped>\n",
       "    .dataframe tbody tr th:only-of-type {\n",
       "        vertical-align: middle;\n",
       "    }\n",
       "\n",
       "    .dataframe tbody tr th {\n",
       "        vertical-align: top;\n",
       "    }\n",
       "\n",
       "    .dataframe thead th {\n",
       "        text-align: right;\n",
       "    }\n",
       "</style>\n",
       "<table border=\"1\" class=\"dataframe\">\n",
       "  <thead>\n",
       "    <tr style=\"text-align: right;\">\n",
       "      <th></th>\n",
       "      <th>Plant_Name</th>\n",
       "      <th>Maintenance_Ordinal</th>\n",
       "      <th>all_tsne_1</th>\n",
       "      <th>all_tsne_2</th>\n",
       "      <th>maintenance_tsne_1</th>\n",
       "      <th>maintenance_tsne_2</th>\n",
       "    </tr>\n",
       "  </thead>\n",
       "  <tbody>\n",
       "    <tr>\n",
       "      <th>0</th>\n",
       "      <td>Aechmea</td>\n",
       "      <td>2</td>\n",
       "      <td>6.627025</td>\n",
       "      <td>-2.230587</td>\n",
       "      <td>-0.340899</td>\n",
       "      <td>8.302654</td>\n",
       "    </tr>\n",
       "    <tr>\n",
       "      <th>1</th>\n",
       "      <td>Ardisia crenata</td>\n",
       "      <td>2</td>\n",
       "      <td>6.339188</td>\n",
       "      <td>4.109788</td>\n",
       "      <td>-0.503153</td>\n",
       "      <td>5.586957</td>\n",
       "    </tr>\n",
       "    <tr>\n",
       "      <th>2</th>\n",
       "      <td>Euphorbia milii</td>\n",
       "      <td>2</td>\n",
       "      <td>2.980208</td>\n",
       "      <td>0.467295</td>\n",
       "      <td>-1.728377</td>\n",
       "      <td>1.066402</td>\n",
       "    </tr>\n",
       "    <tr>\n",
       "      <th>3</th>\n",
       "      <td>Ficus elastica</td>\n",
       "      <td>1</td>\n",
       "      <td>10.082797</td>\n",
       "      <td>3.701893</td>\n",
       "      <td>7.572592</td>\n",
       "      <td>-9.907969</td>\n",
       "    </tr>\n",
       "    <tr>\n",
       "      <th>4</th>\n",
       "      <td>Woodsia obtusa</td>\n",
       "      <td>2</td>\n",
       "      <td>3.931252</td>\n",
       "      <td>-8.229457</td>\n",
       "      <td>1.055398</td>\n",
       "      <td>5.531497</td>\n",
       "    </tr>\n",
       "    <tr>\n",
       "      <th>...</th>\n",
       "      <td>...</td>\n",
       "      <td>...</td>\n",
       "      <td>...</td>\n",
       "      <td>...</td>\n",
       "      <td>...</td>\n",
       "      <td>...</td>\n",
       "    </tr>\n",
       "    <tr>\n",
       "      <th>142</th>\n",
       "      <td>Pericallis × hybrida</td>\n",
       "      <td>3</td>\n",
       "      <td>-3.283486</td>\n",
       "      <td>-5.645183</td>\n",
       "      <td>-3.064541</td>\n",
       "      <td>9.582316</td>\n",
       "    </tr>\n",
       "    <tr>\n",
       "      <th>143</th>\n",
       "      <td>Begonia</td>\n",
       "      <td>3</td>\n",
       "      <td>-0.847695</td>\n",
       "      <td>4.337692</td>\n",
       "      <td>-3.064321</td>\n",
       "      <td>9.581954</td>\n",
       "    </tr>\n",
       "    <tr>\n",
       "      <th>144</th>\n",
       "      <td>Ficus carica</td>\n",
       "      <td>2</td>\n",
       "      <td>9.957441</td>\n",
       "      <td>0.195589</td>\n",
       "      <td>-0.562849</td>\n",
       "      <td>2.131438</td>\n",
       "    </tr>\n",
       "    <tr>\n",
       "      <th>145</th>\n",
       "      <td>Ficus pumila</td>\n",
       "      <td>1</td>\n",
       "      <td>5.380275</td>\n",
       "      <td>7.334817</td>\n",
       "      <td>7.028870</td>\n",
       "      <td>-8.546931</td>\n",
       "    </tr>\n",
       "    <tr>\n",
       "      <th>146</th>\n",
       "      <td>Ficus religiosa</td>\n",
       "      <td>1</td>\n",
       "      <td>10.388832</td>\n",
       "      <td>5.195681</td>\n",
       "      <td>-0.785858</td>\n",
       "      <td>-4.412797</td>\n",
       "    </tr>\n",
       "  </tbody>\n",
       "</table>\n",
       "<p>147 rows × 6 columns</p>\n",
       "</div>"
      ],
      "text/plain": [
       "               Plant_Name  Maintenance_Ordinal  all_tsne_1  all_tsne_2  \\\n",
       "0                 Aechmea                    2    6.627025   -2.230587   \n",
       "1         Ardisia crenata                    2    6.339188    4.109788   \n",
       "2         Euphorbia milii                    2    2.980208    0.467295   \n",
       "3          Ficus elastica                    1   10.082797    3.701893   \n",
       "4          Woodsia obtusa                    2    3.931252   -8.229457   \n",
       "..                    ...                  ...         ...         ...   \n",
       "142  Pericallis × hybrida                    3   -3.283486   -5.645183   \n",
       "143               Begonia                    3   -0.847695    4.337692   \n",
       "144          Ficus carica                    2    9.957441    0.195589   \n",
       "145          Ficus pumila                    1    5.380275    7.334817   \n",
       "146       Ficus religiosa                    1   10.388832    5.195681   \n",
       "\n",
       "     maintenance_tsne_1  maintenance_tsne_2  \n",
       "0             -0.340899            8.302654  \n",
       "1             -0.503153            5.586957  \n",
       "2             -1.728377            1.066402  \n",
       "3              7.572592           -9.907969  \n",
       "4              1.055398            5.531497  \n",
       "..                  ...                 ...  \n",
       "142           -3.064541            9.582316  \n",
       "143           -3.064321            9.581954  \n",
       "144           -0.562849            2.131438  \n",
       "145            7.028870           -8.546931  \n",
       "146           -0.785858           -4.412797  \n",
       "\n",
       "[147 rows x 6 columns]"
      ]
     },
     "execution_count": 33,
     "metadata": {},
     "output_type": "execute_result"
    }
   ],
   "source": [
    "plotting_df = pd.DataFrame(\n",
    "    {\"Plant_Name\": df_features[\"Plant_Name\"], \n",
    "    \"Maintenance_Ordinal\": df_features[\"Maintenance_Ordinal\"],\n",
    "    \"all_tsne_1\": all_tsne[:,0], \n",
    "    \"all_tsne_2\": all_tsne[:,1],\n",
    "    \"maintenance_tsne_1\": maintenance_tsne[:,0], \n",
    "    \"maintenance_tsne_2\": maintenance_tsne[:,1],\n",
    "    }) \n",
    "plotting_df"
   ]
  },
  {
   "cell_type": "code",
   "execution_count": 34,
   "metadata": {},
   "outputs": [
    {
     "data": {
      "application/vnd.plotly.v1+json": {
       "config": {
        "plotlyServerURL": "https://plotly.com"
       },
       "data": [
        {
         "marker": {
          "color": [
           2,
           2,
           2,
           1,
           2,
           2,
           2,
           1,
           1,
           2,
           1,
           2,
           2,
           1,
           1,
           1,
           2,
           3,
           1,
           1,
           1,
           1,
           1,
           1,
           2,
           1,
           1,
           1,
           1,
           1,
           1,
           2,
           3,
           1,
           2,
           2,
           2,
           1,
           1,
           2,
           1,
           1,
           2,
           1,
           1,
           1,
           1,
           1,
           1,
           2,
           1,
           1,
           1,
           1,
           3,
           1,
           1,
           2,
           2,
           2,
           2,
           2,
           1,
           1,
           1,
           1,
           2,
           2,
           1,
           1,
           2,
           1,
           1,
           2,
           1,
           2,
           2,
           2,
           2,
           1,
           2,
           2,
           3,
           1,
           1,
           2,
           2,
           1,
           1,
           1,
           1,
           2,
           1,
           2,
           3,
           3,
           2,
           2,
           1,
           1,
           1,
           2,
           1,
           1,
           2,
           2,
           1,
           1,
           2,
           2,
           1,
           1,
           2,
           1,
           2,
           1,
           2,
           3,
           1,
           2,
           1,
           1,
           1,
           1,
           2,
           1,
           2,
           2,
           1,
           1,
           2,
           2,
           3,
           1,
           1,
           1,
           1,
           1,
           2,
           1,
           3,
           3,
           3,
           3,
           2,
           1,
           1
          ],
          "colorscale": [
           [
            0,
            "#440154"
           ],
           [
            0.1111111111111111,
            "#482878"
           ],
           [
            0.2222222222222222,
            "#3e4989"
           ],
           [
            0.3333333333333333,
            "#31688e"
           ],
           [
            0.4444444444444444,
            "#26828e"
           ],
           [
            0.5555555555555556,
            "#1f9e89"
           ],
           [
            0.6666666666666666,
            "#35b779"
           ],
           [
            0.7777777777777778,
            "#6ece58"
           ],
           [
            0.8888888888888888,
            "#b5de2b"
           ],
           [
            1,
            "#fde725"
           ]
          ],
          "showscale": true,
          "size": 10
         },
         "mode": "markers",
         "text": [
          "Aechmea",
          "Ardisia crenata",
          "Euphorbia milii",
          "Ficus elastica",
          "Woodsia obtusa",
          "Kalanchoe",
          "Kalanchoe thyrsiflora",
          "Tradescantia spathacea",
          "Capsicum annuum",
          "Begonia masoniana",
          "Aloe",
          "Oncidium",
          "Zantedeschia",
          "Epipremnum aureum",
          "Hedera helix",
          "Sedum makinoi",
          "Asplenium nidus",
          "Elettaria cardamomum",
          "Peperomia obtusifolia",
          "Araucaria heterophylla",
          "Plectranthus scutellarioides",
          "Cissus alata",
          "Adenium obesum",
          "Asplenium antiquum",
          "Coffea arabica",
          "Syngonium",
          "Helianthus annuus",
          "Asplenium",
          "Dracaena reflexa",
          "Leucojum aestivum",
          "Aglaonema commutatum",
          "Anthurium crassinervium",
          "Euphorbia pulcherrima",
          "Tradescantia zebrina",
          "Camellia japonica",
          "Monstera deliciosa",
          "Hypoestes phyllostachya",
          "Peperomia",
          "Adiantum hispidulum",
          "Medinilla magnifica",
          "Syngonium podophyllum",
          "Rhapis excelsa",
          "Scindapsus pictus",
          "Campanula portenschlagiana",
          "Crocus vernus",
          "Aloe vera",
          "Cycas revoluta",
          "Pinus pinea",
          "Ficus benjamina",
          "Strelitzia reginae",
          "Plerandra elegantissima",
          "Chamaedorea elegans",
          "Dypsis lutescens",
          "Ficus benghalensis",
          "Gardenia jasminoides",
          "Beaucarnea recurvata",
          "Euphorbia tirucalli",
          "Alocasia zebrina",
          "Alocasia",
          "Guzmania",
          "Codiaeum variegatum",
          "Caladium bicolor",
          "Aspidistra elatior",
          "Peperomia argyreia",
          "Asparagus densiflorus",
          "Hyacinthus orientalis",
          "Soleirolia soleirolii",
          "Microsorum pustulatum",
          "Ficus",
          "Peperomia caperata",
          "Caladium",
          "Sansevieria trifasciata",
          "Schlumbergera truncata",
          "Cyclamen persicum",
          "Hoya carnosa",
          "Basella alba",
          "Saxifraga stolonifera",
          "Hibiscus rosa-sinensis",
          "Punica granatum",
          "Chlorophytum comosum",
          "Goeppertia roseopicta",
          "Pachira aquatica",
          "Vanilla planifolia",
          "Sedum",
          "Helleborus niger",
          "Ludisia discolor",
          "Brugmansia",
          "Pentas lanceolata",
          "Fatsia japonica",
          "Schefflera arboricola",
          "Tradescantia fluminensis",
          "Primula vulgaris",
          "Scilla mischtschenkoana",
          "Impatiens hawkeri",
          "Adiantum raddianum",
          "Ananas comosus",
          "Calathea zebrina",
          "Alocasia macrorrhizos",
          "Ginkgo biloba",
          "Nephrolepis exaltata",
          "Ficus lyrata",
          "Zantedeschia aethiopica",
          "Scilla siberica",
          "Juncus",
          "Euphorbia lactea",
          "Cordyline fruticosa",
          "Philodendron hederaceum",
          "Crassula ovata",
          "Rosa",
          "Aphelandra squarrosa",
          "Cuphea hyssopifolia",
          "Fritillaria meleagris",
          "Hydrangea macrophylla",
          "Platycerium bifurcatum",
          "Saintpaulia ionantha",
          "Pilea involucrata",
          "Cissus discolor",
          "Dendrobium",
          "Radermachera sinica",
          "Alocasia x amazonica",
          "Pellaea rotundifolia",
          "Aglaonema",
          "Schefflera actinophylla",
          "Asparagus plumosus",
          "Stephanotis floribunda",
          "Polyscias",
          "Anthurium andraeanum",
          "Pelargonium peltatum",
          "Kalanchoe blossfeldiana",
          "Narcissus 'Golden Dawn'",
          "Rosa rubiginosa",
          "Musa acuminata",
          "Begonia rex-cultorum",
          "Dracaena fragrans 'Lemon Lime'",
          "Dracaena fragrans",
          "Dracaena marginata",
          "Fittonia albivenis",
          "Pelargonium × hortorum",
          "Hippeastrum",
          "Pelargonium scented-leaves",
          "Sarracenia rubra",
          "Sarracenia flava",
          "Pericallis × hybrida",
          "Begonia",
          "Ficus carica",
          "Ficus pumila",
          "Ficus religiosa"
         ],
         "type": "scatter",
         "x": [
          -0.34089866280555725,
          -0.5031527280807495,
          -1.7283767461776733,
          7.572591781616211,
          1.0553982257843018,
          -2.6342577934265137,
          -2.5484399795532227,
          0.9174060225486755,
          -0.6322892308235168,
          -0.4980942904949188,
          -2.2007429599761963,
          0.27562451362609863,
          -0.7201551795005798,
          8.094125747680664,
          3.5464766025543213,
          1.8988370895385742,
          -1.748098611831665,
          -2.892009735107422,
          7.861879825592041,
          6.67599630355835,
          3.7314445972442627,
          7.60944938659668,
          -1.6640468835830688,
          7.1320319175720215,
          -0.01162528432905674,
          7.478946685791016,
          1.4182240962982178,
          3.6114604473114014,
          8.663796424865723,
          2.521477222442627,
          3.731458902359009,
          -1.8111464977264404,
          -3.064854145050049,
          1.165101408958435,
          0.9463754892349243,
          -0.3409064710140228,
          -0.011672519147396088,
          7.132946014404297,
          3.793327808380127,
          -0.3409639000892639,
          7.481359481811523,
          3.756647825241089,
          -0.49812036752700806,
          2.5208230018615723,
          2.6014323234558105,
          -2.2015559673309326,
          0.9169901609420776,
          -1.3207473754882812,
          0.4477043151855469,
          -1.8111281394958496,
          0.4476883113384247,
          3.731398105621338,
          0.6851869821548462,
          -0.7858577370643616,
          -3.058767795562744,
          -1.579309344291687,
          -1.664014458656311,
          -1.5483543872833252,
          -0.011755958199501038,
          -2.041675090789795,
          -0.7725961208343506,
          -0.9576520323753357,
          3.7936885356903076,
          8.129030227661133,
          6.673075199127197,
          1.6396784782409668,
          -0.9576306343078613,
          -1.3792554140090942,
          7.133067607879639,
          8.663724899291992,
          -0.9576306343078613,
          8.127843856811523,
          7.294602870941162,
          0.2756146490573883,
          -0.7858572602272034,
          -0.7791600823402405,
          0.6143499612808228,
          -1.5485016107559204,
          -1.579562783241272,
          3.756654739379883,
          -1.748103141784668,
          -1.0108062028884888,
          -3.517799139022827,
          1.1258708238601685,
          3.5131771564483643,
          -0.7728484272956848,
          -1.3916224241256714,
          -0.7855691313743591,
          3.793668746948242,
          0.4476882517337799,
          0.915026843547821,
          1.3458900451660156,
          2.5215537548065186,
          -0.01175522431731224,
          -3.0656471252441406,
          -2.781651496887207,
          -1.7474168539047241,
          0.8341597318649292,
          1.7093591690063477,
          7.572351932525635,
          7.812779903411865,
          -0.7203662991523743,
          2.6648120880126953,
          2.0461015701293945,
          -1.8110966682434082,
          -1.3792555332183838,
          8.35677433013916,
          8.359687805175781,
          0.11756839603185654,
          -1.7480870485305786,
          -0.6332595348358154,
          2.6014320850372314,
          1.1616344451904297,
          7.026079177856445,
          -1.7474212646484375,
          8.634811401367188,
          -0.7726438045501709,
          -3.064699411392212,
          0.6850979328155518,
          -0.34089913964271545,
          7.001307964324951,
          3.731458902359009,
          0.6851869225502014,
          6.677883625030518,
          -2.2011163234710693,
          0.3109476566314697,
          -0.498094767332077,
          -1.811409831047058,
          -0.32362329959869385,
          2.399773359298706,
          -0.2077808380126953,
          -1.8285455703735352,
          -3.4998552799224854,
          7.8624162673950195,
          7.575716018676758,
          7.814310550689697,
          8.352874755859375,
          0.4476879835128784,
          -1.2304140329360962,
          0.685186505317688,
          -3.396314859390259,
          -3.3960416316986084,
          -3.0645413398742676,
          -3.0643205642700195,
          -0.5628489851951599,
          7.02886962890625,
          -0.7858575582504272
         ],
         "y": [
          8.302654266357422,
          5.5869574546813965,
          1.0664021968841553,
          -9.907968521118164,
          5.531497478485107,
          3.303917646408081,
          3.1467573642730713,
          -5.001286506652832,
          -4.078543663024902,
          9.083161354064941,
          -4.228612899780273,
          8.112470626831055,
          2.8389089107513428,
          -8.851491928100586,
          -2.5538597106933594,
          -2.820758104324341,
          6.178747653961182,
          9.845130920410156,
          -9.418050765991211,
          -9.057259559631348,
          -6.817477703094482,
          -9.064213752746582,
          -4.498377323150635,
          -9.74547290802002,
          8.698305130004883,
          -9.283964157104492,
          -1.4998992681503296,
          -2.778804063796997,
          -9.513127326965332,
          -2.0305862426757812,
          -6.817351818084717,
          3.141706943511963,
          9.582942008972168,
          -4.634216785430908,
          7.335885524749756,
          8.302764892578125,
          8.698262214660645,
          -9.746749877929688,
          -6.042069911956787,
          8.302531242370605,
          -9.283387184143066,
          -6.442263126373291,
          9.083125114440918,
          -2.0315358638763428,
          -1.8161767721176147,
          -4.226943492889404,
          -4.998767852783203,
          -3.6932425498962402,
          -5.392629146575928,
          3.1416428089141846,
          -5.394636154174805,
          -6.818041801452637,
          -5.586948394775391,
          -4.412797451019287,
          9.672985076904297,
          -4.2724456787109375,
          -4.499368667602539,
          2.848736524581909,
          8.69781494140625,
          5.491938591003418,
          8.742609977722168,
          5.711115837097168,
          -6.042202472686768,
          -8.91958999633789,
          -9.068669319152832,
          -1.443955659866333,
          5.711199760437012,
          5.915046691894531,
          -9.747039794921875,
          -9.518697738647461,
          5.711199760437012,
          -8.911834716796875,
          -10.91728401184082,
          8.112455368041992,
          -4.412797451019287,
          0.8361295461654663,
          5.512637138366699,
          2.848891258239746,
          0.9714229702949524,
          -6.442272663116455,
          6.178775787353516,
          3.246713399887085,
          8.792844772338867,
          -1.9143863916397095,
          -2.409451961517334,
          8.740049362182617,
          1.2278906106948853,
          -4.409215450286865,
          -6.042534351348877,
          -5.394636631011963,
          -4.9966020584106445,
          6.569510459899902,
          -2.0305681228637695,
          8.697815895080566,
          9.503307342529297,
          1.8945889472961426,
          6.179905891418457,
          8.716194152832031,
          -1.3574286699295044,
          -9.906874656677246,
          -8.693613052368164,
          2.839024782180786,
          -1.6436978578567505,
          -0.7270446419715881,
          3.141695976257324,
          5.915046691894531,
          -10.085000038146973,
          -10.083227157592773,
          0.16789761185646057,
          6.178732395172119,
          -4.074520587921143,
          -1.8161770105361938,
          6.975624084472656,
          -8.547728538513184,
          6.1799445152282715,
          -9.60688304901123,
          8.742464065551758,
          9.582472801208496,
          -5.586746692657471,
          8.302654266357422,
          -8.571722030639648,
          -6.817351818084717,
          -5.586947441101074,
          -9.058059692382812,
          3.640559434890747,
          -5.907726287841797,
          9.083161354064941,
          3.1417319774627686,
          -5.723017692565918,
          -2.3023433685302734,
          0.41947194933891296,
          1.5370506048202515,
          8.853793144226074,
          -9.418595314025879,
          -9.908339500427246,
          -8.693923950195312,
          -10.089885711669922,
          -5.394636631011963,
          2.5846097469329834,
          -5.586947917938232,
          1.1069319248199463,
          1.1061997413635254,
          9.582316398620605,
          9.581954002380371,
          2.1314384937286377,
          -8.546931266784668,
          -4.412797451019287
         ]
        }
       ],
       "layout": {
        "template": {
         "data": {
          "bar": [
           {
            "error_x": {
             "color": "#2a3f5f"
            },
            "error_y": {
             "color": "#2a3f5f"
            },
            "marker": {
             "line": {
              "color": "#E5ECF6",
              "width": 0.5
             },
             "pattern": {
              "fillmode": "overlay",
              "size": 10,
              "solidity": 0.2
             }
            },
            "type": "bar"
           }
          ],
          "barpolar": [
           {
            "marker": {
             "line": {
              "color": "#E5ECF6",
              "width": 0.5
             },
             "pattern": {
              "fillmode": "overlay",
              "size": 10,
              "solidity": 0.2
             }
            },
            "type": "barpolar"
           }
          ],
          "carpet": [
           {
            "aaxis": {
             "endlinecolor": "#2a3f5f",
             "gridcolor": "white",
             "linecolor": "white",
             "minorgridcolor": "white",
             "startlinecolor": "#2a3f5f"
            },
            "baxis": {
             "endlinecolor": "#2a3f5f",
             "gridcolor": "white",
             "linecolor": "white",
             "minorgridcolor": "white",
             "startlinecolor": "#2a3f5f"
            },
            "type": "carpet"
           }
          ],
          "choropleth": [
           {
            "colorbar": {
             "outlinewidth": 0,
             "ticks": ""
            },
            "type": "choropleth"
           }
          ],
          "contour": [
           {
            "colorbar": {
             "outlinewidth": 0,
             "ticks": ""
            },
            "colorscale": [
             [
              0,
              "#0d0887"
             ],
             [
              0.1111111111111111,
              "#46039f"
             ],
             [
              0.2222222222222222,
              "#7201a8"
             ],
             [
              0.3333333333333333,
              "#9c179e"
             ],
             [
              0.4444444444444444,
              "#bd3786"
             ],
             [
              0.5555555555555556,
              "#d8576b"
             ],
             [
              0.6666666666666666,
              "#ed7953"
             ],
             [
              0.7777777777777778,
              "#fb9f3a"
             ],
             [
              0.8888888888888888,
              "#fdca26"
             ],
             [
              1,
              "#f0f921"
             ]
            ],
            "type": "contour"
           }
          ],
          "contourcarpet": [
           {
            "colorbar": {
             "outlinewidth": 0,
             "ticks": ""
            },
            "type": "contourcarpet"
           }
          ],
          "heatmap": [
           {
            "colorbar": {
             "outlinewidth": 0,
             "ticks": ""
            },
            "colorscale": [
             [
              0,
              "#0d0887"
             ],
             [
              0.1111111111111111,
              "#46039f"
             ],
             [
              0.2222222222222222,
              "#7201a8"
             ],
             [
              0.3333333333333333,
              "#9c179e"
             ],
             [
              0.4444444444444444,
              "#bd3786"
             ],
             [
              0.5555555555555556,
              "#d8576b"
             ],
             [
              0.6666666666666666,
              "#ed7953"
             ],
             [
              0.7777777777777778,
              "#fb9f3a"
             ],
             [
              0.8888888888888888,
              "#fdca26"
             ],
             [
              1,
              "#f0f921"
             ]
            ],
            "type": "heatmap"
           }
          ],
          "heatmapgl": [
           {
            "colorbar": {
             "outlinewidth": 0,
             "ticks": ""
            },
            "colorscale": [
             [
              0,
              "#0d0887"
             ],
             [
              0.1111111111111111,
              "#46039f"
             ],
             [
              0.2222222222222222,
              "#7201a8"
             ],
             [
              0.3333333333333333,
              "#9c179e"
             ],
             [
              0.4444444444444444,
              "#bd3786"
             ],
             [
              0.5555555555555556,
              "#d8576b"
             ],
             [
              0.6666666666666666,
              "#ed7953"
             ],
             [
              0.7777777777777778,
              "#fb9f3a"
             ],
             [
              0.8888888888888888,
              "#fdca26"
             ],
             [
              1,
              "#f0f921"
             ]
            ],
            "type": "heatmapgl"
           }
          ],
          "histogram": [
           {
            "marker": {
             "pattern": {
              "fillmode": "overlay",
              "size": 10,
              "solidity": 0.2
             }
            },
            "type": "histogram"
           }
          ],
          "histogram2d": [
           {
            "colorbar": {
             "outlinewidth": 0,
             "ticks": ""
            },
            "colorscale": [
             [
              0,
              "#0d0887"
             ],
             [
              0.1111111111111111,
              "#46039f"
             ],
             [
              0.2222222222222222,
              "#7201a8"
             ],
             [
              0.3333333333333333,
              "#9c179e"
             ],
             [
              0.4444444444444444,
              "#bd3786"
             ],
             [
              0.5555555555555556,
              "#d8576b"
             ],
             [
              0.6666666666666666,
              "#ed7953"
             ],
             [
              0.7777777777777778,
              "#fb9f3a"
             ],
             [
              0.8888888888888888,
              "#fdca26"
             ],
             [
              1,
              "#f0f921"
             ]
            ],
            "type": "histogram2d"
           }
          ],
          "histogram2dcontour": [
           {
            "colorbar": {
             "outlinewidth": 0,
             "ticks": ""
            },
            "colorscale": [
             [
              0,
              "#0d0887"
             ],
             [
              0.1111111111111111,
              "#46039f"
             ],
             [
              0.2222222222222222,
              "#7201a8"
             ],
             [
              0.3333333333333333,
              "#9c179e"
             ],
             [
              0.4444444444444444,
              "#bd3786"
             ],
             [
              0.5555555555555556,
              "#d8576b"
             ],
             [
              0.6666666666666666,
              "#ed7953"
             ],
             [
              0.7777777777777778,
              "#fb9f3a"
             ],
             [
              0.8888888888888888,
              "#fdca26"
             ],
             [
              1,
              "#f0f921"
             ]
            ],
            "type": "histogram2dcontour"
           }
          ],
          "mesh3d": [
           {
            "colorbar": {
             "outlinewidth": 0,
             "ticks": ""
            },
            "type": "mesh3d"
           }
          ],
          "parcoords": [
           {
            "line": {
             "colorbar": {
              "outlinewidth": 0,
              "ticks": ""
             }
            },
            "type": "parcoords"
           }
          ],
          "pie": [
           {
            "automargin": true,
            "type": "pie"
           }
          ],
          "scatter": [
           {
            "marker": {
             "colorbar": {
              "outlinewidth": 0,
              "ticks": ""
             }
            },
            "type": "scatter"
           }
          ],
          "scatter3d": [
           {
            "line": {
             "colorbar": {
              "outlinewidth": 0,
              "ticks": ""
             }
            },
            "marker": {
             "colorbar": {
              "outlinewidth": 0,
              "ticks": ""
             }
            },
            "type": "scatter3d"
           }
          ],
          "scattercarpet": [
           {
            "marker": {
             "colorbar": {
              "outlinewidth": 0,
              "ticks": ""
             }
            },
            "type": "scattercarpet"
           }
          ],
          "scattergeo": [
           {
            "marker": {
             "colorbar": {
              "outlinewidth": 0,
              "ticks": ""
             }
            },
            "type": "scattergeo"
           }
          ],
          "scattergl": [
           {
            "marker": {
             "colorbar": {
              "outlinewidth": 0,
              "ticks": ""
             }
            },
            "type": "scattergl"
           }
          ],
          "scattermapbox": [
           {
            "marker": {
             "colorbar": {
              "outlinewidth": 0,
              "ticks": ""
             }
            },
            "type": "scattermapbox"
           }
          ],
          "scatterpolar": [
           {
            "marker": {
             "colorbar": {
              "outlinewidth": 0,
              "ticks": ""
             }
            },
            "type": "scatterpolar"
           }
          ],
          "scatterpolargl": [
           {
            "marker": {
             "colorbar": {
              "outlinewidth": 0,
              "ticks": ""
             }
            },
            "type": "scatterpolargl"
           }
          ],
          "scatterternary": [
           {
            "marker": {
             "colorbar": {
              "outlinewidth": 0,
              "ticks": ""
             }
            },
            "type": "scatterternary"
           }
          ],
          "surface": [
           {
            "colorbar": {
             "outlinewidth": 0,
             "ticks": ""
            },
            "colorscale": [
             [
              0,
              "#0d0887"
             ],
             [
              0.1111111111111111,
              "#46039f"
             ],
             [
              0.2222222222222222,
              "#7201a8"
             ],
             [
              0.3333333333333333,
              "#9c179e"
             ],
             [
              0.4444444444444444,
              "#bd3786"
             ],
             [
              0.5555555555555556,
              "#d8576b"
             ],
             [
              0.6666666666666666,
              "#ed7953"
             ],
             [
              0.7777777777777778,
              "#fb9f3a"
             ],
             [
              0.8888888888888888,
              "#fdca26"
             ],
             [
              1,
              "#f0f921"
             ]
            ],
            "type": "surface"
           }
          ],
          "table": [
           {
            "cells": {
             "fill": {
              "color": "#EBF0F8"
             },
             "line": {
              "color": "white"
             }
            },
            "header": {
             "fill": {
              "color": "#C8D4E3"
             },
             "line": {
              "color": "white"
             }
            },
            "type": "table"
           }
          ]
         },
         "layout": {
          "annotationdefaults": {
           "arrowcolor": "#2a3f5f",
           "arrowhead": 0,
           "arrowwidth": 1
          },
          "autotypenumbers": "strict",
          "coloraxis": {
           "colorbar": {
            "outlinewidth": 0,
            "ticks": ""
           }
          },
          "colorscale": {
           "diverging": [
            [
             0,
             "#8e0152"
            ],
            [
             0.1,
             "#c51b7d"
            ],
            [
             0.2,
             "#de77ae"
            ],
            [
             0.3,
             "#f1b6da"
            ],
            [
             0.4,
             "#fde0ef"
            ],
            [
             0.5,
             "#f7f7f7"
            ],
            [
             0.6,
             "#e6f5d0"
            ],
            [
             0.7,
             "#b8e186"
            ],
            [
             0.8,
             "#7fbc41"
            ],
            [
             0.9,
             "#4d9221"
            ],
            [
             1,
             "#276419"
            ]
           ],
           "sequential": [
            [
             0,
             "#0d0887"
            ],
            [
             0.1111111111111111,
             "#46039f"
            ],
            [
             0.2222222222222222,
             "#7201a8"
            ],
            [
             0.3333333333333333,
             "#9c179e"
            ],
            [
             0.4444444444444444,
             "#bd3786"
            ],
            [
             0.5555555555555556,
             "#d8576b"
            ],
            [
             0.6666666666666666,
             "#ed7953"
            ],
            [
             0.7777777777777778,
             "#fb9f3a"
            ],
            [
             0.8888888888888888,
             "#fdca26"
            ],
            [
             1,
             "#f0f921"
            ]
           ],
           "sequentialminus": [
            [
             0,
             "#0d0887"
            ],
            [
             0.1111111111111111,
             "#46039f"
            ],
            [
             0.2222222222222222,
             "#7201a8"
            ],
            [
             0.3333333333333333,
             "#9c179e"
            ],
            [
             0.4444444444444444,
             "#bd3786"
            ],
            [
             0.5555555555555556,
             "#d8576b"
            ],
            [
             0.6666666666666666,
             "#ed7953"
            ],
            [
             0.7777777777777778,
             "#fb9f3a"
            ],
            [
             0.8888888888888888,
             "#fdca26"
            ],
            [
             1,
             "#f0f921"
            ]
           ]
          },
          "colorway": [
           "#636efa",
           "#EF553B",
           "#00cc96",
           "#ab63fa",
           "#FFA15A",
           "#19d3f3",
           "#FF6692",
           "#B6E880",
           "#FF97FF",
           "#FECB52"
          ],
          "font": {
           "color": "#2a3f5f"
          },
          "geo": {
           "bgcolor": "white",
           "lakecolor": "white",
           "landcolor": "#E5ECF6",
           "showlakes": true,
           "showland": true,
           "subunitcolor": "white"
          },
          "hoverlabel": {
           "align": "left"
          },
          "hovermode": "closest",
          "mapbox": {
           "style": "light"
          },
          "paper_bgcolor": "white",
          "plot_bgcolor": "#E5ECF6",
          "polar": {
           "angularaxis": {
            "gridcolor": "white",
            "linecolor": "white",
            "ticks": ""
           },
           "bgcolor": "#E5ECF6",
           "radialaxis": {
            "gridcolor": "white",
            "linecolor": "white",
            "ticks": ""
           }
          },
          "scene": {
           "xaxis": {
            "backgroundcolor": "#E5ECF6",
            "gridcolor": "white",
            "gridwidth": 2,
            "linecolor": "white",
            "showbackground": true,
            "ticks": "",
            "zerolinecolor": "white"
           },
           "yaxis": {
            "backgroundcolor": "#E5ECF6",
            "gridcolor": "white",
            "gridwidth": 2,
            "linecolor": "white",
            "showbackground": true,
            "ticks": "",
            "zerolinecolor": "white"
           },
           "zaxis": {
            "backgroundcolor": "#E5ECF6",
            "gridcolor": "white",
            "gridwidth": 2,
            "linecolor": "white",
            "showbackground": true,
            "ticks": "",
            "zerolinecolor": "white"
           }
          },
          "shapedefaults": {
           "line": {
            "color": "#2a3f5f"
           }
          },
          "ternary": {
           "aaxis": {
            "gridcolor": "white",
            "linecolor": "white",
            "ticks": ""
           },
           "baxis": {
            "gridcolor": "white",
            "linecolor": "white",
            "ticks": ""
           },
           "bgcolor": "#E5ECF6",
           "caxis": {
            "gridcolor": "white",
            "linecolor": "white",
            "ticks": ""
           }
          },
          "title": {
           "x": 0.05
          },
          "xaxis": {
           "automargin": true,
           "gridcolor": "white",
           "linecolor": "white",
           "ticks": "",
           "title": {
            "standoff": 15
           },
           "zerolinecolor": "white",
           "zerolinewidth": 2
          },
          "yaxis": {
           "automargin": true,
           "gridcolor": "white",
           "linecolor": "white",
           "ticks": "",
           "title": {
            "standoff": 15
           },
           "zerolinecolor": "white",
           "zerolinewidth": 2
          }
         }
        }
       }
      }
     },
     "metadata": {},
     "output_type": "display_data"
    }
   ],
   "source": [
    "fig = go.Figure(data=go.Scatter(\n",
    "    x=plotting_df[\"maintenance_tsne_1\"], y=plotting_df[\"maintenance_tsne_2\"], mode=\"markers\",\n",
    "    text=plotting_df[\"Plant_Name\"],\n",
    "    marker=dict(\n",
    "        size=10,\n",
    "        color=df_features[\"Maintenance_Ordinal\"],\n",
    "        colorscale='Viridis', \n",
    "        showscale=True,\n",
    "    )\n",
    "))\n",
    "\n",
    "fig.show()"
   ]
  },
  {
   "cell_type": "markdown",
   "metadata": {},
   "source": [
    "## Now time to work on the sunlight vs watering scatter plot"
   ]
  },
  {
   "cell_type": "code",
   "execution_count": 35,
   "metadata": {},
   "outputs": [
    {
     "data": {
      "text/html": [
       "<div>\n",
       "<style scoped>\n",
       "    .dataframe tbody tr th:only-of-type {\n",
       "        vertical-align: middle;\n",
       "    }\n",
       "\n",
       "    .dataframe tbody tr th {\n",
       "        vertical-align: top;\n",
       "    }\n",
       "\n",
       "    .dataframe thead th {\n",
       "        text-align: right;\n",
       "    }\n",
       "</style>\n",
       "<table border=\"1\" class=\"dataframe\">\n",
       "  <thead>\n",
       "    <tr style=\"text-align: right;\">\n",
       "      <th></th>\n",
       "      <th>Plant_Name</th>\n",
       "      <th>Sunlight_Ordinal</th>\n",
       "      <th>Watering_Ordinal</th>\n",
       "    </tr>\n",
       "  </thead>\n",
       "  <tbody>\n",
       "    <tr>\n",
       "      <th>0</th>\n",
       "      <td>Aechmea</td>\n",
       "      <td>1</td>\n",
       "      <td>3</td>\n",
       "    </tr>\n",
       "    <tr>\n",
       "      <th>1</th>\n",
       "      <td>Ardisia crenata</td>\n",
       "      <td>2</td>\n",
       "      <td>3</td>\n",
       "    </tr>\n",
       "    <tr>\n",
       "      <th>2</th>\n",
       "      <td>Euphorbia milii</td>\n",
       "      <td>4</td>\n",
       "      <td>2</td>\n",
       "    </tr>\n",
       "  </tbody>\n",
       "</table>\n",
       "</div>"
      ],
      "text/plain": [
       "        Plant_Name  Sunlight_Ordinal  Watering_Ordinal\n",
       "0          Aechmea                 1                 3\n",
       "1  Ardisia crenata                 2                 3\n",
       "2  Euphorbia milii                 4                 2"
      ]
     },
     "execution_count": 35,
     "metadata": {},
     "output_type": "execute_result"
    }
   ],
   "source": [
    "# Great sunlight = more sunlight, greater water = more water. \n",
    "df_features[[\"Plant_Name\", \"Sunlight_Ordinal\", \"Watering_Ordinal\"]].head(3)"
   ]
  },
  {
   "cell_type": "code",
   "execution_count": 36,
   "metadata": {},
   "outputs": [],
   "source": [
    "plotting_df[\"Sunlight_jittered\"] = df_features[\"Sunlight_Ordinal\"] + np.random.uniform(-0.35,0.35,147)\n",
    "plotting_df[\"Watering_jittered\"] = df_features[\"Watering_Ordinal\"] + np.random.uniform(-0.35,0.35,147)"
   ]
  },
  {
   "cell_type": "code",
   "execution_count": 37,
   "metadata": {},
   "outputs": [
    {
     "data": {
      "application/vnd.plotly.v1+json": {
       "config": {
        "plotlyServerURL": "https://plotly.com"
       },
       "data": [
        {
         "marker": {
          "color": [
           2,
           2,
           2,
           1,
           2,
           2,
           2,
           1,
           1,
           2,
           1,
           2,
           2,
           1,
           1,
           1,
           2,
           3,
           1,
           1,
           1,
           1,
           1,
           1,
           2,
           1,
           1,
           1,
           1,
           1,
           1,
           2,
           3,
           1,
           2,
           2,
           2,
           1,
           1,
           2,
           1,
           1,
           2,
           1,
           1,
           1,
           1,
           1,
           1,
           2,
           1,
           1,
           1,
           1,
           3,
           1,
           1,
           2,
           2,
           2,
           2,
           2,
           1,
           1,
           1,
           1,
           2,
           2,
           1,
           1,
           2,
           1,
           1,
           2,
           1,
           2,
           2,
           2,
           2,
           1,
           2,
           2,
           3,
           1,
           1,
           2,
           2,
           1,
           1,
           1,
           1,
           2,
           1,
           2,
           3,
           3,
           2,
           2,
           1,
           1,
           1,
           2,
           1,
           1,
           2,
           2,
           1,
           1,
           2,
           2,
           1,
           1,
           2,
           1,
           2,
           1,
           2,
           3,
           1,
           2,
           1,
           1,
           1,
           1,
           2,
           1,
           2,
           2,
           1,
           1,
           2,
           2,
           3,
           1,
           1,
           1,
           1,
           1,
           2,
           1,
           3,
           3,
           3,
           3,
           2,
           1,
           1
          ],
          "colorscale": [
           [
            0,
            "blue"
           ],
           [
            0.5,
            "green"
           ],
           [
            1,
            "red"
           ]
          ],
          "showscale": true,
          "size": 10
         },
         "mode": "markers",
         "text": [
          "Aechmea",
          "Ardisia crenata",
          "Euphorbia milii",
          "Ficus elastica",
          "Woodsia obtusa",
          "Kalanchoe",
          "Kalanchoe thyrsiflora",
          "Tradescantia spathacea",
          "Capsicum annuum",
          "Begonia masoniana",
          "Aloe",
          "Oncidium",
          "Zantedeschia",
          "Epipremnum aureum",
          "Hedera helix",
          "Sedum makinoi",
          "Asplenium nidus",
          "Elettaria cardamomum",
          "Peperomia obtusifolia",
          "Araucaria heterophylla",
          "Plectranthus scutellarioides",
          "Cissus alata",
          "Adenium obesum",
          "Asplenium antiquum",
          "Coffea arabica",
          "Syngonium",
          "Helianthus annuus",
          "Asplenium",
          "Dracaena reflexa",
          "Leucojum aestivum",
          "Aglaonema commutatum",
          "Anthurium crassinervium",
          "Euphorbia pulcherrima",
          "Tradescantia zebrina",
          "Camellia japonica",
          "Monstera deliciosa",
          "Hypoestes phyllostachya",
          "Peperomia",
          "Adiantum hispidulum",
          "Medinilla magnifica",
          "Syngonium podophyllum",
          "Rhapis excelsa",
          "Scindapsus pictus",
          "Campanula portenschlagiana",
          "Crocus vernus",
          "Aloe vera",
          "Cycas revoluta",
          "Pinus pinea",
          "Ficus benjamina",
          "Strelitzia reginae",
          "Plerandra elegantissima",
          "Chamaedorea elegans",
          "Dypsis lutescens",
          "Ficus benghalensis",
          "Gardenia jasminoides",
          "Beaucarnea recurvata",
          "Euphorbia tirucalli",
          "Alocasia zebrina",
          "Alocasia",
          "Guzmania",
          "Codiaeum variegatum",
          "Caladium bicolor",
          "Aspidistra elatior",
          "Peperomia argyreia",
          "Asparagus densiflorus",
          "Hyacinthus orientalis",
          "Soleirolia soleirolii",
          "Microsorum pustulatum",
          "Ficus",
          "Peperomia caperata",
          "Caladium",
          "Sansevieria trifasciata",
          "Schlumbergera truncata",
          "Cyclamen persicum",
          "Hoya carnosa",
          "Basella alba",
          "Saxifraga stolonifera",
          "Hibiscus rosa-sinensis",
          "Punica granatum",
          "Chlorophytum comosum",
          "Goeppertia roseopicta",
          "Pachira aquatica",
          "Vanilla planifolia",
          "Sedum",
          "Helleborus niger",
          "Ludisia discolor",
          "Brugmansia",
          "Pentas lanceolata",
          "Fatsia japonica",
          "Schefflera arboricola",
          "Tradescantia fluminensis",
          "Primula vulgaris",
          "Scilla mischtschenkoana",
          "Impatiens hawkeri",
          "Adiantum raddianum",
          "Ananas comosus",
          "Calathea zebrina",
          "Alocasia macrorrhizos",
          "Ginkgo biloba",
          "Nephrolepis exaltata",
          "Ficus lyrata",
          "Zantedeschia aethiopica",
          "Scilla siberica",
          "Juncus",
          "Euphorbia lactea",
          "Cordyline fruticosa",
          "Philodendron hederaceum",
          "Crassula ovata",
          "Rosa",
          "Aphelandra squarrosa",
          "Cuphea hyssopifolia",
          "Fritillaria meleagris",
          "Hydrangea macrophylla",
          "Platycerium bifurcatum",
          "Saintpaulia ionantha",
          "Pilea involucrata",
          "Cissus discolor",
          "Dendrobium",
          "Radermachera sinica",
          "Alocasia x amazonica",
          "Pellaea rotundifolia",
          "Aglaonema",
          "Schefflera actinophylla",
          "Asparagus plumosus",
          "Stephanotis floribunda",
          "Polyscias",
          "Anthurium andraeanum",
          "Pelargonium peltatum",
          "Kalanchoe blossfeldiana",
          "Narcissus 'Golden Dawn'",
          "Rosa rubiginosa",
          "Musa acuminata",
          "Begonia rex-cultorum",
          "Dracaena fragrans 'Lemon Lime'",
          "Dracaena fragrans",
          "Dracaena marginata",
          "Fittonia albivenis",
          "Pelargonium × hortorum",
          "Hippeastrum",
          "Pelargonium scented-leaves",
          "Sarracenia rubra",
          "Sarracenia flava",
          "Pericallis × hybrida",
          "Begonia",
          "Ficus carica",
          "Ficus pumila",
          "Ficus religiosa"
         ],
         "type": "scatter",
         "x": [
          0.9658762699935045,
          2.0579117218852523,
          3.994829189938741,
          1.345441282036175,
          1.6601018047944975,
          2.8016424448719275,
          3.070766852799441,
          3.013707935558952,
          3.675359372225423,
          0.69962899663261,
          4.269951434164534,
          0.6932526017724225,
          3.1092575195613117,
          0.8928104137962641,
          2.0774097279674346,
          3.173608244666485,
          1.830602602803842,
          1.085316324506691,
          0.726277482053316,
          0.898893121881869,
          2.1984260968514477,
          0.7386344221279294,
          4.203064725341871,
          1.0453293396943635,
          1.2727124157132343,
          1.260310787306735,
          3.8345813584674926,
          2.011945814064845,
          0.8766417217415206,
          3.2513407457493684,
          1.708728062819415,
          2.8543372156597377,
          0.918159583306922,
          3.2517317125794554,
          1.163672887154431,
          1.3443442542408475,
          0.7114536553706894,
          1.2076322327518052,
          1.7926941622087567,
          1.251826347987037,
          1.1492087503025197,
          1.951002690004547,
          1.2139241122141398,
          2.7828254416852714,
          2.6569033236345962,
          3.6650475552497292,
          3.3326580216320205,
          3.8875396442191725,
          2.7194207696959074,
          3.342987197497925,
          2.6813535849066064,
          2.095196071566875,
          3.06167761369095,
          3.9820142222919745,
          1.042761224711496,
          3.700176947190859,
          4.073487786046106,
          3.0684280697235313,
          1.1882611432417949,
          1.826359202170998,
          0.7883240717484788,
          1.8991460591812708,
          1.6760465731329213,
          0.9749014520272442,
          0.8979862496341157,
          3.8155847783556798,
          1.7903958284904984,
          2.0208170749594623,
          1.0648633419220828,
          0.8661442448936973,
          2.1094906972026104,
          1.1720209669289514,
          0.9472106854969751,
          1.0753187100123849,
          4.0537785497835905,
          3.9097425190265307,
          2.1307667191259414,
          2.9744288502523104,
          3.9537059930262615,
          1.9669858870666408,
          1.8510693595178043,
          3.276290717342495,
          1.9883668555700122,
          3.7606157105398097,
          2.033914781867609,
          1.1086871980296036,
          3.838788693959663,
          4.272690868878473,
          2.161614807305871,
          2.8862702902452186,
          2.99204334003879,
          0.7748269981528866,
          3.275392887335099,
          1.0727077245266927,
          1.0280948586250074,
          4.305933530028977,
          2.0509819083228433,
          0.8409476899656131,
          3.9599912928893604,
          1.0133007601348463,
          1.2392150171815561,
          2.713865787160133,
          2.89108393385729,
          4.237146671126033,
          3.234358679843454,
          1.7087469547855214,
          1.0358198621732662,
          1.2372745482368817,
          3.7136703729882887,
          1.7544468993229936,
          4.304517326089477,
          3.1402006799633964,
          0.8430822528422806,
          0.8571040923041328,
          1.94681307786278,
          1.3194683879914706,
          1.1954950949876946,
          0.8333129545268693,
          3.0784232907847806,
          1.1733975447487857,
          0.8493465670228582,
          1.8841467376460752,
          3.2785811365344624,
          1.2637125725037928,
          3.331256145975471,
          3.0413110598066804,
          1.1072907403761603,
          2.6726760171609545,
          2.7126613097976913,
          3.218826018403172,
          4.276317471598064,
          3.701813679635698,
          1.7935812875764123,
          1.1889078547910552,
          1.1993307534761426,
          0.8362083859261998,
          0.9318564893974534,
          3.078985373757658,
          3.0948642957832773,
          3.1702976285257507,
          3.7702195841130894,
          3.788451916985284,
          0.6732552300672328,
          1.3484381484893522,
          2.7356881490982516,
          1.0565850056971435,
          3.851226625435897
         ],
         "y": [
          2.744963454654307,
          3.0015075277255785,
          2.187474645527737,
          3.3211437333774003,
          2.835580904871116,
          2.3212803684443135,
          1.8240513408125125,
          3.2495558478931263,
          2.9002041039867095,
          2.973565520059438,
          1.1549524684132173,
          2.957844461229542,
          4.0178610064127955,
          3.019924294926176,
          2.868093112742288,
          1.910847015919539,
          3.124435559079817,
          4.32185211970712,
          3.317862041903012,
          3.217951491109168,
          2.837588610798301,
          3.105739733529637,
          1.7692412191780427,
          3.0099804060499498,
          2.8545502364020954,
          3.3473184800602778,
          2.126737049147506,
          2.972401538868869,
          2.9247620916474775,
          2.941946031178483,
          3.039435481446348,
          3.3331045459125144,
          2.8581186492770336,
          3.0789393863439734,
          2.9754957895311267,
          3.1596265526574405,
          2.718543472336304,
          3.3357156256031177,
          2.8501671622875713,
          3.15299325872698,
          3.2262286602900314,
          2.81916463567354,
          3.2788729058764847,
          3.0319515675048825,
          2.7291863153285814,
          1.104136967152781,
          3.0668856253632883,
          1.9465418493436917,
          3.1354319686361416,
          3.0074347466159055,
          3.027537882458614,
          3.244739565998111,
          3.041035272956335,
          3.2922445973653955,
          2.7893471404170143,
          2.163064975508757,
          2.192681974086937,
          3.215730010592862,
          2.6526378776936985,
          2.3428158546041837,
          2.8360339746298004,
          3.32633966880026,
          2.9100855055413706,
          3.225551582256671,
          3.310219662649695,
          2.9036986312153212,
          2.9418270192604448,
          3.323823143249095,
          2.9440849279846715,
          2.9275781417299966,
          2.939803876388875,
          2.865887273130075,
          1.9311440821256798,
          2.87378449177371,
          3.010204505506526,
          3.2334095895433723,
          2.868317947008345,
          2.8819147376291605,
          2.0690953077727774,
          2.706579447798546,
          3.278174030907164,
          3.6721220613738375,
          3.2269655422071035,
          2.2881555463302274,
          3.3331725695094505,
          3.316321281410559,
          2.7160581073609418,
          3.1050019932022552,
          3.2354699499346067,
          3.3238753464743946,
          2.663527008912767,
          2.9036979519958495,
          3.3245145956014728,
          2.802218925701856,
          2.8607243956590915,
          3.20080362733693,
          3.2534611868909318,
          4.136854569722338,
          3.064544561735424,
          3.3281819970721154,
          2.803430803957608,
          3.802107762965813,
          2.815141701996656,
          5.124273302443533,
          3.2292410501042736,
          2.871991503545451,
          3.332143970029016,
          3.1319852372820787,
          3.288162752133543,
          3.20565495916697,
          3.042828047537674,
          2.711135106600041,
          2.979576235647115,
          3.3371041376786534,
          2.7579594853054235,
          2.8960213565070676,
          2.9801543803446493,
          2.6893839937947663,
          3.2280600416725624,
          2.8664005238067434,
          3.3424106312348822,
          2.7417523563337807,
          3.1437770748416862,
          2.9916126132083125,
          3.2173288581294983,
          3.230994638809279,
          2.8206000028037126,
          3.307245959599779,
          2.1327924379817,
          2.7143090092584594,
          2.767742286507951,
          3.1472376227709487,
          3.1153920462610016,
          2.8650016272596464,
          3.2436924503123037,
          3.181506175625466,
          3.2089130443078835,
          3.0546998153855887,
          3.313161612578522,
          3.181847793300954,
          4.846541856825921,
          5.216958806948625,
          2.7147313510486693,
          2.7452229267601984,
          3.3399275604557173,
          2.7628583470903547,
          2.716512653035065
         ]
        }
       ],
       "layout": {
        "annotations": [
         {
          "align": "center",
          "ax": 2.5,
          "axref": "x",
          "ay": -0.2,
          "showarrow": false,
          "text": "Wants More Sunlight",
          "x": 2.5,
          "xref": "x",
          "y": -0.2,
          "yref": "paper"
         },
         {
          "arrowcolor": "#645754",
          "arrowhead": 2,
          "arrowsize": 1,
          "arrowwidth": 3,
          "ax": 0.6,
          "axref": "x",
          "ay": -0.1,
          "showarrow": true,
          "x": 4.4,
          "xref": "x",
          "y": -0.1,
          "yref": "paper"
         },
         {
          "align": "center",
          "ax": -0.05,
          "axref": "x",
          "ay": 2.5,
          "ayref": "y",
          "showarrow": false,
          "text": "Wants More Watering",
          "textangle": -90,
          "x": -0.05,
          "xref": "paper",
          "y": 2.5,
          "yref": "y"
         },
         {
          "arrowcolor": "#645754",
          "arrowhead": 2,
          "arrowsize": 1,
          "arrowwidth": 3,
          "ax": -0.02,
          "ay": 0,
          "ayref": "y",
          "showarrow": true,
          "x": -0.02,
          "xref": "paper",
          "y": 4.8,
          "yref": "y"
         }
        ],
        "showlegend": false,
        "template": {
         "data": {
          "bar": [
           {
            "error_x": {
             "color": "#2a3f5f"
            },
            "error_y": {
             "color": "#2a3f5f"
            },
            "marker": {
             "line": {
              "color": "#E5ECF6",
              "width": 0.5
             },
             "pattern": {
              "fillmode": "overlay",
              "size": 10,
              "solidity": 0.2
             }
            },
            "type": "bar"
           }
          ],
          "barpolar": [
           {
            "marker": {
             "line": {
              "color": "#E5ECF6",
              "width": 0.5
             },
             "pattern": {
              "fillmode": "overlay",
              "size": 10,
              "solidity": 0.2
             }
            },
            "type": "barpolar"
           }
          ],
          "carpet": [
           {
            "aaxis": {
             "endlinecolor": "#2a3f5f",
             "gridcolor": "white",
             "linecolor": "white",
             "minorgridcolor": "white",
             "startlinecolor": "#2a3f5f"
            },
            "baxis": {
             "endlinecolor": "#2a3f5f",
             "gridcolor": "white",
             "linecolor": "white",
             "minorgridcolor": "white",
             "startlinecolor": "#2a3f5f"
            },
            "type": "carpet"
           }
          ],
          "choropleth": [
           {
            "colorbar": {
             "outlinewidth": 0,
             "ticks": ""
            },
            "type": "choropleth"
           }
          ],
          "contour": [
           {
            "colorbar": {
             "outlinewidth": 0,
             "ticks": ""
            },
            "colorscale": [
             [
              0,
              "#0d0887"
             ],
             [
              0.1111111111111111,
              "#46039f"
             ],
             [
              0.2222222222222222,
              "#7201a8"
             ],
             [
              0.3333333333333333,
              "#9c179e"
             ],
             [
              0.4444444444444444,
              "#bd3786"
             ],
             [
              0.5555555555555556,
              "#d8576b"
             ],
             [
              0.6666666666666666,
              "#ed7953"
             ],
             [
              0.7777777777777778,
              "#fb9f3a"
             ],
             [
              0.8888888888888888,
              "#fdca26"
             ],
             [
              1,
              "#f0f921"
             ]
            ],
            "type": "contour"
           }
          ],
          "contourcarpet": [
           {
            "colorbar": {
             "outlinewidth": 0,
             "ticks": ""
            },
            "type": "contourcarpet"
           }
          ],
          "heatmap": [
           {
            "colorbar": {
             "outlinewidth": 0,
             "ticks": ""
            },
            "colorscale": [
             [
              0,
              "#0d0887"
             ],
             [
              0.1111111111111111,
              "#46039f"
             ],
             [
              0.2222222222222222,
              "#7201a8"
             ],
             [
              0.3333333333333333,
              "#9c179e"
             ],
             [
              0.4444444444444444,
              "#bd3786"
             ],
             [
              0.5555555555555556,
              "#d8576b"
             ],
             [
              0.6666666666666666,
              "#ed7953"
             ],
             [
              0.7777777777777778,
              "#fb9f3a"
             ],
             [
              0.8888888888888888,
              "#fdca26"
             ],
             [
              1,
              "#f0f921"
             ]
            ],
            "type": "heatmap"
           }
          ],
          "heatmapgl": [
           {
            "colorbar": {
             "outlinewidth": 0,
             "ticks": ""
            },
            "colorscale": [
             [
              0,
              "#0d0887"
             ],
             [
              0.1111111111111111,
              "#46039f"
             ],
             [
              0.2222222222222222,
              "#7201a8"
             ],
             [
              0.3333333333333333,
              "#9c179e"
             ],
             [
              0.4444444444444444,
              "#bd3786"
             ],
             [
              0.5555555555555556,
              "#d8576b"
             ],
             [
              0.6666666666666666,
              "#ed7953"
             ],
             [
              0.7777777777777778,
              "#fb9f3a"
             ],
             [
              0.8888888888888888,
              "#fdca26"
             ],
             [
              1,
              "#f0f921"
             ]
            ],
            "type": "heatmapgl"
           }
          ],
          "histogram": [
           {
            "marker": {
             "pattern": {
              "fillmode": "overlay",
              "size": 10,
              "solidity": 0.2
             }
            },
            "type": "histogram"
           }
          ],
          "histogram2d": [
           {
            "colorbar": {
             "outlinewidth": 0,
             "ticks": ""
            },
            "colorscale": [
             [
              0,
              "#0d0887"
             ],
             [
              0.1111111111111111,
              "#46039f"
             ],
             [
              0.2222222222222222,
              "#7201a8"
             ],
             [
              0.3333333333333333,
              "#9c179e"
             ],
             [
              0.4444444444444444,
              "#bd3786"
             ],
             [
              0.5555555555555556,
              "#d8576b"
             ],
             [
              0.6666666666666666,
              "#ed7953"
             ],
             [
              0.7777777777777778,
              "#fb9f3a"
             ],
             [
              0.8888888888888888,
              "#fdca26"
             ],
             [
              1,
              "#f0f921"
             ]
            ],
            "type": "histogram2d"
           }
          ],
          "histogram2dcontour": [
           {
            "colorbar": {
             "outlinewidth": 0,
             "ticks": ""
            },
            "colorscale": [
             [
              0,
              "#0d0887"
             ],
             [
              0.1111111111111111,
              "#46039f"
             ],
             [
              0.2222222222222222,
              "#7201a8"
             ],
             [
              0.3333333333333333,
              "#9c179e"
             ],
             [
              0.4444444444444444,
              "#bd3786"
             ],
             [
              0.5555555555555556,
              "#d8576b"
             ],
             [
              0.6666666666666666,
              "#ed7953"
             ],
             [
              0.7777777777777778,
              "#fb9f3a"
             ],
             [
              0.8888888888888888,
              "#fdca26"
             ],
             [
              1,
              "#f0f921"
             ]
            ],
            "type": "histogram2dcontour"
           }
          ],
          "mesh3d": [
           {
            "colorbar": {
             "outlinewidth": 0,
             "ticks": ""
            },
            "type": "mesh3d"
           }
          ],
          "parcoords": [
           {
            "line": {
             "colorbar": {
              "outlinewidth": 0,
              "ticks": ""
             }
            },
            "type": "parcoords"
           }
          ],
          "pie": [
           {
            "automargin": true,
            "type": "pie"
           }
          ],
          "scatter": [
           {
            "marker": {
             "colorbar": {
              "outlinewidth": 0,
              "ticks": ""
             }
            },
            "type": "scatter"
           }
          ],
          "scatter3d": [
           {
            "line": {
             "colorbar": {
              "outlinewidth": 0,
              "ticks": ""
             }
            },
            "marker": {
             "colorbar": {
              "outlinewidth": 0,
              "ticks": ""
             }
            },
            "type": "scatter3d"
           }
          ],
          "scattercarpet": [
           {
            "marker": {
             "colorbar": {
              "outlinewidth": 0,
              "ticks": ""
             }
            },
            "type": "scattercarpet"
           }
          ],
          "scattergeo": [
           {
            "marker": {
             "colorbar": {
              "outlinewidth": 0,
              "ticks": ""
             }
            },
            "type": "scattergeo"
           }
          ],
          "scattergl": [
           {
            "marker": {
             "colorbar": {
              "outlinewidth": 0,
              "ticks": ""
             }
            },
            "type": "scattergl"
           }
          ],
          "scattermapbox": [
           {
            "marker": {
             "colorbar": {
              "outlinewidth": 0,
              "ticks": ""
             }
            },
            "type": "scattermapbox"
           }
          ],
          "scatterpolar": [
           {
            "marker": {
             "colorbar": {
              "outlinewidth": 0,
              "ticks": ""
             }
            },
            "type": "scatterpolar"
           }
          ],
          "scatterpolargl": [
           {
            "marker": {
             "colorbar": {
              "outlinewidth": 0,
              "ticks": ""
             }
            },
            "type": "scatterpolargl"
           }
          ],
          "scatterternary": [
           {
            "marker": {
             "colorbar": {
              "outlinewidth": 0,
              "ticks": ""
             }
            },
            "type": "scatterternary"
           }
          ],
          "surface": [
           {
            "colorbar": {
             "outlinewidth": 0,
             "ticks": ""
            },
            "colorscale": [
             [
              0,
              "#0d0887"
             ],
             [
              0.1111111111111111,
              "#46039f"
             ],
             [
              0.2222222222222222,
              "#7201a8"
             ],
             [
              0.3333333333333333,
              "#9c179e"
             ],
             [
              0.4444444444444444,
              "#bd3786"
             ],
             [
              0.5555555555555556,
              "#d8576b"
             ],
             [
              0.6666666666666666,
              "#ed7953"
             ],
             [
              0.7777777777777778,
              "#fb9f3a"
             ],
             [
              0.8888888888888888,
              "#fdca26"
             ],
             [
              1,
              "#f0f921"
             ]
            ],
            "type": "surface"
           }
          ],
          "table": [
           {
            "cells": {
             "fill": {
              "color": "#EBF0F8"
             },
             "line": {
              "color": "white"
             }
            },
            "header": {
             "fill": {
              "color": "#C8D4E3"
             },
             "line": {
              "color": "white"
             }
            },
            "type": "table"
           }
          ]
         },
         "layout": {
          "annotationdefaults": {
           "arrowcolor": "#2a3f5f",
           "arrowhead": 0,
           "arrowwidth": 1
          },
          "autotypenumbers": "strict",
          "coloraxis": {
           "colorbar": {
            "outlinewidth": 0,
            "ticks": ""
           }
          },
          "colorscale": {
           "diverging": [
            [
             0,
             "#8e0152"
            ],
            [
             0.1,
             "#c51b7d"
            ],
            [
             0.2,
             "#de77ae"
            ],
            [
             0.3,
             "#f1b6da"
            ],
            [
             0.4,
             "#fde0ef"
            ],
            [
             0.5,
             "#f7f7f7"
            ],
            [
             0.6,
             "#e6f5d0"
            ],
            [
             0.7,
             "#b8e186"
            ],
            [
             0.8,
             "#7fbc41"
            ],
            [
             0.9,
             "#4d9221"
            ],
            [
             1,
             "#276419"
            ]
           ],
           "sequential": [
            [
             0,
             "#0d0887"
            ],
            [
             0.1111111111111111,
             "#46039f"
            ],
            [
             0.2222222222222222,
             "#7201a8"
            ],
            [
             0.3333333333333333,
             "#9c179e"
            ],
            [
             0.4444444444444444,
             "#bd3786"
            ],
            [
             0.5555555555555556,
             "#d8576b"
            ],
            [
             0.6666666666666666,
             "#ed7953"
            ],
            [
             0.7777777777777778,
             "#fb9f3a"
            ],
            [
             0.8888888888888888,
             "#fdca26"
            ],
            [
             1,
             "#f0f921"
            ]
           ],
           "sequentialminus": [
            [
             0,
             "#0d0887"
            ],
            [
             0.1111111111111111,
             "#46039f"
            ],
            [
             0.2222222222222222,
             "#7201a8"
            ],
            [
             0.3333333333333333,
             "#9c179e"
            ],
            [
             0.4444444444444444,
             "#bd3786"
            ],
            [
             0.5555555555555556,
             "#d8576b"
            ],
            [
             0.6666666666666666,
             "#ed7953"
            ],
            [
             0.7777777777777778,
             "#fb9f3a"
            ],
            [
             0.8888888888888888,
             "#fdca26"
            ],
            [
             1,
             "#f0f921"
            ]
           ]
          },
          "colorway": [
           "#636efa",
           "#EF553B",
           "#00cc96",
           "#ab63fa",
           "#FFA15A",
           "#19d3f3",
           "#FF6692",
           "#B6E880",
           "#FF97FF",
           "#FECB52"
          ],
          "font": {
           "color": "#2a3f5f"
          },
          "geo": {
           "bgcolor": "white",
           "lakecolor": "white",
           "landcolor": "#E5ECF6",
           "showlakes": true,
           "showland": true,
           "subunitcolor": "white"
          },
          "hoverlabel": {
           "align": "left"
          },
          "hovermode": "closest",
          "mapbox": {
           "style": "light"
          },
          "paper_bgcolor": "white",
          "plot_bgcolor": "#E5ECF6",
          "polar": {
           "angularaxis": {
            "gridcolor": "white",
            "linecolor": "white",
            "ticks": ""
           },
           "bgcolor": "#E5ECF6",
           "radialaxis": {
            "gridcolor": "white",
            "linecolor": "white",
            "ticks": ""
           }
          },
          "scene": {
           "xaxis": {
            "backgroundcolor": "#E5ECF6",
            "gridcolor": "white",
            "gridwidth": 2,
            "linecolor": "white",
            "showbackground": true,
            "ticks": "",
            "zerolinecolor": "white"
           },
           "yaxis": {
            "backgroundcolor": "#E5ECF6",
            "gridcolor": "white",
            "gridwidth": 2,
            "linecolor": "white",
            "showbackground": true,
            "ticks": "",
            "zerolinecolor": "white"
           },
           "zaxis": {
            "backgroundcolor": "#E5ECF6",
            "gridcolor": "white",
            "gridwidth": 2,
            "linecolor": "white",
            "showbackground": true,
            "ticks": "",
            "zerolinecolor": "white"
           }
          },
          "shapedefaults": {
           "line": {
            "color": "#2a3f5f"
           }
          },
          "ternary": {
           "aaxis": {
            "gridcolor": "white",
            "linecolor": "white",
            "ticks": ""
           },
           "baxis": {
            "gridcolor": "white",
            "linecolor": "white",
            "ticks": ""
           },
           "bgcolor": "#E5ECF6",
           "caxis": {
            "gridcolor": "white",
            "linecolor": "white",
            "ticks": ""
           }
          },
          "title": {
           "x": 0.05
          },
          "xaxis": {
           "automargin": true,
           "gridcolor": "white",
           "linecolor": "white",
           "ticks": "",
           "title": {
            "standoff": 15
           },
           "zerolinecolor": "white",
           "zerolinewidth": 2
          },
          "yaxis": {
           "automargin": true,
           "gridcolor": "white",
           "linecolor": "white",
           "ticks": "",
           "title": {
            "standoff": 15
           },
           "zerolinecolor": "white",
           "zerolinewidth": 2
          }
         }
        },
        "xaxis": {
         "range": [
          0.5,
          4.5
         ]
        },
        "yaxis": {
         "range": [
          0.1,
          5.5
         ]
        }
       }
      }
     },
     "metadata": {},
     "output_type": "display_data"
    }
   ],
   "source": [
    "marker_details = dict(\n",
    "    size=10,\n",
    "    colorscale=[\"blue\", \"green\", \"red\"], #'Viridis', \n",
    "    showscale=True,\n",
    ")\n",
    "\n",
    "\n",
    "# Will want to hide scales for this one... \n",
    "data=go.Scatter(\n",
    "    x=plotting_df[\"Sunlight_jittered\"], y=plotting_df[\"Watering_jittered\"], mode=\"markers\",\n",
    "    text=plotting_df[\"Plant_Name\"], marker_color=plotting_df[\"Maintenance_Ordinal\"],\n",
    "    marker=marker_details\n",
    ") \n",
    "\n",
    "xstart = 0.8\n",
    "xmin = 2\n",
    "padding = 0.2\n",
    "ypos = -0.8\n",
    "\n",
    "layout = go.Layout(\n",
    "    xaxis=dict(range=[0.5, 4.5]),\n",
    "    yaxis=dict(range=[0.1, 5.5]),\n",
    "    showlegend=False,\n",
    "    annotations=[\n",
    "        dict(\n",
    "            text=\"Wants More Sunlight\", align=\"center\",\n",
    "            ax=2.5, x=2.5, xref=\"x\", axref=\"x\",\n",
    "            ay=-0.2, y=-0.2, yref=\"paper\", \n",
    "            showarrow=False,\n",
    "        ),\n",
    "        dict(\n",
    "            ax=0.6, x=4.4, xref=\"x\", axref=\"x\",\n",
    "            ay=-0.1, y=-0.1, yref=\"paper\", \n",
    "            showarrow=True, arrowhead=2, arrowsize=1, arrowwidth=3,\n",
    "            arrowcolor=\"#645754\",\n",
    "        ),\n",
    "        dict(\n",
    "            text=\"Wants More Watering\", align=\"center\", textangle=-90,\n",
    "            ax=-0.05, x=-0.05, xref=\"paper\", axref=\"x\",\n",
    "            ay=2.5, y=2.5, yref=\"y\", ayref=\"y\",\n",
    "            showarrow=False\n",
    "        ),\n",
    "        dict(\n",
    "            ax=-0.02, x=-0.02, xref=\"paper\", \n",
    "            ay=0, y=4.8, yref=\"y\", ayref=\"y\",\n",
    "            showarrow=True, arrowhead=2, arrowsize=1, arrowwidth=3,\n",
    "            arrowcolor=\"#645754\",\n",
    "        ),\n",
    "\n",
    "    ])\n",
    "\n",
    "fig = go.Figure(data=data, layout=layout)\n",
    "fig.show()\n"
   ]
  },
  {
   "cell_type": "markdown",
   "metadata": {},
   "source": [
    "## Final Graph: Height vs Spreads"
   ]
  },
  {
   "cell_type": "code",
   "execution_count": 41,
   "metadata": {},
   "outputs": [],
   "source": [
    "plotting_df[\"Max_Spread_Capped_jittered\"] = df_features[\"Max_Spread_Capped\"] + np.random.uniform(-0.5,0.5,147)\n",
    "plotting_df[\"Max_Height_Capped_jittered\"] = df_features[\"Max_Height_Capped\"] + np.random.uniform(-0.5,0.5,147)"
   ]
  },
  {
   "cell_type": "code",
   "execution_count": 42,
   "metadata": {},
   "outputs": [
    {
     "data": {
      "application/vnd.plotly.v1+json": {
       "config": {
        "plotlyServerURL": "https://plotly.com"
       },
       "data": [
        {
         "marker": {
          "color": [
           2,
           2,
           2,
           1,
           2,
           2,
           2,
           1,
           1,
           2,
           1,
           2,
           2,
           1,
           1,
           1,
           2,
           3,
           1,
           1,
           1,
           1,
           1,
           1,
           2,
           1,
           1,
           1,
           1,
           1,
           1,
           2,
           3,
           1,
           2,
           2,
           2,
           1,
           1,
           2,
           1,
           1,
           2,
           1,
           1,
           1,
           1,
           1,
           1,
           2,
           1,
           1,
           1,
           1,
           3,
           1,
           1,
           2,
           2,
           2,
           2,
           2,
           1,
           1,
           1,
           1,
           2,
           2,
           1,
           1,
           2,
           1,
           1,
           2,
           1,
           2,
           2,
           2,
           2,
           1,
           2,
           2,
           3,
           1,
           1,
           2,
           2,
           1,
           1,
           1,
           1,
           2,
           1,
           2,
           3,
           3,
           2,
           2,
           1,
           1,
           1,
           2,
           1,
           1,
           2,
           2,
           1,
           1,
           2,
           2,
           1,
           1,
           2,
           1,
           2,
           1,
           2,
           3,
           1,
           2,
           1,
           1,
           1,
           1,
           2,
           1,
           2,
           2,
           1,
           1,
           2,
           2,
           3,
           1,
           1,
           1,
           1,
           1,
           2,
           1,
           3,
           3,
           3,
           3,
           2,
           1,
           1
          ],
          "colorbar": {
           "dtick": 1,
           "tickmode": "array",
           "ticks": "outside",
           "ticktext": [
            "Low",
            "Moderate",
            "High"
           ],
           "tickvals": [
            1,
            2,
            3
           ],
           "title": {
            "text": "Maintenance Level"
           }
          },
          "colorscale": [
           [
            0,
            "#440154"
           ],
           [
            0.1111111111111111,
            "#482878"
           ],
           [
            0.2222222222222222,
            "#3e4989"
           ],
           [
            0.3333333333333333,
            "#31688e"
           ],
           [
            0.4444444444444444,
            "#26828e"
           ],
           [
            0.5555555555555556,
            "#1f9e89"
           ],
           [
            0.6666666666666666,
            "#35b779"
           ],
           [
            0.7777777777777778,
            "#6ece58"
           ],
           [
            0.8888888888888888,
            "#b5de2b"
           ],
           [
            1,
            "#fde725"
           ]
          ],
          "showscale": true,
          "size": 10
         },
         "mode": "markers",
         "text": [
          "Aechmea",
          "Ardisia crenata",
          "Euphorbia milii",
          "Ficus elastica",
          "Woodsia obtusa",
          "Kalanchoe",
          "Kalanchoe thyrsiflora",
          "Tradescantia spathacea",
          "Capsicum annuum",
          "Begonia masoniana",
          "Aloe",
          "Oncidium",
          "Zantedeschia",
          "Epipremnum aureum",
          "Hedera helix",
          "Sedum makinoi",
          "Asplenium nidus",
          "Elettaria cardamomum",
          "Peperomia obtusifolia",
          "Araucaria heterophylla",
          "Plectranthus scutellarioides",
          "Cissus alata",
          "Adenium obesum",
          "Asplenium antiquum",
          "Coffea arabica",
          "Syngonium",
          "Helianthus annuus",
          "Asplenium",
          "Dracaena reflexa",
          "Leucojum aestivum",
          "Aglaonema commutatum",
          "Anthurium crassinervium",
          "Euphorbia pulcherrima",
          "Tradescantia zebrina",
          "Camellia japonica",
          "Monstera deliciosa",
          "Hypoestes phyllostachya",
          "Peperomia",
          "Adiantum hispidulum",
          "Medinilla magnifica",
          "Syngonium podophyllum",
          "Rhapis excelsa",
          "Scindapsus pictus",
          "Campanula portenschlagiana",
          "Crocus vernus",
          "Aloe vera",
          "Cycas revoluta",
          "Pinus pinea",
          "Ficus benjamina",
          "Strelitzia reginae",
          "Plerandra elegantissima",
          "Chamaedorea elegans",
          "Dypsis lutescens",
          "Ficus benghalensis",
          "Gardenia jasminoides",
          "Beaucarnea recurvata",
          "Euphorbia tirucalli",
          "Alocasia zebrina",
          "Alocasia",
          "Guzmania",
          "Codiaeum variegatum",
          "Caladium bicolor",
          "Aspidistra elatior",
          "Peperomia argyreia",
          "Asparagus densiflorus",
          "Hyacinthus orientalis",
          "Soleirolia soleirolii",
          "Microsorum pustulatum",
          "Ficus",
          "Peperomia caperata",
          "Caladium",
          "Sansevieria trifasciata",
          "Schlumbergera truncata",
          "Cyclamen persicum",
          "Hoya carnosa",
          "Basella alba",
          "Saxifraga stolonifera",
          "Hibiscus rosa-sinensis",
          "Punica granatum",
          "Chlorophytum comosum",
          "Goeppertia roseopicta",
          "Pachira aquatica",
          "Vanilla planifolia",
          "Sedum",
          "Helleborus niger",
          "Ludisia discolor",
          "Brugmansia",
          "Pentas lanceolata",
          "Fatsia japonica",
          "Schefflera arboricola",
          "Tradescantia fluminensis",
          "Primula vulgaris",
          "Scilla mischtschenkoana",
          "Impatiens hawkeri",
          "Adiantum raddianum",
          "Ananas comosus",
          "Calathea zebrina",
          "Alocasia macrorrhizos",
          "Ginkgo biloba",
          "Nephrolepis exaltata",
          "Ficus lyrata",
          "Zantedeschia aethiopica",
          "Scilla siberica",
          "Juncus",
          "Euphorbia lactea",
          "Cordyline fruticosa",
          "Philodendron hederaceum",
          "Crassula ovata",
          "Rosa",
          "Aphelandra squarrosa",
          "Cuphea hyssopifolia",
          "Fritillaria meleagris",
          "Hydrangea macrophylla",
          "Platycerium bifurcatum",
          "Saintpaulia ionantha",
          "Pilea involucrata",
          "Cissus discolor",
          "Dendrobium",
          "Radermachera sinica",
          "Alocasia x amazonica",
          "Pellaea rotundifolia",
          "Aglaonema",
          "Schefflera actinophylla",
          "Asparagus plumosus",
          "Stephanotis floribunda",
          "Polyscias",
          "Anthurium andraeanum",
          "Pelargonium peltatum",
          "Kalanchoe blossfeldiana",
          "Narcissus 'Golden Dawn'",
          "Rosa rubiginosa",
          "Musa acuminata",
          "Begonia rex-cultorum",
          "Dracaena fragrans 'Lemon Lime'",
          "Dracaena fragrans",
          "Dracaena marginata",
          "Fittonia albivenis",
          "Pelargonium × hortorum",
          "Hippeastrum",
          "Pelargonium scented-leaves",
          "Sarracenia rubra",
          "Sarracenia flava",
          "Pericallis × hybrida",
          "Begonia",
          "Ficus carica",
          "Ficus pumila",
          "Ficus religiosa"
         ],
         "type": "scatter",
         "x": [
          2.4053787199807664,
          5.440791272152701,
          2.9086750139554542,
          19.955619578932072,
          2.552656176725744,
          5.239505202874272,
          1.5180532035277237,
          2.008007657617573,
          2.3941461042165724,
          1.1487051639099846,
          1.1113493482764647,
          3.660260638843676,
          1.6713409818485043,
          2.4585514103340396,
          20.238940151833823,
          0.5011333982786953,
          3.095583041127902,
          9.717279909179812,
          0.567019284095977,
          19.71875260727575,
          3.4716379142882214,
          6.3497362661131,
          5.0566130828281235,
          3.636812512876124,
          14.731178522795371,
          2.043639936152988,
          3.3581218479582944,
          1.9198881869752196,
          7.618039737424337,
          0.8662796039135092,
          1.2391271656126053,
          5.958181758678138,
          7.668487834815105,
          1.8741300649868602,
          10.17807138487276,
          10.183306923845148,
          0.8064466609262209,
          1.336033984268908,
          1.293011247014948,
          2.5121290624784542,
          2.4788278118692717,
          15.046823902498481,
          4.247390034622443,
          0.9320326983444432,
          0.15436358450650656,
          0.5777932945363728,
          9.521774782687782,
          19.668306423319986,
          19.627597351752648,
          3.7548539512986485,
          14.728542678555923,
          3.112866951745893,
          14.88396652369979,
          19.557422348548034,
          6.014825758254716,
          4.614291621638998,
          10.473993520066502,
          6.195096886085823,
          2.2538291323497184,
          1.9115412948399277,
          4.9607602953519105,
          2.8025666289630027,
          2.3256521072081155,
          0.5012467151600811,
          3.667158761680304,
          0.39148513389388384,
          6.304274847838099,
          3.279488333858828,
          20.377338550611245,
          0.3503941578973626,
          2.8870846615971253,
          2.405832976828884,
          2.1525642231919893,
          0.7494821730251112,
          2.4353881419473287,
          2.7047817931804365,
          1.887454472871618,
          8.089493596205747,
          14.771700802755412,
          2.338791717680576,
          1.1571510481855354,
          20.39043650746394,
          5.820713056129373,
          1.5942381116064634,
          1.338234498289686,
          1.9966635742802687,
          3.5235939427150766,
          1.7638047752412502,
          15.763115850491882,
          7.722654543562869,
          1.6955616901083603,
          0.984950783273942,
          0.9226170409937964,
          3.4087122606613196,
          1.8008690381898613,
          3.825536459390422,
          1.6009423137367325,
          7.857416723191482,
          20.437906091195696,
          2.805444111172656,
          19.512492982424728,
          2.3812928573844037,
          0.6257358178850942,
          3.94070878363209,
          10.101309930603385,
          8.138752359877486,
          6.177015726088301,
          3.3726051645966386,
          7.047975290917878,
          5.2998930593228755,
          2.001530920380687,
          0.254571872283773,
          6.110511434435761,
          3.081465042816956,
          0.48067920087509797,
          0.9553659051114199,
          0.8946504474367786,
          3.7187927227912505,
          19.683448701720447,
          2.1600836475546648,
          0.7021871002606891,
          1.59795976484549,
          20.113542259909643,
          2.7499079322839615,
          6.034691381218626,
          3.210366991760721,
          0.9258475687188004,
          3.354100736613367,
          1.0653373501499868,
          1.2998685281538043,
          10.454615640516712,
          10.052819874245325,
          1.3973726801774615,
          4.987460609901004,
          10.110842141500271,
          10.306814802783096,
          1.0557215872480348,
          2.857109959510539,
          1.204639268548624,
          2.2074724558533116,
          1.7835874145089465,
          2.8055451945026113,
          1.3020390165556253,
          1.371946995472682,
          20.206556692124913,
          6.092339347255273,
          19.805332144755923
         ],
         "y": [
          3.294155363757846,
          4.580763800388161,
          6.1473576415156765,
          19.787016913101585,
          1.7757229793949745,
          5.485436804479173,
          2.2627359718334654,
          0.8167163818686628,
          4.266194724776886,
          1.171888966181321,
          2.0243410051401507,
          9.722405086878442,
          2.618129485658456,
          20.308301945473563,
          19.65922456491628,
          -0.08490673633511758,
          4.5413879513823625,
          14.891487541153158,
          1.25891561114888,
          20.414111334281554,
          2.5565583936459615,
          9.593431157624408,
          8.604945430522779,
          2.290000672174311,
          15.446486318849924,
          6.338955375605246,
          10.46783585796119,
          1.3055000509209664,
          17.704315825866015,
          1.6223414399018607,
          1.2108816863068277,
          6.052347487159425,
          11.967888874404863,
          0.2794849843490662,
          11.870975370245308,
          19.85420687103155,
          0.9237258784824306,
          0.7038333651817116,
          1.3687928563006828,
          3.6243359889819295,
          6.025454331083843,
          14.581198301336414,
          9.993723194039891,
          0.7230382751825116,
          0.05099308775824096,
          2.1310415675683956,
          9.594218891770184,
          19.616090137588635,
          20.26360358585333,
          4.334778546820588,
          20.252942464317357,
          6.440411582434156,
          19.963747207357862,
          20.404040097968743,
          6.14326510054721,
          7.5507362066435935,
          19.54218892375067,
          9.733852898902756,
          2.179764263716698,
          1.9245678786336229,
          5.929454466749582,
          2.4661746480909548,
          2.8994415377925034,
          0.9416632122776278,
          3.2644075697802233,
          0.9536714555896512,
          0.7725149430001553,
          1.2097353480406405,
          19.757333283554026,
          0.8667334068754063,
          2.261647739103277,
          4.097508344763258,
          0.5235388657878619,
          1.0180608708478518,
          3.5646001005016412,
          6.342804471765408,
          1.0903456737067867,
          9.564611208928682,
          19.740767939231095,
          1.7970383599761022,
          1.7781307773686312,
          19.73098177864562,
          9.837706400320812,
          0.3206182787362424,
          1.1890938274399705,
          1.4701847658520286,
          8.393950923456735,
          1.5020497947007856,
          16.147891661817656,
          20.12054008605338,
          0.992043472327169,
          0.5543937512183748,
          0.8301694250421732,
          4.32826007191601,
          1.8891921142650108,
          4.379149997050784,
          2.6555285031616025,
          14.654243550357954,
          20.25705598130727,
          3.218481884171842,
          19.671810950741637,
          2.9411556955532965,
          0.1723990039348937,
          3.503271923679037,
          14.747969783186674,
          15.165338599214772,
          20.404658339322037,
          6.292059523679086,
          7.839371949081911,
          5.7502645885015475,
          1.515234930235206,
          1.388339243215499,
          5.669501270768668,
          3.2546493820286346,
          0.3781189924091545,
          0.9875883844146102,
          10.130073862629889,
          4.2164663894809316,
          20.179059719331228,
          1.8503848362393494,
          1.4017503755984053,
          2.0966035649055463,
          19.536155274501304,
          19.572424130767104,
          19.882306316465396,
          8.018668933413025,
          1.621643713089256,
          1.8269246405357822,
          1.8457616024887056,
          1.7413027656326725,
          10.122594672864023,
          19.692246905210737,
          1.9714043931983847,
          9.600578343299775,
          19.636099041793823,
          19.828652179094746,
          0.11640089744288806,
          2.767592799501222,
          2.121060635689216,
          2.961071019959604,
          1.911191909596071,
          3.3905831439939496,
          1.49245080327902,
          1.4600367185387129,
          20.38710879177914,
          15.434605095955675,
          19.98551162022343
         ]
        }
       ],
       "layout": {
        "template": {
         "data": {
          "bar": [
           {
            "error_x": {
             "color": "#2a3f5f"
            },
            "error_y": {
             "color": "#2a3f5f"
            },
            "marker": {
             "line": {
              "color": "#E5ECF6",
              "width": 0.5
             },
             "pattern": {
              "fillmode": "overlay",
              "size": 10,
              "solidity": 0.2
             }
            },
            "type": "bar"
           }
          ],
          "barpolar": [
           {
            "marker": {
             "line": {
              "color": "#E5ECF6",
              "width": 0.5
             },
             "pattern": {
              "fillmode": "overlay",
              "size": 10,
              "solidity": 0.2
             }
            },
            "type": "barpolar"
           }
          ],
          "carpet": [
           {
            "aaxis": {
             "endlinecolor": "#2a3f5f",
             "gridcolor": "white",
             "linecolor": "white",
             "minorgridcolor": "white",
             "startlinecolor": "#2a3f5f"
            },
            "baxis": {
             "endlinecolor": "#2a3f5f",
             "gridcolor": "white",
             "linecolor": "white",
             "minorgridcolor": "white",
             "startlinecolor": "#2a3f5f"
            },
            "type": "carpet"
           }
          ],
          "choropleth": [
           {
            "colorbar": {
             "outlinewidth": 0,
             "ticks": ""
            },
            "type": "choropleth"
           }
          ],
          "contour": [
           {
            "colorbar": {
             "outlinewidth": 0,
             "ticks": ""
            },
            "colorscale": [
             [
              0,
              "#0d0887"
             ],
             [
              0.1111111111111111,
              "#46039f"
             ],
             [
              0.2222222222222222,
              "#7201a8"
             ],
             [
              0.3333333333333333,
              "#9c179e"
             ],
             [
              0.4444444444444444,
              "#bd3786"
             ],
             [
              0.5555555555555556,
              "#d8576b"
             ],
             [
              0.6666666666666666,
              "#ed7953"
             ],
             [
              0.7777777777777778,
              "#fb9f3a"
             ],
             [
              0.8888888888888888,
              "#fdca26"
             ],
             [
              1,
              "#f0f921"
             ]
            ],
            "type": "contour"
           }
          ],
          "contourcarpet": [
           {
            "colorbar": {
             "outlinewidth": 0,
             "ticks": ""
            },
            "type": "contourcarpet"
           }
          ],
          "heatmap": [
           {
            "colorbar": {
             "outlinewidth": 0,
             "ticks": ""
            },
            "colorscale": [
             [
              0,
              "#0d0887"
             ],
             [
              0.1111111111111111,
              "#46039f"
             ],
             [
              0.2222222222222222,
              "#7201a8"
             ],
             [
              0.3333333333333333,
              "#9c179e"
             ],
             [
              0.4444444444444444,
              "#bd3786"
             ],
             [
              0.5555555555555556,
              "#d8576b"
             ],
             [
              0.6666666666666666,
              "#ed7953"
             ],
             [
              0.7777777777777778,
              "#fb9f3a"
             ],
             [
              0.8888888888888888,
              "#fdca26"
             ],
             [
              1,
              "#f0f921"
             ]
            ],
            "type": "heatmap"
           }
          ],
          "heatmapgl": [
           {
            "colorbar": {
             "outlinewidth": 0,
             "ticks": ""
            },
            "colorscale": [
             [
              0,
              "#0d0887"
             ],
             [
              0.1111111111111111,
              "#46039f"
             ],
             [
              0.2222222222222222,
              "#7201a8"
             ],
             [
              0.3333333333333333,
              "#9c179e"
             ],
             [
              0.4444444444444444,
              "#bd3786"
             ],
             [
              0.5555555555555556,
              "#d8576b"
             ],
             [
              0.6666666666666666,
              "#ed7953"
             ],
             [
              0.7777777777777778,
              "#fb9f3a"
             ],
             [
              0.8888888888888888,
              "#fdca26"
             ],
             [
              1,
              "#f0f921"
             ]
            ],
            "type": "heatmapgl"
           }
          ],
          "histogram": [
           {
            "marker": {
             "pattern": {
              "fillmode": "overlay",
              "size": 10,
              "solidity": 0.2
             }
            },
            "type": "histogram"
           }
          ],
          "histogram2d": [
           {
            "colorbar": {
             "outlinewidth": 0,
             "ticks": ""
            },
            "colorscale": [
             [
              0,
              "#0d0887"
             ],
             [
              0.1111111111111111,
              "#46039f"
             ],
             [
              0.2222222222222222,
              "#7201a8"
             ],
             [
              0.3333333333333333,
              "#9c179e"
             ],
             [
              0.4444444444444444,
              "#bd3786"
             ],
             [
              0.5555555555555556,
              "#d8576b"
             ],
             [
              0.6666666666666666,
              "#ed7953"
             ],
             [
              0.7777777777777778,
              "#fb9f3a"
             ],
             [
              0.8888888888888888,
              "#fdca26"
             ],
             [
              1,
              "#f0f921"
             ]
            ],
            "type": "histogram2d"
           }
          ],
          "histogram2dcontour": [
           {
            "colorbar": {
             "outlinewidth": 0,
             "ticks": ""
            },
            "colorscale": [
             [
              0,
              "#0d0887"
             ],
             [
              0.1111111111111111,
              "#46039f"
             ],
             [
              0.2222222222222222,
              "#7201a8"
             ],
             [
              0.3333333333333333,
              "#9c179e"
             ],
             [
              0.4444444444444444,
              "#bd3786"
             ],
             [
              0.5555555555555556,
              "#d8576b"
             ],
             [
              0.6666666666666666,
              "#ed7953"
             ],
             [
              0.7777777777777778,
              "#fb9f3a"
             ],
             [
              0.8888888888888888,
              "#fdca26"
             ],
             [
              1,
              "#f0f921"
             ]
            ],
            "type": "histogram2dcontour"
           }
          ],
          "mesh3d": [
           {
            "colorbar": {
             "outlinewidth": 0,
             "ticks": ""
            },
            "type": "mesh3d"
           }
          ],
          "parcoords": [
           {
            "line": {
             "colorbar": {
              "outlinewidth": 0,
              "ticks": ""
             }
            },
            "type": "parcoords"
           }
          ],
          "pie": [
           {
            "automargin": true,
            "type": "pie"
           }
          ],
          "scatter": [
           {
            "marker": {
             "colorbar": {
              "outlinewidth": 0,
              "ticks": ""
             }
            },
            "type": "scatter"
           }
          ],
          "scatter3d": [
           {
            "line": {
             "colorbar": {
              "outlinewidth": 0,
              "ticks": ""
             }
            },
            "marker": {
             "colorbar": {
              "outlinewidth": 0,
              "ticks": ""
             }
            },
            "type": "scatter3d"
           }
          ],
          "scattercarpet": [
           {
            "marker": {
             "colorbar": {
              "outlinewidth": 0,
              "ticks": ""
             }
            },
            "type": "scattercarpet"
           }
          ],
          "scattergeo": [
           {
            "marker": {
             "colorbar": {
              "outlinewidth": 0,
              "ticks": ""
             }
            },
            "type": "scattergeo"
           }
          ],
          "scattergl": [
           {
            "marker": {
             "colorbar": {
              "outlinewidth": 0,
              "ticks": ""
             }
            },
            "type": "scattergl"
           }
          ],
          "scattermapbox": [
           {
            "marker": {
             "colorbar": {
              "outlinewidth": 0,
              "ticks": ""
             }
            },
            "type": "scattermapbox"
           }
          ],
          "scatterpolar": [
           {
            "marker": {
             "colorbar": {
              "outlinewidth": 0,
              "ticks": ""
             }
            },
            "type": "scatterpolar"
           }
          ],
          "scatterpolargl": [
           {
            "marker": {
             "colorbar": {
              "outlinewidth": 0,
              "ticks": ""
             }
            },
            "type": "scatterpolargl"
           }
          ],
          "scatterternary": [
           {
            "marker": {
             "colorbar": {
              "outlinewidth": 0,
              "ticks": ""
             }
            },
            "type": "scatterternary"
           }
          ],
          "surface": [
           {
            "colorbar": {
             "outlinewidth": 0,
             "ticks": ""
            },
            "colorscale": [
             [
              0,
              "#0d0887"
             ],
             [
              0.1111111111111111,
              "#46039f"
             ],
             [
              0.2222222222222222,
              "#7201a8"
             ],
             [
              0.3333333333333333,
              "#9c179e"
             ],
             [
              0.4444444444444444,
              "#bd3786"
             ],
             [
              0.5555555555555556,
              "#d8576b"
             ],
             [
              0.6666666666666666,
              "#ed7953"
             ],
             [
              0.7777777777777778,
              "#fb9f3a"
             ],
             [
              0.8888888888888888,
              "#fdca26"
             ],
             [
              1,
              "#f0f921"
             ]
            ],
            "type": "surface"
           }
          ],
          "table": [
           {
            "cells": {
             "fill": {
              "color": "#EBF0F8"
             },
             "line": {
              "color": "white"
             }
            },
            "header": {
             "fill": {
              "color": "#C8D4E3"
             },
             "line": {
              "color": "white"
             }
            },
            "type": "table"
           }
          ]
         },
         "layout": {
          "annotationdefaults": {
           "arrowcolor": "#2a3f5f",
           "arrowhead": 0,
           "arrowwidth": 1
          },
          "autotypenumbers": "strict",
          "coloraxis": {
           "colorbar": {
            "outlinewidth": 0,
            "ticks": ""
           }
          },
          "colorscale": {
           "diverging": [
            [
             0,
             "#8e0152"
            ],
            [
             0.1,
             "#c51b7d"
            ],
            [
             0.2,
             "#de77ae"
            ],
            [
             0.3,
             "#f1b6da"
            ],
            [
             0.4,
             "#fde0ef"
            ],
            [
             0.5,
             "#f7f7f7"
            ],
            [
             0.6,
             "#e6f5d0"
            ],
            [
             0.7,
             "#b8e186"
            ],
            [
             0.8,
             "#7fbc41"
            ],
            [
             0.9,
             "#4d9221"
            ],
            [
             1,
             "#276419"
            ]
           ],
           "sequential": [
            [
             0,
             "#0d0887"
            ],
            [
             0.1111111111111111,
             "#46039f"
            ],
            [
             0.2222222222222222,
             "#7201a8"
            ],
            [
             0.3333333333333333,
             "#9c179e"
            ],
            [
             0.4444444444444444,
             "#bd3786"
            ],
            [
             0.5555555555555556,
             "#d8576b"
            ],
            [
             0.6666666666666666,
             "#ed7953"
            ],
            [
             0.7777777777777778,
             "#fb9f3a"
            ],
            [
             0.8888888888888888,
             "#fdca26"
            ],
            [
             1,
             "#f0f921"
            ]
           ],
           "sequentialminus": [
            [
             0,
             "#0d0887"
            ],
            [
             0.1111111111111111,
             "#46039f"
            ],
            [
             0.2222222222222222,
             "#7201a8"
            ],
            [
             0.3333333333333333,
             "#9c179e"
            ],
            [
             0.4444444444444444,
             "#bd3786"
            ],
            [
             0.5555555555555556,
             "#d8576b"
            ],
            [
             0.6666666666666666,
             "#ed7953"
            ],
            [
             0.7777777777777778,
             "#fb9f3a"
            ],
            [
             0.8888888888888888,
             "#fdca26"
            ],
            [
             1,
             "#f0f921"
            ]
           ]
          },
          "colorway": [
           "#636efa",
           "#EF553B",
           "#00cc96",
           "#ab63fa",
           "#FFA15A",
           "#19d3f3",
           "#FF6692",
           "#B6E880",
           "#FF97FF",
           "#FECB52"
          ],
          "font": {
           "color": "#2a3f5f"
          },
          "geo": {
           "bgcolor": "white",
           "lakecolor": "white",
           "landcolor": "#E5ECF6",
           "showlakes": true,
           "showland": true,
           "subunitcolor": "white"
          },
          "hoverlabel": {
           "align": "left"
          },
          "hovermode": "closest",
          "mapbox": {
           "style": "light"
          },
          "paper_bgcolor": "white",
          "plot_bgcolor": "#E5ECF6",
          "polar": {
           "angularaxis": {
            "gridcolor": "white",
            "linecolor": "white",
            "ticks": ""
           },
           "bgcolor": "#E5ECF6",
           "radialaxis": {
            "gridcolor": "white",
            "linecolor": "white",
            "ticks": ""
           }
          },
          "scene": {
           "xaxis": {
            "backgroundcolor": "#E5ECF6",
            "gridcolor": "white",
            "gridwidth": 2,
            "linecolor": "white",
            "showbackground": true,
            "ticks": "",
            "zerolinecolor": "white"
           },
           "yaxis": {
            "backgroundcolor": "#E5ECF6",
            "gridcolor": "white",
            "gridwidth": 2,
            "linecolor": "white",
            "showbackground": true,
            "ticks": "",
            "zerolinecolor": "white"
           },
           "zaxis": {
            "backgroundcolor": "#E5ECF6",
            "gridcolor": "white",
            "gridwidth": 2,
            "linecolor": "white",
            "showbackground": true,
            "ticks": "",
            "zerolinecolor": "white"
           }
          },
          "shapedefaults": {
           "line": {
            "color": "#2a3f5f"
           }
          },
          "ternary": {
           "aaxis": {
            "gridcolor": "white",
            "linecolor": "white",
            "ticks": ""
           },
           "baxis": {
            "gridcolor": "white",
            "linecolor": "white",
            "ticks": ""
           },
           "bgcolor": "#E5ECF6",
           "caxis": {
            "gridcolor": "white",
            "linecolor": "white",
            "ticks": ""
           }
          },
          "title": {
           "x": 0.05
          },
          "xaxis": {
           "automargin": true,
           "gridcolor": "white",
           "linecolor": "white",
           "ticks": "",
           "title": {
            "standoff": 15
           },
           "zerolinecolor": "white",
           "zerolinewidth": 2
          },
          "yaxis": {
           "automargin": true,
           "gridcolor": "white",
           "linecolor": "white",
           "ticks": "",
           "title": {
            "standoff": 15
           },
           "zerolinecolor": "white",
           "zerolinewidth": 2
          }
         }
        }
       }
      }
     },
     "metadata": {},
     "output_type": "display_data"
    }
   ],
   "source": [
    "fig = go.Figure(data=go.Scatter(\n",
    "    x=plotting_df[\"Max_Spread_Capped_jittered\"], y=plotting_df[\"Max_Height_Capped_jittered\"], mode=\"markers\",\n",
    "    text=plotting_df[\"Plant_Name\"],\n",
    "    marker=dict(\n",
    "        size=10,\n",
    "        color=plotting_df[\"Maintenance_Ordinal\"],\n",
    "        colorscale='Viridis', \n",
    "        showscale=True,\n",
    "    colorbar=dict(title=\"Maintenance Level\", ticks=\"outside\", tickmode=\"array\", tickvals=[1, 2, 3], dtick=1, ticktext=[\"Low\", \"Moderate\", \"High\"])\n",
    "        \n",
    "    )\n",
    "))\n",
    "\n",
    "\n",
    "fig.show()"
   ]
  },
  {
   "cell_type": "markdown",
   "metadata": {},
   "source": [
    "### Now save the df to sql database"
   ]
  },
  {
   "cell_type": "code",
   "execution_count": 45,
   "metadata": {},
   "outputs": [],
   "source": [
    "conn = sqlite3.connect(DATABASE_LOC)\n",
    "c = conn.cursor()\n",
    "c.execute(\"\"\"DROP TABLE IF EXISTS plotting\"\"\")\n",
    "\n",
    "plotting_df.to_sql(\"plotting\", con=conn, if_exists=\"append\", index=False)\n",
    "test_saved_df = pd.read_sql_query(\"SELECT * FROM plotting\", conn)\n",
    "\n",
    "\n",
    "c.close()"
   ]
  },
  {
   "cell_type": "code",
   "execution_count": 46,
   "metadata": {},
   "outputs": [
    {
     "data": {
      "text/html": [
       "<div>\n",
       "<style scoped>\n",
       "    .dataframe tbody tr th:only-of-type {\n",
       "        vertical-align: middle;\n",
       "    }\n",
       "\n",
       "    .dataframe tbody tr th {\n",
       "        vertical-align: top;\n",
       "    }\n",
       "\n",
       "    .dataframe thead th {\n",
       "        text-align: right;\n",
       "    }\n",
       "</style>\n",
       "<table border=\"1\" class=\"dataframe\">\n",
       "  <thead>\n",
       "    <tr style=\"text-align: right;\">\n",
       "      <th></th>\n",
       "      <th>Plant_Name</th>\n",
       "      <th>Maintenance_Ordinal</th>\n",
       "      <th>all_tsne_1</th>\n",
       "      <th>all_tsne_2</th>\n",
       "      <th>maintenance_tsne_1</th>\n",
       "      <th>maintenance_tsne_2</th>\n",
       "      <th>Sunlight_jittered</th>\n",
       "      <th>Watering_jittered</th>\n",
       "      <th>Max_Spread_Capped_jittered</th>\n",
       "      <th>Max_Height_Capped_jittered</th>\n",
       "    </tr>\n",
       "  </thead>\n",
       "  <tbody>\n",
       "    <tr>\n",
       "      <th>0</th>\n",
       "      <td>Aechmea</td>\n",
       "      <td>2</td>\n",
       "      <td>6.627025</td>\n",
       "      <td>-2.230587</td>\n",
       "      <td>-0.340899</td>\n",
       "      <td>8.302654</td>\n",
       "      <td>0.965876</td>\n",
       "      <td>2.744963</td>\n",
       "      <td>2.405379</td>\n",
       "      <td>3.294155</td>\n",
       "    </tr>\n",
       "    <tr>\n",
       "      <th>1</th>\n",
       "      <td>Ardisia crenata</td>\n",
       "      <td>2</td>\n",
       "      <td>6.339188</td>\n",
       "      <td>4.109788</td>\n",
       "      <td>-0.503153</td>\n",
       "      <td>5.586957</td>\n",
       "      <td>2.057912</td>\n",
       "      <td>3.001508</td>\n",
       "      <td>5.440791</td>\n",
       "      <td>4.580764</td>\n",
       "    </tr>\n",
       "    <tr>\n",
       "      <th>2</th>\n",
       "      <td>Euphorbia milii</td>\n",
       "      <td>2</td>\n",
       "      <td>2.980208</td>\n",
       "      <td>0.467295</td>\n",
       "      <td>-1.728377</td>\n",
       "      <td>1.066402</td>\n",
       "      <td>3.994829</td>\n",
       "      <td>2.187475</td>\n",
       "      <td>2.908675</td>\n",
       "      <td>6.147358</td>\n",
       "    </tr>\n",
       "    <tr>\n",
       "      <th>3</th>\n",
       "      <td>Ficus elastica</td>\n",
       "      <td>1</td>\n",
       "      <td>10.082797</td>\n",
       "      <td>3.701893</td>\n",
       "      <td>7.572592</td>\n",
       "      <td>-9.907969</td>\n",
       "      <td>1.345441</td>\n",
       "      <td>3.321144</td>\n",
       "      <td>19.955620</td>\n",
       "      <td>19.787017</td>\n",
       "    </tr>\n",
       "    <tr>\n",
       "      <th>4</th>\n",
       "      <td>Woodsia obtusa</td>\n",
       "      <td>2</td>\n",
       "      <td>3.931252</td>\n",
       "      <td>-8.229457</td>\n",
       "      <td>1.055398</td>\n",
       "      <td>5.531497</td>\n",
       "      <td>1.660102</td>\n",
       "      <td>2.835581</td>\n",
       "      <td>2.552656</td>\n",
       "      <td>1.775723</td>\n",
       "    </tr>\n",
       "    <tr>\n",
       "      <th>...</th>\n",
       "      <td>...</td>\n",
       "      <td>...</td>\n",
       "      <td>...</td>\n",
       "      <td>...</td>\n",
       "      <td>...</td>\n",
       "      <td>...</td>\n",
       "      <td>...</td>\n",
       "      <td>...</td>\n",
       "      <td>...</td>\n",
       "      <td>...</td>\n",
       "    </tr>\n",
       "    <tr>\n",
       "      <th>142</th>\n",
       "      <td>Pericallis × hybrida</td>\n",
       "      <td>3</td>\n",
       "      <td>-3.283486</td>\n",
       "      <td>-5.645183</td>\n",
       "      <td>-3.064541</td>\n",
       "      <td>9.582316</td>\n",
       "      <td>0.673255</td>\n",
       "      <td>2.714731</td>\n",
       "      <td>1.302039</td>\n",
       "      <td>1.492451</td>\n",
       "    </tr>\n",
       "    <tr>\n",
       "      <th>143</th>\n",
       "      <td>Begonia</td>\n",
       "      <td>3</td>\n",
       "      <td>-0.847695</td>\n",
       "      <td>4.337692</td>\n",
       "      <td>-3.064321</td>\n",
       "      <td>9.581954</td>\n",
       "      <td>1.348438</td>\n",
       "      <td>2.745223</td>\n",
       "      <td>1.371947</td>\n",
       "      <td>1.460037</td>\n",
       "    </tr>\n",
       "    <tr>\n",
       "      <th>144</th>\n",
       "      <td>Ficus carica</td>\n",
       "      <td>2</td>\n",
       "      <td>9.957441</td>\n",
       "      <td>0.195589</td>\n",
       "      <td>-0.562849</td>\n",
       "      <td>2.131438</td>\n",
       "      <td>2.735688</td>\n",
       "      <td>3.339928</td>\n",
       "      <td>20.206557</td>\n",
       "      <td>20.387109</td>\n",
       "    </tr>\n",
       "    <tr>\n",
       "      <th>145</th>\n",
       "      <td>Ficus pumila</td>\n",
       "      <td>1</td>\n",
       "      <td>5.380275</td>\n",
       "      <td>7.334817</td>\n",
       "      <td>7.028870</td>\n",
       "      <td>-8.546931</td>\n",
       "      <td>1.056585</td>\n",
       "      <td>2.762858</td>\n",
       "      <td>6.092339</td>\n",
       "      <td>15.434605</td>\n",
       "    </tr>\n",
       "    <tr>\n",
       "      <th>146</th>\n",
       "      <td>Ficus religiosa</td>\n",
       "      <td>1</td>\n",
       "      <td>10.388832</td>\n",
       "      <td>5.195681</td>\n",
       "      <td>-0.785858</td>\n",
       "      <td>-4.412797</td>\n",
       "      <td>3.851227</td>\n",
       "      <td>2.716513</td>\n",
       "      <td>19.805332</td>\n",
       "      <td>19.985512</td>\n",
       "    </tr>\n",
       "  </tbody>\n",
       "</table>\n",
       "<p>147 rows × 10 columns</p>\n",
       "</div>"
      ],
      "text/plain": [
       "               Plant_Name  Maintenance_Ordinal  all_tsne_1  all_tsne_2  \\\n",
       "0                 Aechmea                    2    6.627025   -2.230587   \n",
       "1         Ardisia crenata                    2    6.339188    4.109788   \n",
       "2         Euphorbia milii                    2    2.980208    0.467295   \n",
       "3          Ficus elastica                    1   10.082797    3.701893   \n",
       "4          Woodsia obtusa                    2    3.931252   -8.229457   \n",
       "..                    ...                  ...         ...         ...   \n",
       "142  Pericallis × hybrida                    3   -3.283486   -5.645183   \n",
       "143               Begonia                    3   -0.847695    4.337692   \n",
       "144          Ficus carica                    2    9.957441    0.195589   \n",
       "145          Ficus pumila                    1    5.380275    7.334817   \n",
       "146       Ficus religiosa                    1   10.388832    5.195681   \n",
       "\n",
       "     maintenance_tsne_1  maintenance_tsne_2  Sunlight_jittered  \\\n",
       "0             -0.340899            8.302654           0.965876   \n",
       "1             -0.503153            5.586957           2.057912   \n",
       "2             -1.728377            1.066402           3.994829   \n",
       "3              7.572592           -9.907969           1.345441   \n",
       "4              1.055398            5.531497           1.660102   \n",
       "..                  ...                 ...                ...   \n",
       "142           -3.064541            9.582316           0.673255   \n",
       "143           -3.064321            9.581954           1.348438   \n",
       "144           -0.562849            2.131438           2.735688   \n",
       "145            7.028870           -8.546931           1.056585   \n",
       "146           -0.785858           -4.412797           3.851227   \n",
       "\n",
       "     Watering_jittered  Max_Spread_Capped_jittered  Max_Height_Capped_jittered  \n",
       "0             2.744963                    2.405379                    3.294155  \n",
       "1             3.001508                    5.440791                    4.580764  \n",
       "2             2.187475                    2.908675                    6.147358  \n",
       "3             3.321144                   19.955620                   19.787017  \n",
       "4             2.835581                    2.552656                    1.775723  \n",
       "..                 ...                         ...                         ...  \n",
       "142           2.714731                    1.302039                    1.492451  \n",
       "143           2.745223                    1.371947                    1.460037  \n",
       "144           3.339928                   20.206557                   20.387109  \n",
       "145           2.762858                    6.092339                   15.434605  \n",
       "146           2.716513                   19.805332                   19.985512  \n",
       "\n",
       "[147 rows x 10 columns]"
      ]
     },
     "execution_count": 46,
     "metadata": {},
     "output_type": "execute_result"
    }
   ],
   "source": [
    "test_saved_df "
   ]
  },
  {
   "cell_type": "markdown",
   "metadata": {},
   "source": [
    "### TODO\n",
    "\n",
    "- make some generaliazable section for the different parts of each plot. \n",
    "e.g. the color scaling used would be a good one.. text labelling\n",
    "background color, font labels etc..."
   ]
  },
  {
   "cell_type": "markdown",
   "metadata": {},
   "source": []
  }
 ],
 "metadata": {
  "kernelspec": {
   "display_name": "Python 3.8.8 ('Py_Fun_Py3_8')",
   "language": "python",
   "name": "python3"
  },
  "language_info": {
   "codemirror_mode": {
    "name": "ipython",
    "version": 3
   },
   "file_extension": ".py",
   "mimetype": "text/x-python",
   "name": "python",
   "nbconvert_exporter": "python",
   "pygments_lexer": "ipython3",
   "version": "3.8.8"
  },
  "orig_nbformat": 4,
  "vscode": {
   "interpreter": {
    "hash": "2ced150f8a2667dee2cfae26b4d2611f5ad28f0d3e6e2dea4c3c48326462f442"
   }
  }
 },
 "nbformat": 4,
 "nbformat_minor": 2
}
