{
 "cells": [
  {
   "cell_type": "markdown",
   "metadata": {},
   "source": [
    "## House Plant Analysis \n",
    "\n",
    "This notebook will cover the initial exploratory data analysis (step 1) of the houseplant database generated. Following this, feature engineering (step 2) will be performed for two goals. First is to perform dimensionality reduction (step 3) as a way to visualise similar plants (ultimate goal to make some 2D scatter like graphs doing this). Second goal is to build a content based recommender engine with this dataset."
   ]
  },
  {
   "cell_type": "markdown",
   "metadata": {},
   "source": [
    "#### Step 0: Setup"
   ]
  },
  {
   "cell_type": "code",
   "execution_count": 1,
   "metadata": {},
   "outputs": [],
   "source": [
    "import pandas as pd\n",
    "import sqlite3\n",
    "\n",
    "DATABASE_LOC = r\"C:\\Users\\Rory Crean\\Dropbox (lkgroup)\\Backup_HardDrive\\Postdoc\\PyForFun\\House_Plant_Recommender\\Database\\house_plants.db\""
   ]
  },
  {
   "cell_type": "code",
   "execution_count": 4,
   "metadata": {},
   "outputs": [
    {
     "data": {
      "text/html": [
       "<div>\n",
       "<style scoped>\n",
       "    .dataframe tbody tr th:only-of-type {\n",
       "        vertical-align: middle;\n",
       "    }\n",
       "\n",
       "    .dataframe tbody tr th {\n",
       "        vertical-align: top;\n",
       "    }\n",
       "\n",
       "    .dataframe thead th {\n",
       "        text-align: right;\n",
       "    }\n",
       "</style>\n",
       "<table border=\"1\" class=\"dataframe\">\n",
       "  <thead>\n",
       "    <tr style=\"text-align: right;\">\n",
       "      <th></th>\n",
       "      <th>Plant_Name</th>\n",
       "      <th>Common_Names</th>\n",
       "      <th>Plant_Type</th>\n",
       "      <th>Family</th>\n",
       "      <th>Zones</th>\n",
       "      <th>Native_Range</th>\n",
       "      <th>Heights</th>\n",
       "      <th>Spreads</th>\n",
       "      <th>Bloom_Times</th>\n",
       "      <th>Bloom_Description</th>\n",
       "      <th>sunlight</th>\n",
       "      <th>Watering</th>\n",
       "      <th>Maintenance</th>\n",
       "      <th>Flowers</th>\n",
       "      <th>Leafs</th>\n",
       "      <th>Fruits</th>\n",
       "    </tr>\n",
       "  </thead>\n",
       "  <tbody>\n",
       "    <tr>\n",
       "      <th>0</th>\n",
       "      <td>Aechmea</td>\n",
       "      <td>urn plant,silver vase plant</td>\n",
       "      <td>Epiphyte</td>\n",
       "      <td>Bromeliaceae</td>\n",
       "      <td>10 to 11</td>\n",
       "      <td>Brazil</td>\n",
       "      <td>1.00 to 3.00 feet</td>\n",
       "      <td>1.00 to 2.00 feet</td>\n",
       "      <td>Seasonal bloomer</td>\n",
       "      <td>Violet to red with pink bracts</td>\n",
       "      <td>Part shade</td>\n",
       "      <td>Medium</td>\n",
       "      <td>Medium</td>\n",
       "      <td>Showy</td>\n",
       "      <td>Evergreen</td>\n",
       "      <td>None</td>\n",
       "    </tr>\n",
       "    <tr>\n",
       "      <th>1</th>\n",
       "      <td>Ardisia crenata</td>\n",
       "      <td>hen's eyes,coralberry,spiceberry,scratchthroat...</td>\n",
       "      <td>Broadleaf evergreen</td>\n",
       "      <td>Primulaceae</td>\n",
       "      <td>8 to 10</td>\n",
       "      <td>Japan to Northern India</td>\n",
       "      <td>4.00 to 5.00 feet</td>\n",
       "      <td>4.00 to 5.00 feet</td>\n",
       "      <td>May to June</td>\n",
       "      <td>Pinkish-white</td>\n",
       "      <td>Part shade to full shade</td>\n",
       "      <td>Medium</td>\n",
       "      <td>Medium</td>\n",
       "      <td>Showy</td>\n",
       "      <td>Evergreen</td>\n",
       "      <td>Showy</td>\n",
       "    </tr>\n",
       "    <tr>\n",
       "      <th>2</th>\n",
       "      <td>Euphorbia milii</td>\n",
       "      <td>christplant,Christ plant,Christ thorn,crown of...</td>\n",
       "      <td>Broadleaf evergreen</td>\n",
       "      <td>Euphorbiaceae</td>\n",
       "      <td>9 to 11</td>\n",
       "      <td>Madagascar</td>\n",
       "      <td>3.00 to 6.00 feet</td>\n",
       "      <td>1.50 to 3.00 feet</td>\n",
       "      <td>Seasonal bloomer</td>\n",
       "      <td>Green subtended by red or yellow bracts</td>\n",
       "      <td>Full sun</td>\n",
       "      <td>Dry to medium</td>\n",
       "      <td>Medium</td>\n",
       "      <td>Showy</td>\n",
       "      <td>Evergreen</td>\n",
       "      <td>None</td>\n",
       "    </tr>\n",
       "    <tr>\n",
       "      <th>3</th>\n",
       "      <td>Ficus elastica</td>\n",
       "      <td>Indian rubberplant,India rubber plant,rubber p...</td>\n",
       "      <td>Broadleaf evergreen</td>\n",
       "      <td>Moraceae</td>\n",
       "      <td>10 to 12</td>\n",
       "      <td>Southeastern Asia</td>\n",
       "      <td>50.00 to 100.00 feet</td>\n",
       "      <td>50.00 to 100.00 feet</td>\n",
       "      <td>Rarely flowers indoors</td>\n",
       "      <td>None</td>\n",
       "      <td>Part shade</td>\n",
       "      <td>Medium</td>\n",
       "      <td>Low</td>\n",
       "      <td>Insignificant</td>\n",
       "      <td>Evergreen</td>\n",
       "      <td>None</td>\n",
       "    </tr>\n",
       "    <tr>\n",
       "      <th>4</th>\n",
       "      <td>Woodsia obtusa</td>\n",
       "      <td>blunt-lobed woodsia,common woodsia,large woodsia</td>\n",
       "      <td>Fern</td>\n",
       "      <td>Woodsiaceae</td>\n",
       "      <td>4 to 8</td>\n",
       "      <td>North America</td>\n",
       "      <td>1.00 to 1.50 feet</td>\n",
       "      <td>2.00 to 2.50 feet</td>\n",
       "      <td>Non-flowering</td>\n",
       "      <td>Non-flowering</td>\n",
       "      <td>Part shade to full shade</td>\n",
       "      <td>Medium</td>\n",
       "      <td>Medium</td>\n",
       "      <td>None</td>\n",
       "      <td>None</td>\n",
       "      <td>None</td>\n",
       "    </tr>\n",
       "  </tbody>\n",
       "</table>\n",
       "</div>"
      ],
      "text/plain": [
       "        Plant_Name                                       Common_Names  \\\n",
       "0          Aechmea                        urn plant,silver vase plant   \n",
       "1  Ardisia crenata  hen's eyes,coralberry,spiceberry,scratchthroat...   \n",
       "2  Euphorbia milii  christplant,Christ plant,Christ thorn,crown of...   \n",
       "3   Ficus elastica  Indian rubberplant,India rubber plant,rubber p...   \n",
       "4   Woodsia obtusa   blunt-lobed woodsia,common woodsia,large woodsia   \n",
       "\n",
       "            Plant_Type         Family     Zones             Native_Range  \\\n",
       "0             Epiphyte   Bromeliaceae  10 to 11                   Brazil   \n",
       "1  Broadleaf evergreen    Primulaceae   8 to 10  Japan to Northern India   \n",
       "2  Broadleaf evergreen  Euphorbiaceae   9 to 11               Madagascar   \n",
       "3  Broadleaf evergreen       Moraceae  10 to 12        Southeastern Asia   \n",
       "4                 Fern    Woodsiaceae    4 to 8            North America   \n",
       "\n",
       "                Heights               Spreads             Bloom_Times  \\\n",
       "0     1.00 to 3.00 feet     1.00 to 2.00 feet        Seasonal bloomer   \n",
       "1     4.00 to 5.00 feet     4.00 to 5.00 feet             May to June   \n",
       "2     3.00 to 6.00 feet     1.50 to 3.00 feet        Seasonal bloomer   \n",
       "3  50.00 to 100.00 feet  50.00 to 100.00 feet  Rarely flowers indoors   \n",
       "4     1.00 to 1.50 feet     2.00 to 2.50 feet           Non-flowering   \n",
       "\n",
       "                         Bloom_Description                  sunlight  \\\n",
       "0           Violet to red with pink bracts                Part shade   \n",
       "1                            Pinkish-white  Part shade to full shade   \n",
       "2  Green subtended by red or yellow bracts                  Full sun   \n",
       "3                                     None                Part shade   \n",
       "4                            Non-flowering  Part shade to full shade   \n",
       "\n",
       "        Watering Maintenance        Flowers      Leafs Fruits  \n",
       "0         Medium      Medium          Showy  Evergreen   None  \n",
       "1         Medium      Medium          Showy  Evergreen  Showy  \n",
       "2  Dry to medium      Medium          Showy  Evergreen   None  \n",
       "3         Medium         Low  Insignificant  Evergreen   None  \n",
       "4         Medium      Medium           None       None   None  "
      ]
     },
     "execution_count": 4,
     "metadata": {},
     "output_type": "execute_result"
    }
   ],
   "source": [
    "conn = sqlite3.connect(DATABASE_LOC)\n",
    "c = conn.cursor()\n",
    "plant_df = pd.read_sql_query(\"SELECT * FROM plant_raw_data\", conn)\n",
    "c.close()\n",
    "plant_df.head()"
   ]
  },
  {
   "cell_type": "code",
   "execution_count": 5,
   "metadata": {},
   "outputs": [
    {
     "data": {
      "text/plain": [
       "92"
      ]
     },
     "execution_count": 5,
     "metadata": {},
     "output_type": "execute_result"
    }
   ],
   "source": [
    "len(plant_df)"
   ]
  },
  {
   "cell_type": "markdown",
   "metadata": {},
   "source": [
    "#### Part 1: Data exploration\n"
   ]
  },
  {
   "cell_type": "code",
   "execution_count": 8,
   "metadata": {},
   "outputs": [
    {
     "data": {
      "text/plain": [
       "Index(['Plant_Name', 'Common_Names', 'Plant_Type', 'Family', 'Zones',\n",
       "       'Native_Range', 'Heights', 'Spreads', 'Bloom_Times',\n",
       "       'Bloom_Description', 'sunlight', 'Watering', 'Maintenance', 'Flowers',\n",
       "       'Leafs', 'Fruits'],\n",
       "      dtype='object')"
      ]
     },
     "execution_count": 8,
     "metadata": {},
     "output_type": "execute_result"
    }
   ],
   "source": [
    "plant_df.columns"
   ]
  },
  {
   "cell_type": "markdown",
   "metadata": {},
   "source": [
    "It is fair to say  the column \"Common_Names\" wont be useful as a feature and can be dropped straight away. All others have some potential"
   ]
  },
  {
   "cell_type": "code",
   "execution_count": 9,
   "metadata": {},
   "outputs": [],
   "source": [
    "plant_df = plant_df.drop([\"Common_Names\"], axis=1)"
   ]
  },
  {
   "cell_type": "code",
   "execution_count": 10,
   "metadata": {},
   "outputs": [
    {
     "data": {
      "text/html": [
       "<div>\n",
       "<style scoped>\n",
       "    .dataframe tbody tr th:only-of-type {\n",
       "        vertical-align: middle;\n",
       "    }\n",
       "\n",
       "    .dataframe tbody tr th {\n",
       "        vertical-align: top;\n",
       "    }\n",
       "\n",
       "    .dataframe thead th {\n",
       "        text-align: right;\n",
       "    }\n",
       "</style>\n",
       "<table border=\"1\" class=\"dataframe\">\n",
       "  <thead>\n",
       "    <tr style=\"text-align: right;\">\n",
       "      <th></th>\n",
       "      <th>Plant_Name</th>\n",
       "      <th>Plant_Type</th>\n",
       "      <th>Family</th>\n",
       "      <th>Zones</th>\n",
       "      <th>Native_Range</th>\n",
       "      <th>Heights</th>\n",
       "      <th>Spreads</th>\n",
       "      <th>Bloom_Times</th>\n",
       "      <th>Bloom_Description</th>\n",
       "      <th>sunlight</th>\n",
       "      <th>Watering</th>\n",
       "      <th>Maintenance</th>\n",
       "      <th>Flowers</th>\n",
       "      <th>Leafs</th>\n",
       "      <th>Fruits</th>\n",
       "    </tr>\n",
       "  </thead>\n",
       "  <tbody>\n",
       "    <tr>\n",
       "      <th>0</th>\n",
       "      <td>Aechmea</td>\n",
       "      <td>Epiphyte</td>\n",
       "      <td>Bromeliaceae</td>\n",
       "      <td>10 to 11</td>\n",
       "      <td>Brazil</td>\n",
       "      <td>1.00 to 3.00 feet</td>\n",
       "      <td>1.00 to 2.00 feet</td>\n",
       "      <td>Seasonal bloomer</td>\n",
       "      <td>Violet to red with pink bracts</td>\n",
       "      <td>Part shade</td>\n",
       "      <td>Medium</td>\n",
       "      <td>Medium</td>\n",
       "      <td>Showy</td>\n",
       "      <td>Evergreen</td>\n",
       "      <td>None</td>\n",
       "    </tr>\n",
       "    <tr>\n",
       "      <th>1</th>\n",
       "      <td>Ardisia crenata</td>\n",
       "      <td>Broadleaf evergreen</td>\n",
       "      <td>Primulaceae</td>\n",
       "      <td>8 to 10</td>\n",
       "      <td>Japan to Northern India</td>\n",
       "      <td>4.00 to 5.00 feet</td>\n",
       "      <td>4.00 to 5.00 feet</td>\n",
       "      <td>May to June</td>\n",
       "      <td>Pinkish-white</td>\n",
       "      <td>Part shade to full shade</td>\n",
       "      <td>Medium</td>\n",
       "      <td>Medium</td>\n",
       "      <td>Showy</td>\n",
       "      <td>Evergreen</td>\n",
       "      <td>Showy</td>\n",
       "    </tr>\n",
       "    <tr>\n",
       "      <th>2</th>\n",
       "      <td>Euphorbia milii</td>\n",
       "      <td>Broadleaf evergreen</td>\n",
       "      <td>Euphorbiaceae</td>\n",
       "      <td>9 to 11</td>\n",
       "      <td>Madagascar</td>\n",
       "      <td>3.00 to 6.00 feet</td>\n",
       "      <td>1.50 to 3.00 feet</td>\n",
       "      <td>Seasonal bloomer</td>\n",
       "      <td>Green subtended by red or yellow bracts</td>\n",
       "      <td>Full sun</td>\n",
       "      <td>Dry to medium</td>\n",
       "      <td>Medium</td>\n",
       "      <td>Showy</td>\n",
       "      <td>Evergreen</td>\n",
       "      <td>None</td>\n",
       "    </tr>\n",
       "    <tr>\n",
       "      <th>3</th>\n",
       "      <td>Ficus elastica</td>\n",
       "      <td>Broadleaf evergreen</td>\n",
       "      <td>Moraceae</td>\n",
       "      <td>10 to 12</td>\n",
       "      <td>Southeastern Asia</td>\n",
       "      <td>50.00 to 100.00 feet</td>\n",
       "      <td>50.00 to 100.00 feet</td>\n",
       "      <td>Rarely flowers indoors</td>\n",
       "      <td>None</td>\n",
       "      <td>Part shade</td>\n",
       "      <td>Medium</td>\n",
       "      <td>Low</td>\n",
       "      <td>Insignificant</td>\n",
       "      <td>Evergreen</td>\n",
       "      <td>None</td>\n",
       "    </tr>\n",
       "    <tr>\n",
       "      <th>4</th>\n",
       "      <td>Woodsia obtusa</td>\n",
       "      <td>Fern</td>\n",
       "      <td>Woodsiaceae</td>\n",
       "      <td>4 to 8</td>\n",
       "      <td>North America</td>\n",
       "      <td>1.00 to 1.50 feet</td>\n",
       "      <td>2.00 to 2.50 feet</td>\n",
       "      <td>Non-flowering</td>\n",
       "      <td>Non-flowering</td>\n",
       "      <td>Part shade to full shade</td>\n",
       "      <td>Medium</td>\n",
       "      <td>Medium</td>\n",
       "      <td>None</td>\n",
       "      <td>None</td>\n",
       "      <td>None</td>\n",
       "    </tr>\n",
       "  </tbody>\n",
       "</table>\n",
       "</div>"
      ],
      "text/plain": [
       "        Plant_Name           Plant_Type         Family     Zones  \\\n",
       "0          Aechmea             Epiphyte   Bromeliaceae  10 to 11   \n",
       "1  Ardisia crenata  Broadleaf evergreen    Primulaceae   8 to 10   \n",
       "2  Euphorbia milii  Broadleaf evergreen  Euphorbiaceae   9 to 11   \n",
       "3   Ficus elastica  Broadleaf evergreen       Moraceae  10 to 12   \n",
       "4   Woodsia obtusa                 Fern    Woodsiaceae    4 to 8   \n",
       "\n",
       "              Native_Range               Heights               Spreads  \\\n",
       "0                   Brazil     1.00 to 3.00 feet     1.00 to 2.00 feet   \n",
       "1  Japan to Northern India     4.00 to 5.00 feet     4.00 to 5.00 feet   \n",
       "2               Madagascar     3.00 to 6.00 feet     1.50 to 3.00 feet   \n",
       "3        Southeastern Asia  50.00 to 100.00 feet  50.00 to 100.00 feet   \n",
       "4            North America     1.00 to 1.50 feet     2.00 to 2.50 feet   \n",
       "\n",
       "              Bloom_Times                        Bloom_Description  \\\n",
       "0        Seasonal bloomer           Violet to red with pink bracts   \n",
       "1             May to June                            Pinkish-white   \n",
       "2        Seasonal bloomer  Green subtended by red or yellow bracts   \n",
       "3  Rarely flowers indoors                                     None   \n",
       "4           Non-flowering                            Non-flowering   \n",
       "\n",
       "                   sunlight       Watering Maintenance        Flowers  \\\n",
       "0                Part shade         Medium      Medium          Showy   \n",
       "1  Part shade to full shade         Medium      Medium          Showy   \n",
       "2                  Full sun  Dry to medium      Medium          Showy   \n",
       "3                Part shade         Medium         Low  Insignificant   \n",
       "4  Part shade to full shade         Medium      Medium           None   \n",
       "\n",
       "       Leafs Fruits  \n",
       "0  Evergreen   None  \n",
       "1  Evergreen  Showy  \n",
       "2  Evergreen   None  \n",
       "3  Evergreen   None  \n",
       "4       None   None  "
      ]
     },
     "execution_count": 10,
     "metadata": {},
     "output_type": "execute_result"
    }
   ],
   "source": [
    "plant_df.head()"
   ]
  },
  {
   "cell_type": "markdown",
   "metadata": {},
   "source": [
    "##### Part 1.1 - Columns: \"Plant_Type\" and \"Family\""
   ]
  },
  {
   "cell_type": "code",
   "execution_count": 20,
   "metadata": {},
   "outputs": [
    {
     "data": {
      "text/plain": [
       "Herbaceous perennial    32\n",
       "Broadleaf evergreen     20\n",
       "Vine                     9\n",
       "Bulb                     8\n",
       "Fern                     6\n",
       "Palm or Cycad            4\n",
       "Orchid                   3\n",
       "Deciduous shrub          3\n",
       "Epiphyte                 3\n",
       "Needled evergreen        2\n",
       "Annual                   1\n",
       "Tree                     1\n",
       "Name: Plant_Type, dtype: int64"
      ]
     },
     "execution_count": 20,
     "metadata": {},
     "output_type": "execute_result"
    }
   ],
   "source": [
    "plant_df[\"Plant_Type\"].value_counts()"
   ]
  },
  {
   "cell_type": "markdown",
   "metadata": {},
   "source": [
    "Based on the above value_counts, For \"Plant_Type\", I can take those with a large number of observations and keep them. Those with few observations can be converted into a class names \"Other\". Would need one-hot encoding for this one. "
   ]
  },
  {
   "cell_type": "code",
   "execution_count": 19,
   "metadata": {},
   "outputs": [
    {
     "data": {
      "text/plain": [
       "Araceae            12\n",
       "Asparagaceae        7\n",
       "Euphorbiaceae       4\n",
       "Moraceae            4\n",
       "Piperaceae          4\n",
       "Crassulaceae        4\n",
       "Araliaceae          4\n",
       "Arecaceae           3\n",
       "Rubiaceae           3\n",
       "Primulaceae         3\n",
       "Aspleniaceae        3\n",
       "Orchidaceae         3\n",
       "Commelinaceae       3\n",
       "Asphodelaceae       2\n",
       "Bromeliaceae        2\n",
       "Malvaceae           2\n",
       "Apocynaceae         2\n",
       "Solanaceae          2\n",
       "Woodsiaceae         1\n",
       "Araucariaceae       1\n",
       "Lamiaceae           1\n",
       "Amaryllidaceae      1\n",
       "Marantaceae         1\n",
       "Campanulaceae       1\n",
       "Pteridaceae         1\n",
       "Basellaceae         1\n",
       "Vitaceae            1\n",
       "Saxifragaceae       1\n",
       "Lythraceae          1\n",
       "Polypodiaceae       1\n",
       "Ranunculaceae       1\n",
       "Begoniaceae         1\n",
       "Urticaceae          1\n",
       "Melastomataceae     1\n",
       "Acanthaceae         1\n",
       "Iridaceae           1\n",
       "Zingiberaceae       1\n",
       "Cactaceae           1\n",
       "Cycadaceae          1\n",
       "Pinaceae            1\n",
       "Asteraceae          1\n",
       "Strelitziaceae      1\n",
       "Theaceae            1\n",
       "Name: Family, dtype: int64"
      ]
     },
     "execution_count": 19,
     "metadata": {},
     "output_type": "execute_result"
    }
   ],
   "source": [
    "plant_df[\"Family\"].value_counts()"
   ]
  },
  {
   "cell_type": "markdown",
   "metadata": {},
   "source": [
    "The column \"Family\" contains an even large number of types than \"Plant_Type\". If I decide to use this, I would need to group a large number of the types into a group named \"Other\". This maybe not be ideal given they are then treated as similar even if they are not...\n",
    "\n",
    "Also need to consider that the two columns maybe co-related, and I don't have that many samples to train with..."
   ]
  },
  {
   "cell_type": "code",
   "execution_count": 18,
   "metadata": {},
   "outputs": [
    {
     "data": {
      "text/plain": [
       "Plant_Type            Family         \n",
       "Annual                Asteraceae         1\n",
       "Broadleaf evergreen   Apocynaceae        1\n",
       "                      Araliaceae         3\n",
       "                      Asparagaceae       2\n",
       "                      Euphorbiaceae      2\n",
       "                      Malvaceae          2\n",
       "                      Melastomataceae    1\n",
       "                      Moraceae           4\n",
       "                      Primulaceae        1\n",
       "                      Rubiaceae          2\n",
       "                      Solanaceae         1\n",
       "                      Theaceae           1\n",
       "Bulb                  Amaryllidaceae     1\n",
       "                      Araceae            4\n",
       "                      Asparagaceae       1\n",
       "                      Iridaceae          1\n",
       "                      Primulaceae        1\n",
       "Deciduous shrub       Crassulaceae       1\n",
       "                      Euphorbiaceae      1\n",
       "                      Lythraceae         1\n",
       "Epiphyte              Bromeliaceae       2\n",
       "                      Cactaceae          1\n",
       "Fern                  Aspleniaceae       3\n",
       "                      Polypodiaceae      1\n",
       "                      Pteridaceae        1\n",
       "                      Woodsiaceae        1\n",
       "Herbaceous perennial  Acanthaceae        1\n",
       "                      Araceae            3\n",
       "                      Asparagaceae       4\n",
       "                      Asphodelaceae      2\n",
       "                      Begoniaceae        1\n",
       "                      Campanulaceae      1\n",
       "                      Commelinaceae      3\n",
       "                      Crassulaceae       3\n",
       "                      Lamiaceae          1\n",
       "                      Marantaceae        1\n",
       "                      Piperaceae         4\n",
       "                      Primulaceae        1\n",
       "                      Ranunculaceae      1\n",
       "                      Rubiaceae          1\n",
       "                      Saxifragaceae      1\n",
       "                      Solanaceae         1\n",
       "                      Strelitziaceae     1\n",
       "                      Urticaceae         1\n",
       "                      Zingiberaceae      1\n",
       "Needled evergreen     Araucariaceae      1\n",
       "                      Pinaceae           1\n",
       "Orchid                Orchidaceae        3\n",
       "Palm or Cycad         Arecaceae          3\n",
       "                      Cycadaceae         1\n",
       "Tree                  Euphorbiaceae      1\n",
       "Vine                  Apocynaceae        1\n",
       "                      Araceae            5\n",
       "                      Araliaceae         1\n",
       "                      Basellaceae        1\n",
       "                      Vitaceae           1\n",
       "dtype: int64"
      ]
     },
     "execution_count": 18,
     "metadata": {},
     "output_type": "execute_result"
    }
   ],
   "source": [
    "plant_df[[\"Plant_Type\", \"Family\"]].value_counts(sort=False)"
   ]
  },
  {
   "cell_type": "markdown",
   "metadata": {},
   "source": [
    "looking at the above 2D value_counts results, we observe frequent \"Family\" categories present in several \"Plant_Type\" categories.\n",
    "E.g.: \"Araceae\" is observed in: \"Bulb\", \"Herbaceous perennial\", and \"Vine\". \n",
    "\n",
    "As \"Plant_Type\" is more intuiative, has less categories and is more indicative of how  the plant actually looks, if I take either of these columns forward, it will be \"Plant_Type\"."
   ]
  },
  {
   "cell_type": "markdown",
   "metadata": {},
   "source": [
    "##### Part 1.2 - Columns: \"Zones\"\n",
    "Zones describes the cold-hardyness of a plant. So what range of "
   ]
  },
  {
   "cell_type": "code",
   "execution_count": 23,
   "metadata": {},
   "outputs": [],
   "source": [
    "# Could I turn this into a regression, max cold hardiness? \n",
    "# could even convert to degress etc..."
   ]
  },
  {
   "cell_type": "code",
   "execution_count": 21,
   "metadata": {},
   "outputs": [
    {
     "data": {
      "text/plain": [
       "10 to 12    28\n",
       "11 to 12    12\n",
       "9 to 11     11\n",
       "10 to 11    10\n",
       "8 to 10      7\n",
       "4 to 8       5\n",
       "9 to 10      4\n",
       "8 to 11      2\n",
       "6 to 9       2\n",
       "9 to 12      2\n",
       "3 to 8       2\n",
       "5 to 8       1\n",
       "7 to 9       1\n",
       "4 to 9       1\n",
       "5 to 9       1\n",
       "2 to 11      1\n",
       "None         1\n",
       "8 to 12      1\n",
       "Name: Zones, dtype: int64"
      ]
     },
     "execution_count": 21,
     "metadata": {},
     "output_type": "execute_result"
    }
   ],
   "source": [
    "plant_df[\"Zones\"].value_counts()"
   ]
  },
  {
   "cell_type": "code",
   "execution_count": null,
   "metadata": {},
   "outputs": [],
   "source": []
  },
  {
   "cell_type": "code",
   "execution_count": null,
   "metadata": {},
   "outputs": [],
   "source": []
  },
  {
   "cell_type": "markdown",
   "metadata": {},
   "source": [
    "##### Part 1.3 - Columns: \"Native_Range\""
   ]
  },
  {
   "cell_type": "code",
   "execution_count": 27,
   "metadata": {},
   "outputs": [
    {
     "data": {
      "text/plain": [
       "None                                                13\n",
       "Brazil                                               4\n",
       "Madagascar                                           3\n",
       "Mediterranean                                        3\n",
       "Mexico to northern South America and West Indies     2\n",
       "                                                    ..\n",
       "Arabian penninsula, eastern Africa                   1\n",
       "Western Asia, Europe                                 1\n",
       "Tropical Africa and tropical Asia                    1\n",
       "Nigeria                                              1\n",
       "Mexico, Central America                              1\n",
       "Name: Native_Range, Length: 68, dtype: int64"
      ]
     },
     "execution_count": 27,
     "metadata": {},
     "output_type": "execute_result"
    }
   ],
   "source": [
    "plant_df[\"Native_Range\"].value_counts()"
   ]
  },
  {
   "cell_type": "markdown",
   "metadata": {},
   "source": [
    "Sceptical of the usefulness of this. Would need to generalise the results here a lot and even then one country or part of a continent can have very different climates in different parts of the climate. Think the more direct information from columns like: sunlight, or zones would be better suited. Also a lot with missing data. Very probably will not use this column as feature. "
   ]
  },
  {
   "cell_type": "code",
   "execution_count": null,
   "metadata": {},
   "outputs": [],
   "source": []
  },
  {
   "cell_type": "markdown",
   "metadata": {},
   "source": [
    "##### Part 1.4 - Columns: \"Heights\" and \"Spreads\""
   ]
  },
  {
   "cell_type": "code",
   "execution_count": 28,
   "metadata": {},
   "outputs": [
    {
     "data": {
      "text/plain": [
       "1.00 to 1.50 feet        7\n",
       "0.50 to 0.75 feet        6\n",
       "1.00 to 2.00 feet        6\n",
       "0.50 to 1.00 feet        5\n",
       "0.25 to 0.50 feet        5\n",
       "3.00 to 6.00 feet        4\n",
       "6.00 to 15.00 feet       3\n",
       "2.00 to 3.00 feet        3\n",
       "2.00 to 4.00 feet        3\n",
       "3.00 to 10.00 feet       3\n",
       "1.00 to 2.50 feet        3\n",
       "0.75 to 1.00 feet        2\n",
       "2.00 to 6.00 feet        2\n",
       "20.00 to 30.00 feet      2\n",
       "5.00 to 6.00 feet        2\n",
       "60.00 to 100.00 feet     2\n",
       "3.00 to 5.00 feet        2\n",
       "40.00 to 50.00 feet      1\n",
       "6.00 to 16.00 feet       1\n",
       "100.00 to 200.00 feet    1\n",
       "1.50 to 2.00 feet        1\n",
       "8.00 to 10.00 feet       1\n",
       "0.50 to 1.50 feet        1\n",
       "3.50 to 4.00 feet        1\n",
       "10.00 to 25.00 feet      1\n",
       "1.00 to 3.00 feet        1\n",
       "3.00 to 12.00 feet       1\n",
       "6.00 to 10.00 feet       1\n",
       "3.00 to 9.00 feet        1\n",
       "12.00 to 30.00 feet      1\n",
       "0.50 to 10.00 feet       1\n",
       "3.00 to 8.00 feet        1\n",
       "4.00 to 10.00 feet       1\n",
       "40.00 to 60.00 feet      1\n",
       "5.00 to 10.00 feet       1\n",
       "1.00 to 4.00 feet        1\n",
       "6.00 to 20.00 feet       1\n",
       "0.25 to 1.50 feet        1\n",
       "0.50 to 3.00 feet        1\n",
       "10.00 to 20.00 feet      1\n",
       "7.00 to 12.00 feet       1\n",
       "30.00 to 70.00 feet      1\n",
       "20.00 to 80.00 feet      1\n",
       "0.00 to 0.25 feet        1\n",
       "25.00 to 50.00 feet      1\n",
       "50.00 to 100.00 feet     1\n",
       "6.00 to 8.00 feet        1\n",
       "4.00 to 5.00 feet        1\n",
       "12.00 to 18.00 feet      1\n",
       "Name: Heights, dtype: int64"
      ]
     },
     "execution_count": 28,
     "metadata": {},
     "output_type": "execute_result"
    }
   ],
   "source": [
    "plant_df[\"Heights\"].value_counts()"
   ]
  },
  {
   "cell_type": "markdown",
   "metadata": {},
   "source": [
    "Could turn this into a single column with max height or perhaps average height or perhaps height range.\n",
    "Same thought process for spreads. Certainly can make 1 or more columns of continous data with this. }"
   ]
  },
  {
   "cell_type": "code",
   "execution_count": null,
   "metadata": {},
   "outputs": [],
   "source": []
  },
  {
   "cell_type": "code",
   "execution_count": null,
   "metadata": {},
   "outputs": [],
   "source": []
  },
  {
   "cell_type": "markdown",
   "metadata": {},
   "source": [
    "##### Part 1.5 - Columns: \"Bloom_Times\" and \"Bloom_Description\""
   ]
  },
  {
   "cell_type": "code",
   "execution_count": null,
   "metadata": {},
   "outputs": [],
   "source": []
  },
  {
   "cell_type": "code",
   "execution_count": null,
   "metadata": {},
   "outputs": [],
   "source": []
  },
  {
   "cell_type": "code",
   "execution_count": null,
   "metadata": {},
   "outputs": [],
   "source": []
  },
  {
   "cell_type": "markdown",
   "metadata": {},
   "source": [
    "##### Part 1.6 - Columns: \"sunlight\", \"Watering\", and \"Maintenance\""
   ]
  },
  {
   "cell_type": "code",
   "execution_count": 29,
   "metadata": {},
   "outputs": [
    {
     "data": {
      "text/plain": [
       "Part shade                  32\n",
       "Part shade to full shade    22\n",
       "Full sun to part shade      20\n",
       "Full sun                    17\n",
       "None                         1\n",
       "Name: sunlight, dtype: int64"
      ]
     },
     "execution_count": 29,
     "metadata": {},
     "output_type": "execute_result"
    }
   ],
   "source": [
    "plant_df[\"sunlight\"].value_counts()"
   ]
  },
  {
   "cell_type": "code",
   "execution_count": 30,
   "metadata": {},
   "outputs": [
    {
     "data": {
      "text/plain": [
       "Medium           73\n",
       "Dry to medium    13\n",
       "Medium to wet     3\n",
       "Dry               2\n",
       "None              1\n",
       "Name: Watering, dtype: int64"
      ]
     },
     "execution_count": 30,
     "metadata": {},
     "output_type": "execute_result"
    }
   ],
   "source": [
    "plant_df[\"Watering\"].value_counts()"
   ]
  },
  {
   "cell_type": "code",
   "execution_count": 31,
   "metadata": {},
   "outputs": [
    {
     "data": {
      "text/plain": [
       "Low       51\n",
       "Medium    36\n",
       "High       4\n",
       "None       1\n",
       "Name: Maintenance, dtype: int64"
      ]
     },
     "execution_count": 31,
     "metadata": {},
     "output_type": "execute_result"
    }
   ],
   "source": [
    "plant_df[\"Maintenance\"].plant_df[\"Maintenance\"].value_counts()"
   ]
  },
  {
   "cell_type": "code",
   "execution_count": 34,
   "metadata": {},
   "outputs": [
    {
     "data": {
      "text/html": [
       "<div>\n",
       "<style scoped>\n",
       "    .dataframe tbody tr th:only-of-type {\n",
       "        vertical-align: middle;\n",
       "    }\n",
       "\n",
       "    .dataframe tbody tr th {\n",
       "        vertical-align: top;\n",
       "    }\n",
       "\n",
       "    .dataframe thead th {\n",
       "        text-align: right;\n",
       "    }\n",
       "</style>\n",
       "<table border=\"1\" class=\"dataframe\">\n",
       "  <thead>\n",
       "    <tr style=\"text-align: right;\">\n",
       "      <th></th>\n",
       "      <th>Plant_Name</th>\n",
       "      <th>Plant_Type</th>\n",
       "      <th>Family</th>\n",
       "      <th>Zones</th>\n",
       "      <th>Native_Range</th>\n",
       "      <th>Heights</th>\n",
       "      <th>Spreads</th>\n",
       "      <th>Bloom_Times</th>\n",
       "      <th>Bloom_Description</th>\n",
       "      <th>sunlight</th>\n",
       "      <th>Watering</th>\n",
       "      <th>Maintenance</th>\n",
       "      <th>Flowers</th>\n",
       "      <th>Leafs</th>\n",
       "      <th>Fruits</th>\n",
       "    </tr>\n",
       "  </thead>\n",
       "  <tbody>\n",
       "    <tr>\n",
       "      <th>23</th>\n",
       "      <td>Asplenium antiquum</td>\n",
       "      <td>Fern</td>\n",
       "      <td>Aspleniaceae</td>\n",
       "      <td>10 to 11</td>\n",
       "      <td>None</td>\n",
       "      <td>1.50 to 2.00 feet</td>\n",
       "      <td>3.00 to 4.00 feet</td>\n",
       "      <td>Non-flowering</td>\n",
       "      <td>None</td>\n",
       "      <td>None</td>\n",
       "      <td>None</td>\n",
       "      <td>None</td>\n",
       "      <td>None</td>\n",
       "      <td>None</td>\n",
       "      <td>None</td>\n",
       "    </tr>\n",
       "  </tbody>\n",
       "</table>\n",
       "</div>"
      ],
      "text/plain": [
       "            Plant_Name Plant_Type        Family     Zones Native_Range  \\\n",
       "23  Asplenium antiquum       Fern  Aspleniaceae  10 to 11         None   \n",
       "\n",
       "              Heights            Spreads    Bloom_Times Bloom_Description  \\\n",
       "23  1.50 to 2.00 feet  3.00 to 4.00 feet  Non-flowering              None   \n",
       "\n",
       "   sunlight Watering Maintenance Flowers Leafs Fruits  \n",
       "23     None     None        None    None  None   None  "
      ]
     },
     "execution_count": 34,
     "metadata": {},
     "output_type": "execute_result"
    }
   ],
   "source": [
    "# identify the plant with missing data\n",
    "missing_index = plant_df[\"Maintenance\"].loc[lambda x: x==\"None\"].index\n",
    "plant_df.iloc[missing_index]"
   ]
  },
  {
   "cell_type": "markdown",
   "metadata": {},
   "source": [
    "I want all three of these features and all three are very easy to do ordinal encoding with so no issues with many columns (unlike with one-hot encoding...)\n",
    "\n",
    "One plant  with missing data (see cell block above). [From checking the plant database though](https://www.missouribotanicalgarden.org/PlantFinder/PlantFinderDetails.aspx?taxonid=241952), the info is available (just in paragraph form), so I can manually add this info into this column "
   ]
  },
  {
   "cell_type": "markdown",
   "metadata": {},
   "source": [
    "##### Part 1.7 - Columns: \"Flowers\", and \"Leafs\", and \"Fruits\""
   ]
  },
  {
   "cell_type": "code",
   "execution_count": 35,
   "metadata": {},
   "outputs": [
    {
     "data": {
      "text/plain": [
       "Showy                        42\n",
       "Insignificant                22\n",
       "None                         16\n",
       "Showy, Fragrant               8\n",
       "Showy, Good Cut               2\n",
       "Fragrant, Insignificant       1\n",
       "Showy, Fragrant, Good Cut     1\n",
       "Name: Flowers, dtype: int64"
      ]
     },
     "execution_count": 35,
     "metadata": {},
     "output_type": "execute_result"
    }
   ],
   "source": [
    "plant_df[\"Flowers\"].value_counts()"
   ]
  },
  {
   "cell_type": "code",
   "execution_count": 36,
   "metadata": {},
   "outputs": [
    {
     "data": {
      "text/plain": [
       "Evergreen              49\n",
       "None                   17\n",
       "Colorful, Evergreen    14\n",
       "Colorful               11\n",
       "Fragrant, Evergreen     1\n",
       "Name: Leafs, dtype: int64"
      ]
     },
     "execution_count": 36,
     "metadata": {},
     "output_type": "execute_result"
    }
   ],
   "source": [
    "plant_df[\"Leafs\"].value_counts() \n",
    "# want to check that the nones don't actually make leafs or what that is about? - lack of info?"
   ]
  },
  {
   "cell_type": "code",
   "execution_count": 37,
   "metadata": {},
   "outputs": [
    {
     "data": {
      "text/plain": [
       "None             71\n",
       "Showy            14\n",
       "Showy, Edible     7\n",
       "Name: Fruits, dtype: int64"
      ]
     },
     "execution_count": 37,
     "metadata": {},
     "output_type": "execute_result"
    }
   ],
   "source": [
    "plant_df[\"Fruits\"].value_counts() "
   ]
  },
  {
   "cell_type": "markdown",
   "metadata": {},
   "source": [
    "- For \"Flowers\" - Could just be a binary: \"flowers\" or \"does not flower\" (insignificant goes to not). \n",
    "- For \"Fruits\" - Same as above, binary fruits or not."
   ]
  },
  {
   "cell_type": "markdown",
   "metadata": {},
   "source": [
    "#### Part 2: Feature Engineering \n",
    "Based on the insights above, in this section the dataframe will be modified accordingly to build the features required for each plant.\n",
    "Not all of the features made here may necessarily be used though depending on how things go\n",
    "\n",
    "Will want this for several features: https://scikit-learn.org/stable/modules/generated/sklearn.preprocessing.OrdinalEncoder.html"
   ]
  },
  {
   "cell_type": "code",
   "execution_count": null,
   "metadata": {},
   "outputs": [],
   "source": []
  },
  {
   "cell_type": "code",
   "execution_count": null,
   "metadata": {},
   "outputs": [],
   "source": []
  },
  {
   "cell_type": "code",
   "execution_count": null,
   "metadata": {},
   "outputs": [],
   "source": []
  },
  {
   "cell_type": "code",
   "execution_count": null,
   "metadata": {},
   "outputs": [],
   "source": []
  },
  {
   "cell_type": "markdown",
   "metadata": {},
   "source": [
    "#### Part 3.1: Modelling - Dimensionality reduction\n",
    "This section will focus on using dimensionality reduction as a way to visualise the relationship between each plant."
   ]
  },
  {
   "cell_type": "code",
   "execution_count": null,
   "metadata": {},
   "outputs": [],
   "source": []
  },
  {
   "cell_type": "code",
   "execution_count": null,
   "metadata": {},
   "outputs": [],
   "source": []
  },
  {
   "cell_type": "markdown",
   "metadata": {},
   "source": [
    "#### Part 3.2: Modelling - Recommender engine\n",
    "\n",
    "Building a content based recommender enginer of course as no user data available "
   ]
  },
  {
   "cell_type": "code",
   "execution_count": null,
   "metadata": {},
   "outputs": [],
   "source": []
  },
  {
   "cell_type": "code",
   "execution_count": null,
   "metadata": {},
   "outputs": [],
   "source": []
  },
  {
   "cell_type": "code",
   "execution_count": null,
   "metadata": {},
   "outputs": [],
   "source": []
  }
 ],
 "metadata": {
  "kernelspec": {
   "display_name": "Python 3.8.8 ('Py_Fun_Py3_8')",
   "language": "python",
   "name": "python3"
  },
  "language_info": {
   "codemirror_mode": {
    "name": "ipython",
    "version": 3
   },
   "file_extension": ".py",
   "mimetype": "text/x-python",
   "name": "python",
   "nbconvert_exporter": "python",
   "pygments_lexer": "ipython3",
   "version": "3.8.8"
  },
  "orig_nbformat": 4,
  "vscode": {
   "interpreter": {
    "hash": "2ced150f8a2667dee2cfae26b4d2611f5ad28f0d3e6e2dea4c3c48326462f442"
   }
  }
 },
 "nbformat": 4,
 "nbformat_minor": 2
}
