{
 "cells": [
  {
   "cell_type": "markdown",
   "metadata": {},
   "source": [
    "## House Plant Analysis \n",
    "\n",
    "This notebook will cover the initial exploratory data analysis (step 1) of the houseplant database generated. Following this, feature engineering (step 2) will be performed for two goals. First is to perform dimensionality reduction (step 3) as a way to visualise similar plants (ultimate goal to make some 2D scatter like graphs doing this). Second goal is to build a content based recommender engine with this dataset."
   ]
  },
  {
   "cell_type": "markdown",
   "metadata": {},
   "source": [
    "#### Step 0: Setup"
   ]
  },
  {
   "cell_type": "code",
   "execution_count": 2,
   "metadata": {},
   "outputs": [],
   "source": [
    "import pandas as pd\n",
    "import sqlite3\n",
    "\n",
    "DATABASE_LOC = r\"C:\\Users\\Rory Crean\\Dropbox (lkgroup)\\Backup_HardDrive\\Postdoc\\PyForFun\\House_Plant_Recommender\\Database\\house_plants.db\""
   ]
  },
  {
   "cell_type": "code",
   "execution_count": 4,
   "metadata": {},
   "outputs": [
    {
     "data": {
      "text/html": [
       "<div>\n",
       "<style scoped>\n",
       "    .dataframe tbody tr th:only-of-type {\n",
       "        vertical-align: middle;\n",
       "    }\n",
       "\n",
       "    .dataframe tbody tr th {\n",
       "        vertical-align: top;\n",
       "    }\n",
       "\n",
       "    .dataframe thead th {\n",
       "        text-align: right;\n",
       "    }\n",
       "</style>\n",
       "<table border=\"1\" class=\"dataframe\">\n",
       "  <thead>\n",
       "    <tr style=\"text-align: right;\">\n",
       "      <th></th>\n",
       "      <th>Plant_Name</th>\n",
       "      <th>Common_Names</th>\n",
       "      <th>Plant_Type</th>\n",
       "      <th>Family</th>\n",
       "      <th>Zones</th>\n",
       "      <th>Native_Range</th>\n",
       "      <th>Heights</th>\n",
       "      <th>Spreads</th>\n",
       "      <th>Bloom_Times</th>\n",
       "      <th>Bloom_Description</th>\n",
       "      <th>sunlight</th>\n",
       "      <th>Watering</th>\n",
       "      <th>Maintenance</th>\n",
       "      <th>Flowers</th>\n",
       "      <th>Leafs</th>\n",
       "      <th>Fruits</th>\n",
       "    </tr>\n",
       "  </thead>\n",
       "  <tbody>\n",
       "    <tr>\n",
       "      <th>0</th>\n",
       "      <td>Aechmea</td>\n",
       "      <td>urn plant,silver vase plant</td>\n",
       "      <td>Epiphyte</td>\n",
       "      <td>Bromeliaceae</td>\n",
       "      <td>10 to 11</td>\n",
       "      <td>Brazil</td>\n",
       "      <td>1.00 to 3.00 feet</td>\n",
       "      <td>1.00 to 2.00 feet</td>\n",
       "      <td>Seasonal bloomer</td>\n",
       "      <td>Violet to red with pink bracts</td>\n",
       "      <td>Part shade</td>\n",
       "      <td>Medium</td>\n",
       "      <td>Medium</td>\n",
       "      <td>Showy</td>\n",
       "      <td>Evergreen</td>\n",
       "      <td>None</td>\n",
       "    </tr>\n",
       "    <tr>\n",
       "      <th>1</th>\n",
       "      <td>Ardisia crenata</td>\n",
       "      <td>hen's eyes,coralberry,spiceberry,scratchthroat...</td>\n",
       "      <td>Broadleaf evergreen</td>\n",
       "      <td>Primulaceae</td>\n",
       "      <td>8 to 10</td>\n",
       "      <td>Japan to Northern India</td>\n",
       "      <td>4.00 to 5.00 feet</td>\n",
       "      <td>4.00 to 5.00 feet</td>\n",
       "      <td>May to June</td>\n",
       "      <td>Pinkish-white</td>\n",
       "      <td>Part shade to full shade</td>\n",
       "      <td>Medium</td>\n",
       "      <td>Medium</td>\n",
       "      <td>Showy</td>\n",
       "      <td>Evergreen</td>\n",
       "      <td>Showy</td>\n",
       "    </tr>\n",
       "    <tr>\n",
       "      <th>2</th>\n",
       "      <td>Euphorbia milii</td>\n",
       "      <td>christplant,Christ plant,Christ thorn,crown of...</td>\n",
       "      <td>Broadleaf evergreen</td>\n",
       "      <td>Euphorbiaceae</td>\n",
       "      <td>9 to 11</td>\n",
       "      <td>Madagascar</td>\n",
       "      <td>3.00 to 6.00 feet</td>\n",
       "      <td>1.50 to 3.00 feet</td>\n",
       "      <td>Seasonal bloomer</td>\n",
       "      <td>Green subtended by red or yellow bracts</td>\n",
       "      <td>Full sun</td>\n",
       "      <td>Dry to medium</td>\n",
       "      <td>Medium</td>\n",
       "      <td>Showy</td>\n",
       "      <td>Evergreen</td>\n",
       "      <td>None</td>\n",
       "    </tr>\n",
       "    <tr>\n",
       "      <th>3</th>\n",
       "      <td>Ficus elastica</td>\n",
       "      <td>Indian rubberplant,India rubber plant,rubber p...</td>\n",
       "      <td>Broadleaf evergreen</td>\n",
       "      <td>Moraceae</td>\n",
       "      <td>10 to 12</td>\n",
       "      <td>Southeastern Asia</td>\n",
       "      <td>50.00 to 100.00 feet</td>\n",
       "      <td>50.00 to 100.00 feet</td>\n",
       "      <td>Rarely flowers indoors</td>\n",
       "      <td>None</td>\n",
       "      <td>Part shade</td>\n",
       "      <td>Medium</td>\n",
       "      <td>Low</td>\n",
       "      <td>Insignificant</td>\n",
       "      <td>Evergreen</td>\n",
       "      <td>None</td>\n",
       "    </tr>\n",
       "    <tr>\n",
       "      <th>4</th>\n",
       "      <td>Woodsia obtusa</td>\n",
       "      <td>blunt-lobed woodsia,common woodsia,large woodsia</td>\n",
       "      <td>Fern</td>\n",
       "      <td>Woodsiaceae</td>\n",
       "      <td>4 to 8</td>\n",
       "      <td>North America</td>\n",
       "      <td>1.00 to 1.50 feet</td>\n",
       "      <td>2.00 to 2.50 feet</td>\n",
       "      <td>Non-flowering</td>\n",
       "      <td>Non-flowering</td>\n",
       "      <td>Part shade to full shade</td>\n",
       "      <td>Medium</td>\n",
       "      <td>Medium</td>\n",
       "      <td>None</td>\n",
       "      <td>None</td>\n",
       "      <td>None</td>\n",
       "    </tr>\n",
       "  </tbody>\n",
       "</table>\n",
       "</div>"
      ],
      "text/plain": [
       "        Plant_Name                                       Common_Names  \\\n",
       "0          Aechmea                        urn plant,silver vase plant   \n",
       "1  Ardisia crenata  hen's eyes,coralberry,spiceberry,scratchthroat...   \n",
       "2  Euphorbia milii  christplant,Christ plant,Christ thorn,crown of...   \n",
       "3   Ficus elastica  Indian rubberplant,India rubber plant,rubber p...   \n",
       "4   Woodsia obtusa   blunt-lobed woodsia,common woodsia,large woodsia   \n",
       "\n",
       "            Plant_Type         Family     Zones             Native_Range  \\\n",
       "0             Epiphyte   Bromeliaceae  10 to 11                   Brazil   \n",
       "1  Broadleaf evergreen    Primulaceae   8 to 10  Japan to Northern India   \n",
       "2  Broadleaf evergreen  Euphorbiaceae   9 to 11               Madagascar   \n",
       "3  Broadleaf evergreen       Moraceae  10 to 12        Southeastern Asia   \n",
       "4                 Fern    Woodsiaceae    4 to 8            North America   \n",
       "\n",
       "                Heights               Spreads             Bloom_Times  \\\n",
       "0     1.00 to 3.00 feet     1.00 to 2.00 feet        Seasonal bloomer   \n",
       "1     4.00 to 5.00 feet     4.00 to 5.00 feet             May to June   \n",
       "2     3.00 to 6.00 feet     1.50 to 3.00 feet        Seasonal bloomer   \n",
       "3  50.00 to 100.00 feet  50.00 to 100.00 feet  Rarely flowers indoors   \n",
       "4     1.00 to 1.50 feet     2.00 to 2.50 feet           Non-flowering   \n",
       "\n",
       "                         Bloom_Description                  sunlight  \\\n",
       "0           Violet to red with pink bracts                Part shade   \n",
       "1                            Pinkish-white  Part shade to full shade   \n",
       "2  Green subtended by red or yellow bracts                  Full sun   \n",
       "3                                     None                Part shade   \n",
       "4                            Non-flowering  Part shade to full shade   \n",
       "\n",
       "        Watering Maintenance        Flowers      Leafs Fruits  \n",
       "0         Medium      Medium          Showy  Evergreen   None  \n",
       "1         Medium      Medium          Showy  Evergreen  Showy  \n",
       "2  Dry to medium      Medium          Showy  Evergreen   None  \n",
       "3         Medium         Low  Insignificant  Evergreen   None  \n",
       "4         Medium      Medium           None       None   None  "
      ]
     },
     "execution_count": 4,
     "metadata": {},
     "output_type": "execute_result"
    }
   ],
   "source": [
    "conn = sqlite3.connect(DATABASE_LOC)\n",
    "c = conn.cursor()\n",
    "df = pd.read_sql_query(\"SELECT * FROM plant_raw_data\", conn)\n",
    "c.close()\n",
    "df.head()"
   ]
  },
  {
   "cell_type": "code",
   "execution_count": null,
   "metadata": {},
   "outputs": [],
   "source": []
  },
  {
   "cell_type": "markdown",
   "metadata": {},
   "source": [
    "#### Part 1: Data exploration\n"
   ]
  },
  {
   "cell_type": "code",
   "execution_count": null,
   "metadata": {},
   "outputs": [],
   "source": [
    "# What can be dropped straight away?\n",
    "# [\"Common_Names\", ]"
   ]
  },
  {
   "cell_type": "code",
   "execution_count": null,
   "metadata": {},
   "outputs": [],
   "source": []
  },
  {
   "cell_type": "code",
   "execution_count": null,
   "metadata": {},
   "outputs": [],
   "source": []
  },
  {
   "cell_type": "markdown",
   "metadata": {},
   "source": [
    "#### Part 2: Feature Engineering \n",
    "Based on the insights above, in this section the dataframe will be modified accordingly to build the features required for each plant."
   ]
  },
  {
   "cell_type": "code",
   "execution_count": null,
   "metadata": {},
   "outputs": [],
   "source": []
  },
  {
   "cell_type": "code",
   "execution_count": null,
   "metadata": {},
   "outputs": [],
   "source": []
  },
  {
   "cell_type": "code",
   "execution_count": null,
   "metadata": {},
   "outputs": [],
   "source": []
  },
  {
   "cell_type": "code",
   "execution_count": null,
   "metadata": {},
   "outputs": [],
   "source": []
  },
  {
   "cell_type": "markdown",
   "metadata": {},
   "source": [
    "#### Part 3.1: Modelling - Dimensionality reduction\n",
    "This section will focus on using dimensionality reduction as a way to visualise the relationship between each plant."
   ]
  },
  {
   "cell_type": "code",
   "execution_count": null,
   "metadata": {},
   "outputs": [],
   "source": []
  },
  {
   "cell_type": "code",
   "execution_count": null,
   "metadata": {},
   "outputs": [],
   "source": []
  },
  {
   "cell_type": "markdown",
   "metadata": {},
   "source": [
    "#### Part 3.2: Modelling - Recommender engine\n",
    "\n",
    "Building a content based recommender enginer of course as no user data available "
   ]
  },
  {
   "cell_type": "code",
   "execution_count": null,
   "metadata": {},
   "outputs": [],
   "source": []
  },
  {
   "cell_type": "code",
   "execution_count": null,
   "metadata": {},
   "outputs": [],
   "source": []
  },
  {
   "cell_type": "code",
   "execution_count": null,
   "metadata": {},
   "outputs": [],
   "source": []
  }
 ],
 "metadata": {
  "kernelspec": {
   "display_name": "Python 3.8.8 ('Py_Fun_Py3_8')",
   "language": "python",
   "name": "python3"
  },
  "language_info": {
   "codemirror_mode": {
    "name": "ipython",
    "version": 3
   },
   "file_extension": ".py",
   "mimetype": "text/x-python",
   "name": "python",
   "nbconvert_exporter": "python",
   "pygments_lexer": "ipython3",
   "version": "3.8.8"
  },
  "orig_nbformat": 4,
  "vscode": {
   "interpreter": {
    "hash": "2ced150f8a2667dee2cfae26b4d2611f5ad28f0d3e6e2dea4c3c48326462f442"
   }
  }
 },
 "nbformat": 4,
 "nbformat_minor": 2
}
