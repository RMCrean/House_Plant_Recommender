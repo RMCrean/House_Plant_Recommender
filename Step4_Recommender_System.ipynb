{
 "cells": [
  {
   "cell_type": "markdown",
   "metadata": {},
   "source": [
    "## House Plant Recommender System \n",
    "\n",
    "This notebook will cover the building of a content based recommender system (step 4). \n",
    "\n",
    "A content based system will be used as their is no user information available.\n",
    "\n",
    "**Summary of This Notebook:**\n",
    "\n",
    "- Recommender system is built and can be used with a single or multiple plant selections.\n",
    "- Tested saving the cosine matrix and reloading from SQL and it worked fine, so don't need to re-run the calc again. "
   ]
  },
  {
   "cell_type": "markdown",
   "metadata": {},
   "source": [
    "#### Setup"
   ]
  },
  {
   "cell_type": "code",
   "execution_count": 1,
   "metadata": {},
   "outputs": [],
   "source": [
    "from typing import Union, Tuple\n",
    "\n",
    "import pandas as pd\n",
    "import numpy as np\n",
    "import sqlite3\n",
    "import json\n",
    "\n",
    "from sklearn.preprocessing import MinMaxScaler\n",
    "from sklearn.metrics.pairwise import cosine_similarity\n",
    "\n",
    "DATABASE_LOC = r\"C:\\Users\\Rory Crean\\Dropbox (lkgroup)\\Backup_HardDrive\\Postdoc\\PyForFun\\House_Plant_Recommender\\Database\\house_plants.db\""
   ]
  },
  {
   "cell_type": "code",
   "execution_count": 2,
   "metadata": {},
   "outputs": [
    {
     "data": {
      "text/html": [
       "<div>\n",
       "<style scoped>\n",
       "    .dataframe tbody tr th:only-of-type {\n",
       "        vertical-align: middle;\n",
       "    }\n",
       "\n",
       "    .dataframe tbody tr th {\n",
       "        vertical-align: top;\n",
       "    }\n",
       "\n",
       "    .dataframe thead th {\n",
       "        text-align: right;\n",
       "    }\n",
       "</style>\n",
       "<table border=\"1\" class=\"dataframe\">\n",
       "  <thead>\n",
       "    <tr style=\"text-align: right;\">\n",
       "      <th></th>\n",
       "      <th>Plant_Name</th>\n",
       "      <th>Min_Temp_Degrees_C</th>\n",
       "      <th>Min_Height</th>\n",
       "      <th>Max_Height_Capped</th>\n",
       "      <th>Min_Spread</th>\n",
       "      <th>Max_Spread_Capped</th>\n",
       "      <th>Sunlight_Ordinal</th>\n",
       "      <th>Watering_Ordinal</th>\n",
       "      <th>Maintenance_Ordinal</th>\n",
       "      <th>Flowers_Ordinal</th>\n",
       "      <th>Type_Bulb</th>\n",
       "      <th>Type_Fern</th>\n",
       "      <th>Type_Herbaceous_perennial</th>\n",
       "      <th>Type_Other</th>\n",
       "      <th>Type_Vine</th>\n",
       "      <th>Color_Not_Colorful</th>\n",
       "      <th>Fruit_Yes</th>\n",
       "    </tr>\n",
       "  </thead>\n",
       "  <tbody>\n",
       "    <tr>\n",
       "      <th>0</th>\n",
       "      <td>Aechmea</td>\n",
       "      <td>-1.1</td>\n",
       "      <td>1.0</td>\n",
       "      <td>3.0</td>\n",
       "      <td>1.0</td>\n",
       "      <td>2.0</td>\n",
       "      <td>1</td>\n",
       "      <td>3</td>\n",
       "      <td>2</td>\n",
       "      <td>3</td>\n",
       "      <td>0</td>\n",
       "      <td>0</td>\n",
       "      <td>0</td>\n",
       "      <td>1</td>\n",
       "      <td>0</td>\n",
       "      <td>1</td>\n",
       "      <td>0</td>\n",
       "    </tr>\n",
       "    <tr>\n",
       "      <th>1</th>\n",
       "      <td>Ardisia crenata</td>\n",
       "      <td>-12.2</td>\n",
       "      <td>4.0</td>\n",
       "      <td>5.0</td>\n",
       "      <td>4.0</td>\n",
       "      <td>5.0</td>\n",
       "      <td>2</td>\n",
       "      <td>3</td>\n",
       "      <td>2</td>\n",
       "      <td>3</td>\n",
       "      <td>0</td>\n",
       "      <td>0</td>\n",
       "      <td>0</td>\n",
       "      <td>0</td>\n",
       "      <td>0</td>\n",
       "      <td>1</td>\n",
       "      <td>1</td>\n",
       "    </tr>\n",
       "    <tr>\n",
       "      <th>2</th>\n",
       "      <td>Euphorbia milii</td>\n",
       "      <td>-6.7</td>\n",
       "      <td>3.0</td>\n",
       "      <td>6.0</td>\n",
       "      <td>1.5</td>\n",
       "      <td>3.0</td>\n",
       "      <td>4</td>\n",
       "      <td>2</td>\n",
       "      <td>2</td>\n",
       "      <td>3</td>\n",
       "      <td>0</td>\n",
       "      <td>0</td>\n",
       "      <td>0</td>\n",
       "      <td>0</td>\n",
       "      <td>0</td>\n",
       "      <td>1</td>\n",
       "      <td>0</td>\n",
       "    </tr>\n",
       "    <tr>\n",
       "      <th>3</th>\n",
       "      <td>Ficus elastica</td>\n",
       "      <td>-1.1</td>\n",
       "      <td>50.0</td>\n",
       "      <td>20.0</td>\n",
       "      <td>50.0</td>\n",
       "      <td>20.0</td>\n",
       "      <td>1</td>\n",
       "      <td>3</td>\n",
       "      <td>1</td>\n",
       "      <td>2</td>\n",
       "      <td>0</td>\n",
       "      <td>0</td>\n",
       "      <td>0</td>\n",
       "      <td>0</td>\n",
       "      <td>0</td>\n",
       "      <td>1</td>\n",
       "      <td>0</td>\n",
       "    </tr>\n",
       "    <tr>\n",
       "      <th>4</th>\n",
       "      <td>Woodsia obtusa</td>\n",
       "      <td>-34.4</td>\n",
       "      <td>1.0</td>\n",
       "      <td>1.5</td>\n",
       "      <td>2.0</td>\n",
       "      <td>2.5</td>\n",
       "      <td>2</td>\n",
       "      <td>3</td>\n",
       "      <td>2</td>\n",
       "      <td>1</td>\n",
       "      <td>0</td>\n",
       "      <td>1</td>\n",
       "      <td>0</td>\n",
       "      <td>0</td>\n",
       "      <td>0</td>\n",
       "      <td>1</td>\n",
       "      <td>0</td>\n",
       "    </tr>\n",
       "  </tbody>\n",
       "</table>\n",
       "</div>"
      ],
      "text/plain": [
       "        Plant_Name  Min_Temp_Degrees_C  Min_Height  Max_Height_Capped  \\\n",
       "0          Aechmea                -1.1         1.0                3.0   \n",
       "1  Ardisia crenata               -12.2         4.0                5.0   \n",
       "2  Euphorbia milii                -6.7         3.0                6.0   \n",
       "3   Ficus elastica                -1.1        50.0               20.0   \n",
       "4   Woodsia obtusa               -34.4         1.0                1.5   \n",
       "\n",
       "   Min_Spread  Max_Spread_Capped  Sunlight_Ordinal  Watering_Ordinal  \\\n",
       "0         1.0                2.0                 1                 3   \n",
       "1         4.0                5.0                 2                 3   \n",
       "2         1.5                3.0                 4                 2   \n",
       "3        50.0               20.0                 1                 3   \n",
       "4         2.0                2.5                 2                 3   \n",
       "\n",
       "   Maintenance_Ordinal  Flowers_Ordinal  Type_Bulb  Type_Fern  \\\n",
       "0                    2                3          0          0   \n",
       "1                    2                3          0          0   \n",
       "2                    2                3          0          0   \n",
       "3                    1                2          0          0   \n",
       "4                    2                1          0          1   \n",
       "\n",
       "   Type_Herbaceous_perennial  Type_Other  Type_Vine  Color_Not_Colorful  \\\n",
       "0                          0           1          0                   1   \n",
       "1                          0           0          0                   1   \n",
       "2                          0           0          0                   1   \n",
       "3                          0           0          0                   1   \n",
       "4                          0           0          0                   1   \n",
       "\n",
       "   Fruit_Yes  \n",
       "0          0  \n",
       "1          1  \n",
       "2          0  \n",
       "3          0  \n",
       "4          0  "
      ]
     },
     "execution_count": 2,
     "metadata": {},
     "output_type": "execute_result"
    }
   ],
   "source": [
    "conn = sqlite3.connect(DATABASE_LOC)\n",
    "c = conn.cursor()\n",
    "df_features = pd.read_sql_query(\"SELECT * FROM plant_features\", conn)\n",
    "c.close()\n",
    "df_features.head()"
   ]
  },
  {
   "cell_type": "markdown",
   "metadata": {},
   "source": [
    "#### Step 4: Recommender System"
   ]
  },
  {
   "cell_type": "code",
   "execution_count": 3,
   "metadata": {},
   "outputs": [],
   "source": [
    "def calc_cosine_sim(feature_array: np.ndarray) -> np.ndarray:\n",
    "    \"\"\"\n",
    "    Calculate the cosine similarity matrix for an array of features. \n",
    "    MinMaxScaling performed prior to the calculation.  \n",
    "\n",
    "    Parameters\n",
    "    ----------\n",
    "    feature_array: np.ndarray\n",
    "        Array of features for the calculation. \n",
    "        \n",
    "    Returns\n",
    "    ----------\n",
    "    np.ndarray\n",
    "        Cosine similarity matrix. \n",
    "    \"\"\" \n",
    "    scaler = MinMaxScaler()\n",
    "    features_scaled = scaler.fit_transform(feature_array)\n",
    "    return cosine_similarity(features_scaled, features_scaled)"
   ]
  },
  {
   "cell_type": "code",
   "execution_count": 4,
   "metadata": {},
   "outputs": [
    {
     "data": {
      "text/plain": [
       "array([[1.        , 0.73493514, 0.74033414, ..., 0.74067915, 0.55439626,\n",
       "        0.53306672],\n",
       "       [0.73493514, 1.        , 0.8085923 , ..., 0.82325575, 0.78572096,\n",
       "        0.79582047],\n",
       "       [0.74033414, 0.8085923 , 1.        , ..., 0.7097595 , 0.55735369,\n",
       "        0.72998216],\n",
       "       ...,\n",
       "       [0.74067915, 0.82325575, 0.7097595 , ..., 1.        , 0.70831206,\n",
       "        0.84166606],\n",
       "       [0.55439626, 0.78572096, 0.55735369, ..., 0.70831206, 1.        ,\n",
       "        0.71846984],\n",
       "       [0.53306672, 0.79582047, 0.72998216, ..., 0.84166606, 0.71846984,\n",
       "        1.        ]])"
      ]
     },
     "execution_count": 4,
     "metadata": {},
     "output_type": "execute_result"
    }
   ],
   "source": [
    "cosine_sim = calc_cosine_sim(feature_array=df_features.values[:, 1:])\n",
    "cosine_sim"
   ]
  },
  {
   "cell_type": "code",
   "execution_count": 5,
   "metadata": {},
   "outputs": [],
   "source": [
    "def _plant_recommend_scores(plant_name: str, cosine_sim: np.ndarray) -> Tuple[int, dict]:\n",
    "    \"\"\"\n",
    "    Determine the recommendation scores for a single plant.\n",
    "    All scores are returned, not only the top scores. \n",
    "\n",
    "    Parameters\n",
    "    ----------\n",
    "    plant_name: str\n",
    "        Name of the plant to search for similar plants. \n",
    "        \n",
    "    cosine_sim: np.ndarray\n",
    "        Cosine similarity matrix. \n",
    "\n",
    "    Returns\n",
    "    ----------\n",
    "    int\n",
    "        Index of the plant that is being searched.\n",
    "\n",
    "    dict\n",
    "        Keys are the plant index and values are their score.\n",
    "    \"\"\"\n",
    "    search_idx = df_features.loc[df_features[\"Plant_Name\"] == plant_name].index[0]\n",
    "   \n",
    "    similarity_scores = pd.Series(cosine_sim[search_idx]).sort_values(ascending=False)\n",
    "    idxs = list(similarity_scores.index)\n",
    "    scores = list(np.round(similarity_scores.values, 4))\n",
    "\n",
    "    # matches are already ordered from best to worst. \n",
    "    matches = {idxs[i]: scores[i] for i in range(len(idxs))}\n",
    "    return search_idx, matches"
   ]
  },
  {
   "cell_type": "code",
   "execution_count": 6,
   "metadata": {},
   "outputs": [],
   "source": [
    "def recommend_plant(plants_selected: Union[str, list], cosine_sim: np.ndarray) -> list:\n",
    "    \"\"\"\n",
    "    Recommend the top 10 most similar plants to a single or multiple plants.\n",
    "    Similarity determined by the cosine_similarity (pre-determined). \n",
    "\n",
    "    In the case of multiple plants to search against, each plant is weighted equally. \n",
    "\n",
    "    Parameters\n",
    "    ----------\n",
    "    plants_selected: Union[str, list]\n",
    "        String (for single plant) or list (for multiple plants) of plant name(s) to make\n",
    "        recommendations on. \n",
    "        \n",
    "    cosine_sim: np.ndarray\n",
    "        Cosine similarity matrix. \n",
    "\n",
    "    Returns\n",
    "    ----------\n",
    "    list\n",
    "        Top 10 most similar plants ordered by their scores.  \n",
    "    \"\"\"\n",
    "\n",
    "    # single plant to search. \n",
    "    if isinstance(plants_selected, str):\n",
    "        search_idx, total_scores = _plant_recommend_scores(plant_name=plants_selected, cosine_sim=cosine_sim) \n",
    "\n",
    "        # remove the plant that was searched from the results\n",
    "        total_scores.pop(search_idx)\n",
    "\n",
    "    # multiple plants to search. \n",
    "    else:\n",
    "        search_idxs, results = [], []\n",
    "        for plant in plants_selected:\n",
    "            search_idx, result = _plant_recommend_scores(plant_name=plant, cosine_sim=cosine_sim)\n",
    "            search_idxs.append(search_idx)\n",
    "            results.append(result)\n",
    "\n",
    "        # sum each score for each plant searched and make combined score of same format as single search. \n",
    "        total_scores = {}\n",
    "        for key, value in results[0].items():\n",
    "            \n",
    "            score = 0\n",
    "            for idx in range(len(results)):\n",
    "                score += results[idx][key]\n",
    "                \n",
    "            total_scores.update({key: round(score, 4)})\n",
    "\n",
    "        total_scores = {k: v for k, v in sorted(total_scores.items(), key=lambda item: item[1], reverse=True)}\n",
    "\n",
    "        # remove the plant that was searched from the results\n",
    "        for search_idx in search_idxs:\n",
    "           total_scores.pop(search_idx)\n",
    "        \n",
    "\n",
    "    # convert from index and score to Plant Name\n",
    "    top_10_plants = []\n",
    "    for idx, (k, v) in enumerate(total_scores.items()):\n",
    "        if idx == 10: break\n",
    "        top_10_plants.append(df_features.iloc[k][\"Plant_Name\"])\n",
    "\n",
    "    return top_10_plants"
   ]
  },
  {
   "cell_type": "code",
   "execution_count": 7,
   "metadata": {},
   "outputs": [],
   "source": [
    "results_1plant = recommend_plant(plants_selected=\"Peperomia\", cosine_sim=cosine_sim)\n",
    "results_2plants = recommend_plant(plants_selected=[\"Ficus elastica\", \"Ginkgo biloba\"], cosine_sim=cosine_sim) "
   ]
  },
  {
   "cell_type": "code",
   "execution_count": 8,
   "metadata": {},
   "outputs": [
    {
     "data": {
      "text/plain": [
       "['Peperomia obtusifolia',\n",
       " 'Peperomia caperata',\n",
       " 'Aglaonema commutatum',\n",
       " 'Aspidistra elatior',\n",
       " 'Anthurium andraeanum',\n",
       " 'Saintpaulia ionantha',\n",
       " 'Soleirolia soleirolii',\n",
       " 'Pelargonium scented-leaves',\n",
       " 'Pelargonium × hortorum',\n",
       " 'Kalanchoe blossfeldiana']"
      ]
     },
     "execution_count": 8,
     "metadata": {},
     "output_type": "execute_result"
    }
   ],
   "source": [
    "results_1plant"
   ]
  },
  {
   "cell_type": "code",
   "execution_count": 9,
   "metadata": {},
   "outputs": [
    {
     "data": {
      "text/plain": [
       "['Radermachera sinica',\n",
       " 'Dypsis lutescens',\n",
       " 'Rhapis excelsa',\n",
       " 'Ficus religiosa',\n",
       " 'Ficus benghalensis',\n",
       " 'Pinus pinea',\n",
       " 'Araucaria heterophylla',\n",
       " 'Ficus benjamina',\n",
       " 'Euphorbia tirucalli',\n",
       " 'Schefflera actinophylla']"
      ]
     },
     "execution_count": 9,
     "metadata": {},
     "output_type": "execute_result"
    }
   ],
   "source": [
    "results_2plants"
   ]
  },
  {
   "cell_type": "markdown",
   "metadata": {},
   "source": [
    "#### Save the cosine similarity matrix to the database and check I can load it back in and use it in the function.\n",
    "\n",
    "Saves having to install sklearn on heroku/pythonanywhere and normally space is a concern there..."
   ]
  },
  {
   "cell_type": "code",
   "execution_count": 10,
   "metadata": {},
   "outputs": [
    {
     "data": {
      "text/plain": [
       "numpy.ndarray"
      ]
     },
     "execution_count": 10,
     "metadata": {},
     "output_type": "execute_result"
    }
   ],
   "source": [
    "type(cosine_sim)"
   ]
  },
  {
   "cell_type": "code",
   "execution_count": 11,
   "metadata": {},
   "outputs": [],
   "source": [
    "\n",
    "conn = sqlite3.connect(DATABASE_LOC)\n",
    "c = conn.cursor()\n",
    "c.execute(\"DROP TABLE IF EXISTS cosine_sim\")\n",
    "c.execute(\"CREATE TABLE cosine_sim (id INTEGER PRIMARY KEY, array BLOB)\")\n",
    "c.execute(\"INSERT INTO cosine_sim VALUES (?,?)\", (None, json.dumps(cosine_sim.tolist())))\n",
    "conn.commit()\n",
    "c.execute(\"SELECT * FROM cosine_sim\")\n",
    "data = c.fetchall()\n",
    "c.close()\n",
    "cosine_sim_sql = np.asarray(json.loads(data[0][1]))\n"
   ]
  },
  {
   "cell_type": "code",
   "execution_count": 12,
   "metadata": {},
   "outputs": [
    {
     "data": {
      "text/plain": [
       "array([[ True,  True,  True, ...,  True,  True,  True],\n",
       "       [ True,  True,  True, ...,  True,  True,  True],\n",
       "       [ True,  True,  True, ...,  True,  True,  True],\n",
       "       ...,\n",
       "       [ True,  True,  True, ...,  True,  True,  True],\n",
       "       [ True,  True,  True, ...,  True,  True,  True],\n",
       "       [ True,  True,  True, ...,  True,  True,  True]])"
      ]
     },
     "execution_count": 12,
     "metadata": {},
     "output_type": "execute_result"
    }
   ],
   "source": [
    "cosine_sim_sql == cosine_sim"
   ]
  },
  {
   "cell_type": "code",
   "execution_count": 13,
   "metadata": {},
   "outputs": [
    {
     "data": {
      "text/plain": [
       "True"
      ]
     },
     "metadata": {},
     "output_type": "display_data"
    },
    {
     "data": {
      "text/plain": [
       "True"
      ]
     },
     "metadata": {},
     "output_type": "display_data"
    },
    {
     "data": {
      "text/plain": [
       "['Peperomia obtusifolia',\n",
       " 'Peperomia caperata',\n",
       " 'Aglaonema commutatum',\n",
       " 'Aspidistra elatior',\n",
       " 'Anthurium andraeanum',\n",
       " 'Saintpaulia ionantha',\n",
       " 'Soleirolia soleirolii',\n",
       " 'Pelargonium scented-leaves',\n",
       " 'Pelargonium × hortorum',\n",
       " 'Kalanchoe blossfeldiana']"
      ]
     },
     "metadata": {},
     "output_type": "display_data"
    },
    {
     "data": {
      "text/plain": [
       "['Radermachera sinica',\n",
       " 'Dypsis lutescens',\n",
       " 'Rhapis excelsa',\n",
       " 'Ficus religiosa',\n",
       " 'Ficus benghalensis',\n",
       " 'Pinus pinea',\n",
       " 'Araucaria heterophylla',\n",
       " 'Ficus benjamina',\n",
       " 'Euphorbia tirucalli',\n",
       " 'Schefflera actinophylla']"
      ]
     },
     "metadata": {},
     "output_type": "display_data"
    }
   ],
   "source": [
    "# Check I get the same output.\n",
    "results_1plant_sql = recommend_plant(plants_selected=\"Peperomia\", cosine_sim=cosine_sim_sql)\n",
    "results_2plants_sql = recommend_plant(plants_selected=[\"Ficus elastica\", \"Ginkgo biloba\"], cosine_sim=cosine_sim_sql) \n",
    "\n",
    "display(results_1plant_sql == results_1plant)\n",
    "display(results_2plants_sql == results_2plants)\n",
    "\n",
    "display(results_1plant_sql)\n",
    "display(results_2plants_sql)"
   ]
  },
  {
   "cell_type": "code",
   "execution_count": null,
   "metadata": {},
   "outputs": [],
   "source": []
  }
 ],
 "metadata": {
  "kernelspec": {
   "display_name": "Python 3.8.8 ('Py_Fun_Py3_8')",
   "language": "python",
   "name": "python3"
  },
  "language_info": {
   "codemirror_mode": {
    "name": "ipython",
    "version": 3
   },
   "file_extension": ".py",
   "mimetype": "text/x-python",
   "name": "python",
   "nbconvert_exporter": "python",
   "pygments_lexer": "ipython3",
   "version": "3.8.8"
  },
  "orig_nbformat": 4,
  "vscode": {
   "interpreter": {
    "hash": "2ced150f8a2667dee2cfae26b4d2611f5ad28f0d3e6e2dea4c3c48326462f442"
   }
  }
 },
 "nbformat": 4,
 "nbformat_minor": 2
}
