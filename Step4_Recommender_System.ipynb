{
 "cells": [
  {
   "cell_type": "markdown",
   "metadata": {},
   "source": [
    "## House Plant Recommender System \n",
    "\n",
    "This notebook will cover the building of a content based recommender system (step 4). \n",
    "\n",
    "A content based system will be used as their is no user information available."
   ]
  },
  {
   "cell_type": "markdown",
   "metadata": {},
   "source": [
    "#### Setup"
   ]
  },
  {
   "cell_type": "code",
   "execution_count": null,
   "metadata": {},
   "outputs": [],
   "source": [
    "from typing import Union, Tuple\n",
    "\n",
    "import pandas as pd\n",
    "import numpy as np\n",
    "import sqlite3\n",
    "\n",
    "from sklearn.preprocessing import MinMaxScaler\n",
    "from sklearn.metrics.pairwise import cosine_similarity\n",
    "\n",
    "DATABASE_LOC = r\"C:\\Users\\Rory Crean\\Dropbox (lkgroup)\\Backup_HardDrive\\Postdoc\\PyForFun\\House_Plant_Recommender\\Database\\house_plants.db\""
   ]
  },
  {
   "cell_type": "code",
   "execution_count": null,
   "metadata": {},
   "outputs": [],
   "source": [
    "conn = sqlite3.connect(DATABASE_LOC)\n",
    "c = conn.cursor()\n",
    "df_features = pd.read_sql_query(\"SELECT * FROM plant_features\", conn)\n",
    "c.close()\n",
    "df_features.head()"
   ]
  },
  {
   "cell_type": "markdown",
   "metadata": {},
   "source": [
    "#### Step 4: Recommender System"
   ]
  },
  {
   "cell_type": "code",
   "execution_count": 8,
   "metadata": {},
   "outputs": [],
   "source": [
    "def calc_cosine_sim(feature_array: np.ndarray) -> np.ndarray:\n",
    "    \"\"\"\n",
    "    Calculate the cosine similarity matrix for an array of features. \n",
    "    MinMaxScaling performed prior to the calculation.  \n",
    "\n",
    "    Parameters\n",
    "    ----------\n",
    "    feature_array: np.ndarray\n",
    "        Array of features for the calculation. \n",
    "        \n",
    "    Returns\n",
    "    ----------\n",
    "    np.ndarray\n",
    "        Cosine similarity matrix. \n",
    "    \"\"\" \n",
    "    scaler = MinMaxScaler()\n",
    "    features_scaled = scaler.fit_transform(feature_array)\n",
    "    return cosine_similarity(features_scaled, features_scaled)"
   ]
  },
  {
   "cell_type": "code",
   "execution_count": 9,
   "metadata": {},
   "outputs": [
    {
     "data": {
      "text/plain": [
       "array([[1.        , 0.73490828, 0.74035088, ..., 0.73894473, 0.55428125,\n",
       "        0.50024286],\n",
       "       [0.73490828, 1.        , 0.80863867, ..., 0.82229848, 0.7857269 ,\n",
       "        0.75056835],\n",
       "       [0.74035088, 0.80863867, 1.        , ..., 0.70871133, 0.55756408,\n",
       "        0.68664677],\n",
       "       ...,\n",
       "       [0.73894473, 0.82229848, 0.70871133, ..., 1.        , 0.70842529,\n",
       "        0.81142489],\n",
       "       [0.55428125, 0.7857269 , 0.55756408, ..., 0.70842529, 1.        ,\n",
       "        0.68281625],\n",
       "       [0.50024286, 0.75056835, 0.68664677, ..., 0.81142489, 0.68281625,\n",
       "        1.        ]])"
      ]
     },
     "execution_count": 9,
     "metadata": {},
     "output_type": "execute_result"
    }
   ],
   "source": [
    "cosine_sim = calc_cosine_sim(feature_array=df_features.values[:, 1:])\n",
    "cosine_sim"
   ]
  },
  {
   "cell_type": "code",
   "execution_count": 10,
   "metadata": {},
   "outputs": [],
   "source": [
    "def _plant_recommend_scores(plant_name: str, cosine_sim: np.ndarray) -> Tuple[int, dict]:\n",
    "    \"\"\"\n",
    "    Determine the recommendation scores for a single plant.\n",
    "    All scores are returned, not only the top scores. \n",
    "\n",
    "    Parameters\n",
    "    ----------\n",
    "    plant_name: str\n",
    "        Name of the plant to search for similar plants. \n",
    "        \n",
    "    cosine_sim: np.ndarray\n",
    "        Cosine similarity matrix. \n",
    "\n",
    "    Returns\n",
    "    ----------\n",
    "    int\n",
    "        Index of the plant that is being searched.\n",
    "\n",
    "    dict\n",
    "        Keys are the plant index and values are their score.\n",
    "    \"\"\"\n",
    "    search_idx = df_features.loc[df_features[\"Plant_Name\"] == plant_name].index[0]\n",
    "   \n",
    "    similarity_scores = pd.Series(cosine_sim[search_idx]).sort_values(ascending=False)\n",
    "    idxs = list(similarity_scores.index)\n",
    "    scores = list(np.round(similarity_scores.values, 4))\n",
    "\n",
    "    # matches are already ordered from best to worst. \n",
    "    matches = {idxs[i]: scores[i] for i in range(len(idxs))}\n",
    "    return search_idx, matches"
   ]
  },
  {
   "cell_type": "code",
   "execution_count": 11,
   "metadata": {},
   "outputs": [
    {
     "data": {
      "text/plain": [
       "{'Ficus': 1.8988,\n",
       " 'Ficus benghalensis': 1.7863,\n",
       " 'Ficus religiosa': 1.7863,\n",
       " 'Ficus benjamina': 1.7721,\n",
       " 'Schefflera actinophylla': 1.7334,\n",
       " 'Pachira aquatica': 1.6788,\n",
       " 'Plerandra elegantissima': 1.6782,\n",
       " 'Radermachera sinica': 1.6743,\n",
       " 'Dracaena fragrans': 1.6298,\n",
       " 'Fatsia japonica': 1.6223}"
      ]
     },
     "execution_count": 11,
     "metadata": {},
     "output_type": "execute_result"
    }
   ],
   "source": [
    "def recommend_plant(plants_selected: Union[str, list], cosine_sim: np.ndarray) -> dict:\n",
    "    \"\"\"\n",
    "    Recommend the top 10 most similar plants to a single or multiple plants.\n",
    "    Similarity determined by the cosine_similarity (pre-determined). \n",
    "\n",
    "    In the case of multiple plants to search against, each plant is weighted equally. \n",
    "\n",
    "    Parameters\n",
    "    ----------\n",
    "    plants_selected: Union[str, list]\n",
    "        String (for single plant) or list (for multiple plants) of plant name(s) to make\n",
    "        recommendations on. \n",
    "        \n",
    "    cosine_sim: np.ndarray\n",
    "        Cosine similarity matrix. \n",
    "\n",
    "    Returns\n",
    "    ----------\n",
    "    dict\n",
    "        Top 10 most similar plants as the keys and values are scores. \n",
    "    \"\"\"\n",
    "\n",
    "    # single plant to search. \n",
    "    if isinstance(plants_selected, str):\n",
    "        search_idx, total_scores = _plant_recommend_scores(plant_name=plants_selected, cosine_sim=cosine_sim) \n",
    "\n",
    "        # remove the plant that was searched from the results\n",
    "        total_scores.pop(search_idx)\n",
    "\n",
    "    # multiple plants to search. \n",
    "    else:\n",
    "        search_idxs, results = [], []\n",
    "        for plant in plants_selected:\n",
    "            search_idx, result = _plant_recommend_scores(plant_name=plant, cosine_sim=cosine_sim)\n",
    "            search_idxs.append(search_idx)\n",
    "            results.append(result)\n",
    "\n",
    "        # sum each score for each plant searched and make combined score of same format as single search. \n",
    "        total_scores = {}\n",
    "        for key, value in results[0].items():\n",
    "            \n",
    "            score = 0\n",
    "            for idx in range(len(results)):\n",
    "                score += results[idx][key]\n",
    "                \n",
    "            total_scores.update({key: round(score, 4)})\n",
    "\n",
    "        total_scores = {k: v for k, v in sorted(total_scores.items(), key=lambda item: item[1], reverse=True)}\n",
    "\n",
    "        # remove the plant that was searched from the results\n",
    "        for search_idx in search_idxs:\n",
    "           total_scores.pop(search_idx)\n",
    "        \n",
    "\n",
    "    # convert from index and score to Plant Name\n",
    "    top_10_plants = {}\n",
    "    for idx, (k, v) in enumerate(total_scores.items()):\n",
    "        if idx == 10: break\n",
    "        top_10_plants.update({df_features.iloc[k][\"Plant_Name\"]: v})\n",
    "\n",
    "    return top_10_plants\n",
    "\n",
    "results = recommend_plant(plants_selected=[\"Ficus elastica\", \"Ficus lyrata\"], cosine_sim=cosine_sim) # [\"Ficus elastica\", \"Ginkgo biloba\"]\n",
    "results"
   ]
  },
  {
   "cell_type": "code",
   "execution_count": null,
   "metadata": {},
   "outputs": [],
   "source": []
  },
  {
   "cell_type": "code",
   "execution_count": 13,
   "metadata": {},
   "outputs": [
    {
     "data": {
      "text/plain": [
       "{'Peperomia obtusifolia': 1.0,\n",
       " 'Peperomia caperata': 0.9989,\n",
       " 'Aglaonema commutatum': 0.9859,\n",
       " 'Aspidistra elatior': 0.9787,\n",
       " 'Anthurium andraeanum': 0.9695,\n",
       " 'Saintpaulia ionantha': 0.9573,\n",
       " 'Pelargonium (scented-leaved group)': 0.9461,\n",
       " 'Soleirolia soleirolii': 0.9459,\n",
       " 'Pelargonium × hortorum': 0.9452,\n",
       " 'Kalanchoe blossfeldiana': 0.9373}"
      ]
     },
     "execution_count": 13,
     "metadata": {},
     "output_type": "execute_result"
    }
   ],
   "source": [
    "recommend_plant(plants_selected=\"Peperomia\", cosine_sim=cosine_sim) # [\"Ficus elastica\", \"Ginkgo biloba\"]"
   ]
  },
  {
   "cell_type": "code",
   "execution_count": null,
   "metadata": {},
   "outputs": [],
   "source": []
  },
  {
   "cell_type": "code",
   "execution_count": null,
   "metadata": {},
   "outputs": [],
   "source": []
  }
 ],
 "metadata": {
  "kernelspec": {
   "display_name": "Python 3.8.8 ('Py_Fun_Py3_8')",
   "language": "python",
   "name": "python3"
  },
  "language_info": {
   "codemirror_mode": {
    "name": "ipython",
    "version": 3
   },
   "file_extension": ".py",
   "mimetype": "text/x-python",
   "name": "python",
   "nbconvert_exporter": "python",
   "pygments_lexer": "ipython3",
   "version": "3.8.8"
  },
  "orig_nbformat": 4,
  "vscode": {
   "interpreter": {
    "hash": "2ced150f8a2667dee2cfae26b4d2611f5ad28f0d3e6e2dea4c3c48326462f442"
   }
  }
 },
 "nbformat": 4,
 "nbformat_minor": 2
}
